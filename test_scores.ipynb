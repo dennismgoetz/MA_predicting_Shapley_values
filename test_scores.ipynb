{
 "cells": [
  {
   "cell_type": "code",
   "execution_count": 1,
   "metadata": {},
   "outputs": [],
   "source": [
    "import os\n",
    "import time\n",
    "import pandas as pd\n",
    "import numpy as np\n",
    "import matplotlib.pyplot as plt\n",
    "import matplotlib_inline\n",
    "\n",
    "from sklearn.preprocessing import StandardScaler, MinMaxScaler, RobustScaler\n",
    "from sklearn.model_selection import train_test_split, cross_val_score, cross_validate, GridSearchCV, RandomizedSearchCV\n",
    "from sklearn.pipeline import Pipeline, make_pipeline\n",
    "\n",
    "from sklearn.neighbors import KNeighborsRegressor\n",
    "from sklearn.linear_model import LinearRegression, Ridge, Lasso\n",
    "from sklearn.tree import DecisionTreeRegressor, plot_tree\n",
    "from sklearn.ensemble import RandomForestRegressor, GradientBoostingRegressor\n",
    "import xgboost as xgb\n",
    "from sklearn.svm import SVR\n",
    "from sklearn.neural_network import MLPRegressor\n",
    "\n",
    "# import helperfunctions\n",
    "from helperfunctions import fun_load_file, fun_preprocessing, fun_split_X_y\n",
    "from helperfunctions import fun_convert_time\n",
    "from helperfunctions import fun_train_score, fun_best_model, fun_test_score, fun_category_scores\n",
    "from helperfunctions import fun_feature_weights, plot_feature_importances\n",
    "\n",
    "# start time count and load data\n",
    "start_script = time.time()\n",
    "data = fun_load_file(path='01_data\\\\01_TSP', name='combined_train_instances_dennis.xlsx')\n",
    "train_data = fun_preprocessing(data)\n",
    "X, y = fun_split_X_y(train_data)\n",
    "\n",
    "# create a train and test set\n",
    "X_train, X_test, y_train, y_test = train_test_split(X, y, test_size=0.25, random_state=0)\n",
    "\n",
    "# create a smaller train set for svm\n",
    "X_train_small, X_test_small, y_train_small, y_test_small = train_test_split(X, y, test_size=0.6, random_state=0)\n",
    "\n",
    "# save number of features and train sizes\n",
    "n_features = X_train.shape[1]\n",
    "train_size = f'{int(np.round(100 * len(X_train)/len(X)))} %'\n",
    "train_size_small = f'{int(np.round(100 * len(X_train_small)/len(X)))} %'"
   ]
  },
  {
   "cell_type": "markdown",
   "metadata": {},
   "source": [
    "# **Neural Network**"
   ]
  },
  {
   "cell_type": "code",
   "execution_count": 6,
   "metadata": {},
   "outputs": [
    {
     "name": "stdout",
     "output_type": "stream",
     "text": [
      "  CV MAPE train data:  3.9143 %\n",
      "  CV RMSE train data:  0.9194\n",
      "  CV computation time: 51 sec\n",
      "\n",
      "MAPE test data: 3.5254 %\n",
      "RMSE test data: 0.8443\n",
      "MAPE and RMSE per instance size:\n"
     ]
    },
    {
     "data": {
      "text/html": [
       "<div>\n",
       "<style scoped>\n",
       "    .dataframe tbody tr th:only-of-type {\n",
       "        vertical-align: middle;\n",
       "    }\n",
       "\n",
       "    .dataframe tbody tr th {\n",
       "        vertical-align: top;\n",
       "    }\n",
       "\n",
       "    .dataframe thead th {\n",
       "        text-align: right;\n",
       "    }\n",
       "</style>\n",
       "<table border=\"1\" class=\"dataframe\">\n",
       "  <thead>\n",
       "    <tr style=\"text-align: right;\">\n",
       "      <th>Number Customers</th>\n",
       "      <th>6</th>\n",
       "      <th>7</th>\n",
       "      <th>8</th>\n",
       "      <th>9</th>\n",
       "      <th>10</th>\n",
       "      <th>11</th>\n",
       "      <th>12</th>\n",
       "      <th>13</th>\n",
       "      <th>14</th>\n",
       "    </tr>\n",
       "  </thead>\n",
       "  <tbody>\n",
       "    <tr>\n",
       "      <th>MAPE</th>\n",
       "      <td>2.3849</td>\n",
       "      <td>2.3641</td>\n",
       "      <td>2.8053</td>\n",
       "      <td>3.0264</td>\n",
       "      <td>3.373</td>\n",
       "      <td>3.6444</td>\n",
       "      <td>3.8261</td>\n",
       "      <td>3.9930</td>\n",
       "      <td>4.6234</td>\n",
       "    </tr>\n",
       "    <tr>\n",
       "      <th>RMSE</th>\n",
       "      <td>0.7212</td>\n",
       "      <td>0.6851</td>\n",
       "      <td>0.7326</td>\n",
       "      <td>0.7617</td>\n",
       "      <td>0.778</td>\n",
       "      <td>0.8667</td>\n",
       "      <td>0.8875</td>\n",
       "      <td>0.9222</td>\n",
       "      <td>0.9751</td>\n",
       "    </tr>\n",
       "  </tbody>\n",
       "</table>\n",
       "</div>"
      ],
      "text/plain": [
       "Number Customers      6       7       8       9      10      11      12  \\\n",
       "MAPE              2.3849  2.3641  2.8053  3.0264  3.373  3.6444  3.8261   \n",
       "RMSE              0.7212  0.6851  0.7326  0.7617  0.778  0.8667  0.8875   \n",
       "\n",
       "Number Customers      13      14  \n",
       "MAPE              3.9930  4.6234  \n",
       "RMSE              0.9222  0.9751  "
      ]
     },
     "metadata": {},
     "output_type": "display_data"
    }
   ],
   "source": [
    "# create pipeline and fit it on train set\n",
    "pipe = make_pipeline(StandardScaler(), MLPRegressor(max_iter=1000))\n",
    "pipe.fit(X_train, y_train)\n",
    "\n",
    "# model evaluation - compare train and test set scores\n",
    "fun_train_score(pipe, X_train, y_train, cv=3, return_results=False)\n",
    "fun_test_score(pipe, X_test, y_test, print_params=False)\n",
    "\n",
    "# view error measures per instance size\n",
    "MAPE, RMSE, df = fun_category_scores(pipe, X_test, y_test, display_df=True)"
   ]
  }
 ],
 "metadata": {
  "kernelspec": {
   "display_name": "base",
   "language": "python",
   "name": "python3"
  },
  "language_info": {
   "codemirror_mode": {
    "name": "ipython",
    "version": 3
   },
   "file_extension": ".py",
   "mimetype": "text/x-python",
   "name": "python",
   "nbconvert_exporter": "python",
   "pygments_lexer": "ipython3",
   "version": "3.11.7"
  }
 },
 "nbformat": 4,
 "nbformat_minor": 2
}
