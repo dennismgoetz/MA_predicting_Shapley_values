{
 "cells": [
  {
   "cell_type": "code",
   "execution_count": null,
   "metadata": {},
   "outputs": [],
   "source": [
    "import warnings\n",
    "import pandas as pd\n",
    "import numpy as np\n",
    "\n",
    "from sklearn.exceptions import ConvergenceWarning\n",
    "from sklearn.base import clone\n",
    "from sklearn.pipeline import make_pipeline\n",
    "from sklearn.decomposition import PCA\n",
    "from sklearn.preprocessing import StandardScaler\n",
    "\n",
    "from sklearn.neural_network import MLPRegressor\n",
    "\n",
    "# Import helperfunctions\n",
    "from ML_functions import fun_load_data, fun_preprocessing, fun_load_best_params\n",
    "from ML_functions import fun_scores\n",
    "\n",
    "# Assign string \"TSP\" or \"CVRP\" to the following variable to define the optimization problem\n",
    "optimization_problem = \"TSP\"\n",
    "\n",
    "# Load data\n",
    "data, _ = fun_load_data(optimization_problem)\n",
    "\n",
    "# Do the train test split during the preprocessing\n",
    "X_train, X_test, y_train, y_test, train_data = fun_preprocessing(data, train_size=0.8)"
   ]
  },
  {
   "cell_type": "markdown",
   "metadata": {},
   "source": [
    "# **Feature Importance**\n",
    "### **1. Importance of feature categories**\n",
    "**Compute train and test score with all features: Neural Network - Multi Layer Perceptron**"
   ]
  },
  {
   "cell_type": "code",
   "execution_count": null,
   "metadata": {},
   "outputs": [
    {
     "data": {
      "text/plain": [
       "{'mlpregressor__alpha': 0.1,\n",
       " 'mlpregressor__batch_size': 32,\n",
       " 'mlpregressor__early_stopping': False,\n",
       " 'mlpregressor__learning_rate_init': 0.001,\n",
       " 'mlpregressor__solver': 'sgd'}"
      ]
     },
     "metadata": {},
     "output_type": "display_data"
    },
    {
     "name": "stdout",
     "output_type": "stream",
     "text": [
      "CV MAPE (scaled) train data: 8.0 %\n",
      "CV RMSE (scaled) train data: 2.2\n",
      "CV computation time: 2s\n",
      "\n",
      "MAPE (scaled) test data: 6.61 %\n",
      "RMSE (scaled) test data: 1.84\n",
      "Model fit time: 2s\n",
      "Model prediction time: 0s\n"
     ]
    },
    {
     "data": {
      "text/markdown": [
       "**MAPE and RMSE on test data per instance size:**"
      ],
      "text/plain": [
       "<IPython.core.display.Markdown object>"
      ]
     },
     "metadata": {},
     "output_type": "display_data"
    },
    {
     "data": {
      "text/html": [
       "<div>\n",
       "<style scoped>\n",
       "    .dataframe tbody tr th:only-of-type {\n",
       "        vertical-align: middle;\n",
       "    }\n",
       "\n",
       "    .dataframe tbody tr th {\n",
       "        vertical-align: top;\n",
       "    }\n",
       "\n",
       "    .dataframe thead th {\n",
       "        text-align: right;\n",
       "    }\n",
       "</style>\n",
       "<table border=\"1\" class=\"dataframe\">\n",
       "  <thead>\n",
       "    <tr style=\"text-align: right;\">\n",
       "      <th>Number Customers</th>\n",
       "      <th>6</th>\n",
       "      <th>7</th>\n",
       "      <th>8</th>\n",
       "      <th>9</th>\n",
       "      <th>10</th>\n",
       "      <th>11</th>\n",
       "      <th>12</th>\n",
       "      <th>13</th>\n",
       "      <th>14</th>\n",
       "      <th>Mean</th>\n",
       "    </tr>\n",
       "  </thead>\n",
       "  <tbody>\n",
       "    <tr>\n",
       "      <th>MAPE</th>\n",
       "      <td>5.81</td>\n",
       "      <td>5.51</td>\n",
       "      <td>6.14</td>\n",
       "      <td>6.15</td>\n",
       "      <td>6.27</td>\n",
       "      <td>6.42</td>\n",
       "      <td>6.76</td>\n",
       "      <td>7.09</td>\n",
       "      <td>7.88</td>\n",
       "      <td>6.61</td>\n",
       "    </tr>\n",
       "    <tr>\n",
       "      <th>RMSE</th>\n",
       "      <td>2.19</td>\n",
       "      <td>1.93</td>\n",
       "      <td>1.95</td>\n",
       "      <td>1.87</td>\n",
       "      <td>1.81</td>\n",
       "      <td>1.77</td>\n",
       "      <td>1.69</td>\n",
       "      <td>1.82</td>\n",
       "      <td>1.78</td>\n",
       "      <td>1.84</td>\n",
       "    </tr>\n",
       "  </tbody>\n",
       "</table>\n",
       "</div>"
      ],
      "text/plain": [
       "Number Customers     6     7     8     9    10    11    12    13    14  Mean\n",
       "MAPE              5.81  5.51  6.14  6.15  6.27  6.42  6.76  7.09  7.88  6.61\n",
       "RMSE              2.19  1.93  1.95  1.87  1.81  1.77  1.69  1.82  1.78  1.84"
      ]
     },
     "metadata": {},
     "output_type": "display_data"
    }
   ],
   "source": [
    "# Load best parameters of the model\n",
    "best_params = fun_load_best_params(optimization_problem, model_abbreviation=\"NN\")\n",
    "\n",
    "# Create pipeline\n",
    "pipe = make_pipeline(StandardScaler(), \n",
    "                     MLPRegressor(hidden_layer_sizes=(256, 128, 64), activation=\"relu\", learning_rate=\"adaptive\", \n",
    "                                  max_iter=1000, random_state=42))\n",
    "pipe.set_params(**best_params)\n",
    "\n",
    "# Estimate model performance with cross-validation on the train set and get scores on test set (scoring: MAPE and RMSE)\n",
    "model_results_dict_all = fun_scores(pipe, X_train, y_train, X_test, y_test, compute_test_scores=True)"
   ]
  },
  {
   "cell_type": "markdown",
   "metadata": {},
   "source": [
    "### **3. Principal component analysis (PCA)**"
   ]
  },
  {
   "cell_type": "code",
   "execution_count": null,
   "metadata": {},
   "outputs": [
    {
     "name": "stdout",
     "output_type": "stream",
     "text": [
      "CV MAPE (scaled) train data: 19.49 %\n",
      "CV RMSE (scaled) train data: 5.12\n",
      "CV computation time: 2s\n",
      "\n",
      "MAPE (scaled) test data: 19.56 %\n",
      "RMSE (scaled) test data: 4.9\n",
      "Model fit time: 2s\n",
      "Model prediction time: 0s\n"
     ]
    },
    {
     "data": {
      "text/markdown": [
       "**MAPE and RMSE on test data per instance size:**"
      ],
      "text/plain": [
       "<IPython.core.display.Markdown object>"
      ]
     },
     "metadata": {},
     "output_type": "display_data"
    },
    {
     "data": {
      "text/html": [
       "<div>\n",
       "<style scoped>\n",
       "    .dataframe tbody tr th:only-of-type {\n",
       "        vertical-align: middle;\n",
       "    }\n",
       "\n",
       "    .dataframe tbody tr th {\n",
       "        vertical-align: top;\n",
       "    }\n",
       "\n",
       "    .dataframe thead th {\n",
       "        text-align: right;\n",
       "    }\n",
       "</style>\n",
       "<table border=\"1\" class=\"dataframe\">\n",
       "  <thead>\n",
       "    <tr style=\"text-align: right;\">\n",
       "      <th>Number Customers</th>\n",
       "      <th>6</th>\n",
       "      <th>7</th>\n",
       "      <th>8</th>\n",
       "      <th>9</th>\n",
       "      <th>10</th>\n",
       "      <th>11</th>\n",
       "      <th>12</th>\n",
       "      <th>13</th>\n",
       "      <th>14</th>\n",
       "      <th>Mean</th>\n",
       "    </tr>\n",
       "  </thead>\n",
       "  <tbody>\n",
       "    <tr>\n",
       "      <th>MAPE</th>\n",
       "      <td>18.18</td>\n",
       "      <td>18.23</td>\n",
       "      <td>19.17</td>\n",
       "      <td>18.84</td>\n",
       "      <td>20.13</td>\n",
       "      <td>19.98</td>\n",
       "      <td>20.24</td>\n",
       "      <td>18.49</td>\n",
       "      <td>21.15</td>\n",
       "      <td>19.56</td>\n",
       "    </tr>\n",
       "    <tr>\n",
       "      <th>RMSE</th>\n",
       "      <td>6.07</td>\n",
       "      <td>5.78</td>\n",
       "      <td>5.77</td>\n",
       "      <td>5.02</td>\n",
       "      <td>4.87</td>\n",
       "      <td>4.95</td>\n",
       "      <td>4.40</td>\n",
       "      <td>4.21</td>\n",
       "      <td>4.16</td>\n",
       "      <td>4.90</td>\n",
       "    </tr>\n",
       "  </tbody>\n",
       "</table>\n",
       "</div>"
      ],
      "text/plain": [
       "Number Customers      6      7      8      9     10     11     12     13  \\\n",
       "MAPE              18.18  18.23  19.17  18.84  20.13  19.98  20.24  18.49   \n",
       "RMSE               6.07   5.78   5.77   5.02   4.87   4.95   4.40   4.21   \n",
       "\n",
       "Number Customers     14   Mean  \n",
       "MAPE              21.15  19.56  \n",
       "RMSE               4.16   4.90  "
      ]
     },
     "metadata": {},
     "output_type": "display_data"
    },
    {
     "name": "stdout",
     "output_type": "stream",
     "text": [
      "\n",
      "MAPE difference: 19.56 - 6.61 = 12.95 %\n",
      "RMSE difference: 4.9 - 1.84 = 3.06\n",
      "\n"
     ]
    }
   ],
   "source": [
    "# Suppress ConvergenceWarning (model will probably not converge within 1000 iterations)\n",
    "warnings.filterwarnings(\"ignore\", category=ConvergenceWarning)\n",
    "\n",
    "# Create a dictionary to store all the dictionaries with the results\n",
    "results_dict2 = {\"All features\": model_results_dict_all}\n",
    "\n",
    "# Create pipeline\n",
    "pipe = make_pipeline(StandardScaler(),\n",
    "                     PCA(n_components=10), # Apply PCA to the training data and reduce it to n_components \n",
    "                     MLPRegressor(hidden_layer_sizes=(256, 128, 64), activation=\"relu\", learning_rate=\"adaptive\", \n",
    "                                  max_iter=1000, random_state=42))\n",
    "pipe.set_params(**best_params)\n",
    "\n",
    "# Estimate model performance with cross-validation on the train set and get scores on test set (scoring: MAPE and RMSE)\n",
    "model_results_dict_new = fun_scores(pipe, X_train, y_train, X_test, y_test, compute_test_scores=True)\n",
    "\n",
    "# Compare the new results with the results of all categories\n",
    "MAPE_diff = np.round(model_results_dict_new[\"MAPE\"][\"Test data\"] - model_results_dict_all[\"MAPE\"][\"Test data\"], 2)\n",
    "RMSE_diff = np.round(model_results_dict_new[\"RMSE\"][\"Test data\"] - model_results_dict_all[\"RMSE\"][\"Test data\"], 2)\n",
    "model_results_dict_new[\"MAPE difference\"] = MAPE_diff\n",
    "model_results_dict_new[\"RMSE difference\"] = RMSE_diff\n",
    "print(\"\\nMAPE difference: {} - {} = {} %\".format(model_results_dict_new[\"MAPE\"][\"Test data\"], model_results_dict_all[\"MAPE\"][\"Test data\"], MAPE_diff))\n",
    "print(\"RMSE difference: {} - {} = {}\\n\".format(model_results_dict_new[\"RMSE\"][\"Test data\"], model_results_dict_all[\"RMSE\"][\"Test data\"], RMSE_diff))\n",
    "\n",
    "# Add the dictionary to the results dictionary\n",
    "results_dict2[\"PCA\"] = model_results_dict_new"
   ]
  }
 ],
 "metadata": {
  "kernelspec": {
   "display_name": "base",
   "language": "python",
   "name": "python3"
  },
  "language_info": {
   "name": "python",
   "version": "3.11.7"
  }
 },
 "nbformat": 4,
 "nbformat_minor": 2
}
