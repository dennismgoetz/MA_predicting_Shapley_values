{
 "cells": [
  {
   "cell_type": "code",
   "execution_count": 2,
   "metadata": {},
   "outputs": [],
   "source": [
    "import time\n",
    "import pandas as pd\n",
    "import numpy as np\n",
    "\n",
    "from sklearn.preprocessing import StandardScaler, MinMaxScaler, RobustScaler\n",
    "from sklearn.model_selection import train_test_split, cross_val_score, cross_validate\n",
    "\n",
    "from sklearn.neighbors import KNeighborsRegressor\n",
    "from sklearn.linear_model import LinearRegression, Ridge, Lasso\n",
    "from sklearn.tree import DecisionTreeRegressor\n",
    "from sklearn.ensemble import RandomForestRegressor, GradientBoostingRegressor\n",
    "import xgboost as xgb\n",
    "from sklearn.svm import SVR\n",
    "from sklearn.neural_network import MLPRegressor\n",
    "\n",
    "# Import helperfunctions\n",
    "from helperfunctions_models import fun_load_file, fun_preprocessing, fun_split_X_y\n",
    "from helperfunctions_models import fun_convert_time\n",
    "from helperfunctions_models import fun_train_score\n",
    "\n",
    "# Start time count and load data\n",
    "start_script = time.time()\n",
    "data = fun_load_file(subfolder_path='..\\\\01_data\\\\01_TSP', name='tsp_instances_j_updated.xlsx')\n",
    "train_data = fun_preprocessing(data)\n",
    "X, y = fun_split_X_y(train_data)\n",
    "\n",
    "# Create a train and test set\n",
    "X_train, X_test, y_train, y_test = train_test_split(X, y, test_size=0.25, random_state=0)\n",
    "\n",
    "# Create a smaller train set for svm\n",
    "X_train_small, X_test_small, y_train_small, y_test_small = train_test_split(X, y, test_size=0.9, random_state=0)\n",
    "\n",
    "# Save number of features and train sizes\n",
    "n_features = X_train.shape[1]\n",
    "train_size = f'{int(np.round(100 * len(X_train) / len(X)))} %'\n",
    "train_size_small = f'{int(np.round(100 * len(X_train_small) / len(X)))} %'"
   ]
  },
  {
   "cell_type": "markdown",
   "metadata": {},
   "source": [
    "# **KNN**"
   ]
  },
  {
   "cell_type": "code",
   "execution_count": 2,
   "metadata": {},
   "outputs": [
    {
     "name": "stdout",
     "output_type": "stream",
     "text": [
      "  CV MAPE train data:  52.525999999999996 %\n",
      "  CV RMSE train data:  12.0287\n",
      "  CV computation time: 14 sec\n"
     ]
    }
   ],
   "source": [
    "# Create model with default parameters\n",
    "knn = KNeighborsRegressor(n_neighbors=5)\n",
    "\n",
    "# Estimate model performance with cross validation on the train set (scoring: MAPE and RMSE)\n",
    "MAPE, RMSE, computation_time = fun_train_score(knn, X_train, y_train, cv=10, return_results=True)\n",
    "\n",
    "# Save results to dictionary\n",
    "results_dict = {}\n",
    "results_dict['KNN'] = {'MAPE': MAPE, 'RMSE': RMSE, 'CV computation time': computation_time, 'Train size': train_size}"
   ]
  },
  {
   "cell_type": "markdown",
   "metadata": {},
   "source": [
    "# **Linear Models**"
   ]
  },
  {
   "cell_type": "markdown",
   "metadata": {},
   "source": [
    "**Linear Regression**"
   ]
  },
  {
   "cell_type": "code",
   "execution_count": 3,
   "metadata": {},
   "outputs": [
    {
     "name": "stdout",
     "output_type": "stream",
     "text": [
      "  CV MAPE train data:  16.2226 %\n",
      "  CV RMSE train data:  3.268\n",
      "  CV computation time: 2 sec\n"
     ]
    }
   ],
   "source": [
    "# Create model\n",
    "lr = LinearRegression()\n",
    "\n",
    "# Estimate model performance with cross validation on the train set (scoring: MAPE and RMSE)\n",
    "MAPE, RMSE, computation_time = fun_train_score(lr, X_train, y_train, cv=10, return_results=True)\n",
    "\n",
    "# Save results to dictionary\n",
    "results_dict['Linear Regression'] = {'MAPE': MAPE, 'RMSE': RMSE, 'CV computation time': computation_time, 'Train size': train_size}"
   ]
  },
  {
   "cell_type": "markdown",
   "metadata": {},
   "source": [
    "**Rigde Regression (L2-Regularization)**"
   ]
  },
  {
   "cell_type": "code",
   "execution_count": 4,
   "metadata": {},
   "outputs": [
    {
     "name": "stdout",
     "output_type": "stream",
     "text": [
      "  CV MAPE train data:  16.2208 %\n",
      "  CV RMSE train data:  3.268\n",
      "  CV computation time: 0 sec\n"
     ]
    }
   ],
   "source": [
    "# Create model with default parameters\n",
    "ridge = Ridge(alpha=1) # alpha=0: linear regression without regularization\n",
    "\n",
    "# Estimate model performance with cross validation on the train set (scoring: MAPE and RMSE)\n",
    "MAPE, RMSE, computation_time = fun_train_score(ridge, X_train, y_train, cv=10, return_results=True)\n",
    "\n",
    "# Save results to dictionary\n",
    "results_dict['Ridge Regression'] = {'MAPE': MAPE, 'RMSE': RMSE, 'CV computation time': computation_time, 'Train size': train_size}"
   ]
  },
  {
   "cell_type": "markdown",
   "metadata": {},
   "source": [
    "**Lasso Regression (L1-Regularization)**"
   ]
  },
  {
   "cell_type": "code",
   "execution_count": 5,
   "metadata": {},
   "outputs": [
    {
     "name": "stdout",
     "output_type": "stream",
     "text": [
      "  CV MAPE train data:  20.2219 %\n",
      "  CV RMSE train data:  4.3451\n",
      "  CV computation time: 2 sec\n"
     ]
    }
   ],
   "source": [
    "# Create model with default parameters\n",
    "lasso = Lasso(alpha=1, max_iter=10000) # Higher alpha means higher regularization and lower model complexity (less overfitting)\n",
    "\n",
    "# Estimate model performance with cross validation on the train set (scoring: MAPE and RMSE)\n",
    "MAPE, RMSE, computation_time = fun_train_score(lasso, X_train, y_train, cv=10, return_results=True)\n",
    "\n",
    "# Save results to dictionary\n",
    "results_dict['Lasso Regression'] = {'MAPE': MAPE, 'RMSE': RMSE, 'CV computation time': computation_time, 'Train size': train_size}"
   ]
  },
  {
   "cell_type": "markdown",
   "metadata": {},
   "source": [
    "**Support Vector Machine (SVM)**"
   ]
  },
  {
   "cell_type": "code",
   "execution_count": 6,
   "metadata": {},
   "outputs": [
    {
     "name": "stdout",
     "output_type": "stream",
     "text": [
      "Method: StandardScaler()\n",
      "  CV MAPE train data:  16.4337 %\n",
      "  CV RMSE train data:  3.367\n",
      "  CV computation time: 2 min, 37 sec\n",
      "Method: MinMaxScaler()\n",
      "  CV MAPE train data:  16.6138 %\n",
      "  CV RMSE train data:  3.3881\n",
      "  CV computation time: 1 min, 1 sec\n",
      "Method: RobustScaler()\n",
      "  CV MAPE train data:  16.484299999999998 %\n",
      "  CV RMSE train data:  3.4087\n",
      "  CV computation time: 4 min, 43 sec\n"
     ]
    }
   ],
   "source": [
    "# Compare the scaling methods\n",
    "best_MAPE = 100\n",
    "for i in [StandardScaler(), MinMaxScaler(), RobustScaler()]:\n",
    "\n",
    "    # Scale the train set first\n",
    "    scaler = i\n",
    "    X_train_scaled = scaler.fit_transform(X_train_small)\n",
    "\n",
    "    # Create model with default parameters\n",
    "    svm = SVR(kernel='linear', C=1) #regularization parameter C controls trade-off between maximizing the margin and minimizing the classification error (how important it is to satisfy the constraint)\n",
    "\n",
    "    # Estimate model performance with cross validation on the train set (scoring: MAPE and RMSE)\n",
    "    print('Method:', i)\n",
    "    MAPE, RMSE, computation_time = fun_train_score(svm, X_train_scaled, y_train_small, cv=3, return_results=True)\n",
    "\n",
    "    # Save best result\n",
    "    if MAPE < best_MAPE:\n",
    "        best_MAPE = MAPE\n",
    "        best_RMSE = RMSE\n",
    "        best_computation_time = computation_time\n",
    "\n",
    "# Save results to dictionary\n",
    "results_dict['Linear SVM'] = {'MAPE': MAPE, 'RMSE': RMSE, 'CV computation time': best_computation_time, 'Train size': train_size_small}"
   ]
  },
  {
   "cell_type": "markdown",
   "metadata": {},
   "source": [
    "# **Decision Tree**"
   ]
  },
  {
   "cell_type": "code",
   "execution_count": 7,
   "metadata": {},
   "outputs": [
    {
     "name": "stdout",
     "output_type": "stream",
     "text": [
      "  CV MAPE train data:  10.7706 %\n",
      "  CV RMSE train data:  3.6624\n",
      "  CV computation time: 11 sec\n"
     ]
    }
   ],
   "source": [
    "# Create model with default parameters\n",
    "tree = DecisionTreeRegressor(max_depth=None, max_leaf_nodes=None, min_samples_leaf=1, \n",
    "                             min_impurity_decrease=0, random_state=0)\n",
    "\n",
    "# Estimate model performance with cross validation on the train set (scoring: MAPE and RMSE)\n",
    "MAPE, RMSE, computation_time = fun_train_score(tree, X_train, y_train, cv=10, return_results=True)\n",
    "\n",
    "# Save results to dictionary\n",
    "results_dict['Decision Tree'] = {'MAPE': MAPE, 'RMSE': RMSE, 'CV computation time': computation_time, 'Train size': train_size}"
   ]
  },
  {
   "cell_type": "markdown",
   "metadata": {},
   "source": [
    "# **Ensebmles of Decision Trees**\n",
    "**Random Forest**"
   ]
  },
  {
   "cell_type": "code",
   "execution_count": 8,
   "metadata": {},
   "outputs": [
    {
     "name": "stdout",
     "output_type": "stream",
     "text": [
      "  CV MAPE train data:  6.4811 %\n",
      "  CV RMSE train data:  2.0806\n",
      "  CV computation time: 15 min, 35 sec\n"
     ]
    }
   ],
   "source": [
    "# Create model with default parameters\n",
    "forest = RandomForestRegressor(n_estimators=100, max_features=n_features, max_depth=None, \n",
    "                               max_leaf_nodes=None, min_samples_leaf=1, min_impurity_decrease=0,\n",
    "                               random_state=0, bootstrap=True, n_jobs=-1)\n",
    "\n",
    "# Estimate model performance with cross validation on the train set (scoring: MAPE and RMSE)\n",
    "MAPE, RMSE, computation_time = fun_train_score(forest, X_train, y_train, cv=10, return_results=True)\n",
    "\n",
    "# Save results to dictionary\n",
    "results_dict['Random Forest'] = {'MAPE': MAPE, 'RMSE': RMSE, 'CV computation time': computation_time, 'Train size': train_size}"
   ]
  },
  {
   "cell_type": "markdown",
   "metadata": {},
   "source": [
    "**Gradient Boosting Regression Trees**"
   ]
  },
  {
   "cell_type": "code",
   "execution_count": 9,
   "metadata": {},
   "outputs": [
    {
     "name": "stdout",
     "output_type": "stream",
     "text": [
      "  CV MAPE train data:  8.390400000000001 %\n",
      "  CV RMSE train data:  2.2089\n",
      "  CV computation time: 4 min, 42 sec\n"
     ]
    }
   ],
   "source": [
    "# Create model with default parameters\n",
    "gbrt = GradientBoostingRegressor(n_estimators=100, learning_rate=0.1, #lower learning rate requires more trees\n",
    "                                 max_depth=3, max_leaf_nodes=None,\n",
    "                                 random_state=0)\n",
    "\n",
    "# Estimate model performance with cross validation on the train set (scoring: MAPE and RMSE)\n",
    "MAPE, RMSE, computation_time = fun_train_score(gbrt, X_train, y_train, cv=10, return_results=True)\n",
    "\n",
    "# Save results to dictionary\n",
    "results_dict['Gradient Boosting Regression Tree'] = {'MAPE': MAPE, 'RMSE': RMSE, 'CV computation time': computation_time, 'Train size': train_size}"
   ]
  },
  {
   "cell_type": "markdown",
   "metadata": {},
   "source": [
    "**Extreme Gradient Boosting: XGBoost-Package**"
   ]
  },
  {
   "cell_type": "code",
   "execution_count": 10,
   "metadata": {},
   "outputs": [
    {
     "name": "stdout",
     "output_type": "stream",
     "text": [
      "  CV MAPE train data:  5.8328999999999995 %\n",
      "  CV RMSE train data:  1.7093\n",
      "  CV computation time: 12 sec\n"
     ]
    }
   ],
   "source": [
    "# Create model with default parameters\n",
    "xgboost = xgb.XGBRegressor(objective='reg:squarederror',\n",
    "                           n_estimators=None, \n",
    "                           learning_rate=None,\n",
    "                           max_depth=None)\n",
    "\n",
    "# Estimate model performance with cross validation on the train set (scoring: MAPE and RMSE)\n",
    "MAPE, RMSE, computation_time = fun_train_score(xgboost, X_train, y_train, cv=10, return_results=True)\n",
    "\n",
    "# Save results to dictionary\n",
    "results_dict['XGBoost'] = {'MAPE': MAPE, 'RMSE': RMSE, 'CV computation time': computation_time, 'Train size': train_size}"
   ]
  },
  {
   "cell_type": "markdown",
   "metadata": {},
   "source": [
    "# **Support Vector Machines with Kernels - Kernel Machines**"
   ]
  },
  {
   "cell_type": "markdown",
   "metadata": {},
   "source": [
    "**Gaussian Kernel**"
   ]
  },
  {
   "cell_type": "code",
   "execution_count": 11,
   "metadata": {},
   "outputs": [
    {
     "name": "stdout",
     "output_type": "stream",
     "text": [
      "Method: StandardScaler()\n",
      "  CV MAPE train data:  11.7727 %\n",
      "  CV RMSE train data:  3.8696\n",
      "  CV computation time: 1 min, 33 sec\n",
      "Method: MinMaxScaler()\n",
      "  CV MAPE train data:  19.5699 %\n",
      "  CV RMSE train data:  4.1749\n",
      "  CV computation time: 1 min, 33 sec\n",
      "Method: RobustScaler()\n",
      "  CV MAPE train data:  13.3898 %\n",
      "  CV RMSE train data:  3.9637\n",
      "  CV computation time: 1 min, 41 sec\n"
     ]
    }
   ],
   "source": [
    "# Compare the scaling methods\n",
    "best_MAPE = 100\n",
    "for i in [StandardScaler(), MinMaxScaler(), RobustScaler()]:\n",
    "\n",
    "    # Scale the train set first\n",
    "    scaler = i\n",
    "    X_train_scaled = scaler.fit_transform(X_train_small)\n",
    "\n",
    "    # Create model with default parameters\n",
    "    svm = SVR(kernel='rbf', C=1, gamma=1/n_features)\n",
    "\n",
    "    # Estimate model performance with cross validation on the train set (scoring: MAPE and RMSE)\n",
    "    print('Method:', i)\n",
    "    MAPE, RMSE, computation_time = fun_train_score(svm, X_train_scaled, y_train_small, cv=3, return_results=True)\n",
    "\n",
    "    # Save best result\n",
    "    if MAPE < best_MAPE:\n",
    "        best_MAPE = MAPE\n",
    "        best_RMSE = RMSE\n",
    "        best_computation_time = computation_time\n",
    "\n",
    "# Save results to dictionary\n",
    "results_dict['SVM Gaussian Kernel'] = {'MAPE': MAPE, 'RMSE': RMSE, 'CV computation time': best_computation_time, 'Train size': train_size_small}"
   ]
  },
  {
   "cell_type": "markdown",
   "metadata": {},
   "source": [
    "**Polynomial Kernel**"
   ]
  },
  {
   "cell_type": "code",
   "execution_count": 3,
   "metadata": {},
   "outputs": [
    {
     "name": "stdout",
     "output_type": "stream",
     "text": [
      "Method: StandardScaler()\n",
      "  CV MAPE train data:  27.285999999999998 %\n",
      "  CV RMSE train data:  6.0196\n",
      "  CV computation time: 5 sec\n",
      "Method: MinMaxScaler()\n",
      "  CV MAPE train data:  74.039 %\n",
      "  CV RMSE train data:  17.7553\n",
      "  CV computation time: 3 sec\n",
      "Method: RobustScaler()\n"
     ]
    }
   ],
   "source": [
    "# Compare the scaling methods\n",
    "best_MAPE = 100\n",
    "for i in [StandardScaler(), MinMaxScaler()]:\n",
    "\n",
    "    # Scale the train set first\n",
    "    scaler = i\n",
    "    X_train_scaled = scaler.fit_transform(X_train_small)\n",
    "\n",
    "    # Create model with default parameters\n",
    "    svm = SVR(kernel='poly', C=1, gamma=1/n_features, degree=3)\n",
    "\n",
    "    # Estimate model performance with cross validation on the train set (scoring: MAPE and RMSE)\n",
    "    print('Method:', i)\n",
    "    MAPE, RMSE, computation_time = fun_train_score(svm, X_train_scaled, y_train_small, cv=3, return_results=True)\n",
    "\n",
    "    # Save best result\n",
    "    if MAPE < best_MAPE:\n",
    "        best_MAPE = MAPE\n",
    "        best_RMSE = RMSE\n",
    "        best_computation_time = computation_time\n",
    "\n",
    "# Save results to dictionary\n",
    "results_dict['SVM Polynomial Kernel'] = {'MAPE': MAPE, 'RMSE': RMSE, 'CV computation time': best_computation_time, 'Train size': train_size_small}"
   ]
  },
  {
   "cell_type": "markdown",
   "metadata": {},
   "source": [
    "# **Neural Network**"
   ]
  },
  {
   "cell_type": "code",
   "execution_count": 3,
   "metadata": {},
   "outputs": [
    {
     "name": "stdout",
     "output_type": "stream",
     "text": [
      "Method: StandardScaler()\n",
      "  CV MAPE train data:  3.8944 %\n",
      "  CV RMSE train data:  0.941\n",
      "  CV computation time: 55 sec\n",
      "Method: MinMaxScaler()\n"
     ]
    }
   ],
   "source": [
    "# Compare the scaling methods\n",
    "best_MAPE = 100\n",
    "for i in [StandardScaler(), MinMaxScaler(), RobustScaler()]:\n",
    "\n",
    "    # Scale the train set first\n",
    "    scaler = i\n",
    "    X_train_scaled = scaler.fit_transform(X_train)\n",
    "\n",
    "    # Create model with default parameters\n",
    "    mlp = MLPRegressor(hidden_layer_sizes=(100,), alpha=0.0001,\n",
    "                       activation='relu', solver='adam', max_iter=1000, random_state=0)\n",
    "\n",
    "    # Estimate model performance with cross validation on the train set (scoring: MAPE and RMSE)\n",
    "    print('Method:', i)\n",
    "    MAPE, RMSE, computation_time = fun_train_score(mlp, X_train_scaled, y_train, cv=3, return_results=True)\n",
    "\n",
    "    # Save best result\n",
    "    if MAPE < best_MAPE:\n",
    "        best_MAPE = MAPE\n",
    "        best_RMSE = RMSE\n",
    "        best_computation_time = computation_time\n",
    "\n",
    "# Save results to dictionary\n",
    "results_dict['Neural Network'] = {'MAPE': MAPE, 'RMSE': RMSE, 'CV computation time': best_computation_time, 'Train size': train_size}"
   ]
  },
  {
   "cell_type": "markdown",
   "metadata": {},
   "source": [
    "# **Compare Results**"
   ]
  },
  {
   "cell_type": "code",
   "execution_count": null,
   "metadata": {},
   "outputs": [
    {
     "data": {
      "text/html": [
       "<div>\n",
       "<style scoped>\n",
       "    .dataframe tbody tr th:only-of-type {\n",
       "        vertical-align: middle;\n",
       "    }\n",
       "\n",
       "    .dataframe tbody tr th {\n",
       "        vertical-align: top;\n",
       "    }\n",
       "\n",
       "    .dataframe thead th {\n",
       "        text-align: right;\n",
       "    }\n",
       "</style>\n",
       "<table border=\"1\" class=\"dataframe\">\n",
       "  <thead>\n",
       "    <tr style=\"text-align: right;\">\n",
       "      <th></th>\n",
       "      <th>Neural Network</th>\n",
       "      <th>XGBoost</th>\n",
       "      <th>Random Forest</th>\n",
       "      <th>Gradient Boosting Regression Tree</th>\n",
       "      <th>SVM Gaussian Kernel</th>\n",
       "      <th>Decision Tree</th>\n",
       "      <th>Linear Regression</th>\n",
       "      <th>Ridge Regression</th>\n",
       "      <th>Linear SVM</th>\n",
       "      <th>Lasso Regression</th>\n",
       "      <th>SVM Polynomial Kernel</th>\n",
       "      <th>KNN</th>\n",
       "    </tr>\n",
       "  </thead>\n",
       "  <tbody>\n",
       "    <tr>\n",
       "      <th>MAPE</th>\n",
       "      <td>3.8686</td>\n",
       "      <td>5.8153</td>\n",
       "      <td>6.6329</td>\n",
       "      <td>8.5405</td>\n",
       "      <td>9.2823</td>\n",
       "      <td>10.8992</td>\n",
       "      <td>16.6011</td>\n",
       "      <td>16.6023</td>\n",
       "      <td>16.8364</td>\n",
       "      <td>19.7085</td>\n",
       "      <td>33.5229</td>\n",
       "      <td>51.7483</td>\n",
       "    </tr>\n",
       "    <tr>\n",
       "      <th>RMSE</th>\n",
       "      <td>0.9121</td>\n",
       "      <td>1.6959</td>\n",
       "      <td>2.1148</td>\n",
       "      <td>2.2269</td>\n",
       "      <td>2.8699</td>\n",
       "      <td>3.6824</td>\n",
       "      <td>3.293</td>\n",
       "      <td>3.2931</td>\n",
       "      <td>3.3775</td>\n",
       "      <td>4.1037</td>\n",
       "      <td>7.3372</td>\n",
       "      <td>12.4712</td>\n",
       "    </tr>\n",
       "    <tr>\n",
       "      <th>CV computation time</th>\n",
       "      <td>39 sec</td>\n",
       "      <td>10 sec</td>\n",
       "      <td>12 min, 55 sec</td>\n",
       "      <td>4 min, 0 sec</td>\n",
       "      <td>1 min, 34 sec</td>\n",
       "      <td>10 sec</td>\n",
       "      <td>2 sec</td>\n",
       "      <td>0 sec</td>\n",
       "      <td>1 min, 58 sec</td>\n",
       "      <td>3 sec</td>\n",
       "      <td>1 min, 7 sec</td>\n",
       "      <td>12 sec</td>\n",
       "    </tr>\n",
       "    <tr>\n",
       "      <th>Train size</th>\n",
       "      <td>75 %</td>\n",
       "      <td>75 %</td>\n",
       "      <td>75 %</td>\n",
       "      <td>75 %</td>\n",
       "      <td>40 %</td>\n",
       "      <td>75 %</td>\n",
       "      <td>75 %</td>\n",
       "      <td>75 %</td>\n",
       "      <td>40 %</td>\n",
       "      <td>75 %</td>\n",
       "      <td>40 %</td>\n",
       "      <td>75 %</td>\n",
       "    </tr>\n",
       "  </tbody>\n",
       "</table>\n",
       "</div>"
      ],
      "text/plain": [
       "                    Neural Network XGBoost   Random Forest  \\\n",
       "MAPE                        3.8686  5.8153          6.6329   \n",
       "RMSE                        0.9121  1.6959          2.1148   \n",
       "CV computation time         39 sec  10 sec  12 min, 55 sec   \n",
       "Train size                    75 %    75 %            75 %   \n",
       "\n",
       "                    Gradient Boosting Regression Tree SVM Gaussian Kernel  \\\n",
       "MAPE                                           8.5405              9.2823   \n",
       "RMSE                                           2.2269              2.8699   \n",
       "CV computation time                      4 min, 0 sec       1 min, 34 sec   \n",
       "Train size                                       75 %                40 %   \n",
       "\n",
       "                    Decision Tree Linear Regression Ridge Regression  \\\n",
       "MAPE                      10.8992           16.6011          16.6023   \n",
       "RMSE                       3.6824             3.293           3.2931   \n",
       "CV computation time        10 sec             2 sec            0 sec   \n",
       "Train size                   75 %              75 %             75 %   \n",
       "\n",
       "                        Linear SVM Lasso Regression SVM Polynomial Kernel  \\\n",
       "MAPE                       16.8364          19.7085               33.5229   \n",
       "RMSE                        3.3775           4.1037                7.3372   \n",
       "CV computation time  1 min, 58 sec            3 sec          1 min, 7 sec   \n",
       "Train size                    40 %             75 %                  40 %   \n",
       "\n",
       "                         KNN  \n",
       "MAPE                 51.7483  \n",
       "RMSE                 12.4712  \n",
       "CV computation time   12 sec  \n",
       "Train size              75 %  "
      ]
     },
     "metadata": {},
     "output_type": "display_data"
    },
    {
     "name": "stdout",
     "output_type": "stream",
     "text": [
      "Total script computation time: 43 min, 19 sec\n"
     ]
    }
   ],
   "source": [
    "display(pd.DataFrame(results_dict).sort_values(by='MAPE', axis=1))\n",
    "print('Total script computation time:', fun_convert_time(start=start_script, end=time.time()))"
   ]
  }
 ],
 "metadata": {
  "kernelspec": {
   "display_name": "base",
   "language": "python",
   "name": "python3"
  },
  "language_info": {
   "codemirror_mode": {
    "name": "ipython",
    "version": 3
   },
   "file_extension": ".py",
   "mimetype": "text/x-python",
   "name": "python",
   "nbconvert_exporter": "python",
   "pygments_lexer": "ipython3",
   "version": "3.11.7"
  }
 },
 "nbformat": 4,
 "nbformat_minor": 2
}
