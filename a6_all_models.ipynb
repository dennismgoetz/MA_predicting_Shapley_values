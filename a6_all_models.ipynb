{
 "cells": [
  {
   "cell_type": "code",
   "execution_count": 1,
   "metadata": {},
   "outputs": [
    {
     "name": "stdout",
     "output_type": "stream",
     "text": [
      "The notebook is executed directly. :)\n",
      "Optimization Problem: 'TSP'\n"
     ]
    }
   ],
   "source": [
    "import time\n",
    "import warnings\n",
    "import pandas as pd\n",
    "import numpy as np\n",
    "\n",
    "from sklearn.pipeline import Pipeline, make_pipeline\n",
    "from sklearn.preprocessing import KBinsDiscretizer, OneHotEncoder, PolynomialFeatures, StandardScaler, MinMaxScaler \n",
    "from sklearn.compose import ColumnTransformer\n",
    "\n",
    "from sklearn.exceptions import ConvergenceWarning\n",
    "from sklearn.neighbors import KNeighborsRegressor\n",
    "from sklearn.linear_model import LinearRegression, Ridge\n",
    "from sklearn.tree import DecisionTreeRegressor\n",
    "from sklearn.ensemble import RandomForestRegressor, GradientBoostingRegressor\n",
    "import xgboost as xgb\n",
    "from sklearn.svm import LinearSVR, SVR\n",
    "from sklearn.neural_network import MLPRegressor\n",
    "\n",
    "# Import helperfunctions\n",
    "from ML_functions import fun_load_settings, fun_load_data, fun_preprocessing, fun_load_best_params\n",
    "from ML_functions import fun_convert_time\n",
    "from ML_functions import fun_scores\n",
    "\n",
    "# Set the default optimization problem for the case of manual executing the script (choose either \"TSP\" or \"CVRP\")\n",
    "default_optimization_problem = \"TSP\"\n",
    "\n",
    "# Call the function to define optimization_problem based on how the notebook is executed\n",
    "# If the notebook is run by the script \"main.ipynb\", load optimization_problem from \"settings.json\". Otherwise use the default optimization problem from above\n",
    "optimization_problem = fun_load_settings(default_optimization_problem)\n",
    "\n",
    "# Load data and start the time count for the script within the function fun_load_data\n",
    "data, start_script = fun_load_data(optimization_problem)\n",
    "\n",
    "# Do the train test split during the preprocessing\n",
    "X_train, X_test, y_train, y_test, train_data = fun_preprocessing(data, train_size=0.8)"
   ]
  },
  {
   "cell_type": "markdown",
   "metadata": {},
   "source": [
    "# **A. Instance-based models**\n",
    "### **1. K-nearest Neighbor - KNN**"
   ]
  },
  {
   "cell_type": "code",
   "execution_count": 2,
   "metadata": {
    "execution": {
     "iopub.execute_input": "2024-10-10T06:23:27.422597Z",
     "iopub.status.busy": "2024-10-10T06:23:27.422597Z",
     "iopub.status.idle": "2024-10-10T06:23:56.351191Z",
     "shell.execute_reply": "2024-10-10T06:23:56.350186Z"
    }
   },
   "outputs": [
    {
     "data": {
      "text/plain": [
       "{'knn__n_neighbors': 8, 'scaler': StandardScaler()}"
      ]
     },
     "metadata": {},
     "output_type": "display_data"
    },
    {
     "name": "stdout",
     "output_type": "stream",
     "text": [
      "CV MAPE (scaled) train data:  23.7741 %\n",
      "CV RMSE (scaled) train data: 4.6775\n",
      "CV computation time: 30s\n",
      "\n",
      "MAPE (scaled) test data:  22.416 %\n",
      "RMSE (scaled) test data: 4.5123\n",
      "Model fit time: 0s\n",
      "Model prediction time: 2s\n"
     ]
    },
    {
     "data": {
      "text/markdown": [
       "**MAPE and RMSE on test data per instance size:**"
      ],
      "text/plain": [
       "<IPython.core.display.Markdown object>"
      ]
     },
     "metadata": {},
     "output_type": "display_data"
    },
    {
     "data": {
      "text/html": [
       "<div>\n",
       "<style scoped>\n",
       "    .dataframe tbody tr th:only-of-type {\n",
       "        vertical-align: middle;\n",
       "    }\n",
       "\n",
       "    .dataframe tbody tr th {\n",
       "        vertical-align: top;\n",
       "    }\n",
       "\n",
       "    .dataframe thead th {\n",
       "        text-align: right;\n",
       "    }\n",
       "</style>\n",
       "<table border=\"1\" class=\"dataframe\">\n",
       "  <thead>\n",
       "    <tr style=\"text-align: right;\">\n",
       "      <th>Number Customers</th>\n",
       "      <th>6</th>\n",
       "      <th>7</th>\n",
       "      <th>8</th>\n",
       "      <th>9</th>\n",
       "      <th>10</th>\n",
       "      <th>11</th>\n",
       "      <th>12</th>\n",
       "      <th>13</th>\n",
       "      <th>14</th>\n",
       "      <th>Mean</th>\n",
       "    </tr>\n",
       "  </thead>\n",
       "  <tbody>\n",
       "    <tr>\n",
       "      <th>MAPE</th>\n",
       "      <td>26.9853</td>\n",
       "      <td>23.0869</td>\n",
       "      <td>23.0567</td>\n",
       "      <td>22.5353</td>\n",
       "      <td>23.1626</td>\n",
       "      <td>20.6273</td>\n",
       "      <td>21.4564</td>\n",
       "      <td>20.4195</td>\n",
       "      <td>23.2276</td>\n",
       "      <td>22.4160</td>\n",
       "    </tr>\n",
       "    <tr>\n",
       "      <th>RMSE</th>\n",
       "      <td>6.9669</td>\n",
       "      <td>5.6670</td>\n",
       "      <td>5.1174</td>\n",
       "      <td>4.7273</td>\n",
       "      <td>4.4210</td>\n",
       "      <td>4.0579</td>\n",
       "      <td>3.7169</td>\n",
       "      <td>3.7094</td>\n",
       "      <td>3.6311</td>\n",
       "      <td>4.5123</td>\n",
       "    </tr>\n",
       "  </tbody>\n",
       "</table>\n",
       "</div>"
      ],
      "text/plain": [
       "Number Customers        6        7        8        9       10       11  \\\n",
       "MAPE              26.9853  23.0869  23.0567  22.5353  23.1626  20.6273   \n",
       "RMSE               6.9669   5.6670   5.1174   4.7273   4.4210   4.0579   \n",
       "\n",
       "Number Customers       12       13       14     Mean  \n",
       "MAPE              21.4564  20.4195  23.2276  22.4160  \n",
       "RMSE               3.7169   3.7094   3.6311   4.5123  "
      ]
     },
     "metadata": {},
     "output_type": "display_data"
    }
   ],
   "source": [
    "# Load best parameters of the model\n",
    "best_params = fun_load_best_params(optimization_problem, model_abbreviation=\"KNN\")\n",
    "\n",
    "# Create a pipline and set best_params as parameters\n",
    "pipe = Pipeline(steps=[(\"scaler\", None), \n",
    "                       (\"knn\", KNeighborsRegressor())])\n",
    "pipe.set_params(**best_params)\n",
    "\n",
    "# Estimate model performance with cross-validation on the train set and get scores on test set (scoring: MAPE and RMSE)\n",
    "model_results_dict = fun_scores(model=pipe, X_train=X_train, y_train=y_train, X_test=X_test, y_test=y_test, compute_test_scores=True)\n",
    "\n",
    "# Create a dictionary to store the results\n",
    "results_dict = {\"KNN\": model_results_dict}"
   ]
  },
  {
   "cell_type": "markdown",
   "metadata": {},
   "source": [
    "# **B. Linear Models**\n",
    "### **1. Linear Regression**"
   ]
  },
  {
   "cell_type": "code",
   "execution_count": 3,
   "metadata": {
    "execution": {
     "iopub.execute_input": "2024-10-10T06:23:56.355322Z",
     "iopub.status.busy": "2024-10-10T06:23:56.354322Z",
     "iopub.status.idle": "2024-10-10T06:23:59.631346Z",
     "shell.execute_reply": "2024-10-10T06:23:59.631346Z"
    }
   },
   "outputs": [
    {
     "name": "stdout",
     "output_type": "stream",
     "text": [
      "CV MAPE (scaled) train data:  20.6429 %\n",
      "CV RMSE (scaled) train data: 4.2858\n",
      "CV computation time: 3s\n",
      "\n",
      "MAPE (scaled) test data:  21.0844 %\n",
      "RMSE (scaled) test data: 4.3982\n",
      "Model fit time: 0s\n",
      "Model prediction time: 0s\n"
     ]
    },
    {
     "data": {
      "text/markdown": [
       "**MAPE and RMSE on test data per instance size:**"
      ],
      "text/plain": [
       "<IPython.core.display.Markdown object>"
      ]
     },
     "metadata": {},
     "output_type": "display_data"
    },
    {
     "data": {
      "text/html": [
       "<div>\n",
       "<style scoped>\n",
       "    .dataframe tbody tr th:only-of-type {\n",
       "        vertical-align: middle;\n",
       "    }\n",
       "\n",
       "    .dataframe tbody tr th {\n",
       "        vertical-align: top;\n",
       "    }\n",
       "\n",
       "    .dataframe thead th {\n",
       "        text-align: right;\n",
       "    }\n",
       "</style>\n",
       "<table border=\"1\" class=\"dataframe\">\n",
       "  <thead>\n",
       "    <tr style=\"text-align: right;\">\n",
       "      <th>Number Customers</th>\n",
       "      <th>6</th>\n",
       "      <th>7</th>\n",
       "      <th>8</th>\n",
       "      <th>9</th>\n",
       "      <th>10</th>\n",
       "      <th>11</th>\n",
       "      <th>12</th>\n",
       "      <th>13</th>\n",
       "      <th>14</th>\n",
       "      <th>Mean</th>\n",
       "    </tr>\n",
       "  </thead>\n",
       "  <tbody>\n",
       "    <tr>\n",
       "      <th>MAPE</th>\n",
       "      <td>22.1609</td>\n",
       "      <td>18.5325</td>\n",
       "      <td>18.6898</td>\n",
       "      <td>16.4951</td>\n",
       "      <td>16.6162</td>\n",
       "      <td>14.3913</td>\n",
       "      <td>19.0307</td>\n",
       "      <td>21.8103</td>\n",
       "      <td>35.7541</td>\n",
       "      <td>21.0844</td>\n",
       "    </tr>\n",
       "    <tr>\n",
       "      <th>RMSE</th>\n",
       "      <td>6.3504</td>\n",
       "      <td>5.2883</td>\n",
       "      <td>4.4824</td>\n",
       "      <td>3.8846</td>\n",
       "      <td>3.6128</td>\n",
       "      <td>3.1841</td>\n",
       "      <td>3.5297</td>\n",
       "      <td>4.0782</td>\n",
       "      <td>5.3381</td>\n",
       "      <td>4.3982</td>\n",
       "    </tr>\n",
       "  </tbody>\n",
       "</table>\n",
       "</div>"
      ],
      "text/plain": [
       "Number Customers        6        7        8        9       10       11  \\\n",
       "MAPE              22.1609  18.5325  18.6898  16.4951  16.6162  14.3913   \n",
       "RMSE               6.3504   5.2883   4.4824   3.8846   3.6128   3.1841   \n",
       "\n",
       "Number Customers       12       13       14     Mean  \n",
       "MAPE              19.0307  21.8103  35.7541  21.0844  \n",
       "RMSE               3.5297   4.0782   5.3381   4.3982  "
      ]
     },
     "metadata": {},
     "output_type": "display_data"
    }
   ],
   "source": [
    "if (optimization_problem == \"TSP\"):\n",
    "\n",
    "    # Define the model pipeline\n",
    "    lr = LinearRegression()\n",
    "\n",
    "    # Estimate model performance with cross-validation on the train set and get scores on test set (scoring: MAPE and RMSE)\n",
    "    model_results_dict = fun_scores(lr, X_train, y_train, X_test, y_test, apply_scaling=True, compute_test_scores=True)\n",
    "    results_dict[\"Linear Regression\"] = model_results_dict\n",
    "\n",
    "else: print(\"This cell is only executed for the TSP!\")"
   ]
  },
  {
   "cell_type": "markdown",
   "metadata": {},
   "source": [
    "### **2. Rigde Regression (L2-Regularization)**"
   ]
  },
  {
   "cell_type": "code",
   "execution_count": 4,
   "metadata": {
    "execution": {
     "iopub.execute_input": "2024-10-10T06:23:59.633456Z",
     "iopub.status.busy": "2024-10-10T06:23:59.633456Z",
     "iopub.status.idle": "2024-10-10T06:24:02.991505Z",
     "shell.execute_reply": "2024-10-10T06:24:02.991505Z"
    }
   },
   "outputs": [
    {
     "data": {
      "text/plain": [
       "{'alpha': 1}"
      ]
     },
     "metadata": {},
     "output_type": "display_data"
    },
    {
     "name": "stdout",
     "output_type": "stream",
     "text": [
      "CV MAPE (scaled) train data:  20.6427 %\n",
      "CV RMSE (scaled) train data: 4.2856\n",
      "CV computation time: 3s\n",
      "\n",
      "MAPE (scaled) test data:  21.0891 %\n",
      "RMSE (scaled) test data: 4.3983\n",
      "Model fit time: 0s\n",
      "Model prediction time: 0s\n"
     ]
    },
    {
     "data": {
      "text/markdown": [
       "**MAPE and RMSE on test data per instance size:**"
      ],
      "text/plain": [
       "<IPython.core.display.Markdown object>"
      ]
     },
     "metadata": {},
     "output_type": "display_data"
    },
    {
     "data": {
      "text/html": [
       "<div>\n",
       "<style scoped>\n",
       "    .dataframe tbody tr th:only-of-type {\n",
       "        vertical-align: middle;\n",
       "    }\n",
       "\n",
       "    .dataframe tbody tr th {\n",
       "        vertical-align: top;\n",
       "    }\n",
       "\n",
       "    .dataframe thead th {\n",
       "        text-align: right;\n",
       "    }\n",
       "</style>\n",
       "<table border=\"1\" class=\"dataframe\">\n",
       "  <thead>\n",
       "    <tr style=\"text-align: right;\">\n",
       "      <th>Number Customers</th>\n",
       "      <th>6</th>\n",
       "      <th>7</th>\n",
       "      <th>8</th>\n",
       "      <th>9</th>\n",
       "      <th>10</th>\n",
       "      <th>11</th>\n",
       "      <th>12</th>\n",
       "      <th>13</th>\n",
       "      <th>14</th>\n",
       "      <th>Mean</th>\n",
       "    </tr>\n",
       "  </thead>\n",
       "  <tbody>\n",
       "    <tr>\n",
       "      <th>MAPE</th>\n",
       "      <td>22.1643</td>\n",
       "      <td>18.5393</td>\n",
       "      <td>18.6895</td>\n",
       "      <td>16.4784</td>\n",
       "      <td>16.6164</td>\n",
       "      <td>14.3957</td>\n",
       "      <td>19.0336</td>\n",
       "      <td>21.8140</td>\n",
       "      <td>35.7811</td>\n",
       "      <td>21.0891</td>\n",
       "    </tr>\n",
       "    <tr>\n",
       "      <th>RMSE</th>\n",
       "      <td>6.3478</td>\n",
       "      <td>5.2859</td>\n",
       "      <td>4.4821</td>\n",
       "      <td>3.8827</td>\n",
       "      <td>3.6128</td>\n",
       "      <td>3.1849</td>\n",
       "      <td>3.5308</td>\n",
       "      <td>4.0787</td>\n",
       "      <td>5.3406</td>\n",
       "      <td>4.3983</td>\n",
       "    </tr>\n",
       "  </tbody>\n",
       "</table>\n",
       "</div>"
      ],
      "text/plain": [
       "Number Customers        6        7        8        9       10       11  \\\n",
       "MAPE              22.1643  18.5393  18.6895  16.4784  16.6164  14.3957   \n",
       "RMSE               6.3478   5.2859   4.4821   3.8827   3.6128   3.1849   \n",
       "\n",
       "Number Customers       12       13       14     Mean  \n",
       "MAPE              19.0336  21.8140  35.7811  21.0891  \n",
       "RMSE               3.5308   4.0787   5.3406   4.3983  "
      ]
     },
     "metadata": {},
     "output_type": "display_data"
    }
   ],
   "source": [
    "if (optimization_problem == \"TSP\"):\n",
    "    \n",
    "    # Load best parameters of the model\n",
    "    best_params = fun_load_best_params(optimization_problem, model_abbreviation=\"Ridge\")\n",
    "    \n",
    "    # Define the model pipeline\n",
    "    ridge = Ridge(solver=\"svd\", **best_params)\n",
    "\n",
    "    # Estimate model performance with cross-validation on the train set and get scores on test set (scoring: MAPE and RMSE)\n",
    "    model_results_dict = fun_scores(ridge, X_train, y_train, X_test, y_test, apply_scaling=True, compute_test_scores=True)\n",
    "    results_dict[\"Ridge Regression\"] = model_results_dict\n",
    "\n",
    "else: print(\"This cell is only executed for the TSP!\")"
   ]
  },
  {
   "cell_type": "markdown",
   "metadata": {},
   "source": [
    "### **3. Polynomial Regression**\n",
    "**Preprocessor to create interactions and polynomial features**"
   ]
  },
  {
   "cell_type": "code",
   "execution_count": 5,
   "metadata": {
    "execution": {
     "iopub.execute_input": "2024-10-10T06:24:02.993535Z",
     "iopub.status.busy": "2024-10-10T06:24:02.993535Z",
     "iopub.status.idle": "2024-10-10T06:24:57.426990Z",
     "shell.execute_reply": "2024-10-10T06:24:57.426990Z"
    }
   },
   "outputs": [
    {
     "name": "stdout",
     "output_type": "stream",
     "text": [
      "CV MAPE (scaled) train data:  7.362299999999999 %\n",
      "CV RMSE (scaled) train data: 1.8885\n",
      "CV computation time: 33s\n",
      "\n",
      "MAPE (scaled) test data:  7.238700000000001 %\n",
      "RMSE (scaled) test data: 1.8597\n",
      "Model fit time: 18s\n",
      "Model prediction time: 0s\n"
     ]
    },
    {
     "data": {
      "text/markdown": [
       "**MAPE and RMSE on test data per instance size:**"
      ],
      "text/plain": [
       "<IPython.core.display.Markdown object>"
      ]
     },
     "metadata": {},
     "output_type": "display_data"
    },
    {
     "data": {
      "text/html": [
       "<div>\n",
       "<style scoped>\n",
       "    .dataframe tbody tr th:only-of-type {\n",
       "        vertical-align: middle;\n",
       "    }\n",
       "\n",
       "    .dataframe tbody tr th {\n",
       "        vertical-align: top;\n",
       "    }\n",
       "\n",
       "    .dataframe thead th {\n",
       "        text-align: right;\n",
       "    }\n",
       "</style>\n",
       "<table border=\"1\" class=\"dataframe\">\n",
       "  <thead>\n",
       "    <tr style=\"text-align: right;\">\n",
       "      <th>Number Customers</th>\n",
       "      <th>6</th>\n",
       "      <th>7</th>\n",
       "      <th>8</th>\n",
       "      <th>9</th>\n",
       "      <th>10</th>\n",
       "      <th>11</th>\n",
       "      <th>12</th>\n",
       "      <th>13</th>\n",
       "      <th>14</th>\n",
       "      <th>Mean</th>\n",
       "    </tr>\n",
       "  </thead>\n",
       "  <tbody>\n",
       "    <tr>\n",
       "      <th>MAPE</th>\n",
       "      <td>5.2732</td>\n",
       "      <td>5.7080</td>\n",
       "      <td>6.6465</td>\n",
       "      <td>6.6716</td>\n",
       "      <td>7.5816</td>\n",
       "      <td>6.5973</td>\n",
       "      <td>7.3335</td>\n",
       "      <td>7.8547</td>\n",
       "      <td>9.1552</td>\n",
       "      <td>7.2387</td>\n",
       "    </tr>\n",
       "    <tr>\n",
       "      <th>RMSE</th>\n",
       "      <td>2.0435</td>\n",
       "      <td>1.9491</td>\n",
       "      <td>1.9844</td>\n",
       "      <td>1.9201</td>\n",
       "      <td>1.9027</td>\n",
       "      <td>1.7200</td>\n",
       "      <td>1.7111</td>\n",
       "      <td>1.8052</td>\n",
       "      <td>1.8649</td>\n",
       "      <td>1.8597</td>\n",
       "    </tr>\n",
       "  </tbody>\n",
       "</table>\n",
       "</div>"
      ],
      "text/plain": [
       "Number Customers       6       7       8       9      10      11      12  \\\n",
       "MAPE              5.2732  5.7080  6.6465  6.6716  7.5816  6.5973  7.3335   \n",
       "RMSE              2.0435  1.9491  1.9844  1.9201  1.9027  1.7200  1.7111   \n",
       "\n",
       "Number Customers      13      14    Mean  \n",
       "MAPE              7.8547  9.1552  7.2387  \n",
       "RMSE              1.8052  1.8649  1.8597  "
      ]
     },
     "metadata": {},
     "output_type": "display_data"
    }
   ],
   "source": [
    "# Load most important features from script \"b1_feature_selection.ipynb\"\n",
    "top_features = list(pd.read_csv(f\"02_best_features/{optimization_problem}_top_features\"))\n",
    "\n",
    "# Define the preprocessing steps for continuous features\n",
    "onehot_transformer = Pipeline(steps=[(\"binning\", KBinsDiscretizer(n_bins=10, encode=\"ordinal\", strategy=\"uniform\")),\n",
    "                                     (\"onehot\", OneHotEncoder(sparse_output=False, handle_unknown=\"ignore\"))])\n",
    "\n",
    "poly_transformer = Pipeline(steps=[(\"poly\", PolynomialFeatures(degree=3, interaction_only=False, include_bias=True))])\n",
    "\n",
    "# Combine preprocessing steps using ColumnTransformer\n",
    "preprocessor = ColumnTransformer(transformers=[(\"onehot\", onehot_transformer, top_features),\n",
    "                                               (\"poly\", poly_transformer, top_features)],\n",
    "                                               remainder=\"passthrough\")\n",
    "\n",
    "# Define the model pipeline\n",
    "pipe = Pipeline(steps=[(\"preprocessor\", preprocessor),\n",
    "                       (\"lr\", LinearRegression())])\n",
    "\n",
    "# Estimate model performance with cross-validation on the train set and get scores on test set (scoring: MAPE and RMSE)\n",
    "model_results_dict = fun_scores(pipe, X_train, y_train, X_test, y_test, apply_scaling=True, compute_test_scores=True)\n",
    "results_dict[\"Polynomial Regression\"] = model_results_dict"
   ]
  },
  {
   "cell_type": "markdown",
   "metadata": {},
   "source": [
    "# **C. Decision Tree**"
   ]
  },
  {
   "cell_type": "code",
   "execution_count": 6,
   "metadata": {
    "execution": {
     "iopub.execute_input": "2024-10-10T06:24:57.430153Z",
     "iopub.status.busy": "2024-10-10T06:24:57.430153Z",
     "iopub.status.idle": "2024-10-10T06:25:03.000327Z",
     "shell.execute_reply": "2024-10-10T06:25:03.000327Z"
    }
   },
   "outputs": [
    {
     "data": {
      "text/plain": [
       "{'min_samples_leaf': 19,\n",
       " 'min_impurity_decrease': 0.0001,\n",
       " 'max_leaf_nodes': 2000,\n",
       " 'max_depth': 45}"
      ]
     },
     "metadata": {},
     "output_type": "display_data"
    },
    {
     "name": "stdout",
     "output_type": "stream",
     "text": [
      "CV MAPE (scaled) train data:  11.6332 %\n",
      "CV RMSE (scaled) train data: 3.886\n",
      "CV computation time: 2s\n",
      "\n",
      "MAPE (scaled) test data:  11.4436 %\n",
      "RMSE (scaled) test data: 3.7323\n",
      "Model fit time: 2s\n",
      "Model prediction time: 0s\n"
     ]
    },
    {
     "data": {
      "text/markdown": [
       "**MAPE and RMSE on test data per instance size:**"
      ],
      "text/plain": [
       "<IPython.core.display.Markdown object>"
      ]
     },
     "metadata": {},
     "output_type": "display_data"
    },
    {
     "data": {
      "text/html": [
       "<div>\n",
       "<style scoped>\n",
       "    .dataframe tbody tr th:only-of-type {\n",
       "        vertical-align: middle;\n",
       "    }\n",
       "\n",
       "    .dataframe tbody tr th {\n",
       "        vertical-align: top;\n",
       "    }\n",
       "\n",
       "    .dataframe thead th {\n",
       "        text-align: right;\n",
       "    }\n",
       "</style>\n",
       "<table border=\"1\" class=\"dataframe\">\n",
       "  <thead>\n",
       "    <tr style=\"text-align: right;\">\n",
       "      <th>Number Customers</th>\n",
       "      <th>6</th>\n",
       "      <th>7</th>\n",
       "      <th>8</th>\n",
       "      <th>9</th>\n",
       "      <th>10</th>\n",
       "      <th>11</th>\n",
       "      <th>12</th>\n",
       "      <th>13</th>\n",
       "      <th>14</th>\n",
       "      <th>Mean</th>\n",
       "    </tr>\n",
       "  </thead>\n",
       "  <tbody>\n",
       "    <tr>\n",
       "      <th>MAPE</th>\n",
       "      <td>11.3174</td>\n",
       "      <td>12.0265</td>\n",
       "      <td>11.5868</td>\n",
       "      <td>11.2419</td>\n",
       "      <td>11.6250</td>\n",
       "      <td>10.9698</td>\n",
       "      <td>11.5128</td>\n",
       "      <td>11.1300</td>\n",
       "      <td>11.7287</td>\n",
       "      <td>11.4436</td>\n",
       "    </tr>\n",
       "    <tr>\n",
       "      <th>RMSE</th>\n",
       "      <td>5.0715</td>\n",
       "      <td>4.9070</td>\n",
       "      <td>4.2937</td>\n",
       "      <td>4.0477</td>\n",
       "      <td>3.7463</td>\n",
       "      <td>3.3705</td>\n",
       "      <td>3.2538</td>\n",
       "      <td>3.0274</td>\n",
       "      <td>2.9806</td>\n",
       "      <td>3.7323</td>\n",
       "    </tr>\n",
       "  </tbody>\n",
       "</table>\n",
       "</div>"
      ],
      "text/plain": [
       "Number Customers        6        7        8        9       10       11  \\\n",
       "MAPE              11.3174  12.0265  11.5868  11.2419  11.6250  10.9698   \n",
       "RMSE               5.0715   4.9070   4.2937   4.0477   3.7463   3.3705   \n",
       "\n",
       "Number Customers       12       13       14     Mean  \n",
       "MAPE              11.5128  11.1300  11.7287  11.4436  \n",
       "RMSE               3.2538   3.0274   2.9806   3.7323  "
      ]
     },
     "metadata": {},
     "output_type": "display_data"
    }
   ],
   "source": [
    "if (optimization_problem == \"TSP\"):\n",
    "    \n",
    "    # Load best parameters of the model\n",
    "    best_params = fun_load_best_params(optimization_problem, model_abbreviation=\"DT\")\n",
    "\n",
    "    # Create model\n",
    "    tree = DecisionTreeRegressor(**best_params, random_state=42)\n",
    "\n",
    "    # Estimate model performance with cross-validation on the train set and get scores on test set (scoring: MAPE and RMSE)\n",
    "    model_results_dict = fun_scores(tree, X_train, y_train, X_test, y_test, compute_test_scores=True)\n",
    "    results_dict[\"Decision Tree\"] = model_results_dict\n",
    "\n",
    "else: print(\"This cell is only executed for the TSP!\")"
   ]
  },
  {
   "cell_type": "markdown",
   "metadata": {},
   "source": [
    "# **D. Ensembles of Decision Trees**\n",
    "### **1. Random Forest**"
   ]
  },
  {
   "cell_type": "code",
   "execution_count": 7,
   "metadata": {
    "execution": {
     "iopub.execute_input": "2024-10-10T06:25:03.002333Z",
     "iopub.status.busy": "2024-10-10T06:25:03.002333Z",
     "iopub.status.idle": "2024-10-10T06:32:59.757862Z",
     "shell.execute_reply": "2024-10-10T06:32:59.756833Z"
    }
   },
   "outputs": [
    {
     "data": {
      "text/plain": [
       "{'min_samples_split': 11,\n",
       " 'min_samples_leaf': 6,\n",
       " 'min_impurity_decrease': 0.0001,\n",
       " 'max_leaf_nodes': None,\n",
       " 'max_features': 25,\n",
       " 'max_depth': 13}"
      ]
     },
     "metadata": {},
     "output_type": "display_data"
    },
    {
     "name": "stdout",
     "output_type": "stream",
     "text": [
      "CV MAPE (scaled) train data:  7.9083 %\n",
      "CV RMSE (scaled) train data: 2.3605\n",
      "CV computation time: 4m, 20s\n",
      "\n",
      "MAPE (scaled) test data:  7.7351 %\n",
      "RMSE (scaled) test data: 2.2446\n",
      "Model fit time: 2m, 26s\n",
      "Model prediction time: 0s\n"
     ]
    },
    {
     "data": {
      "text/markdown": [
       "**MAPE and RMSE on test data per instance size:**"
      ],
      "text/plain": [
       "<IPython.core.display.Markdown object>"
      ]
     },
     "metadata": {},
     "output_type": "display_data"
    },
    {
     "data": {
      "text/html": [
       "<div>\n",
       "<style scoped>\n",
       "    .dataframe tbody tr th:only-of-type {\n",
       "        vertical-align: middle;\n",
       "    }\n",
       "\n",
       "    .dataframe tbody tr th {\n",
       "        vertical-align: top;\n",
       "    }\n",
       "\n",
       "    .dataframe thead th {\n",
       "        text-align: right;\n",
       "    }\n",
       "</style>\n",
       "<table border=\"1\" class=\"dataframe\">\n",
       "  <thead>\n",
       "    <tr style=\"text-align: right;\">\n",
       "      <th>Number Customers</th>\n",
       "      <th>6</th>\n",
       "      <th>7</th>\n",
       "      <th>8</th>\n",
       "      <th>9</th>\n",
       "      <th>10</th>\n",
       "      <th>11</th>\n",
       "      <th>12</th>\n",
       "      <th>13</th>\n",
       "      <th>14</th>\n",
       "      <th>Mean</th>\n",
       "    </tr>\n",
       "  </thead>\n",
       "  <tbody>\n",
       "    <tr>\n",
       "      <th>MAPE</th>\n",
       "      <td>6.5581</td>\n",
       "      <td>7.1463</td>\n",
       "      <td>7.4100</td>\n",
       "      <td>7.2005</td>\n",
       "      <td>7.6177</td>\n",
       "      <td>7.3522</td>\n",
       "      <td>7.8830</td>\n",
       "      <td>8.2568</td>\n",
       "      <td>8.8370</td>\n",
       "      <td>7.7351</td>\n",
       "    </tr>\n",
       "    <tr>\n",
       "      <th>RMSE</th>\n",
       "      <td>2.7158</td>\n",
       "      <td>2.6226</td>\n",
       "      <td>2.5643</td>\n",
       "      <td>2.2481</td>\n",
       "      <td>2.2607</td>\n",
       "      <td>2.0956</td>\n",
       "      <td>2.0438</td>\n",
       "      <td>2.0515</td>\n",
       "      <td>2.0474</td>\n",
       "      <td>2.2446</td>\n",
       "    </tr>\n",
       "  </tbody>\n",
       "</table>\n",
       "</div>"
      ],
      "text/plain": [
       "Number Customers       6       7       8       9      10      11      12  \\\n",
       "MAPE              6.5581  7.1463  7.4100  7.2005  7.6177  7.3522  7.8830   \n",
       "RMSE              2.7158  2.6226  2.5643  2.2481  2.2607  2.0956  2.0438   \n",
       "\n",
       "Number Customers      13      14    Mean  \n",
       "MAPE              8.2568  8.8370  7.7351  \n",
       "RMSE              2.0515  2.0474  2.2446  "
      ]
     },
     "metadata": {},
     "output_type": "display_data"
    }
   ],
   "source": [
    "# Load best parameters of the model\n",
    "best_params = fun_load_best_params(optimization_problem, model_abbreviation=\"RF\")\n",
    "\n",
    "# Create model\n",
    "forest = RandomForestRegressor(n_estimators=500, **best_params, n_jobs=-1, random_state=42)\n",
    "\n",
    "# Estimate model performance with cross-validation on the train set and get scores on test set (scoring: MAPE and RMSE)\n",
    "model_results_dict = fun_scores(forest, X_train, y_train, X_test, y_test, compute_test_scores=True)\n",
    "results_dict[\"Random Forest\"] = model_results_dict"
   ]
  },
  {
   "cell_type": "markdown",
   "metadata": {},
   "source": [
    "### **2. Gradient Boosting Regression Trees**"
   ]
  },
  {
   "cell_type": "code",
   "execution_count": 8,
   "metadata": {
    "execution": {
     "iopub.execute_input": "2024-10-10T06:32:59.760856Z",
     "iopub.status.busy": "2024-10-10T06:32:59.759883Z",
     "iopub.status.idle": "2024-10-10T06:38:52.824807Z",
     "shell.execute_reply": "2024-10-10T06:38:52.824807Z"
    }
   },
   "outputs": [
    {
     "data": {
      "text/plain": [
       "{'n_estimators': 120,\n",
       " 'min_samples_split': 6,\n",
       " 'min_samples_leaf': 23,\n",
       " 'max_leaf_nodes': 1500,\n",
       " 'max_features': 25,\n",
       " 'max_depth': 10,\n",
       " 'learning_rate': 0.1}"
      ]
     },
     "metadata": {},
     "output_type": "display_data"
    },
    {
     "name": "stdout",
     "output_type": "stream",
     "text": [
      "CV MAPE (scaled) train data:  6.1202 %\n",
      "CV RMSE (scaled) train data: 1.8355\n",
      "CV computation time: 2m, 39s\n",
      "\n",
      "MAPE (scaled) test data:  5.811100000000001 %\n",
      "RMSE (scaled) test data: 1.7169\n",
      "Model fit time: 2m, 57s\n",
      "Model prediction time: 0s\n"
     ]
    },
    {
     "data": {
      "text/markdown": [
       "**MAPE and RMSE on test data per instance size:**"
      ],
      "text/plain": [
       "<IPython.core.display.Markdown object>"
      ]
     },
     "metadata": {},
     "output_type": "display_data"
    },
    {
     "data": {
      "text/html": [
       "<div>\n",
       "<style scoped>\n",
       "    .dataframe tbody tr th:only-of-type {\n",
       "        vertical-align: middle;\n",
       "    }\n",
       "\n",
       "    .dataframe tbody tr th {\n",
       "        vertical-align: top;\n",
       "    }\n",
       "\n",
       "    .dataframe thead th {\n",
       "        text-align: right;\n",
       "    }\n",
       "</style>\n",
       "<table border=\"1\" class=\"dataframe\">\n",
       "  <thead>\n",
       "    <tr style=\"text-align: right;\">\n",
       "      <th>Number Customers</th>\n",
       "      <th>6</th>\n",
       "      <th>7</th>\n",
       "      <th>8</th>\n",
       "      <th>9</th>\n",
       "      <th>10</th>\n",
       "      <th>11</th>\n",
       "      <th>12</th>\n",
       "      <th>13</th>\n",
       "      <th>14</th>\n",
       "      <th>Mean</th>\n",
       "    </tr>\n",
       "  </thead>\n",
       "  <tbody>\n",
       "    <tr>\n",
       "      <th>MAPE</th>\n",
       "      <td>4.9207</td>\n",
       "      <td>5.2847</td>\n",
       "      <td>5.5931</td>\n",
       "      <td>5.4526</td>\n",
       "      <td>5.8007</td>\n",
       "      <td>5.3347</td>\n",
       "      <td>5.9932</td>\n",
       "      <td>6.1885</td>\n",
       "      <td>6.6861</td>\n",
       "      <td>5.8111</td>\n",
       "    </tr>\n",
       "    <tr>\n",
       "      <th>RMSE</th>\n",
       "      <td>2.0705</td>\n",
       "      <td>1.9768</td>\n",
       "      <td>1.9386</td>\n",
       "      <td>1.7253</td>\n",
       "      <td>1.7199</td>\n",
       "      <td>1.5545</td>\n",
       "      <td>1.5559</td>\n",
       "      <td>1.5991</td>\n",
       "      <td>1.6237</td>\n",
       "      <td>1.7169</td>\n",
       "    </tr>\n",
       "  </tbody>\n",
       "</table>\n",
       "</div>"
      ],
      "text/plain": [
       "Number Customers       6       7       8       9      10      11      12  \\\n",
       "MAPE              4.9207  5.2847  5.5931  5.4526  5.8007  5.3347  5.9932   \n",
       "RMSE              2.0705  1.9768  1.9386  1.7253  1.7199  1.5545  1.5559   \n",
       "\n",
       "Number Customers      13      14    Mean  \n",
       "MAPE              6.1885  6.6861  5.8111  \n",
       "RMSE              1.5991  1.6237  1.7169  "
      ]
     },
     "metadata": {},
     "output_type": "display_data"
    }
   ],
   "source": [
    "if (optimization_problem == \"TSP\"):\n",
    "    \n",
    "    # Load best parameters of the model\n",
    "    best_params = fun_load_best_params(optimization_problem, model_abbreviation=\"GBRT\")\n",
    "\n",
    "    # Create model\n",
    "    gbrt = GradientBoostingRegressor(**best_params, random_state=42)\n",
    "\n",
    "    # Estimate model performance with cross-validation on the train set and get scores on test set (scoring: MAPE and RMSE)\n",
    "    model_results_dict = fun_scores(gbrt, X_train, y_train, X_test, y_test, compute_test_scores=True)\n",
    "    results_dict[\"GBRT\"] = model_results_dict\n",
    "\n",
    "else: print(\"This cell is only executed for the TSP!\")"
   ]
  },
  {
   "cell_type": "markdown",
   "metadata": {},
   "source": [
    "### **3. Extreme Gradient Boosting: XGBoost-Package**"
   ]
  },
  {
   "cell_type": "code",
   "execution_count": 9,
   "metadata": {
    "execution": {
     "iopub.execute_input": "2024-10-10T06:38:52.826913Z",
     "iopub.status.busy": "2024-10-10T06:38:52.826913Z",
     "iopub.status.idle": "2024-10-10T06:39:32.550822Z",
     "shell.execute_reply": "2024-10-10T06:39:32.549666Z"
    }
   },
   "outputs": [
    {
     "data": {
      "text/plain": [
       "{'colsample_bytree': 1.0,\n",
       " 'learning_rate': 0.05,\n",
       " 'max_depth': 7,\n",
       " 'subsample': 0.6}"
      ]
     },
     "metadata": {},
     "output_type": "display_data"
    },
    {
     "name": "stdout",
     "output_type": "stream",
     "text": [
      "CV MAPE (scaled) train data:  5.4142 %\n",
      "CV RMSE (scaled) train data: 1.5627\n",
      "CV computation time: 24s\n",
      "\n",
      "MAPE (scaled) test data:  5.2724 %\n",
      "RMSE (scaled) test data: 1.4827\n",
      "Model fit time: 8s\n",
      "Model prediction time: 0s\n"
     ]
    },
    {
     "data": {
      "text/markdown": [
       "**MAPE and RMSE on test data per instance size:**"
      ],
      "text/plain": [
       "<IPython.core.display.Markdown object>"
      ]
     },
     "metadata": {},
     "output_type": "display_data"
    },
    {
     "data": {
      "text/html": [
       "<div>\n",
       "<style scoped>\n",
       "    .dataframe tbody tr th:only-of-type {\n",
       "        vertical-align: middle;\n",
       "    }\n",
       "\n",
       "    .dataframe tbody tr th {\n",
       "        vertical-align: top;\n",
       "    }\n",
       "\n",
       "    .dataframe thead th {\n",
       "        text-align: right;\n",
       "    }\n",
       "</style>\n",
       "<table border=\"1\" class=\"dataframe\">\n",
       "  <thead>\n",
       "    <tr style=\"text-align: right;\">\n",
       "      <th>Number Customers</th>\n",
       "      <th>6</th>\n",
       "      <th>7</th>\n",
       "      <th>8</th>\n",
       "      <th>9</th>\n",
       "      <th>10</th>\n",
       "      <th>11</th>\n",
       "      <th>12</th>\n",
       "      <th>13</th>\n",
       "      <th>14</th>\n",
       "      <th>Mean</th>\n",
       "    </tr>\n",
       "  </thead>\n",
       "  <tbody>\n",
       "    <tr>\n",
       "      <th>MAPE</th>\n",
       "      <td>4.4762</td>\n",
       "      <td>4.8422</td>\n",
       "      <td>4.7988</td>\n",
       "      <td>4.9949</td>\n",
       "      <td>5.1514</td>\n",
       "      <td>4.9781</td>\n",
       "      <td>5.4432</td>\n",
       "      <td>5.6247</td>\n",
       "      <td>6.1217</td>\n",
       "      <td>5.2724</td>\n",
       "    </tr>\n",
       "    <tr>\n",
       "      <th>RMSE</th>\n",
       "      <td>1.7699</td>\n",
       "      <td>1.7315</td>\n",
       "      <td>1.6164</td>\n",
       "      <td>1.4454</td>\n",
       "      <td>1.4908</td>\n",
       "      <td>1.3790</td>\n",
       "      <td>1.3398</td>\n",
       "      <td>1.4001</td>\n",
       "      <td>1.4194</td>\n",
       "      <td>1.4827</td>\n",
       "    </tr>\n",
       "  </tbody>\n",
       "</table>\n",
       "</div>"
      ],
      "text/plain": [
       "Number Customers       6       7       8       9      10      11      12  \\\n",
       "MAPE              4.4762  4.8422  4.7988  4.9949  5.1514  4.9781  5.4432   \n",
       "RMSE              1.7699  1.7315  1.6164  1.4454  1.4908  1.3790  1.3398   \n",
       "\n",
       "Number Customers      13      14    Mean  \n",
       "MAPE              5.6247  6.1217  5.2724  \n",
       "RMSE              1.4001  1.4194  1.4827  "
      ]
     },
     "metadata": {},
     "output_type": "display_data"
    }
   ],
   "source": [
    "# Load best parameters of the model\n",
    "best_params = fun_load_best_params(optimization_problem, model_abbreviation=\"XGBoost\")\n",
    "\n",
    "# Create model\n",
    "xgboost = xgb.XGBRegressor(n_estimators=750, objective=\"reg:squarederror\", **best_params, random_state=42)\n",
    "\n",
    "# Estimate model performance with cross-validation on the train set and get scores on test set (scoring: MAPE and RMSE)\n",
    "model_results_dict = fun_scores(xgboost, X_train, y_train, X_test, y_test, compute_test_scores=True)\n",
    "results_dict[\"XGBoost\"] = model_results_dict"
   ]
  },
  {
   "cell_type": "markdown",
   "metadata": {},
   "source": [
    "# **E. Linear Support Vector Machines (SVM) and Kernel Machines**\n",
    "**Linear SVM**"
   ]
  },
  {
   "cell_type": "code",
   "execution_count": 10,
   "metadata": {
    "execution": {
     "iopub.execute_input": "2024-10-10T06:39:32.555824Z",
     "iopub.status.busy": "2024-10-10T06:39:32.554826Z",
     "iopub.status.idle": "2024-10-10T06:41:06.368245Z",
     "shell.execute_reply": "2024-10-10T06:41:06.367232Z"
    }
   },
   "outputs": [
    {
     "data": {
      "text/plain": [
       "{'SVM__C': 10, 'SVM__epsilon': 0.1, 'scaler': StandardScaler()}"
      ]
     },
     "metadata": {},
     "output_type": "display_data"
    },
    {
     "name": "stdout",
     "output_type": "stream",
     "text": [
      "CV MAPE (scaled) train data:  19.3978 %\n",
      "CV RMSE (scaled) train data: 4.0675\n",
      "CV computation time: 31s\n",
      "\n",
      "MAPE (scaled) test data:  19.7359 %\n",
      "RMSE (scaled) test data: 4.174\n",
      "Model fit time: 50s\n",
      "Model prediction time: 0s\n"
     ]
    },
    {
     "data": {
      "text/markdown": [
       "**MAPE and RMSE on test data per instance size:**"
      ],
      "text/plain": [
       "<IPython.core.display.Markdown object>"
      ]
     },
     "metadata": {},
     "output_type": "display_data"
    },
    {
     "data": {
      "text/html": [
       "<div>\n",
       "<style scoped>\n",
       "    .dataframe tbody tr th:only-of-type {\n",
       "        vertical-align: middle;\n",
       "    }\n",
       "\n",
       "    .dataframe tbody tr th {\n",
       "        vertical-align: top;\n",
       "    }\n",
       "\n",
       "    .dataframe thead th {\n",
       "        text-align: right;\n",
       "    }\n",
       "</style>\n",
       "<table border=\"1\" class=\"dataframe\">\n",
       "  <thead>\n",
       "    <tr style=\"text-align: right;\">\n",
       "      <th>Number Customers</th>\n",
       "      <th>6</th>\n",
       "      <th>7</th>\n",
       "      <th>8</th>\n",
       "      <th>9</th>\n",
       "      <th>10</th>\n",
       "      <th>11</th>\n",
       "      <th>12</th>\n",
       "      <th>13</th>\n",
       "      <th>14</th>\n",
       "      <th>Mean</th>\n",
       "    </tr>\n",
       "  </thead>\n",
       "  <tbody>\n",
       "    <tr>\n",
       "      <th>MAPE</th>\n",
       "      <td>22.7330</td>\n",
       "      <td>19.3968</td>\n",
       "      <td>19.2609</td>\n",
       "      <td>16.8381</td>\n",
       "      <td>16.5873</td>\n",
       "      <td>13.9153</td>\n",
       "      <td>17.7463</td>\n",
       "      <td>19.2937</td>\n",
       "      <td>29.6933</td>\n",
       "      <td>19.7359</td>\n",
       "    </tr>\n",
       "    <tr>\n",
       "      <th>RMSE</th>\n",
       "      <td>6.5312</td>\n",
       "      <td>5.4482</td>\n",
       "      <td>4.5922</td>\n",
       "      <td>3.9155</td>\n",
       "      <td>3.5635</td>\n",
       "      <td>2.9959</td>\n",
       "      <td>3.1994</td>\n",
       "      <td>3.5596</td>\n",
       "      <td>4.5067</td>\n",
       "      <td>4.1740</td>\n",
       "    </tr>\n",
       "  </tbody>\n",
       "</table>\n",
       "</div>"
      ],
      "text/plain": [
       "Number Customers        6        7        8        9       10       11  \\\n",
       "MAPE              22.7330  19.3968  19.2609  16.8381  16.5873  13.9153   \n",
       "RMSE               6.5312   5.4482   4.5922   3.9155   3.5635   2.9959   \n",
       "\n",
       "Number Customers       12       13       14     Mean  \n",
       "MAPE              17.7463  19.2937  29.6933  19.7359  \n",
       "RMSE               3.1994   3.5596   4.5067   4.1740  "
      ]
     },
     "metadata": {},
     "output_type": "display_data"
    }
   ],
   "source": [
    "if (optimization_problem == \"TSP\"):\n",
    "    \n",
    "    # Load best parameters of the model\n",
    "    best_params = fun_load_best_params(optimization_problem, model_abbreviation=\"SVM\")\n",
    "\n",
    "    # Define the model pipeline\n",
    "    pipe = Pipeline(steps=[(\"scaler\", None), \n",
    "                           (\"SVM\", LinearSVR(max_iter=10000, random_state=42))])\n",
    "    pipe.set_params(**best_params)\n",
    "\n",
    "    # Estimate model performance with cross-validation on the train set and get scores on test set (scoring: MAPE and RMSE)\n",
    "    model_results_dict = fun_scores(pipe, X_train, y_train, X_test, y_test, compute_test_scores=True)\n",
    "    results_dict[\"SVM\"] = model_results_dict\n",
    "\n",
    "else: print(\"This cell is only executed for the TSP!\")"
   ]
  },
  {
   "cell_type": "markdown",
   "metadata": {},
   "source": [
    "**Kernel Machine with Gaussian Kernel**"
   ]
  },
  {
   "cell_type": "code",
   "execution_count": 11,
   "metadata": {
    "execution": {
     "iopub.execute_input": "2024-10-10T06:41:06.372247Z",
     "iopub.status.busy": "2024-10-10T06:41:06.371243Z",
     "iopub.status.idle": "2024-10-10T06:52:59.302363Z",
     "shell.execute_reply": "2024-10-10T06:52:59.302363Z"
    }
   },
   "outputs": [
    {
     "data": {
      "text/plain": [
       "{'SVM__C': 100,\n",
       " 'SVM__epsilon': 1,\n",
       " 'SVM__gamma': 'scale',\n",
       " 'scaler': MinMaxScaler()}"
      ]
     },
     "metadata": {},
     "output_type": "display_data"
    },
    {
     "name": "stdout",
     "output_type": "stream",
     "text": [
      "CV MAPE (scaled) train data:  4.3228 %\n",
      "CV RMSE (scaled) train data: 1.1145\n",
      "CV computation time: 4m, 57s\n",
      "\n",
      "MAPE (scaled) test data:  4.1867 %\n",
      "RMSE (scaled) test data: 1.0653\n",
      "Model fit time: 6m, 17s\n",
      "Model prediction time: 23s\n"
     ]
    },
    {
     "data": {
      "text/markdown": [
       "**MAPE and RMSE on test data per instance size:**"
      ],
      "text/plain": [
       "<IPython.core.display.Markdown object>"
      ]
     },
     "metadata": {},
     "output_type": "display_data"
    },
    {
     "data": {
      "text/html": [
       "<div>\n",
       "<style scoped>\n",
       "    .dataframe tbody tr th:only-of-type {\n",
       "        vertical-align: middle;\n",
       "    }\n",
       "\n",
       "    .dataframe tbody tr th {\n",
       "        vertical-align: top;\n",
       "    }\n",
       "\n",
       "    .dataframe thead th {\n",
       "        text-align: right;\n",
       "    }\n",
       "</style>\n",
       "<table border=\"1\" class=\"dataframe\">\n",
       "  <thead>\n",
       "    <tr style=\"text-align: right;\">\n",
       "      <th>Number Customers</th>\n",
       "      <th>6</th>\n",
       "      <th>7</th>\n",
       "      <th>8</th>\n",
       "      <th>9</th>\n",
       "      <th>10</th>\n",
       "      <th>11</th>\n",
       "      <th>12</th>\n",
       "      <th>13</th>\n",
       "      <th>14</th>\n",
       "      <th>Mean</th>\n",
       "    </tr>\n",
       "  </thead>\n",
       "  <tbody>\n",
       "    <tr>\n",
       "      <th>MAPE</th>\n",
       "      <td>3.6736</td>\n",
       "      <td>3.0239</td>\n",
       "      <td>3.4447</td>\n",
       "      <td>3.4647</td>\n",
       "      <td>3.7622</td>\n",
       "      <td>3.9352</td>\n",
       "      <td>4.4039</td>\n",
       "      <td>4.8451</td>\n",
       "      <td>5.5795</td>\n",
       "      <td>4.1867</td>\n",
       "    </tr>\n",
       "    <tr>\n",
       "      <th>RMSE</th>\n",
       "      <td>1.2048</td>\n",
       "      <td>1.0055</td>\n",
       "      <td>1.0080</td>\n",
       "      <td>0.9734</td>\n",
       "      <td>0.9820</td>\n",
       "      <td>0.9970</td>\n",
       "      <td>1.0383</td>\n",
       "      <td>1.1464</td>\n",
       "      <td>1.1679</td>\n",
       "      <td>1.0653</td>\n",
       "    </tr>\n",
       "  </tbody>\n",
       "</table>\n",
       "</div>"
      ],
      "text/plain": [
       "Number Customers       6       7       8       9      10      11      12  \\\n",
       "MAPE              3.6736  3.0239  3.4447  3.4647  3.7622  3.9352  4.4039   \n",
       "RMSE              1.2048  1.0055  1.0080  0.9734  0.9820  0.9970  1.0383   \n",
       "\n",
       "Number Customers      13      14    Mean  \n",
       "MAPE              4.8451  5.5795  4.1867  \n",
       "RMSE              1.1464  1.1679  1.0653  "
      ]
     },
     "metadata": {},
     "output_type": "display_data"
    }
   ],
   "source": [
    "# Suppress ConvergenceWarning (model will probably not converge within 500,000 iterations)\n",
    "warnings.filterwarnings(\"ignore\", category=ConvergenceWarning)\n",
    "\n",
    "# Load best parameters of the model\n",
    "best_params = fun_load_best_params(optimization_problem, model_abbreviation=\"KM\")\n",
    "\n",
    "# Define the model pipeline\n",
    "pipe = Pipeline(steps=[(\"scaler\", None), \n",
    "                       (\"SVM\", SVR(kernel=\"rbf\", cache_size=2000, max_iter=500000))])\n",
    "pipe.set_params(**best_params)\n",
    "\n",
    "# Estimate model performance with cross-validation on the train set and get scores on test set (scoring: MAPE and RMSE)\n",
    "model_results_dict = fun_scores(pipe, X_train, y_train, X_test, y_test, compute_test_scores=True)\n",
    "results_dict[\"Kernel Machine\"] = model_results_dict"
   ]
  },
  {
   "cell_type": "markdown",
   "metadata": {},
   "source": [
    "# **F. Neural Network - Multi Layer Perceptron**"
   ]
  },
  {
   "cell_type": "code",
   "execution_count": 12,
   "metadata": {
    "execution": {
     "iopub.execute_input": "2024-10-10T06:52:59.304462Z",
     "iopub.status.busy": "2024-10-10T06:52:59.304462Z",
     "iopub.status.idle": "2024-10-10T07:42:54.956122Z",
     "shell.execute_reply": "2024-10-10T07:42:54.956122Z"
    }
   },
   "outputs": [
    {
     "data": {
      "text/plain": [
       "{'mlpregressor__alpha': 0.1,\n",
       " 'mlpregressor__batch_size': 32,\n",
       " 'mlpregressor__early_stopping': False,\n",
       " 'mlpregressor__learning_rate_init': 0.001,\n",
       " 'mlpregressor__solver': 'sgd'}"
      ]
     },
     "metadata": {},
     "output_type": "display_data"
    },
    {
     "name": "stdout",
     "output_type": "stream",
     "text": [
      "Hidden layer sizes: (256, 128, 64)\n",
      "CV MAPE (scaled) train data:  3.5156 %\n",
      "CV RMSE (scaled) train data: 0.9565\n",
      "CV computation time: 17m, 6s\n",
      "\n",
      "MAPE (scaled) test data:  3.3343 %\n",
      "RMSE (scaled) test data: 0.8999\n",
      "Model fit time: 27m, 2s\n",
      "Model prediction time: 0s\n"
     ]
    },
    {
     "data": {
      "text/markdown": [
       "**MAPE and RMSE on test data per instance size:**"
      ],
      "text/plain": [
       "<IPython.core.display.Markdown object>"
      ]
     },
     "metadata": {},
     "output_type": "display_data"
    },
    {
     "data": {
      "text/html": [
       "<div>\n",
       "<style scoped>\n",
       "    .dataframe tbody tr th:only-of-type {\n",
       "        vertical-align: middle;\n",
       "    }\n",
       "\n",
       "    .dataframe tbody tr th {\n",
       "        vertical-align: top;\n",
       "    }\n",
       "\n",
       "    .dataframe thead th {\n",
       "        text-align: right;\n",
       "    }\n",
       "</style>\n",
       "<table border=\"1\" class=\"dataframe\">\n",
       "  <thead>\n",
       "    <tr style=\"text-align: right;\">\n",
       "      <th>Number Customers</th>\n",
       "      <th>6</th>\n",
       "      <th>7</th>\n",
       "      <th>8</th>\n",
       "      <th>9</th>\n",
       "      <th>10</th>\n",
       "      <th>11</th>\n",
       "      <th>12</th>\n",
       "      <th>13</th>\n",
       "      <th>14</th>\n",
       "      <th>Mean</th>\n",
       "    </tr>\n",
       "  </thead>\n",
       "  <tbody>\n",
       "    <tr>\n",
       "      <th>MAPE</th>\n",
       "      <td>2.2156</td>\n",
       "      <td>2.3114</td>\n",
       "      <td>2.6244</td>\n",
       "      <td>2.8952</td>\n",
       "      <td>3.1252</td>\n",
       "      <td>3.2157</td>\n",
       "      <td>3.7293</td>\n",
       "      <td>3.9340</td>\n",
       "      <td>4.3603</td>\n",
       "      <td>3.3343</td>\n",
       "    </tr>\n",
       "    <tr>\n",
       "      <th>RMSE</th>\n",
       "      <td>0.8039</td>\n",
       "      <td>0.8375</td>\n",
       "      <td>0.8582</td>\n",
       "      <td>0.8582</td>\n",
       "      <td>0.8375</td>\n",
       "      <td>0.8806</td>\n",
       "      <td>0.9356</td>\n",
       "      <td>0.9706</td>\n",
       "      <td>0.9739</td>\n",
       "      <td>0.8999</td>\n",
       "    </tr>\n",
       "  </tbody>\n",
       "</table>\n",
       "</div>"
      ],
      "text/plain": [
       "Number Customers       6       7       8       9      10      11      12  \\\n",
       "MAPE              2.2156  2.3114  2.6244  2.8952  3.1252  3.2157  3.7293   \n",
       "RMSE              0.8039  0.8375  0.8582  0.8582  0.8375  0.8806  0.9356   \n",
       "\n",
       "Number Customers      13      14    Mean  \n",
       "MAPE              3.9340  4.3603  3.3343  \n",
       "RMSE              0.9706  0.9739  0.8999  "
      ]
     },
     "metadata": {},
     "output_type": "display_data"
    }
   ],
   "source": [
    "# Load best parameters of the model\n",
    "best_params = fun_load_best_params(optimization_problem, model_abbreviation=\"NN\")\n",
    "\n",
    "# Define the parameter hidden_layer_sizes depending on the problem setting\n",
    "if (optimization_problem == \"TSP\"): hls = (256, 128, 64)\n",
    "elif (optimization_problem == \"CVRP\"): hls = (128, 64, 32)\n",
    "print(\"Hidden layer sizes:\", hls)\n",
    "\n",
    "# Create pipeline\n",
    "pipe = make_pipeline(StandardScaler(), \n",
    "                     MLPRegressor(hidden_layer_sizes=hls, activation=\"relu\", learning_rate=\"adaptive\", \n",
    "                                  max_iter=1000, random_state=42))\n",
    "pipe.set_params(**best_params)\n",
    "\n",
    "# Estimate model performance with cross-validation on the train set and get scores on test set (scoring: MAPE and RMSE)\n",
    "model_results_dict = fun_scores(pipe, X_train, y_train, X_test, y_test, compute_test_scores=True)\n",
    "results_dict[\"Neural Network\"] = model_results_dict"
   ]
  },
  {
   "cell_type": "markdown",
   "metadata": {},
   "source": [
    "# **G. Compare Results**"
   ]
  },
  {
   "cell_type": "code",
   "execution_count": 13,
   "metadata": {
    "execution": {
     "iopub.execute_input": "2024-10-10T07:42:54.959322Z",
     "iopub.status.busy": "2024-10-10T07:42:54.958320Z",
     "iopub.status.idle": "2024-10-10T07:42:55.113683Z",
     "shell.execute_reply": "2024-10-10T07:42:55.112667Z"
    }
   },
   "outputs": [
    {
     "data": {
      "text/html": [
       "<div>\n",
       "<style scoped>\n",
       "    .dataframe tbody tr th:only-of-type {\n",
       "        vertical-align: middle;\n",
       "    }\n",
       "\n",
       "    .dataframe tbody tr th {\n",
       "        vertical-align: top;\n",
       "    }\n",
       "\n",
       "    .dataframe thead th {\n",
       "        text-align: right;\n",
       "    }\n",
       "</style>\n",
       "<table border=\"1\" class=\"dataframe\">\n",
       "  <thead>\n",
       "    <tr style=\"text-align: right;\">\n",
       "      <th></th>\n",
       "      <th>KNN</th>\n",
       "      <th>Linear Regression</th>\n",
       "      <th>Ridge Regression</th>\n",
       "      <th>Polynomial Regression</th>\n",
       "      <th>Decision Tree</th>\n",
       "      <th>Random Forest</th>\n",
       "      <th>Gradient Boosting Regression Trees</th>\n",
       "      <th>XGBoost</th>\n",
       "      <th>Linear SVM</th>\n",
       "      <th>Kernel Machine</th>\n",
       "      <th>Neural Network</th>\n",
       "    </tr>\n",
       "  </thead>\n",
       "  <tbody>\n",
       "    <tr>\n",
       "      <th>CV times</th>\n",
       "      <td>27s</td>\n",
       "      <td>3s</td>\n",
       "      <td>3s</td>\n",
       "      <td>33s</td>\n",
       "      <td>2s</td>\n",
       "      <td>4m, 20s</td>\n",
       "      <td>2m, 39s</td>\n",
       "      <td>24s</td>\n",
       "      <td>31s</td>\n",
       "      <td>4m, 57s</td>\n",
       "      <td>17m, 6s</td>\n",
       "    </tr>\n",
       "    <tr>\n",
       "      <th>Fit times</th>\n",
       "      <td>0s</td>\n",
       "      <td>0s</td>\n",
       "      <td>0s</td>\n",
       "      <td>18s</td>\n",
       "      <td>2s</td>\n",
       "      <td>2m, 26s</td>\n",
       "      <td>2m, 57s</td>\n",
       "      <td>8s</td>\n",
       "      <td>50s</td>\n",
       "      <td>6m, 17s</td>\n",
       "      <td>27m, 2s</td>\n",
       "    </tr>\n",
       "    <tr>\n",
       "      <th>Prediction times</th>\n",
       "      <td>2s</td>\n",
       "      <td>0s</td>\n",
       "      <td>0s</td>\n",
       "      <td>0s</td>\n",
       "      <td>0s</td>\n",
       "      <td>0s</td>\n",
       "      <td>0s</td>\n",
       "      <td>0s</td>\n",
       "      <td>0s</td>\n",
       "      <td>23s</td>\n",
       "      <td>0s</td>\n",
       "    </tr>\n",
       "  </tbody>\n",
       "</table>\n",
       "</div>"
      ],
      "text/plain": [
       "                  KNN Linear Regression Ridge Regression  \\\n",
       "CV times          27s                3s               3s   \n",
       "Fit times          0s                0s               0s   \n",
       "Prediction times   2s                0s               0s   \n",
       "\n",
       "                 Polynomial Regression Decision Tree Random Forest  \\\n",
       "CV times                           33s            2s       4m, 20s   \n",
       "Fit times                          18s            2s       2m, 26s   \n",
       "Prediction times                    0s            0s            0s   \n",
       "\n",
       "                 Gradient Boosting Regression Trees XGBoost Linear SVM  \\\n",
       "CV times                                    2m, 39s     24s        31s   \n",
       "Fit times                                   2m, 57s      8s        50s   \n",
       "Prediction times                                 0s      0s         0s   \n",
       "\n",
       "                 Kernel Machine Neural Network  \n",
       "CV times                4m, 57s        17m, 6s  \n",
       "Fit times               6m, 17s        27m, 2s  \n",
       "Prediction times            23s             0s  "
      ]
     },
     "metadata": {},
     "output_type": "display_data"
    },
    {
     "data": {
      "text/html": [
       "<div>\n",
       "<style scoped>\n",
       "    .dataframe tbody tr th:only-of-type {\n",
       "        vertical-align: middle;\n",
       "    }\n",
       "\n",
       "    .dataframe tbody tr th {\n",
       "        vertical-align: top;\n",
       "    }\n",
       "\n",
       "    .dataframe thead th {\n",
       "        text-align: right;\n",
       "    }\n",
       "</style>\n",
       "<table border=\"1\" class=\"dataframe\">\n",
       "  <thead>\n",
       "    <tr style=\"text-align: right;\">\n",
       "      <th>MAPE Scores</th>\n",
       "      <th>Neural Network</th>\n",
       "      <th>Kernel Machine</th>\n",
       "      <th>XGBoost</th>\n",
       "      <th>Gradient Boosting Regression Trees</th>\n",
       "      <th>Polynomial Regression</th>\n",
       "      <th>Random Forest</th>\n",
       "      <th>Decision Tree</th>\n",
       "      <th>Linear SVM</th>\n",
       "      <th>Linear Regression</th>\n",
       "      <th>Ridge Regression</th>\n",
       "      <th>KNN</th>\n",
       "    </tr>\n",
       "  </thead>\n",
       "  <tbody>\n",
       "    <tr>\n",
       "      <th>Train Set</th>\n",
       "      <td>3.52</td>\n",
       "      <td>4.32</td>\n",
       "      <td>5.41</td>\n",
       "      <td>6.12</td>\n",
       "      <td>7.36</td>\n",
       "      <td>7.91</td>\n",
       "      <td>11.63</td>\n",
       "      <td>19.40</td>\n",
       "      <td>20.64</td>\n",
       "      <td>20.64</td>\n",
       "      <td>23.77</td>\n",
       "    </tr>\n",
       "    <tr>\n",
       "      <th>Test Set</th>\n",
       "      <td>3.33</td>\n",
       "      <td>4.19</td>\n",
       "      <td>5.27</td>\n",
       "      <td>5.81</td>\n",
       "      <td>7.24</td>\n",
       "      <td>7.74</td>\n",
       "      <td>11.44</td>\n",
       "      <td>19.74</td>\n",
       "      <td>21.08</td>\n",
       "      <td>21.09</td>\n",
       "      <td>22.42</td>\n",
       "    </tr>\n",
       "  </tbody>\n",
       "</table>\n",
       "</div>"
      ],
      "text/plain": [
       "MAPE Scores  Neural Network  Kernel Machine  XGBoost  \\\n",
       "Train Set              3.52            4.32     5.41   \n",
       "Test Set               3.33            4.19     5.27   \n",
       "\n",
       "MAPE Scores  Gradient Boosting Regression Trees  Polynomial Regression  \\\n",
       "Train Set                                  6.12                   7.36   \n",
       "Test Set                                   5.81                   7.24   \n",
       "\n",
       "MAPE Scores  Random Forest  Decision Tree  Linear SVM  Linear Regression  \\\n",
       "Train Set             7.91          11.63       19.40              20.64   \n",
       "Test Set              7.74          11.44       19.74              21.08   \n",
       "\n",
       "MAPE Scores  Ridge Regression    KNN  \n",
       "Train Set               20.64  23.77  \n",
       "Test Set                21.09  22.42  "
      ]
     },
     "metadata": {},
     "output_type": "display_data"
    },
    {
     "data": {
      "text/html": [
       "<div>\n",
       "<style scoped>\n",
       "    .dataframe tbody tr th:only-of-type {\n",
       "        vertical-align: middle;\n",
       "    }\n",
       "\n",
       "    .dataframe tbody tr th {\n",
       "        vertical-align: top;\n",
       "    }\n",
       "\n",
       "    .dataframe thead th {\n",
       "        text-align: right;\n",
       "    }\n",
       "</style>\n",
       "<table border=\"1\" class=\"dataframe\">\n",
       "  <thead>\n",
       "    <tr style=\"text-align: right;\">\n",
       "      <th>RMSE Scores</th>\n",
       "      <th>Neural Network</th>\n",
       "      <th>Kernel Machine</th>\n",
       "      <th>XGBoost</th>\n",
       "      <th>Gradient Boosting Regression Trees</th>\n",
       "      <th>Polynomial Regression</th>\n",
       "      <th>Random Forest</th>\n",
       "      <th>Decision Tree</th>\n",
       "      <th>Linear SVM</th>\n",
       "      <th>Linear Regression</th>\n",
       "      <th>Ridge Regression</th>\n",
       "      <th>KNN</th>\n",
       "    </tr>\n",
       "  </thead>\n",
       "  <tbody>\n",
       "    <tr>\n",
       "      <th>Train Set</th>\n",
       "      <td>0.9565</td>\n",
       "      <td>1.1145</td>\n",
       "      <td>1.5627</td>\n",
       "      <td>1.8355</td>\n",
       "      <td>1.8885</td>\n",
       "      <td>2.3605</td>\n",
       "      <td>3.8860</td>\n",
       "      <td>4.0675</td>\n",
       "      <td>4.2858</td>\n",
       "      <td>4.2856</td>\n",
       "      <td>4.6775</td>\n",
       "    </tr>\n",
       "    <tr>\n",
       "      <th>Test Set</th>\n",
       "      <td>0.8999</td>\n",
       "      <td>1.0653</td>\n",
       "      <td>1.4827</td>\n",
       "      <td>1.7169</td>\n",
       "      <td>1.8597</td>\n",
       "      <td>2.2446</td>\n",
       "      <td>3.7323</td>\n",
       "      <td>4.1740</td>\n",
       "      <td>4.3982</td>\n",
       "      <td>4.3983</td>\n",
       "      <td>4.5123</td>\n",
       "    </tr>\n",
       "  </tbody>\n",
       "</table>\n",
       "</div>"
      ],
      "text/plain": [
       "RMSE Scores  Neural Network  Kernel Machine  XGBoost  \\\n",
       "Train Set            0.9565          1.1145   1.5627   \n",
       "Test Set             0.8999          1.0653   1.4827   \n",
       "\n",
       "RMSE Scores  Gradient Boosting Regression Trees  Polynomial Regression  \\\n",
       "Train Set                                1.8355                 1.8885   \n",
       "Test Set                                 1.7169                 1.8597   \n",
       "\n",
       "RMSE Scores  Random Forest  Decision Tree  Linear SVM  Linear Regression  \\\n",
       "Train Set           2.3605         3.8860      4.0675             4.2858   \n",
       "Test Set            2.2446         3.7323      4.1740             4.3982   \n",
       "\n",
       "RMSE Scores  Ridge Regression     KNN  \n",
       "Train Set              4.2856  4.6775  \n",
       "Test Set               4.3983  4.5123  "
      ]
     },
     "metadata": {},
     "output_type": "display_data"
    },
    {
     "data": {
      "text/html": [
       "<div>\n",
       "<style scoped>\n",
       "    .dataframe tbody tr th:only-of-type {\n",
       "        vertical-align: middle;\n",
       "    }\n",
       "\n",
       "    .dataframe tbody tr th {\n",
       "        vertical-align: top;\n",
       "    }\n",
       "\n",
       "    .dataframe thead th {\n",
       "        text-align: right;\n",
       "    }\n",
       "</style>\n",
       "<table border=\"1\" class=\"dataframe\">\n",
       "  <thead>\n",
       "    <tr style=\"text-align: right;\">\n",
       "      <th>MAPE Scores per instance size</th>\n",
       "      <th>6</th>\n",
       "      <th>7</th>\n",
       "      <th>8</th>\n",
       "      <th>9</th>\n",
       "      <th>10</th>\n",
       "      <th>11</th>\n",
       "      <th>12</th>\n",
       "      <th>13</th>\n",
       "      <th>14</th>\n",
       "      <th>Mean</th>\n",
       "    </tr>\n",
       "  </thead>\n",
       "  <tbody>\n",
       "    <tr>\n",
       "      <th>Neural Network</th>\n",
       "      <td>2.22</td>\n",
       "      <td>2.31</td>\n",
       "      <td>2.62</td>\n",
       "      <td>2.90</td>\n",
       "      <td>3.13</td>\n",
       "      <td>3.22</td>\n",
       "      <td>3.73</td>\n",
       "      <td>3.93</td>\n",
       "      <td>4.36</td>\n",
       "      <td>3.33</td>\n",
       "    </tr>\n",
       "    <tr>\n",
       "      <th>Kernel Machine</th>\n",
       "      <td>3.67</td>\n",
       "      <td>3.02</td>\n",
       "      <td>3.44</td>\n",
       "      <td>3.46</td>\n",
       "      <td>3.76</td>\n",
       "      <td>3.94</td>\n",
       "      <td>4.40</td>\n",
       "      <td>4.85</td>\n",
       "      <td>5.58</td>\n",
       "      <td>4.19</td>\n",
       "    </tr>\n",
       "    <tr>\n",
       "      <th>XGBoost</th>\n",
       "      <td>4.48</td>\n",
       "      <td>4.84</td>\n",
       "      <td>4.80</td>\n",
       "      <td>4.99</td>\n",
       "      <td>5.15</td>\n",
       "      <td>4.98</td>\n",
       "      <td>5.44</td>\n",
       "      <td>5.62</td>\n",
       "      <td>6.12</td>\n",
       "      <td>5.27</td>\n",
       "    </tr>\n",
       "    <tr>\n",
       "      <th>Gradient Boosting Regression Trees</th>\n",
       "      <td>4.92</td>\n",
       "      <td>5.28</td>\n",
       "      <td>5.59</td>\n",
       "      <td>5.45</td>\n",
       "      <td>5.80</td>\n",
       "      <td>5.33</td>\n",
       "      <td>5.99</td>\n",
       "      <td>6.19</td>\n",
       "      <td>6.69</td>\n",
       "      <td>5.81</td>\n",
       "    </tr>\n",
       "    <tr>\n",
       "      <th>Polynomial Regression</th>\n",
       "      <td>5.27</td>\n",
       "      <td>5.71</td>\n",
       "      <td>6.65</td>\n",
       "      <td>6.67</td>\n",
       "      <td>7.58</td>\n",
       "      <td>6.60</td>\n",
       "      <td>7.33</td>\n",
       "      <td>7.85</td>\n",
       "      <td>9.16</td>\n",
       "      <td>7.24</td>\n",
       "    </tr>\n",
       "    <tr>\n",
       "      <th>Random Forest</th>\n",
       "      <td>6.56</td>\n",
       "      <td>7.15</td>\n",
       "      <td>7.41</td>\n",
       "      <td>7.20</td>\n",
       "      <td>7.62</td>\n",
       "      <td>7.35</td>\n",
       "      <td>7.88</td>\n",
       "      <td>8.26</td>\n",
       "      <td>8.84</td>\n",
       "      <td>7.74</td>\n",
       "    </tr>\n",
       "    <tr>\n",
       "      <th>Decision Tree</th>\n",
       "      <td>11.32</td>\n",
       "      <td>12.03</td>\n",
       "      <td>11.59</td>\n",
       "      <td>11.24</td>\n",
       "      <td>11.62</td>\n",
       "      <td>10.97</td>\n",
       "      <td>11.51</td>\n",
       "      <td>11.13</td>\n",
       "      <td>11.73</td>\n",
       "      <td>11.44</td>\n",
       "    </tr>\n",
       "    <tr>\n",
       "      <th>Linear SVM</th>\n",
       "      <td>22.73</td>\n",
       "      <td>19.40</td>\n",
       "      <td>19.26</td>\n",
       "      <td>16.84</td>\n",
       "      <td>16.59</td>\n",
       "      <td>13.92</td>\n",
       "      <td>17.75</td>\n",
       "      <td>19.29</td>\n",
       "      <td>29.69</td>\n",
       "      <td>19.74</td>\n",
       "    </tr>\n",
       "    <tr>\n",
       "      <th>Linear Regression</th>\n",
       "      <td>22.16</td>\n",
       "      <td>18.53</td>\n",
       "      <td>18.69</td>\n",
       "      <td>16.50</td>\n",
       "      <td>16.62</td>\n",
       "      <td>14.39</td>\n",
       "      <td>19.03</td>\n",
       "      <td>21.81</td>\n",
       "      <td>35.75</td>\n",
       "      <td>21.08</td>\n",
       "    </tr>\n",
       "    <tr>\n",
       "      <th>Ridge Regression</th>\n",
       "      <td>22.16</td>\n",
       "      <td>18.54</td>\n",
       "      <td>18.69</td>\n",
       "      <td>16.48</td>\n",
       "      <td>16.62</td>\n",
       "      <td>14.40</td>\n",
       "      <td>19.03</td>\n",
       "      <td>21.81</td>\n",
       "      <td>35.78</td>\n",
       "      <td>21.09</td>\n",
       "    </tr>\n",
       "    <tr>\n",
       "      <th>KNN</th>\n",
       "      <td>26.99</td>\n",
       "      <td>23.09</td>\n",
       "      <td>23.06</td>\n",
       "      <td>22.54</td>\n",
       "      <td>23.16</td>\n",
       "      <td>20.63</td>\n",
       "      <td>21.46</td>\n",
       "      <td>20.42</td>\n",
       "      <td>23.23</td>\n",
       "      <td>22.42</td>\n",
       "    </tr>\n",
       "  </tbody>\n",
       "</table>\n",
       "</div>"
      ],
      "text/plain": [
       "MAPE Scores per instance size           6      7      8      9     10     11  \\\n",
       "Neural Network                       2.22   2.31   2.62   2.90   3.13   3.22   \n",
       "Kernel Machine                       3.67   3.02   3.44   3.46   3.76   3.94   \n",
       "XGBoost                              4.48   4.84   4.80   4.99   5.15   4.98   \n",
       "Gradient Boosting Regression Trees   4.92   5.28   5.59   5.45   5.80   5.33   \n",
       "Polynomial Regression                5.27   5.71   6.65   6.67   7.58   6.60   \n",
       "Random Forest                        6.56   7.15   7.41   7.20   7.62   7.35   \n",
       "Decision Tree                       11.32  12.03  11.59  11.24  11.62  10.97   \n",
       "Linear SVM                          22.73  19.40  19.26  16.84  16.59  13.92   \n",
       "Linear Regression                   22.16  18.53  18.69  16.50  16.62  14.39   \n",
       "Ridge Regression                    22.16  18.54  18.69  16.48  16.62  14.40   \n",
       "KNN                                 26.99  23.09  23.06  22.54  23.16  20.63   \n",
       "\n",
       "MAPE Scores per instance size          12     13     14   Mean  \n",
       "Neural Network                       3.73   3.93   4.36   3.33  \n",
       "Kernel Machine                       4.40   4.85   5.58   4.19  \n",
       "XGBoost                              5.44   5.62   6.12   5.27  \n",
       "Gradient Boosting Regression Trees   5.99   6.19   6.69   5.81  \n",
       "Polynomial Regression                7.33   7.85   9.16   7.24  \n",
       "Random Forest                        7.88   8.26   8.84   7.74  \n",
       "Decision Tree                       11.51  11.13  11.73  11.44  \n",
       "Linear SVM                          17.75  19.29  29.69  19.74  \n",
       "Linear Regression                   19.03  21.81  35.75  21.08  \n",
       "Ridge Regression                    19.03  21.81  35.78  21.09  \n",
       "KNN                                 21.46  20.42  23.23  22.42  "
      ]
     },
     "metadata": {},
     "output_type": "display_data"
    },
    {
     "data": {
      "text/html": [
       "<div>\n",
       "<style scoped>\n",
       "    .dataframe tbody tr th:only-of-type {\n",
       "        vertical-align: middle;\n",
       "    }\n",
       "\n",
       "    .dataframe tbody tr th {\n",
       "        vertical-align: top;\n",
       "    }\n",
       "\n",
       "    .dataframe thead th {\n",
       "        text-align: right;\n",
       "    }\n",
       "</style>\n",
       "<table border=\"1\" class=\"dataframe\">\n",
       "  <thead>\n",
       "    <tr style=\"text-align: right;\">\n",
       "      <th>RMSE Scores per instance size</th>\n",
       "      <th>6</th>\n",
       "      <th>7</th>\n",
       "      <th>8</th>\n",
       "      <th>9</th>\n",
       "      <th>10</th>\n",
       "      <th>11</th>\n",
       "      <th>12</th>\n",
       "      <th>13</th>\n",
       "      <th>14</th>\n",
       "      <th>Mean</th>\n",
       "    </tr>\n",
       "  </thead>\n",
       "  <tbody>\n",
       "    <tr>\n",
       "      <th>Neural Network</th>\n",
       "      <td>0.8039</td>\n",
       "      <td>0.8375</td>\n",
       "      <td>0.8582</td>\n",
       "      <td>0.8582</td>\n",
       "      <td>0.8375</td>\n",
       "      <td>0.8806</td>\n",
       "      <td>0.9356</td>\n",
       "      <td>0.9706</td>\n",
       "      <td>0.9739</td>\n",
       "      <td>0.8999</td>\n",
       "    </tr>\n",
       "    <tr>\n",
       "      <th>Kernel Machine</th>\n",
       "      <td>1.2048</td>\n",
       "      <td>1.0055</td>\n",
       "      <td>1.0080</td>\n",
       "      <td>0.9734</td>\n",
       "      <td>0.9820</td>\n",
       "      <td>0.9970</td>\n",
       "      <td>1.0383</td>\n",
       "      <td>1.1464</td>\n",
       "      <td>1.1679</td>\n",
       "      <td>1.0653</td>\n",
       "    </tr>\n",
       "    <tr>\n",
       "      <th>XGBoost</th>\n",
       "      <td>1.7699</td>\n",
       "      <td>1.7315</td>\n",
       "      <td>1.6164</td>\n",
       "      <td>1.4454</td>\n",
       "      <td>1.4908</td>\n",
       "      <td>1.3790</td>\n",
       "      <td>1.3398</td>\n",
       "      <td>1.4001</td>\n",
       "      <td>1.4194</td>\n",
       "      <td>1.4827</td>\n",
       "    </tr>\n",
       "    <tr>\n",
       "      <th>Gradient Boosting Regression Trees</th>\n",
       "      <td>2.0705</td>\n",
       "      <td>1.9768</td>\n",
       "      <td>1.9386</td>\n",
       "      <td>1.7253</td>\n",
       "      <td>1.7199</td>\n",
       "      <td>1.5545</td>\n",
       "      <td>1.5559</td>\n",
       "      <td>1.5991</td>\n",
       "      <td>1.6237</td>\n",
       "      <td>1.7169</td>\n",
       "    </tr>\n",
       "    <tr>\n",
       "      <th>Polynomial Regression</th>\n",
       "      <td>2.0435</td>\n",
       "      <td>1.9491</td>\n",
       "      <td>1.9844</td>\n",
       "      <td>1.9201</td>\n",
       "      <td>1.9027</td>\n",
       "      <td>1.7200</td>\n",
       "      <td>1.7111</td>\n",
       "      <td>1.8052</td>\n",
       "      <td>1.8649</td>\n",
       "      <td>1.8597</td>\n",
       "    </tr>\n",
       "    <tr>\n",
       "      <th>Random Forest</th>\n",
       "      <td>2.7158</td>\n",
       "      <td>2.6226</td>\n",
       "      <td>2.5643</td>\n",
       "      <td>2.2481</td>\n",
       "      <td>2.2607</td>\n",
       "      <td>2.0956</td>\n",
       "      <td>2.0438</td>\n",
       "      <td>2.0515</td>\n",
       "      <td>2.0474</td>\n",
       "      <td>2.2446</td>\n",
       "    </tr>\n",
       "    <tr>\n",
       "      <th>Decision Tree</th>\n",
       "      <td>5.0715</td>\n",
       "      <td>4.9070</td>\n",
       "      <td>4.2937</td>\n",
       "      <td>4.0477</td>\n",
       "      <td>3.7463</td>\n",
       "      <td>3.3705</td>\n",
       "      <td>3.2538</td>\n",
       "      <td>3.0274</td>\n",
       "      <td>2.9806</td>\n",
       "      <td>3.7323</td>\n",
       "    </tr>\n",
       "    <tr>\n",
       "      <th>Linear SVM</th>\n",
       "      <td>6.5312</td>\n",
       "      <td>5.4482</td>\n",
       "      <td>4.5922</td>\n",
       "      <td>3.9155</td>\n",
       "      <td>3.5635</td>\n",
       "      <td>2.9959</td>\n",
       "      <td>3.1994</td>\n",
       "      <td>3.5596</td>\n",
       "      <td>4.5067</td>\n",
       "      <td>4.1740</td>\n",
       "    </tr>\n",
       "    <tr>\n",
       "      <th>Linear Regression</th>\n",
       "      <td>6.3504</td>\n",
       "      <td>5.2883</td>\n",
       "      <td>4.4824</td>\n",
       "      <td>3.8846</td>\n",
       "      <td>3.6128</td>\n",
       "      <td>3.1841</td>\n",
       "      <td>3.5297</td>\n",
       "      <td>4.0782</td>\n",
       "      <td>5.3381</td>\n",
       "      <td>4.3982</td>\n",
       "    </tr>\n",
       "    <tr>\n",
       "      <th>Ridge Regression</th>\n",
       "      <td>6.3478</td>\n",
       "      <td>5.2859</td>\n",
       "      <td>4.4821</td>\n",
       "      <td>3.8827</td>\n",
       "      <td>3.6128</td>\n",
       "      <td>3.1849</td>\n",
       "      <td>3.5308</td>\n",
       "      <td>4.0787</td>\n",
       "      <td>5.3406</td>\n",
       "      <td>4.3983</td>\n",
       "    </tr>\n",
       "    <tr>\n",
       "      <th>KNN</th>\n",
       "      <td>6.9669</td>\n",
       "      <td>5.6670</td>\n",
       "      <td>5.1174</td>\n",
       "      <td>4.7273</td>\n",
       "      <td>4.4210</td>\n",
       "      <td>4.0579</td>\n",
       "      <td>3.7169</td>\n",
       "      <td>3.7094</td>\n",
       "      <td>3.6311</td>\n",
       "      <td>4.5123</td>\n",
       "    </tr>\n",
       "  </tbody>\n",
       "</table>\n",
       "</div>"
      ],
      "text/plain": [
       "RMSE Scores per instance size            6       7       8       9      10  \\\n",
       "Neural Network                      0.8039  0.8375  0.8582  0.8582  0.8375   \n",
       "Kernel Machine                      1.2048  1.0055  1.0080  0.9734  0.9820   \n",
       "XGBoost                             1.7699  1.7315  1.6164  1.4454  1.4908   \n",
       "Gradient Boosting Regression Trees  2.0705  1.9768  1.9386  1.7253  1.7199   \n",
       "Polynomial Regression               2.0435  1.9491  1.9844  1.9201  1.9027   \n",
       "Random Forest                       2.7158  2.6226  2.5643  2.2481  2.2607   \n",
       "Decision Tree                       5.0715  4.9070  4.2937  4.0477  3.7463   \n",
       "Linear SVM                          6.5312  5.4482  4.5922  3.9155  3.5635   \n",
       "Linear Regression                   6.3504  5.2883  4.4824  3.8846  3.6128   \n",
       "Ridge Regression                    6.3478  5.2859  4.4821  3.8827  3.6128   \n",
       "KNN                                 6.9669  5.6670  5.1174  4.7273  4.4210   \n",
       "\n",
       "RMSE Scores per instance size           11      12      13      14    Mean  \n",
       "Neural Network                      0.8806  0.9356  0.9706  0.9739  0.8999  \n",
       "Kernel Machine                      0.9970  1.0383  1.1464  1.1679  1.0653  \n",
       "XGBoost                             1.3790  1.3398  1.4001  1.4194  1.4827  \n",
       "Gradient Boosting Regression Trees  1.5545  1.5559  1.5991  1.6237  1.7169  \n",
       "Polynomial Regression               1.7200  1.7111  1.8052  1.8649  1.8597  \n",
       "Random Forest                       2.0956  2.0438  2.0515  2.0474  2.2446  \n",
       "Decision Tree                       3.3705  3.2538  3.0274  2.9806  3.7323  \n",
       "Linear SVM                          2.9959  3.1994  3.5596  4.5067  4.1740  \n",
       "Linear Regression                   3.1841  3.5297  4.0782  5.3381  4.3982  \n",
       "Ridge Regression                    3.1849  3.5308  4.0787  5.3406  4.3983  \n",
       "KNN                                 4.0579  3.7169  3.7094  3.6311  4.5123  "
      ]
     },
     "metadata": {},
     "output_type": "display_data"
    },
    {
     "name": "stdout",
     "output_type": "stream",
     "text": [
      "Total script computation time: 1h, 12m\n"
     ]
    }
   ],
   "source": [
    "# Get model names, the scores for each model and the computation times\n",
    "model_names = results_dict.keys()\n",
    "cv_times = [value[\"CV computation time\"] for value in results_dict.values()]\n",
    "fit_times = [value[\"Model fit time\"] for value in results_dict.values()]\n",
    "prediction_times = [value[\"Model prediction time\"] for value in results_dict.values()]\n",
    "MAPE_train_scores = np.round([value[\"MAPE\"][\"Train data\"] for value in results_dict.values()], 2) # Round MAPE scores\n",
    "MAPE_test_scores = np.round([value[\"MAPE\"][\"Test data\"] for value in results_dict.values()], 2) # Round MAPE scores\n",
    "RMSE_train_scores = [value[\"RMSE\"][\"Train data\"] for value in results_dict.values()]\n",
    "RMSE_test_scores = [value[\"RMSE\"][\"Test data\"] for value in results_dict.values()]\n",
    "\n",
    "# Show train and test scores for each model and the computation times in a Data Frame\n",
    "run_times_df = pd.DataFrame([cv_times, fit_times, prediction_times], index=[\"CV times\", \"Fit times\", \"Prediction times\"], columns=model_names)\n",
    "MAPE_df = pd.DataFrame(data=[MAPE_train_scores, MAPE_test_scores], columns=model_names, index=[\"Train set\", \"Test set\"]).sort_values(by=\"Test set\", axis=1)\n",
    "MAPE_df.columns.name = \"MAPE scores\"\n",
    "RMSE_df = pd.DataFrame(data=[RMSE_train_scores, RMSE_test_scores], columns=model_names, index=[\"Train set\", \"Test set\"]).sort_values(by=\"Test set\", axis=1)\n",
    "RMSE_df.columns.name = \"RMSE scores\"\n",
    "display(run_times_df, MAPE_df, RMSE_df)\n",
    "\n",
    "# Show scores per instance size for each model\n",
    "MAPE_cat_scores = [value[\"Scores per instance size\"].loc[\"MAPE\"] for value in results_dict.values()]\n",
    "MAPE_cat_scores = [i.round(2) for i in MAPE_cat_scores] # Round MAPE scores\n",
    "RMSE_cat_scores = [value[\"Scores per instance size\"].loc[\"RMSE\"] for value in results_dict.values()]\n",
    "MAPE_cat_scores_df = pd.DataFrame(data=MAPE_cat_scores, index=model_names).sort_values(by=\"Mean\")\n",
    "MAPE_cat_scores_df.columns.name = \"MAPE scores per instance size\"\n",
    "RMSE_cat_scores_df = pd.DataFrame(data=RMSE_cat_scores, index=model_names).sort_values(by=\"Mean\")\n",
    "RMSE_cat_scores_df.columns.name = \"RMSE scores per instance size\"\n",
    "display(MAPE_cat_scores_df, RMSE_cat_scores_df)\n",
    "\n",
    "# Save data frames with results into an excel file\n",
    "file_path = str(f\"04_test_results/{optimization_problem}_results.xlsx\")\n",
    "\n",
    "# Use ExcelWriter to write multiple DataFrames to the same file\n",
    "with pd.ExcelWriter(file_path) as writer:\n",
    "    run_times_df.to_excel(writer, sheet_name=\"run_times\")\n",
    "    MAPE_df.to_excel(writer, sheet_name=\"MAPE_scores\")\n",
    "    RMSE_df.to_excel(writer, sheet_name=\"RMSE_scores\")\n",
    "    MAPE_cat_scores_df.to_excel(writer, sheet_name=\"MAPE_cat_scores\")\n",
    "    RMSE_cat_scores_df.to_excel(writer, sheet_name=\"RMSE_cat_scores\")\n",
    "\n",
    "# Print total script run time\n",
    "print(\"Total script computation time:\", fun_convert_time(start=start_script, end=time.time()))"
   ]
  }
 ],
 "metadata": {
  "kernelspec": {
   "display_name": "base",
   "language": "python",
   "name": "python3"
  },
  "language_info": {
   "codemirror_mode": {
    "name": "ipython",
    "version": 3
   },
   "file_extension": ".py",
   "mimetype": "text/x-python",
   "name": "python",
   "nbconvert_exporter": "python",
   "pygments_lexer": "ipython3",
   "version": "3.11.7"
  }
 },
 "nbformat": 4,
 "nbformat_minor": 2
}
