{
 "cells": [
  {
   "cell_type": "code",
   "execution_count": 1,
   "metadata": {
    "execution": {
     "iopub.execute_input": "2024-11-10T00:11:28.474293Z",
     "iopub.status.busy": "2024-11-10T00:11:28.474293Z",
     "iopub.status.idle": "2024-11-10T00:12:09.703431Z",
     "shell.execute_reply": "2024-11-10T00:12:09.703431Z"
    }
   },
   "outputs": [
    {
     "name": "stdout",
     "output_type": "stream",
     "text": [
      "The notebook was executed by another notebook. :)\n",
      "Optimization problem: 'TSP'\n"
     ]
    }
   ],
   "source": [
    "import time\n",
    "import warnings\n",
    "import pandas as pd\n",
    "import numpy as np\n",
    "\n",
    "from sklearn.pipeline import Pipeline, make_pipeline\n",
    "from sklearn.preprocessing import StandardScaler\n",
    "\n",
    "from sklearn.exceptions import ConvergenceWarning\n",
    "from sklearn.neighbors import KNeighborsRegressor\n",
    "from sklearn.linear_model import LinearRegression, Ridge\n",
    "from sklearn.tree import DecisionTreeRegressor\n",
    "from sklearn.ensemble import RandomForestRegressor, GradientBoostingRegressor\n",
    "import xgboost as xgb\n",
    "from sklearn.svm import LinearSVR, SVR\n",
    "from sklearn.neural_network import MLPRegressor\n",
    "\n",
    "# Import helperfunctions\n",
    "from ML_functions import fun_load_settings, fun_load_data, fun_preprocessing, fun_load_best_params\n",
    "from ML_functions import fun_convert_time\n",
    "from ML_functions import fun_scores\n",
    "\n",
    "# Set the default optimization problem for the case of manual executing the script (choose either \"TSP\" or \"CVRP\")\n",
    "default_optimization_problem = \"TSP\"\n",
    "\n",
    "# Call the function to define optimization_problem based on how the notebook is executed\n",
    "# If the notebook is run by the script \"main.ipynb\", load optimization_problem from \"settings.json\". Otherwise use the default optimization problem from above\n",
    "optimization_problem = fun_load_settings(default_optimization_problem)\n",
    "\n",
    "# Load data and start the time count for the script within the function fun_load_data\n",
    "data, start_script = fun_load_data(optimization_problem)\n",
    "\n",
    "# Do the train test split during the preprocessing\n",
    "X_train, X_test, y_train, y_test, train_data = fun_preprocessing(data, train_size=0.8)"
   ]
  },
  {
   "cell_type": "markdown",
   "metadata": {},
   "source": [
    "# **A. Instance-based models**\n",
    "### **1. K-nearest Neighbor - KNN**"
   ]
  },
  {
   "cell_type": "code",
   "execution_count": 2,
   "metadata": {
    "execution": {
     "iopub.execute_input": "2024-11-10T00:12:09.705437Z",
     "iopub.status.busy": "2024-11-10T00:12:09.705437Z",
     "iopub.status.idle": "2024-11-10T00:12:27.789261Z",
     "shell.execute_reply": "2024-11-10T00:12:27.789261Z"
    }
   },
   "outputs": [
    {
     "data": {
      "text/plain": [
       "{'knn__n_neighbors': 8, 'scaler': StandardScaler()}"
      ]
     },
     "metadata": {},
     "output_type": "display_data"
    },
    {
     "name": "stdout",
     "output_type": "stream",
     "text": [
      "CV MAPE (scaled) train data: 22.66 %\n",
      "CV RMSE (scaled) train data: 4.53\n",
      "CV computation time: 16s\n",
      "\n",
      "MAPE (scaled) test data: 21.32 %\n",
      "RMSE (scaled) test data: 4.36\n",
      "Model fit time: 0s\n",
      "Model prediction time: 1s\n"
     ]
    },
    {
     "data": {
      "text/markdown": [
       "**MAPE and RMSE on test data per instance size:**"
      ],
      "text/plain": [
       "<IPython.core.display.Markdown object>"
      ]
     },
     "metadata": {},
     "output_type": "display_data"
    },
    {
     "data": {
      "text/html": [
       "<div>\n",
       "<style scoped>\n",
       "    .dataframe tbody tr th:only-of-type {\n",
       "        vertical-align: middle;\n",
       "    }\n",
       "\n",
       "    .dataframe tbody tr th {\n",
       "        vertical-align: top;\n",
       "    }\n",
       "\n",
       "    .dataframe thead th {\n",
       "        text-align: right;\n",
       "    }\n",
       "</style>\n",
       "<table border=\"1\" class=\"dataframe\">\n",
       "  <thead>\n",
       "    <tr style=\"text-align: right;\">\n",
       "      <th>Number Customers</th>\n",
       "      <th>6</th>\n",
       "      <th>7</th>\n",
       "      <th>8</th>\n",
       "      <th>9</th>\n",
       "      <th>10</th>\n",
       "      <th>11</th>\n",
       "      <th>12</th>\n",
       "      <th>13</th>\n",
       "      <th>14</th>\n",
       "      <th>Mean</th>\n",
       "    </tr>\n",
       "  </thead>\n",
       "  <tbody>\n",
       "    <tr>\n",
       "      <th>MAPE</th>\n",
       "      <td>24.58</td>\n",
       "      <td>21.93</td>\n",
       "      <td>22.43</td>\n",
       "      <td>21.50</td>\n",
       "      <td>22.49</td>\n",
       "      <td>19.87</td>\n",
       "      <td>20.53</td>\n",
       "      <td>19.06</td>\n",
       "      <td>21.95</td>\n",
       "      <td>21.32</td>\n",
       "    </tr>\n",
       "    <tr>\n",
       "      <th>RMSE</th>\n",
       "      <td>6.45</td>\n",
       "      <td>5.46</td>\n",
       "      <td>5.00</td>\n",
       "      <td>4.55</td>\n",
       "      <td>4.38</td>\n",
       "      <td>3.98</td>\n",
       "      <td>3.70</td>\n",
       "      <td>3.55</td>\n",
       "      <td>3.49</td>\n",
       "      <td>4.36</td>\n",
       "    </tr>\n",
       "  </tbody>\n",
       "</table>\n",
       "</div>"
      ],
      "text/plain": [
       "Number Customers      6      7      8      9     10     11     12     13  \\\n",
       "MAPE              24.58  21.93  22.43  21.50  22.49  19.87  20.53  19.06   \n",
       "RMSE               6.45   5.46   5.00   4.55   4.38   3.98   3.70   3.55   \n",
       "\n",
       "Number Customers     14   Mean  \n",
       "MAPE              21.95  21.32  \n",
       "RMSE               3.49   4.36  "
      ]
     },
     "metadata": {},
     "output_type": "display_data"
    }
   ],
   "source": [
    "# Load best parameters of the model\n",
    "best_params = fun_load_best_params(optimization_problem, model_abbreviation=\"KNN\")\n",
    "\n",
    "# Create a pipline and set best_params as parameters\n",
    "pipe = Pipeline(steps=[(\"scaler\", None), \n",
    "                       (\"knn\", KNeighborsRegressor())])\n",
    "pipe.set_params(**best_params)\n",
    "\n",
    "# Estimate model performance with cross-validation on the train set and get scores on test set (scoring: MAPE and RMSE)\n",
    "model_results_dict = fun_scores(model=pipe, X_train=X_train, y_train=y_train, X_test=X_test, y_test=y_test, compute_test_scores=True)\n",
    "\n",
    "# Create a dictionary to store the results\n",
    "results_dict = {\"KNN\": model_results_dict}"
   ]
  },
  {
   "cell_type": "markdown",
   "metadata": {},
   "source": [
    "# **B. Linear Models**\n",
    "### **1. Linear Regression**"
   ]
  },
  {
   "cell_type": "code",
   "execution_count": 3,
   "metadata": {
    "execution": {
     "iopub.execute_input": "2024-11-10T00:12:27.792265Z",
     "iopub.status.busy": "2024-11-10T00:12:27.792265Z",
     "iopub.status.idle": "2024-11-10T00:12:30.271063Z",
     "shell.execute_reply": "2024-11-10T00:12:30.271063Z"
    }
   },
   "outputs": [
    {
     "name": "stdout",
     "output_type": "stream",
     "text": [
      "CV MAPE (scaled) train data: 20.64 %\n",
      "CV RMSE (scaled) train data: 4.29\n",
      "CV computation time: 2s\n",
      "\n",
      "MAPE (scaled) test data: 21.09 %\n",
      "RMSE (scaled) test data: 4.4\n",
      "Model fit time: 0s\n",
      "Model prediction time: 0s\n"
     ]
    },
    {
     "data": {
      "text/markdown": [
       "**MAPE and RMSE on test data per instance size:**"
      ],
      "text/plain": [
       "<IPython.core.display.Markdown object>"
      ]
     },
     "metadata": {},
     "output_type": "display_data"
    },
    {
     "data": {
      "text/html": [
       "<div>\n",
       "<style scoped>\n",
       "    .dataframe tbody tr th:only-of-type {\n",
       "        vertical-align: middle;\n",
       "    }\n",
       "\n",
       "    .dataframe tbody tr th {\n",
       "        vertical-align: top;\n",
       "    }\n",
       "\n",
       "    .dataframe thead th {\n",
       "        text-align: right;\n",
       "    }\n",
       "</style>\n",
       "<table border=\"1\" class=\"dataframe\">\n",
       "  <thead>\n",
       "    <tr style=\"text-align: right;\">\n",
       "      <th>Number Customers</th>\n",
       "      <th>6</th>\n",
       "      <th>7</th>\n",
       "      <th>8</th>\n",
       "      <th>9</th>\n",
       "      <th>10</th>\n",
       "      <th>11</th>\n",
       "      <th>12</th>\n",
       "      <th>13</th>\n",
       "      <th>14</th>\n",
       "      <th>Mean</th>\n",
       "    </tr>\n",
       "  </thead>\n",
       "  <tbody>\n",
       "    <tr>\n",
       "      <th>MAPE</th>\n",
       "      <td>22.21</td>\n",
       "      <td>18.51</td>\n",
       "      <td>18.60</td>\n",
       "      <td>16.47</td>\n",
       "      <td>16.60</td>\n",
       "      <td>14.35</td>\n",
       "      <td>19.04</td>\n",
       "      <td>21.86</td>\n",
       "      <td>35.82</td>\n",
       "      <td>21.09</td>\n",
       "    </tr>\n",
       "    <tr>\n",
       "      <th>RMSE</th>\n",
       "      <td>6.36</td>\n",
       "      <td>5.29</td>\n",
       "      <td>4.47</td>\n",
       "      <td>3.89</td>\n",
       "      <td>3.61</td>\n",
       "      <td>3.18</td>\n",
       "      <td>3.53</td>\n",
       "      <td>4.09</td>\n",
       "      <td>5.35</td>\n",
       "      <td>4.40</td>\n",
       "    </tr>\n",
       "  </tbody>\n",
       "</table>\n",
       "</div>"
      ],
      "text/plain": [
       "Number Customers      6      7      8      9     10     11     12     13  \\\n",
       "MAPE              22.21  18.51  18.60  16.47  16.60  14.35  19.04  21.86   \n",
       "RMSE               6.36   5.29   4.47   3.89   3.61   3.18   3.53   4.09   \n",
       "\n",
       "Number Customers     14   Mean  \n",
       "MAPE              35.82  21.09  \n",
       "RMSE               5.35   4.40  "
      ]
     },
     "metadata": {},
     "output_type": "display_data"
    }
   ],
   "source": [
    "if (optimization_problem == \"TSP\"):\n",
    "\n",
    "    # Define the model pipeline\n",
    "    lr = LinearRegression()\n",
    "\n",
    "    # Estimate model performance with cross-validation on the train set and get scores on test set (scoring: MAPE and RMSE)\n",
    "    model_results_dict = fun_scores(lr, X_train, y_train, X_test, y_test, apply_scaling=True, compute_test_scores=True)\n",
    "    results_dict[\"Linear Regression\"] = model_results_dict\n",
    "\n",
    "else: print(\"This cell is only executed for the TSP!\")"
   ]
  },
  {
   "cell_type": "markdown",
   "metadata": {},
   "source": [
    "### **2. Rigde Regression (L2-Regularization)**"
   ]
  },
  {
   "cell_type": "code",
   "execution_count": 4,
   "metadata": {
    "execution": {
     "iopub.execute_input": "2024-11-10T00:12:30.273604Z",
     "iopub.status.busy": "2024-11-10T00:12:30.273604Z",
     "iopub.status.idle": "2024-11-10T00:12:32.818055Z",
     "shell.execute_reply": "2024-11-10T00:12:32.817027Z"
    }
   },
   "outputs": [
    {
     "data": {
      "text/plain": [
       "{'alpha': 1}"
      ]
     },
     "metadata": {},
     "output_type": "display_data"
    },
    {
     "name": "stdout",
     "output_type": "stream",
     "text": [
      "CV MAPE (scaled) train data: 20.64 %\n",
      "CV RMSE (scaled) train data: 4.29\n",
      "CV computation time: 2s\n",
      "\n",
      "MAPE (scaled) test data: 21.09 %\n",
      "RMSE (scaled) test data: 4.4\n",
      "Model fit time: 0s\n",
      "Model prediction time: 0s\n"
     ]
    },
    {
     "data": {
      "text/markdown": [
       "**MAPE and RMSE on test data per instance size:**"
      ],
      "text/plain": [
       "<IPython.core.display.Markdown object>"
      ]
     },
     "metadata": {},
     "output_type": "display_data"
    },
    {
     "data": {
      "text/html": [
       "<div>\n",
       "<style scoped>\n",
       "    .dataframe tbody tr th:only-of-type {\n",
       "        vertical-align: middle;\n",
       "    }\n",
       "\n",
       "    .dataframe tbody tr th {\n",
       "        vertical-align: top;\n",
       "    }\n",
       "\n",
       "    .dataframe thead th {\n",
       "        text-align: right;\n",
       "    }\n",
       "</style>\n",
       "<table border=\"1\" class=\"dataframe\">\n",
       "  <thead>\n",
       "    <tr style=\"text-align: right;\">\n",
       "      <th>Number Customers</th>\n",
       "      <th>6</th>\n",
       "      <th>7</th>\n",
       "      <th>8</th>\n",
       "      <th>9</th>\n",
       "      <th>10</th>\n",
       "      <th>11</th>\n",
       "      <th>12</th>\n",
       "      <th>13</th>\n",
       "      <th>14</th>\n",
       "      <th>Mean</th>\n",
       "    </tr>\n",
       "  </thead>\n",
       "  <tbody>\n",
       "    <tr>\n",
       "      <th>MAPE</th>\n",
       "      <td>22.21</td>\n",
       "      <td>18.52</td>\n",
       "      <td>18.60</td>\n",
       "      <td>16.46</td>\n",
       "      <td>16.60</td>\n",
       "      <td>14.35</td>\n",
       "      <td>19.04</td>\n",
       "      <td>21.86</td>\n",
       "      <td>35.85</td>\n",
       "      <td>21.09</td>\n",
       "    </tr>\n",
       "    <tr>\n",
       "      <th>RMSE</th>\n",
       "      <td>6.35</td>\n",
       "      <td>5.29</td>\n",
       "      <td>4.47</td>\n",
       "      <td>3.89</td>\n",
       "      <td>3.61</td>\n",
       "      <td>3.18</td>\n",
       "      <td>3.53</td>\n",
       "      <td>4.09</td>\n",
       "      <td>5.35</td>\n",
       "      <td>4.40</td>\n",
       "    </tr>\n",
       "  </tbody>\n",
       "</table>\n",
       "</div>"
      ],
      "text/plain": [
       "Number Customers      6      7      8      9     10     11     12     13  \\\n",
       "MAPE              22.21  18.52  18.60  16.46  16.60  14.35  19.04  21.86   \n",
       "RMSE               6.35   5.29   4.47   3.89   3.61   3.18   3.53   4.09   \n",
       "\n",
       "Number Customers     14   Mean  \n",
       "MAPE              35.85  21.09  \n",
       "RMSE               5.35   4.40  "
      ]
     },
     "metadata": {},
     "output_type": "display_data"
    }
   ],
   "source": [
    "if (optimization_problem == \"TSP\"):\n",
    "    \n",
    "    # Load best parameters of the model\n",
    "    best_params = fun_load_best_params(optimization_problem, model_abbreviation=\"Ridge\")\n",
    "    \n",
    "    # Define the model pipeline\n",
    "    ridge = Ridge(solver=\"svd\", **best_params)\n",
    "\n",
    "    # Estimate model performance with cross-validation on the train set and get scores on test set (scoring: MAPE and RMSE)\n",
    "    model_results_dict = fun_scores(ridge, X_train, y_train, X_test, y_test, apply_scaling=True, compute_test_scores=True)\n",
    "    results_dict[\"Ridge Regression\"] = model_results_dict\n",
    "\n",
    "else: print(\"This cell is only executed for the TSP!\")"
   ]
  },
  {
   "cell_type": "markdown",
   "metadata": {},
   "source": [
    "### **3. Polynomial Regression**\n",
    "**Preprocessor to create interactions and polynomial features**"
   ]
  },
  {
   "cell_type": "code",
   "execution_count": 5,
   "metadata": {
    "execution": {
     "iopub.execute_input": "2024-11-10T00:12:32.820051Z",
     "iopub.status.busy": "2024-11-10T00:12:32.820051Z",
     "iopub.status.idle": "2024-11-10T00:32:00.323642Z",
     "shell.execute_reply": "2024-11-10T00:32:00.323642Z"
    }
   },
   "outputs": [
    {
     "data": {
      "text/plain": [
       "{'feature_set': 'all_features (35)',\n",
       " 'preprocessor__onehot__binning__n_bins': 5,\n",
       " 'preprocessor__poly__degree': 3}"
      ]
     },
     "metadata": {},
     "output_type": "display_data"
    },
    {
     "name": "stdout",
     "output_type": "stream",
     "text": [
      "Used cores: 2\n",
      "CV MAPE (scaled) train data: 4.569999999999999 %\n",
      "CV RMSE (scaled) train data: 1.16\n",
      "CV computation time: 13m, 4s\n",
      "\n",
      "MAPE (scaled) test data: 4.35 %\n",
      "RMSE (scaled) test data: 1.09\n",
      "Model fit time: 6m, 21s\n",
      "Model prediction time: 1s\n"
     ]
    },
    {
     "data": {
      "text/markdown": [
       "**MAPE and RMSE on test data per instance size:**"
      ],
      "text/plain": [
       "<IPython.core.display.Markdown object>"
      ]
     },
     "metadata": {},
     "output_type": "display_data"
    },
    {
     "data": {
      "text/html": [
       "<div>\n",
       "<style scoped>\n",
       "    .dataframe tbody tr th:only-of-type {\n",
       "        vertical-align: middle;\n",
       "    }\n",
       "\n",
       "    .dataframe tbody tr th {\n",
       "        vertical-align: top;\n",
       "    }\n",
       "\n",
       "    .dataframe thead th {\n",
       "        text-align: right;\n",
       "    }\n",
       "</style>\n",
       "<table border=\"1\" class=\"dataframe\">\n",
       "  <thead>\n",
       "    <tr style=\"text-align: right;\">\n",
       "      <th>Number Customers</th>\n",
       "      <th>6</th>\n",
       "      <th>7</th>\n",
       "      <th>8</th>\n",
       "      <th>9</th>\n",
       "      <th>10</th>\n",
       "      <th>11</th>\n",
       "      <th>12</th>\n",
       "      <th>13</th>\n",
       "      <th>14</th>\n",
       "      <th>Mean</th>\n",
       "    </tr>\n",
       "  </thead>\n",
       "  <tbody>\n",
       "    <tr>\n",
       "      <th>MAPE</th>\n",
       "      <td>3.30</td>\n",
       "      <td>3.12</td>\n",
       "      <td>3.50</td>\n",
       "      <td>3.55</td>\n",
       "      <td>3.88</td>\n",
       "      <td>4.10</td>\n",
       "      <td>4.82</td>\n",
       "      <td>5.26</td>\n",
       "      <td>5.7</td>\n",
       "      <td>4.35</td>\n",
       "    </tr>\n",
       "    <tr>\n",
       "      <th>RMSE</th>\n",
       "      <td>1.17</td>\n",
       "      <td>1.03</td>\n",
       "      <td>1.08</td>\n",
       "      <td>1.04</td>\n",
       "      <td>0.99</td>\n",
       "      <td>1.02</td>\n",
       "      <td>1.08</td>\n",
       "      <td>1.17</td>\n",
       "      <td>1.2</td>\n",
       "      <td>1.09</td>\n",
       "    </tr>\n",
       "  </tbody>\n",
       "</table>\n",
       "</div>"
      ],
      "text/plain": [
       "Number Customers     6     7     8     9    10    11    12    13   14  Mean\n",
       "MAPE              3.30  3.12  3.50  3.55  3.88  4.10  4.82  5.26  5.7  4.35\n",
       "RMSE              1.17  1.03  1.08  1.04  0.99  1.02  1.08  1.17  1.2  1.09"
      ]
     },
     "metadata": {},
     "output_type": "display_data"
    }
   ],
   "source": [
    "# Load best parameters of the model\n",
    "best_params = fun_load_best_params(optimization_problem, model_abbreviation=\"PR\")\n",
    "\n",
    "# Define the model pipeline\n",
    "pipe = Pipeline(steps=[(\"preprocessor\", None),\n",
    "                       (\"lr\", LinearRegression())])\n",
    "pipe.set_params(**best_params)\n",
    "\n",
    "# Reduce number of cores (n_jobs) to avoid system overload for poly_features and degree=3\n",
    "if (optimization_problem == \"TSP\"): print(\"Used cores:\", cv_n_jobs := 2) # Make assignment and print at the same time\n",
    "elif (optimization_problem == \"CVRP\"): print(\"Used cores:\", cv_n_jobs := 1)\n",
    "\n",
    "# Estimate model performance with cross-validation on the train set and get scores on test set (scoring: MAPE and RMSE)\n",
    "model_results_dict = fun_scores(pipe, X_train, y_train, X_test, y_test, compute_test_scores=True, cv_n_jobs=cv_n_jobs)\n",
    "results_dict[\"Polynomial Regression\"] = model_results_dict"
   ]
  },
  {
   "cell_type": "markdown",
   "metadata": {},
   "source": [
    "# **C. Decision Tree**"
   ]
  },
  {
   "cell_type": "code",
   "execution_count": 6,
   "metadata": {
    "execution": {
     "iopub.execute_input": "2024-11-10T00:32:00.323642Z",
     "iopub.status.busy": "2024-11-10T00:32:00.323642Z",
     "iopub.status.idle": "2024-11-10T00:32:07.556486Z",
     "shell.execute_reply": "2024-11-10T00:32:07.556486Z"
    }
   },
   "outputs": [
    {
     "data": {
      "text/plain": [
       "{'min_samples_leaf': 16,\n",
       " 'min_impurity_decrease': 0.0001,\n",
       " 'max_leaf_nodes': None,\n",
       " 'max_depth': 25}"
      ]
     },
     "metadata": {},
     "output_type": "display_data"
    },
    {
     "name": "stdout",
     "output_type": "stream",
     "text": [
      "CV MAPE (scaled) train data: 11.57 %\n",
      "CV RMSE (scaled) train data: 3.84\n",
      "CV computation time: 4s\n",
      "\n",
      "MAPE (scaled) test data: 11.16 %\n",
      "RMSE (scaled) test data: 3.61\n",
      "Model fit time: 2s\n",
      "Model prediction time: 0s\n"
     ]
    },
    {
     "data": {
      "text/markdown": [
       "**MAPE and RMSE on test data per instance size:**"
      ],
      "text/plain": [
       "<IPython.core.display.Markdown object>"
      ]
     },
     "metadata": {},
     "output_type": "display_data"
    },
    {
     "data": {
      "text/html": [
       "<div>\n",
       "<style scoped>\n",
       "    .dataframe tbody tr th:only-of-type {\n",
       "        vertical-align: middle;\n",
       "    }\n",
       "\n",
       "    .dataframe tbody tr th {\n",
       "        vertical-align: top;\n",
       "    }\n",
       "\n",
       "    .dataframe thead th {\n",
       "        text-align: right;\n",
       "    }\n",
       "</style>\n",
       "<table border=\"1\" class=\"dataframe\">\n",
       "  <thead>\n",
       "    <tr style=\"text-align: right;\">\n",
       "      <th>Number Customers</th>\n",
       "      <th>6</th>\n",
       "      <th>7</th>\n",
       "      <th>8</th>\n",
       "      <th>9</th>\n",
       "      <th>10</th>\n",
       "      <th>11</th>\n",
       "      <th>12</th>\n",
       "      <th>13</th>\n",
       "      <th>14</th>\n",
       "      <th>Mean</th>\n",
       "    </tr>\n",
       "  </thead>\n",
       "  <tbody>\n",
       "    <tr>\n",
       "      <th>MAPE</th>\n",
       "      <td>9.98</td>\n",
       "      <td>11.18</td>\n",
       "      <td>11.05</td>\n",
       "      <td>11.39</td>\n",
       "      <td>11.21</td>\n",
       "      <td>10.83</td>\n",
       "      <td>11.11</td>\n",
       "      <td>11.31</td>\n",
       "      <td>11.68</td>\n",
       "      <td>11.16</td>\n",
       "    </tr>\n",
       "    <tr>\n",
       "      <th>RMSE</th>\n",
       "      <td>4.53</td>\n",
       "      <td>4.47</td>\n",
       "      <td>4.08</td>\n",
       "      <td>3.92</td>\n",
       "      <td>3.79</td>\n",
       "      <td>3.34</td>\n",
       "      <td>3.28</td>\n",
       "      <td>3.04</td>\n",
       "      <td>2.97</td>\n",
       "      <td>3.61</td>\n",
       "    </tr>\n",
       "  </tbody>\n",
       "</table>\n",
       "</div>"
      ],
      "text/plain": [
       "Number Customers     6      7      8      9     10     11     12     13  \\\n",
       "MAPE              9.98  11.18  11.05  11.39  11.21  10.83  11.11  11.31   \n",
       "RMSE              4.53   4.47   4.08   3.92   3.79   3.34   3.28   3.04   \n",
       "\n",
       "Number Customers     14   Mean  \n",
       "MAPE              11.68  11.16  \n",
       "RMSE               2.97   3.61  "
      ]
     },
     "metadata": {},
     "output_type": "display_data"
    }
   ],
   "source": [
    "if (optimization_problem == \"TSP\"):\n",
    "    \n",
    "    # Load best parameters of the model\n",
    "    best_params = fun_load_best_params(optimization_problem, model_abbreviation=\"DT\")\n",
    "\n",
    "    # Create model\n",
    "    tree = DecisionTreeRegressor(**best_params, random_state=42)\n",
    "\n",
    "    # Estimate model performance with cross-validation on the train set and get scores on test set (scoring: MAPE and RMSE)\n",
    "    model_results_dict = fun_scores(tree, X_train, y_train, X_test, y_test, compute_test_scores=True)\n",
    "    results_dict[\"Decision Tree\"] = model_results_dict\n",
    "\n",
    "else: print(\"This cell is only executed for the TSP!\")"
   ]
  },
  {
   "cell_type": "markdown",
   "metadata": {},
   "source": [
    "# **D. Ensembles of Decision Trees**\n",
    "### **1. Random Forest**"
   ]
  },
  {
   "cell_type": "code",
   "execution_count": 7,
   "metadata": {
    "execution": {
     "iopub.execute_input": "2024-11-10T00:32:07.556486Z",
     "iopub.status.busy": "2024-11-10T00:32:07.556486Z",
     "iopub.status.idle": "2024-11-10T00:36:57.272734Z",
     "shell.execute_reply": "2024-11-10T00:36:57.272734Z"
    }
   },
   "outputs": [
    {
     "data": {
      "text/plain": [
       "{'min_samples_split': 11,\n",
       " 'min_samples_leaf': 6,\n",
       " 'min_impurity_decrease': 0.0001,\n",
       " 'max_leaf_nodes': None,\n",
       " 'max_features': 25,\n",
       " 'max_depth': 13}"
      ]
     },
     "metadata": {},
     "output_type": "display_data"
    },
    {
     "name": "stdout",
     "output_type": "stream",
     "text": [
      "CV MAPE (scaled) train data: 7.93 %\n",
      "CV RMSE (scaled) train data: 2.38\n",
      "CV computation time: 2m, 59s\n",
      "\n",
      "MAPE (scaled) test data: 7.76 %\n",
      "RMSE (scaled) test data: 2.29\n",
      "Model fit time: 1m, 49s\n",
      "Model prediction time: 0s\n"
     ]
    },
    {
     "data": {
      "text/markdown": [
       "**MAPE and RMSE on test data per instance size:**"
      ],
      "text/plain": [
       "<IPython.core.display.Markdown object>"
      ]
     },
     "metadata": {},
     "output_type": "display_data"
    },
    {
     "data": {
      "text/html": [
       "<div>\n",
       "<style scoped>\n",
       "    .dataframe tbody tr th:only-of-type {\n",
       "        vertical-align: middle;\n",
       "    }\n",
       "\n",
       "    .dataframe tbody tr th {\n",
       "        vertical-align: top;\n",
       "    }\n",
       "\n",
       "    .dataframe thead th {\n",
       "        text-align: right;\n",
       "    }\n",
       "</style>\n",
       "<table border=\"1\" class=\"dataframe\">\n",
       "  <thead>\n",
       "    <tr style=\"text-align: right;\">\n",
       "      <th>Number Customers</th>\n",
       "      <th>6</th>\n",
       "      <th>7</th>\n",
       "      <th>8</th>\n",
       "      <th>9</th>\n",
       "      <th>10</th>\n",
       "      <th>11</th>\n",
       "      <th>12</th>\n",
       "      <th>13</th>\n",
       "      <th>14</th>\n",
       "      <th>Mean</th>\n",
       "    </tr>\n",
       "  </thead>\n",
       "  <tbody>\n",
       "    <tr>\n",
       "      <th>MAPE</th>\n",
       "      <td>6.72</td>\n",
       "      <td>7.05</td>\n",
       "      <td>7.33</td>\n",
       "      <td>7.16</td>\n",
       "      <td>7.71</td>\n",
       "      <td>7.62</td>\n",
       "      <td>7.76</td>\n",
       "      <td>8.27</td>\n",
       "      <td>8.88</td>\n",
       "      <td>7.76</td>\n",
       "    </tr>\n",
       "    <tr>\n",
       "      <th>RMSE</th>\n",
       "      <td>2.86</td>\n",
       "      <td>2.68</td>\n",
       "      <td>2.59</td>\n",
       "      <td>2.33</td>\n",
       "      <td>2.32</td>\n",
       "      <td>2.20</td>\n",
       "      <td>2.05</td>\n",
       "      <td>2.06</td>\n",
       "      <td>2.07</td>\n",
       "      <td>2.29</td>\n",
       "    </tr>\n",
       "  </tbody>\n",
       "</table>\n",
       "</div>"
      ],
      "text/plain": [
       "Number Customers     6     7     8     9    10    11    12    13    14  Mean\n",
       "MAPE              6.72  7.05  7.33  7.16  7.71  7.62  7.76  8.27  8.88  7.76\n",
       "RMSE              2.86  2.68  2.59  2.33  2.32  2.20  2.05  2.06  2.07  2.29"
      ]
     },
     "metadata": {},
     "output_type": "display_data"
    }
   ],
   "source": [
    "# Load best parameters of the model\n",
    "best_params = fun_load_best_params(optimization_problem, model_abbreviation=\"RF\")\n",
    "\n",
    "# Create model\n",
    "forest = RandomForestRegressor(n_estimators=500, bootstrap=True, **best_params, n_jobs=-1, random_state=42)\n",
    "\n",
    "# Estimate model performance with cross-validation on the train set and get scores on test set (scoring: MAPE and RMSE)\n",
    "model_results_dict = fun_scores(forest, X_train, y_train, X_test, y_test, compute_test_scores=True)\n",
    "results_dict[\"Random Forest\"] = model_results_dict"
   ]
  },
  {
   "cell_type": "markdown",
   "metadata": {},
   "source": [
    "### **2. Gradient Boosting Regression Trees**"
   ]
  },
  {
   "cell_type": "code",
   "execution_count": 8,
   "metadata": {
    "execution": {
     "iopub.execute_input": "2024-11-10T00:36:57.272734Z",
     "iopub.status.busy": "2024-11-10T00:36:57.272734Z",
     "iopub.status.idle": "2024-11-10T00:41:26.116621Z",
     "shell.execute_reply": "2024-11-10T00:41:26.116621Z"
    }
   },
   "outputs": [
    {
     "data": {
      "text/plain": [
       "{'n_estimators': 120,\n",
       " 'min_samples_split': 6,\n",
       " 'min_samples_leaf': 23,\n",
       " 'max_leaf_nodes': 1500,\n",
       " 'max_features': 25,\n",
       " 'max_depth': 10,\n",
       " 'learning_rate': 0.1}"
      ]
     },
     "metadata": {},
     "output_type": "display_data"
    },
    {
     "name": "stdout",
     "output_type": "stream",
     "text": [
      "CV MAPE (scaled) train data: 6.09 %\n",
      "CV RMSE (scaled) train data: 1.82\n",
      "CV computation time: 2m, 0s\n",
      "\n",
      "MAPE (scaled) test data: 5.75 %\n",
      "RMSE (scaled) test data: 1.71\n",
      "Model fit time: 2m, 28s\n",
      "Model prediction time: 0s\n"
     ]
    },
    {
     "data": {
      "text/markdown": [
       "**MAPE and RMSE on test data per instance size:**"
      ],
      "text/plain": [
       "<IPython.core.display.Markdown object>"
      ]
     },
     "metadata": {},
     "output_type": "display_data"
    },
    {
     "data": {
      "text/html": [
       "<div>\n",
       "<style scoped>\n",
       "    .dataframe tbody tr th:only-of-type {\n",
       "        vertical-align: middle;\n",
       "    }\n",
       "\n",
       "    .dataframe tbody tr th {\n",
       "        vertical-align: top;\n",
       "    }\n",
       "\n",
       "    .dataframe thead th {\n",
       "        text-align: right;\n",
       "    }\n",
       "</style>\n",
       "<table border=\"1\" class=\"dataframe\">\n",
       "  <thead>\n",
       "    <tr style=\"text-align: right;\">\n",
       "      <th>Number Customers</th>\n",
       "      <th>6</th>\n",
       "      <th>7</th>\n",
       "      <th>8</th>\n",
       "      <th>9</th>\n",
       "      <th>10</th>\n",
       "      <th>11</th>\n",
       "      <th>12</th>\n",
       "      <th>13</th>\n",
       "      <th>14</th>\n",
       "      <th>Mean</th>\n",
       "    </tr>\n",
       "  </thead>\n",
       "  <tbody>\n",
       "    <tr>\n",
       "      <th>MAPE</th>\n",
       "      <td>4.72</td>\n",
       "      <td>5.08</td>\n",
       "      <td>5.57</td>\n",
       "      <td>5.35</td>\n",
       "      <td>5.69</td>\n",
       "      <td>5.45</td>\n",
       "      <td>5.88</td>\n",
       "      <td>6.17</td>\n",
       "      <td>6.63</td>\n",
       "      <td>5.75</td>\n",
       "    </tr>\n",
       "    <tr>\n",
       "      <th>RMSE</th>\n",
       "      <td>2.06</td>\n",
       "      <td>1.90</td>\n",
       "      <td>1.90</td>\n",
       "      <td>1.74</td>\n",
       "      <td>1.71</td>\n",
       "      <td>1.58</td>\n",
       "      <td>1.56</td>\n",
       "      <td>1.61</td>\n",
       "      <td>1.60</td>\n",
       "      <td>1.71</td>\n",
       "    </tr>\n",
       "  </tbody>\n",
       "</table>\n",
       "</div>"
      ],
      "text/plain": [
       "Number Customers     6     7     8     9    10    11    12    13    14  Mean\n",
       "MAPE              4.72  5.08  5.57  5.35  5.69  5.45  5.88  6.17  6.63  5.75\n",
       "RMSE              2.06  1.90  1.90  1.74  1.71  1.58  1.56  1.61  1.60  1.71"
      ]
     },
     "metadata": {},
     "output_type": "display_data"
    }
   ],
   "source": [
    "if (optimization_problem == \"TSP\"):\n",
    "    \n",
    "    # Load best parameters of the model\n",
    "    best_params = fun_load_best_params(optimization_problem, model_abbreviation=\"GBRT\")\n",
    "\n",
    "    # Create model\n",
    "    gbrt = GradientBoostingRegressor(**best_params, random_state=42)\n",
    "\n",
    "    # Estimate model performance with cross-validation on the train set and get scores on test set (scoring: MAPE and RMSE)\n",
    "    model_results_dict = fun_scores(gbrt, X_train, y_train, X_test, y_test, compute_test_scores=True)\n",
    "    results_dict[\"GBRT\"] = model_results_dict\n",
    "\n",
    "else: print(\"This cell is only executed for the TSP!\")"
   ]
  },
  {
   "cell_type": "markdown",
   "metadata": {},
   "source": [
    "### **3. Extreme Gradient Boosting: XGBoost-Package**"
   ]
  },
  {
   "cell_type": "code",
   "execution_count": 9,
   "metadata": {
    "execution": {
     "iopub.execute_input": "2024-11-10T00:41:26.119705Z",
     "iopub.status.busy": "2024-11-10T00:41:26.116621Z",
     "iopub.status.idle": "2024-11-10T00:41:50.302216Z",
     "shell.execute_reply": "2024-11-10T00:41:50.302216Z"
    }
   },
   "outputs": [
    {
     "data": {
      "text/plain": [
       "{'colsample_bytree': 1.0,\n",
       " 'learning_rate': 0.05,\n",
       " 'max_depth': 7,\n",
       " 'subsample': 0.6}"
      ]
     },
     "metadata": {},
     "output_type": "display_data"
    },
    {
     "name": "stdout",
     "output_type": "stream",
     "text": [
      "CV MAPE (scaled) train data: 5.37 %\n",
      "CV RMSE (scaled) train data: 1.54\n",
      "CV computation time: 17s\n",
      "\n",
      "MAPE (scaled) test data: 5.12 %\n",
      "RMSE (scaled) test data: 1.46\n",
      "Model fit time: 6s\n",
      "Model prediction time: 0s\n"
     ]
    },
    {
     "data": {
      "text/markdown": [
       "**MAPE and RMSE on test data per instance size:**"
      ],
      "text/plain": [
       "<IPython.core.display.Markdown object>"
      ]
     },
     "metadata": {},
     "output_type": "display_data"
    },
    {
     "data": {
      "text/html": [
       "<div>\n",
       "<style scoped>\n",
       "    .dataframe tbody tr th:only-of-type {\n",
       "        vertical-align: middle;\n",
       "    }\n",
       "\n",
       "    .dataframe tbody tr th {\n",
       "        vertical-align: top;\n",
       "    }\n",
       "\n",
       "    .dataframe thead th {\n",
       "        text-align: right;\n",
       "    }\n",
       "</style>\n",
       "<table border=\"1\" class=\"dataframe\">\n",
       "  <thead>\n",
       "    <tr style=\"text-align: right;\">\n",
       "      <th>Number Customers</th>\n",
       "      <th>6</th>\n",
       "      <th>7</th>\n",
       "      <th>8</th>\n",
       "      <th>9</th>\n",
       "      <th>10</th>\n",
       "      <th>11</th>\n",
       "      <th>12</th>\n",
       "      <th>13</th>\n",
       "      <th>14</th>\n",
       "      <th>Mean</th>\n",
       "    </tr>\n",
       "  </thead>\n",
       "  <tbody>\n",
       "    <tr>\n",
       "      <th>MAPE</th>\n",
       "      <td>4.36</td>\n",
       "      <td>4.37</td>\n",
       "      <td>4.83</td>\n",
       "      <td>4.67</td>\n",
       "      <td>5.15</td>\n",
       "      <td>4.82</td>\n",
       "      <td>5.15</td>\n",
       "      <td>5.49</td>\n",
       "      <td>6.10</td>\n",
       "      <td>5.12</td>\n",
       "    </tr>\n",
       "    <tr>\n",
       "      <th>RMSE</th>\n",
       "      <td>1.79</td>\n",
       "      <td>1.59</td>\n",
       "      <td>1.59</td>\n",
       "      <td>1.44</td>\n",
       "      <td>1.45</td>\n",
       "      <td>1.34</td>\n",
       "      <td>1.31</td>\n",
       "      <td>1.39</td>\n",
       "      <td>1.44</td>\n",
       "      <td>1.46</td>\n",
       "    </tr>\n",
       "  </tbody>\n",
       "</table>\n",
       "</div>"
      ],
      "text/plain": [
       "Number Customers     6     7     8     9    10    11    12    13    14  Mean\n",
       "MAPE              4.36  4.37  4.83  4.67  5.15  4.82  5.15  5.49  6.10  5.12\n",
       "RMSE              1.79  1.59  1.59  1.44  1.45  1.34  1.31  1.39  1.44  1.46"
      ]
     },
     "metadata": {},
     "output_type": "display_data"
    }
   ],
   "source": [
    "# Load best parameters of the model\n",
    "best_params = fun_load_best_params(optimization_problem, model_abbreviation=\"XGBoost\")\n",
    "\n",
    "# Create model\n",
    "xgboost = xgb.XGBRegressor(n_estimators=750, objective=\"reg:squarederror\", **best_params, random_state=42)\n",
    "\n",
    "# Estimate model performance with cross-validation on the train set and get scores on test set (scoring: MAPE and RMSE)\n",
    "model_results_dict = fun_scores(xgboost, X_train, y_train, X_test, y_test, compute_test_scores=True)\n",
    "results_dict[\"XGBoost\"] = model_results_dict"
   ]
  },
  {
   "cell_type": "markdown",
   "metadata": {},
   "source": [
    "# **E. Linear Support Vector Machines (SVM) and Kernel Machines**\n",
    "**Linear SVM**"
   ]
  },
  {
   "cell_type": "code",
   "execution_count": 10,
   "metadata": {
    "execution": {
     "iopub.execute_input": "2024-11-10T00:41:50.305222Z",
     "iopub.status.busy": "2024-11-10T00:41:50.305222Z",
     "iopub.status.idle": "2024-11-10T00:41:52.762287Z",
     "shell.execute_reply": "2024-11-10T00:41:52.762287Z"
    }
   },
   "outputs": [
    {
     "data": {
      "text/plain": [
       "{'SVM__C': 0.1, 'SVM__epsilon': 0.01, 'scaler': MinMaxScaler()}"
      ]
     },
     "metadata": {},
     "output_type": "display_data"
    },
    {
     "name": "stdout",
     "output_type": "stream",
     "text": [
      "CV MAPE (scaled) train data: 19.18 %\n",
      "CV RMSE (scaled) train data: 4.12\n",
      "CV computation time: 2s\n",
      "\n",
      "MAPE (scaled) test data: 19.53 %\n",
      "RMSE (scaled) test data: 4.2\n",
      "Model fit time: 0s\n",
      "Model prediction time: 0s\n"
     ]
    },
    {
     "data": {
      "text/markdown": [
       "**MAPE and RMSE on test data per instance size:**"
      ],
      "text/plain": [
       "<IPython.core.display.Markdown object>"
      ]
     },
     "metadata": {},
     "output_type": "display_data"
    },
    {
     "data": {
      "text/html": [
       "<div>\n",
       "<style scoped>\n",
       "    .dataframe tbody tr th:only-of-type {\n",
       "        vertical-align: middle;\n",
       "    }\n",
       "\n",
       "    .dataframe tbody tr th {\n",
       "        vertical-align: top;\n",
       "    }\n",
       "\n",
       "    .dataframe thead th {\n",
       "        text-align: right;\n",
       "    }\n",
       "</style>\n",
       "<table border=\"1\" class=\"dataframe\">\n",
       "  <thead>\n",
       "    <tr style=\"text-align: right;\">\n",
       "      <th>Number Customers</th>\n",
       "      <th>6</th>\n",
       "      <th>7</th>\n",
       "      <th>8</th>\n",
       "      <th>9</th>\n",
       "      <th>10</th>\n",
       "      <th>11</th>\n",
       "      <th>12</th>\n",
       "      <th>13</th>\n",
       "      <th>14</th>\n",
       "      <th>Mean</th>\n",
       "    </tr>\n",
       "  </thead>\n",
       "  <tbody>\n",
       "    <tr>\n",
       "      <th>MAPE</th>\n",
       "      <td>25.11</td>\n",
       "      <td>21.41</td>\n",
       "      <td>20.51</td>\n",
       "      <td>17.34</td>\n",
       "      <td>16.77</td>\n",
       "      <td>13.96</td>\n",
       "      <td>17.02</td>\n",
       "      <td>18.15</td>\n",
       "      <td>26.84</td>\n",
       "      <td>19.53</td>\n",
       "    </tr>\n",
       "    <tr>\n",
       "      <th>RMSE</th>\n",
       "      <td>6.87</td>\n",
       "      <td>5.72</td>\n",
       "      <td>4.81</td>\n",
       "      <td>4.03</td>\n",
       "      <td>3.66</td>\n",
       "      <td>3.04</td>\n",
       "      <td>3.13</td>\n",
       "      <td>3.37</td>\n",
       "      <td>4.13</td>\n",
       "      <td>4.20</td>\n",
       "    </tr>\n",
       "  </tbody>\n",
       "</table>\n",
       "</div>"
      ],
      "text/plain": [
       "Number Customers      6      7      8      9     10     11     12     13  \\\n",
       "MAPE              25.11  21.41  20.51  17.34  16.77  13.96  17.02  18.15   \n",
       "RMSE               6.87   5.72   4.81   4.03   3.66   3.04   3.13   3.37   \n",
       "\n",
       "Number Customers     14   Mean  \n",
       "MAPE              26.84  19.53  \n",
       "RMSE               4.13   4.20  "
      ]
     },
     "metadata": {},
     "output_type": "display_data"
    }
   ],
   "source": [
    "if (optimization_problem == \"TSP\"):\n",
    "    \n",
    "    # Load best parameters of the model\n",
    "    best_params = fun_load_best_params(optimization_problem, model_abbreviation=\"SVM\")\n",
    "\n",
    "    # Define the model pipeline\n",
    "    pipe = Pipeline(steps=[(\"scaler\", None), \n",
    "                           (\"SVM\", LinearSVR(max_iter=10000, random_state=42))])\n",
    "    pipe.set_params(**best_params)\n",
    "\n",
    "    # Estimate model performance with cross-validation on the train set and get scores on test set (scoring: MAPE and RMSE)\n",
    "    model_results_dict = fun_scores(pipe, X_train, y_train, X_test, y_test, compute_test_scores=True)\n",
    "    results_dict[\"SVM\"] = model_results_dict\n",
    "\n",
    "else: print(\"This cell is only executed for the TSP!\")"
   ]
  },
  {
   "cell_type": "markdown",
   "metadata": {},
   "source": [
    "**Kernel Machine with Gaussian Kernel**"
   ]
  },
  {
   "cell_type": "code",
   "execution_count": 11,
   "metadata": {
    "execution": {
     "iopub.execute_input": "2024-11-10T00:41:52.762287Z",
     "iopub.status.busy": "2024-11-10T00:41:52.762287Z",
     "iopub.status.idle": "2024-11-10T00:59:20.899448Z",
     "shell.execute_reply": "2024-11-10T00:59:20.898425Z"
    }
   },
   "outputs": [
    {
     "data": {
      "text/plain": [
       "{'SVM__C': 100,\n",
       " 'SVM__epsilon': 1,\n",
       " 'SVM__gamma': 'scale',\n",
       " 'scaler': MinMaxScaler()}"
      ]
     },
     "metadata": {},
     "output_type": "display_data"
    },
    {
     "name": "stdout",
     "output_type": "stream",
     "text": [
      "CV MAPE (scaled) train data: 4.25 %\n",
      "CV RMSE (scaled) train data: 1.09\n",
      "CV computation time: 13m, 5s\n",
      "\n",
      "MAPE (scaled) test data: 4.05 %\n",
      "RMSE (scaled) test data: 1.04\n",
      "Model fit time: 4m, 3s\n",
      "Model prediction time: 19s\n"
     ]
    },
    {
     "data": {
      "text/markdown": [
       "**MAPE and RMSE on test data per instance size:**"
      ],
      "text/plain": [
       "<IPython.core.display.Markdown object>"
      ]
     },
     "metadata": {},
     "output_type": "display_data"
    },
    {
     "data": {
      "text/html": [
       "<div>\n",
       "<style scoped>\n",
       "    .dataframe tbody tr th:only-of-type {\n",
       "        vertical-align: middle;\n",
       "    }\n",
       "\n",
       "    .dataframe tbody tr th {\n",
       "        vertical-align: top;\n",
       "    }\n",
       "\n",
       "    .dataframe thead th {\n",
       "        text-align: right;\n",
       "    }\n",
       "</style>\n",
       "<table border=\"1\" class=\"dataframe\">\n",
       "  <thead>\n",
       "    <tr style=\"text-align: right;\">\n",
       "      <th>Number Customers</th>\n",
       "      <th>6</th>\n",
       "      <th>7</th>\n",
       "      <th>8</th>\n",
       "      <th>9</th>\n",
       "      <th>10</th>\n",
       "      <th>11</th>\n",
       "      <th>12</th>\n",
       "      <th>13</th>\n",
       "      <th>14</th>\n",
       "      <th>Mean</th>\n",
       "    </tr>\n",
       "  </thead>\n",
       "  <tbody>\n",
       "    <tr>\n",
       "      <th>MAPE</th>\n",
       "      <td>3.38</td>\n",
       "      <td>2.82</td>\n",
       "      <td>3.44</td>\n",
       "      <td>3.35</td>\n",
       "      <td>3.62</td>\n",
       "      <td>3.87</td>\n",
       "      <td>4.38</td>\n",
       "      <td>4.81</td>\n",
       "      <td>5.21</td>\n",
       "      <td>4.05</td>\n",
       "    </tr>\n",
       "    <tr>\n",
       "      <th>RMSE</th>\n",
       "      <td>1.13</td>\n",
       "      <td>0.95</td>\n",
       "      <td>1.00</td>\n",
       "      <td>0.96</td>\n",
       "      <td>0.95</td>\n",
       "      <td>0.97</td>\n",
       "      <td>1.02</td>\n",
       "      <td>1.12</td>\n",
       "      <td>1.14</td>\n",
       "      <td>1.04</td>\n",
       "    </tr>\n",
       "  </tbody>\n",
       "</table>\n",
       "</div>"
      ],
      "text/plain": [
       "Number Customers     6     7     8     9    10    11    12    13    14  Mean\n",
       "MAPE              3.38  2.82  3.44  3.35  3.62  3.87  4.38  4.81  5.21  4.05\n",
       "RMSE              1.13  0.95  1.00  0.96  0.95  0.97  1.02  1.12  1.14  1.04"
      ]
     },
     "metadata": {},
     "output_type": "display_data"
    }
   ],
   "source": [
    "# Suppress ConvergenceWarning (model will probably not converge within 500,000 iterations)\n",
    "warnings.filterwarnings(\"ignore\", category=ConvergenceWarning)\n",
    "\n",
    "# Load best parameters of the model\n",
    "best_params = fun_load_best_params(optimization_problem, model_abbreviation=\"KM\")\n",
    "\n",
    "# Define the model pipeline\n",
    "pipe = Pipeline(steps=[(\"scaler\", None), \n",
    "                       (\"SVM\", SVR(kernel=\"rbf\", cache_size=2000, max_iter=500000))])\n",
    "pipe.set_params(**best_params)\n",
    "\n",
    "# Estimate model performance with cross-validation on the train set and get scores on test set (scoring: MAPE and RMSE)\n",
    "model_results_dict = fun_scores(pipe, X_train, y_train, X_test, y_test, compute_test_scores=True)\n",
    "results_dict[\"Kernel Machine\"] = model_results_dict"
   ]
  },
  {
   "cell_type": "markdown",
   "metadata": {},
   "source": [
    "# **F. Neural Network - Multi Layer Perceptron**"
   ]
  },
  {
   "cell_type": "code",
   "execution_count": 12,
   "metadata": {
    "execution": {
     "iopub.execute_input": "2024-11-10T00:59:20.900842Z",
     "iopub.status.busy": "2024-11-10T00:59:20.900842Z",
     "iopub.status.idle": "2024-11-10T01:44:40.938236Z",
     "shell.execute_reply": "2024-11-10T01:44:40.938236Z"
    }
   },
   "outputs": [
    {
     "data": {
      "text/plain": [
       "{'mlpregressor__alpha': 0.1,\n",
       " 'mlpregressor__batch_size': 32,\n",
       " 'mlpregressor__early_stopping': False,\n",
       " 'mlpregressor__learning_rate_init': 0.001,\n",
       " 'mlpregressor__solver': 'sgd'}"
      ]
     },
     "metadata": {},
     "output_type": "display_data"
    },
    {
     "name": "stdout",
     "output_type": "stream",
     "text": [
      "Hidden layer sizes: (256, 128, 64)\n",
      "CV MAPE (scaled) train data: 3.52 %\n",
      "CV RMSE (scaled) train data: 0.96\n",
      "CV computation time: 12m, 8s\n",
      "\n",
      "MAPE (scaled) test data: 3.3000000000000003 %\n",
      "RMSE (scaled) test data: 0.9\n",
      "Model fit time: 33m, 11s\n",
      "Model prediction time: 0s\n"
     ]
    },
    {
     "data": {
      "text/markdown": [
       "**MAPE and RMSE on test data per instance size:**"
      ],
      "text/plain": [
       "<IPython.core.display.Markdown object>"
      ]
     },
     "metadata": {},
     "output_type": "display_data"
    },
    {
     "data": {
      "text/html": [
       "<div>\n",
       "<style scoped>\n",
       "    .dataframe tbody tr th:only-of-type {\n",
       "        vertical-align: middle;\n",
       "    }\n",
       "\n",
       "    .dataframe tbody tr th {\n",
       "        vertical-align: top;\n",
       "    }\n",
       "\n",
       "    .dataframe thead th {\n",
       "        text-align: right;\n",
       "    }\n",
       "</style>\n",
       "<table border=\"1\" class=\"dataframe\">\n",
       "  <thead>\n",
       "    <tr style=\"text-align: right;\">\n",
       "      <th>Number Customers</th>\n",
       "      <th>6</th>\n",
       "      <th>7</th>\n",
       "      <th>8</th>\n",
       "      <th>9</th>\n",
       "      <th>10</th>\n",
       "      <th>11</th>\n",
       "      <th>12</th>\n",
       "      <th>13</th>\n",
       "      <th>14</th>\n",
       "      <th>Mean</th>\n",
       "    </tr>\n",
       "  </thead>\n",
       "  <tbody>\n",
       "    <tr>\n",
       "      <th>MAPE</th>\n",
       "      <td>2.32</td>\n",
       "      <td>2.39</td>\n",
       "      <td>2.74</td>\n",
       "      <td>2.81</td>\n",
       "      <td>3.11</td>\n",
       "      <td>3.24</td>\n",
       "      <td>3.59</td>\n",
       "      <td>3.94</td>\n",
       "      <td>4.17</td>\n",
       "      <td>3.3</td>\n",
       "    </tr>\n",
       "    <tr>\n",
       "      <th>RMSE</th>\n",
       "      <td>0.80</td>\n",
       "      <td>0.85</td>\n",
       "      <td>0.85</td>\n",
       "      <td>0.85</td>\n",
       "      <td>0.86</td>\n",
       "      <td>0.89</td>\n",
       "      <td>0.92</td>\n",
       "      <td>0.98</td>\n",
       "      <td>0.96</td>\n",
       "      <td>0.9</td>\n",
       "    </tr>\n",
       "  </tbody>\n",
       "</table>\n",
       "</div>"
      ],
      "text/plain": [
       "Number Customers     6     7     8     9    10    11    12    13    14  Mean\n",
       "MAPE              2.32  2.39  2.74  2.81  3.11  3.24  3.59  3.94  4.17   3.3\n",
       "RMSE              0.80  0.85  0.85  0.85  0.86  0.89  0.92  0.98  0.96   0.9"
      ]
     },
     "metadata": {},
     "output_type": "display_data"
    }
   ],
   "source": [
    "# Load best parameters of the model\n",
    "best_params = fun_load_best_params(optimization_problem, model_abbreviation=\"NN\")\n",
    "\n",
    "# Define the parameter hidden_layer_sizes depending on the problem setting\n",
    "if (optimization_problem == \"TSP\"): print(\"Hidden layer sizes:\", hls := (256, 128, 64)) # Make assignment and print at the same time\n",
    "elif (optimization_problem == \"CVRP\"): print(\"Hidden layer sizes:\", hls := (64, 32, 16))\n",
    "\n",
    "# Create pipeline\n",
    "pipe = make_pipeline(StandardScaler(), \n",
    "                     MLPRegressor(hidden_layer_sizes=hls, activation=\"relu\", learning_rate=\"adaptive\", \n",
    "                                  max_iter=1000, random_state=42))\n",
    "pipe.set_params(**best_params)\n",
    "\n",
    "# Estimate model performance with cross-validation on the train set and get scores on test set (scoring: MAPE and RMSE)\n",
    "model_results_dict = fun_scores(pipe, X_train, y_train, X_test, y_test, compute_test_scores=True)\n",
    "results_dict[\"Neural Network\"] = model_results_dict"
   ]
  },
  {
   "cell_type": "markdown",
   "metadata": {},
   "source": [
    "# **G. Compare Results**"
   ]
  },
  {
   "cell_type": "code",
   "execution_count": 13,
   "metadata": {
    "execution": {
     "iopub.execute_input": "2024-11-10T01:44:40.941529Z",
     "iopub.status.busy": "2024-11-10T01:44:40.940530Z",
     "iopub.status.idle": "2024-11-10T01:44:41.088953Z",
     "shell.execute_reply": "2024-11-10T01:44:41.087948Z"
    }
   },
   "outputs": [
    {
     "data": {
      "text/html": [
       "<div>\n",
       "<style scoped>\n",
       "    .dataframe tbody tr th:only-of-type {\n",
       "        vertical-align: middle;\n",
       "    }\n",
       "\n",
       "    .dataframe tbody tr th {\n",
       "        vertical-align: top;\n",
       "    }\n",
       "\n",
       "    .dataframe thead th {\n",
       "        text-align: right;\n",
       "    }\n",
       "</style>\n",
       "<table border=\"1\" class=\"dataframe\">\n",
       "  <thead>\n",
       "    <tr style=\"text-align: right;\">\n",
       "      <th></th>\n",
       "      <th>KNN</th>\n",
       "      <th>Linear Regression</th>\n",
       "      <th>Ridge Regression</th>\n",
       "      <th>Polynomial Regression</th>\n",
       "      <th>Decision Tree</th>\n",
       "      <th>Random Forest</th>\n",
       "      <th>GBRT</th>\n",
       "      <th>XGBoost</th>\n",
       "      <th>SVM</th>\n",
       "      <th>Kernel Machine</th>\n",
       "      <th>Neural Network</th>\n",
       "    </tr>\n",
       "  </thead>\n",
       "  <tbody>\n",
       "    <tr>\n",
       "      <th>CV times</th>\n",
       "      <td>16s</td>\n",
       "      <td>2s</td>\n",
       "      <td>2s</td>\n",
       "      <td>13m, 4s</td>\n",
       "      <td>4s</td>\n",
       "      <td>2m, 59s</td>\n",
       "      <td>2m, 0s</td>\n",
       "      <td>17s</td>\n",
       "      <td>2s</td>\n",
       "      <td>13m, 5s</td>\n",
       "      <td>12m, 8s</td>\n",
       "    </tr>\n",
       "    <tr>\n",
       "      <th>Fit times</th>\n",
       "      <td>0s</td>\n",
       "      <td>0s</td>\n",
       "      <td>0s</td>\n",
       "      <td>6m, 21s</td>\n",
       "      <td>2s</td>\n",
       "      <td>1m, 49s</td>\n",
       "      <td>2m, 28s</td>\n",
       "      <td>6s</td>\n",
       "      <td>0s</td>\n",
       "      <td>4m, 3s</td>\n",
       "      <td>33m, 11s</td>\n",
       "    </tr>\n",
       "    <tr>\n",
       "      <th>Prediction times</th>\n",
       "      <td>1s</td>\n",
       "      <td>0s</td>\n",
       "      <td>0s</td>\n",
       "      <td>1s</td>\n",
       "      <td>0s</td>\n",
       "      <td>0s</td>\n",
       "      <td>0s</td>\n",
       "      <td>0s</td>\n",
       "      <td>0s</td>\n",
       "      <td>19s</td>\n",
       "      <td>0s</td>\n",
       "    </tr>\n",
       "  </tbody>\n",
       "</table>\n",
       "</div>"
      ],
      "text/plain": [
       "                  KNN Linear Regression Ridge Regression  \\\n",
       "CV times          16s                2s               2s   \n",
       "Fit times          0s                0s               0s   \n",
       "Prediction times   1s                0s               0s   \n",
       "\n",
       "                 Polynomial Regression Decision Tree Random Forest     GBRT  \\\n",
       "CV times                       13m, 4s            4s       2m, 59s   2m, 0s   \n",
       "Fit times                      6m, 21s            2s       1m, 49s  2m, 28s   \n",
       "Prediction times                    1s            0s            0s       0s   \n",
       "\n",
       "                 XGBoost SVM Kernel Machine Neural Network  \n",
       "CV times             17s  2s        13m, 5s        12m, 8s  \n",
       "Fit times             6s  0s         4m, 3s       33m, 11s  \n",
       "Prediction times      0s  0s            19s             0s  "
      ]
     },
     "metadata": {},
     "output_type": "display_data"
    },
    {
     "data": {
      "text/html": [
       "<div>\n",
       "<style scoped>\n",
       "    .dataframe tbody tr th:only-of-type {\n",
       "        vertical-align: middle;\n",
       "    }\n",
       "\n",
       "    .dataframe tbody tr th {\n",
       "        vertical-align: top;\n",
       "    }\n",
       "\n",
       "    .dataframe thead th {\n",
       "        text-align: right;\n",
       "    }\n",
       "</style>\n",
       "<table border=\"1\" class=\"dataframe\">\n",
       "  <thead>\n",
       "    <tr style=\"text-align: right;\">\n",
       "      <th>MAPE scores</th>\n",
       "      <th>Neural Network</th>\n",
       "      <th>Kernel Machine</th>\n",
       "      <th>Polynomial Regression</th>\n",
       "      <th>XGBoost</th>\n",
       "      <th>GBRT</th>\n",
       "      <th>Random Forest</th>\n",
       "      <th>Decision Tree</th>\n",
       "      <th>SVM</th>\n",
       "      <th>Linear Regression</th>\n",
       "      <th>Ridge Regression</th>\n",
       "      <th>KNN</th>\n",
       "    </tr>\n",
       "  </thead>\n",
       "  <tbody>\n",
       "    <tr>\n",
       "      <th>Train set</th>\n",
       "      <td>3.52</td>\n",
       "      <td>4.25</td>\n",
       "      <td>4.57</td>\n",
       "      <td>5.37</td>\n",
       "      <td>6.09</td>\n",
       "      <td>7.93</td>\n",
       "      <td>11.57</td>\n",
       "      <td>19.18</td>\n",
       "      <td>20.64</td>\n",
       "      <td>20.64</td>\n",
       "      <td>22.66</td>\n",
       "    </tr>\n",
       "    <tr>\n",
       "      <th>Test set</th>\n",
       "      <td>3.30</td>\n",
       "      <td>4.05</td>\n",
       "      <td>4.35</td>\n",
       "      <td>5.12</td>\n",
       "      <td>5.75</td>\n",
       "      <td>7.76</td>\n",
       "      <td>11.16</td>\n",
       "      <td>19.53</td>\n",
       "      <td>21.09</td>\n",
       "      <td>21.09</td>\n",
       "      <td>21.32</td>\n",
       "    </tr>\n",
       "  </tbody>\n",
       "</table>\n",
       "</div>"
      ],
      "text/plain": [
       "MAPE scores  Neural Network  Kernel Machine  Polynomial Regression  XGBoost  \\\n",
       "Train set              3.52            4.25                   4.57     5.37   \n",
       "Test set               3.30            4.05                   4.35     5.12   \n",
       "\n",
       "MAPE scores  GBRT  Random Forest  Decision Tree    SVM  Linear Regression  \\\n",
       "Train set    6.09           7.93          11.57  19.18              20.64   \n",
       "Test set     5.75           7.76          11.16  19.53              21.09   \n",
       "\n",
       "MAPE scores  Ridge Regression    KNN  \n",
       "Train set               20.64  22.66  \n",
       "Test set                21.09  21.32  "
      ]
     },
     "metadata": {},
     "output_type": "display_data"
    },
    {
     "data": {
      "text/html": [
       "<div>\n",
       "<style scoped>\n",
       "    .dataframe tbody tr th:only-of-type {\n",
       "        vertical-align: middle;\n",
       "    }\n",
       "\n",
       "    .dataframe tbody tr th {\n",
       "        vertical-align: top;\n",
       "    }\n",
       "\n",
       "    .dataframe thead th {\n",
       "        text-align: right;\n",
       "    }\n",
       "</style>\n",
       "<table border=\"1\" class=\"dataframe\">\n",
       "  <thead>\n",
       "    <tr style=\"text-align: right;\">\n",
       "      <th>RMSE scores</th>\n",
       "      <th>Neural Network</th>\n",
       "      <th>Kernel Machine</th>\n",
       "      <th>Polynomial Regression</th>\n",
       "      <th>XGBoost</th>\n",
       "      <th>GBRT</th>\n",
       "      <th>Random Forest</th>\n",
       "      <th>Decision Tree</th>\n",
       "      <th>SVM</th>\n",
       "      <th>KNN</th>\n",
       "      <th>Linear Regression</th>\n",
       "      <th>Ridge Regression</th>\n",
       "    </tr>\n",
       "  </thead>\n",
       "  <tbody>\n",
       "    <tr>\n",
       "      <th>Train set</th>\n",
       "      <td>0.96</td>\n",
       "      <td>1.09</td>\n",
       "      <td>1.16</td>\n",
       "      <td>1.54</td>\n",
       "      <td>1.82</td>\n",
       "      <td>2.38</td>\n",
       "      <td>3.84</td>\n",
       "      <td>4.12</td>\n",
       "      <td>4.53</td>\n",
       "      <td>4.29</td>\n",
       "      <td>4.29</td>\n",
       "    </tr>\n",
       "    <tr>\n",
       "      <th>Test set</th>\n",
       "      <td>0.90</td>\n",
       "      <td>1.04</td>\n",
       "      <td>1.09</td>\n",
       "      <td>1.46</td>\n",
       "      <td>1.71</td>\n",
       "      <td>2.29</td>\n",
       "      <td>3.61</td>\n",
       "      <td>4.20</td>\n",
       "      <td>4.36</td>\n",
       "      <td>4.40</td>\n",
       "      <td>4.40</td>\n",
       "    </tr>\n",
       "  </tbody>\n",
       "</table>\n",
       "</div>"
      ],
      "text/plain": [
       "RMSE scores  Neural Network  Kernel Machine  Polynomial Regression  XGBoost  \\\n",
       "Train set              0.96            1.09                   1.16     1.54   \n",
       "Test set               0.90            1.04                   1.09     1.46   \n",
       "\n",
       "RMSE scores  GBRT  Random Forest  Decision Tree   SVM   KNN  \\\n",
       "Train set    1.82           2.38           3.84  4.12  4.53   \n",
       "Test set     1.71           2.29           3.61  4.20  4.36   \n",
       "\n",
       "RMSE scores  Linear Regression  Ridge Regression  \n",
       "Train set                 4.29              4.29  \n",
       "Test set                  4.40              4.40  "
      ]
     },
     "metadata": {},
     "output_type": "display_data"
    },
    {
     "data": {
      "text/html": [
       "<div>\n",
       "<style scoped>\n",
       "    .dataframe tbody tr th:only-of-type {\n",
       "        vertical-align: middle;\n",
       "    }\n",
       "\n",
       "    .dataframe tbody tr th {\n",
       "        vertical-align: top;\n",
       "    }\n",
       "\n",
       "    .dataframe thead th {\n",
       "        text-align: right;\n",
       "    }\n",
       "</style>\n",
       "<table border=\"1\" class=\"dataframe\">\n",
       "  <thead>\n",
       "    <tr style=\"text-align: right;\">\n",
       "      <th>MAPE scores per instance size</th>\n",
       "      <th>6</th>\n",
       "      <th>7</th>\n",
       "      <th>8</th>\n",
       "      <th>9</th>\n",
       "      <th>10</th>\n",
       "      <th>11</th>\n",
       "      <th>12</th>\n",
       "      <th>13</th>\n",
       "      <th>14</th>\n",
       "      <th>Mean</th>\n",
       "    </tr>\n",
       "  </thead>\n",
       "  <tbody>\n",
       "    <tr>\n",
       "      <th>Neural Network</th>\n",
       "      <td>2.32</td>\n",
       "      <td>2.39</td>\n",
       "      <td>2.74</td>\n",
       "      <td>2.81</td>\n",
       "      <td>3.11</td>\n",
       "      <td>3.24</td>\n",
       "      <td>3.59</td>\n",
       "      <td>3.94</td>\n",
       "      <td>4.17</td>\n",
       "      <td>3.30</td>\n",
       "    </tr>\n",
       "    <tr>\n",
       "      <th>Kernel Machine</th>\n",
       "      <td>3.38</td>\n",
       "      <td>2.82</td>\n",
       "      <td>3.44</td>\n",
       "      <td>3.35</td>\n",
       "      <td>3.62</td>\n",
       "      <td>3.87</td>\n",
       "      <td>4.38</td>\n",
       "      <td>4.81</td>\n",
       "      <td>5.21</td>\n",
       "      <td>4.05</td>\n",
       "    </tr>\n",
       "    <tr>\n",
       "      <th>Polynomial Regression</th>\n",
       "      <td>3.30</td>\n",
       "      <td>3.12</td>\n",
       "      <td>3.50</td>\n",
       "      <td>3.55</td>\n",
       "      <td>3.88</td>\n",
       "      <td>4.10</td>\n",
       "      <td>4.82</td>\n",
       "      <td>5.26</td>\n",
       "      <td>5.70</td>\n",
       "      <td>4.35</td>\n",
       "    </tr>\n",
       "    <tr>\n",
       "      <th>XGBoost</th>\n",
       "      <td>4.36</td>\n",
       "      <td>4.37</td>\n",
       "      <td>4.83</td>\n",
       "      <td>4.67</td>\n",
       "      <td>5.15</td>\n",
       "      <td>4.82</td>\n",
       "      <td>5.15</td>\n",
       "      <td>5.49</td>\n",
       "      <td>6.10</td>\n",
       "      <td>5.12</td>\n",
       "    </tr>\n",
       "    <tr>\n",
       "      <th>GBRT</th>\n",
       "      <td>4.72</td>\n",
       "      <td>5.08</td>\n",
       "      <td>5.57</td>\n",
       "      <td>5.35</td>\n",
       "      <td>5.69</td>\n",
       "      <td>5.45</td>\n",
       "      <td>5.88</td>\n",
       "      <td>6.17</td>\n",
       "      <td>6.63</td>\n",
       "      <td>5.75</td>\n",
       "    </tr>\n",
       "    <tr>\n",
       "      <th>Random Forest</th>\n",
       "      <td>6.72</td>\n",
       "      <td>7.05</td>\n",
       "      <td>7.33</td>\n",
       "      <td>7.16</td>\n",
       "      <td>7.71</td>\n",
       "      <td>7.62</td>\n",
       "      <td>7.76</td>\n",
       "      <td>8.27</td>\n",
       "      <td>8.88</td>\n",
       "      <td>7.76</td>\n",
       "    </tr>\n",
       "    <tr>\n",
       "      <th>Decision Tree</th>\n",
       "      <td>9.98</td>\n",
       "      <td>11.18</td>\n",
       "      <td>11.05</td>\n",
       "      <td>11.39</td>\n",
       "      <td>11.21</td>\n",
       "      <td>10.83</td>\n",
       "      <td>11.11</td>\n",
       "      <td>11.31</td>\n",
       "      <td>11.68</td>\n",
       "      <td>11.16</td>\n",
       "    </tr>\n",
       "    <tr>\n",
       "      <th>SVM</th>\n",
       "      <td>25.11</td>\n",
       "      <td>21.41</td>\n",
       "      <td>20.51</td>\n",
       "      <td>17.34</td>\n",
       "      <td>16.77</td>\n",
       "      <td>13.96</td>\n",
       "      <td>17.02</td>\n",
       "      <td>18.15</td>\n",
       "      <td>26.84</td>\n",
       "      <td>19.53</td>\n",
       "    </tr>\n",
       "    <tr>\n",
       "      <th>Linear Regression</th>\n",
       "      <td>22.21</td>\n",
       "      <td>18.51</td>\n",
       "      <td>18.60</td>\n",
       "      <td>16.47</td>\n",
       "      <td>16.60</td>\n",
       "      <td>14.35</td>\n",
       "      <td>19.04</td>\n",
       "      <td>21.86</td>\n",
       "      <td>35.82</td>\n",
       "      <td>21.09</td>\n",
       "    </tr>\n",
       "    <tr>\n",
       "      <th>Ridge Regression</th>\n",
       "      <td>22.21</td>\n",
       "      <td>18.52</td>\n",
       "      <td>18.60</td>\n",
       "      <td>16.46</td>\n",
       "      <td>16.60</td>\n",
       "      <td>14.35</td>\n",
       "      <td>19.04</td>\n",
       "      <td>21.86</td>\n",
       "      <td>35.85</td>\n",
       "      <td>21.09</td>\n",
       "    </tr>\n",
       "    <tr>\n",
       "      <th>KNN</th>\n",
       "      <td>24.58</td>\n",
       "      <td>21.93</td>\n",
       "      <td>22.43</td>\n",
       "      <td>21.50</td>\n",
       "      <td>22.49</td>\n",
       "      <td>19.87</td>\n",
       "      <td>20.53</td>\n",
       "      <td>19.06</td>\n",
       "      <td>21.95</td>\n",
       "      <td>21.32</td>\n",
       "    </tr>\n",
       "  </tbody>\n",
       "</table>\n",
       "</div>"
      ],
      "text/plain": [
       "MAPE scores per instance size      6      7      8      9     10     11  \\\n",
       "Neural Network                  2.32   2.39   2.74   2.81   3.11   3.24   \n",
       "Kernel Machine                  3.38   2.82   3.44   3.35   3.62   3.87   \n",
       "Polynomial Regression           3.30   3.12   3.50   3.55   3.88   4.10   \n",
       "XGBoost                         4.36   4.37   4.83   4.67   5.15   4.82   \n",
       "GBRT                            4.72   5.08   5.57   5.35   5.69   5.45   \n",
       "Random Forest                   6.72   7.05   7.33   7.16   7.71   7.62   \n",
       "Decision Tree                   9.98  11.18  11.05  11.39  11.21  10.83   \n",
       "SVM                            25.11  21.41  20.51  17.34  16.77  13.96   \n",
       "Linear Regression              22.21  18.51  18.60  16.47  16.60  14.35   \n",
       "Ridge Regression               22.21  18.52  18.60  16.46  16.60  14.35   \n",
       "KNN                            24.58  21.93  22.43  21.50  22.49  19.87   \n",
       "\n",
       "MAPE scores per instance size     12     13     14   Mean  \n",
       "Neural Network                  3.59   3.94   4.17   3.30  \n",
       "Kernel Machine                  4.38   4.81   5.21   4.05  \n",
       "Polynomial Regression           4.82   5.26   5.70   4.35  \n",
       "XGBoost                         5.15   5.49   6.10   5.12  \n",
       "GBRT                            5.88   6.17   6.63   5.75  \n",
       "Random Forest                   7.76   8.27   8.88   7.76  \n",
       "Decision Tree                  11.11  11.31  11.68  11.16  \n",
       "SVM                            17.02  18.15  26.84  19.53  \n",
       "Linear Regression              19.04  21.86  35.82  21.09  \n",
       "Ridge Regression               19.04  21.86  35.85  21.09  \n",
       "KNN                            20.53  19.06  21.95  21.32  "
      ]
     },
     "metadata": {},
     "output_type": "display_data"
    },
    {
     "data": {
      "text/html": [
       "<div>\n",
       "<style scoped>\n",
       "    .dataframe tbody tr th:only-of-type {\n",
       "        vertical-align: middle;\n",
       "    }\n",
       "\n",
       "    .dataframe tbody tr th {\n",
       "        vertical-align: top;\n",
       "    }\n",
       "\n",
       "    .dataframe thead th {\n",
       "        text-align: right;\n",
       "    }\n",
       "</style>\n",
       "<table border=\"1\" class=\"dataframe\">\n",
       "  <thead>\n",
       "    <tr style=\"text-align: right;\">\n",
       "      <th>RMSE scores per instance size</th>\n",
       "      <th>6</th>\n",
       "      <th>7</th>\n",
       "      <th>8</th>\n",
       "      <th>9</th>\n",
       "      <th>10</th>\n",
       "      <th>11</th>\n",
       "      <th>12</th>\n",
       "      <th>13</th>\n",
       "      <th>14</th>\n",
       "      <th>Mean</th>\n",
       "    </tr>\n",
       "  </thead>\n",
       "  <tbody>\n",
       "    <tr>\n",
       "      <th>Neural Network</th>\n",
       "      <td>0.80</td>\n",
       "      <td>0.85</td>\n",
       "      <td>0.85</td>\n",
       "      <td>0.85</td>\n",
       "      <td>0.86</td>\n",
       "      <td>0.89</td>\n",
       "      <td>0.92</td>\n",
       "      <td>0.98</td>\n",
       "      <td>0.96</td>\n",
       "      <td>0.90</td>\n",
       "    </tr>\n",
       "    <tr>\n",
       "      <th>Kernel Machine</th>\n",
       "      <td>1.13</td>\n",
       "      <td>0.95</td>\n",
       "      <td>1.00</td>\n",
       "      <td>0.96</td>\n",
       "      <td>0.95</td>\n",
       "      <td>0.97</td>\n",
       "      <td>1.02</td>\n",
       "      <td>1.12</td>\n",
       "      <td>1.14</td>\n",
       "      <td>1.04</td>\n",
       "    </tr>\n",
       "    <tr>\n",
       "      <th>Polynomial Regression</th>\n",
       "      <td>1.17</td>\n",
       "      <td>1.03</td>\n",
       "      <td>1.08</td>\n",
       "      <td>1.04</td>\n",
       "      <td>0.99</td>\n",
       "      <td>1.02</td>\n",
       "      <td>1.08</td>\n",
       "      <td>1.17</td>\n",
       "      <td>1.20</td>\n",
       "      <td>1.09</td>\n",
       "    </tr>\n",
       "    <tr>\n",
       "      <th>XGBoost</th>\n",
       "      <td>1.79</td>\n",
       "      <td>1.59</td>\n",
       "      <td>1.59</td>\n",
       "      <td>1.44</td>\n",
       "      <td>1.45</td>\n",
       "      <td>1.34</td>\n",
       "      <td>1.31</td>\n",
       "      <td>1.39</td>\n",
       "      <td>1.44</td>\n",
       "      <td>1.46</td>\n",
       "    </tr>\n",
       "    <tr>\n",
       "      <th>GBRT</th>\n",
       "      <td>2.06</td>\n",
       "      <td>1.90</td>\n",
       "      <td>1.90</td>\n",
       "      <td>1.74</td>\n",
       "      <td>1.71</td>\n",
       "      <td>1.58</td>\n",
       "      <td>1.56</td>\n",
       "      <td>1.61</td>\n",
       "      <td>1.60</td>\n",
       "      <td>1.71</td>\n",
       "    </tr>\n",
       "    <tr>\n",
       "      <th>Random Forest</th>\n",
       "      <td>2.86</td>\n",
       "      <td>2.68</td>\n",
       "      <td>2.59</td>\n",
       "      <td>2.33</td>\n",
       "      <td>2.32</td>\n",
       "      <td>2.20</td>\n",
       "      <td>2.05</td>\n",
       "      <td>2.06</td>\n",
       "      <td>2.07</td>\n",
       "      <td>2.29</td>\n",
       "    </tr>\n",
       "    <tr>\n",
       "      <th>Decision Tree</th>\n",
       "      <td>4.53</td>\n",
       "      <td>4.47</td>\n",
       "      <td>4.08</td>\n",
       "      <td>3.92</td>\n",
       "      <td>3.79</td>\n",
       "      <td>3.34</td>\n",
       "      <td>3.28</td>\n",
       "      <td>3.04</td>\n",
       "      <td>2.97</td>\n",
       "      <td>3.61</td>\n",
       "    </tr>\n",
       "    <tr>\n",
       "      <th>SVM</th>\n",
       "      <td>6.87</td>\n",
       "      <td>5.72</td>\n",
       "      <td>4.81</td>\n",
       "      <td>4.03</td>\n",
       "      <td>3.66</td>\n",
       "      <td>3.04</td>\n",
       "      <td>3.13</td>\n",
       "      <td>3.37</td>\n",
       "      <td>4.13</td>\n",
       "      <td>4.20</td>\n",
       "    </tr>\n",
       "    <tr>\n",
       "      <th>KNN</th>\n",
       "      <td>6.45</td>\n",
       "      <td>5.46</td>\n",
       "      <td>5.00</td>\n",
       "      <td>4.55</td>\n",
       "      <td>4.38</td>\n",
       "      <td>3.98</td>\n",
       "      <td>3.70</td>\n",
       "      <td>3.55</td>\n",
       "      <td>3.49</td>\n",
       "      <td>4.36</td>\n",
       "    </tr>\n",
       "    <tr>\n",
       "      <th>Linear Regression</th>\n",
       "      <td>6.36</td>\n",
       "      <td>5.29</td>\n",
       "      <td>4.47</td>\n",
       "      <td>3.89</td>\n",
       "      <td>3.61</td>\n",
       "      <td>3.18</td>\n",
       "      <td>3.53</td>\n",
       "      <td>4.09</td>\n",
       "      <td>5.35</td>\n",
       "      <td>4.40</td>\n",
       "    </tr>\n",
       "    <tr>\n",
       "      <th>Ridge Regression</th>\n",
       "      <td>6.35</td>\n",
       "      <td>5.29</td>\n",
       "      <td>4.47</td>\n",
       "      <td>3.89</td>\n",
       "      <td>3.61</td>\n",
       "      <td>3.18</td>\n",
       "      <td>3.53</td>\n",
       "      <td>4.09</td>\n",
       "      <td>5.35</td>\n",
       "      <td>4.40</td>\n",
       "    </tr>\n",
       "  </tbody>\n",
       "</table>\n",
       "</div>"
      ],
      "text/plain": [
       "RMSE scores per instance size     6     7     8     9    10    11    12    13  \\\n",
       "Neural Network                 0.80  0.85  0.85  0.85  0.86  0.89  0.92  0.98   \n",
       "Kernel Machine                 1.13  0.95  1.00  0.96  0.95  0.97  1.02  1.12   \n",
       "Polynomial Regression          1.17  1.03  1.08  1.04  0.99  1.02  1.08  1.17   \n",
       "XGBoost                        1.79  1.59  1.59  1.44  1.45  1.34  1.31  1.39   \n",
       "GBRT                           2.06  1.90  1.90  1.74  1.71  1.58  1.56  1.61   \n",
       "Random Forest                  2.86  2.68  2.59  2.33  2.32  2.20  2.05  2.06   \n",
       "Decision Tree                  4.53  4.47  4.08  3.92  3.79  3.34  3.28  3.04   \n",
       "SVM                            6.87  5.72  4.81  4.03  3.66  3.04  3.13  3.37   \n",
       "KNN                            6.45  5.46  5.00  4.55  4.38  3.98  3.70  3.55   \n",
       "Linear Regression              6.36  5.29  4.47  3.89  3.61  3.18  3.53  4.09   \n",
       "Ridge Regression               6.35  5.29  4.47  3.89  3.61  3.18  3.53  4.09   \n",
       "\n",
       "RMSE scores per instance size    14  Mean  \n",
       "Neural Network                 0.96  0.90  \n",
       "Kernel Machine                 1.14  1.04  \n",
       "Polynomial Regression          1.20  1.09  \n",
       "XGBoost                        1.44  1.46  \n",
       "GBRT                           1.60  1.71  \n",
       "Random Forest                  2.07  2.29  \n",
       "Decision Tree                  2.97  3.61  \n",
       "SVM                            4.13  4.20  \n",
       "KNN                            3.49  4.36  \n",
       "Linear Regression              5.35  4.40  \n",
       "Ridge Regression               5.35  4.40  "
      ]
     },
     "metadata": {},
     "output_type": "display_data"
    },
    {
     "name": "stdout",
     "output_type": "stream",
     "text": [
      "Total script computation time: 1h, 33m\n"
     ]
    }
   ],
   "source": [
    "# Get model names, the scores for each model and the computation times\n",
    "model_names = results_dict.keys()\n",
    "cv_times = [value[\"CV computation time\"] for value in results_dict.values()]\n",
    "fit_times = [value[\"Model fit time\"] for value in results_dict.values()]\n",
    "prediction_times = [value[\"Model prediction time\"] for value in results_dict.values()]\n",
    "MAPE_train_scores = [value[\"MAPE\"][\"Train data\"] for value in results_dict.values()]\n",
    "MAPE_test_scores = [value[\"MAPE\"][\"Test data\"] for value in results_dict.values()]\n",
    "RMSE_train_scores = [value[\"RMSE\"][\"Train data\"] for value in results_dict.values()]\n",
    "RMSE_test_scores = [value[\"RMSE\"][\"Test data\"] for value in results_dict.values()]\n",
    "\n",
    "# Show train and test scores for each model and the computation times in a Data Frame\n",
    "run_times_df = pd.DataFrame([cv_times, fit_times, prediction_times], index=[\"CV times\", \"Fit times\", \"Prediction times\"], columns=model_names)\n",
    "MAPE_df = pd.DataFrame(data=[MAPE_train_scores, MAPE_test_scores], columns=model_names, index=[\"Train set\", \"Test set\"]).sort_values(by=\"Test set\", axis=1)\n",
    "MAPE_df.columns.name = \"MAPE scores\"\n",
    "RMSE_df = pd.DataFrame(data=[RMSE_train_scores, RMSE_test_scores], columns=model_names, index=[\"Train set\", \"Test set\"]).sort_values(by=\"Test set\", axis=1)\n",
    "RMSE_df.columns.name = \"RMSE scores\"\n",
    "display(run_times_df, MAPE_df, RMSE_df)\n",
    "\n",
    "# Show scores per instance size for each model\n",
    "MAPE_cat_scores = [value[\"Scores per instance size\"].loc[\"MAPE\"] for value in results_dict.values()]\n",
    "RMSE_cat_scores = [value[\"Scores per instance size\"].loc[\"RMSE\"] for value in results_dict.values()]\n",
    "MAPE_cat_scores_df = pd.DataFrame(data=MAPE_cat_scores, index=model_names).sort_values(by=\"Mean\")\n",
    "MAPE_cat_scores_df.columns.name = \"MAPE scores per instance size\"\n",
    "RMSE_cat_scores_df = pd.DataFrame(data=RMSE_cat_scores, index=model_names).sort_values(by=\"Mean\")\n",
    "RMSE_cat_scores_df.columns.name = \"RMSE scores per instance size\"\n",
    "display(MAPE_cat_scores_df, RMSE_cat_scores_df)\n",
    "\n",
    "# Save data frames with results into an excel file\n",
    "file_path = str(f\"04_test_results/{optimization_problem}_results.xlsx\")\n",
    "\n",
    "# Use ExcelWriter to write multiple DataFrames to the same file\n",
    "with pd.ExcelWriter(file_path) as writer:\n",
    "    run_times_df.to_excel(writer, sheet_name=\"run_times\")\n",
    "    MAPE_df.to_excel(writer, sheet_name=\"MAPE_scores\")\n",
    "    RMSE_df.to_excel(writer, sheet_name=\"RMSE_scores\")\n",
    "    MAPE_cat_scores_df.to_excel(writer, sheet_name=\"MAPE_cat_scores\")\n",
    "    RMSE_cat_scores_df.to_excel(writer, sheet_name=\"RMSE_cat_scores\")\n",
    "\n",
    "# Print total script run time\n",
    "print(\"Total script computation time:\", fun_convert_time(start=start_script, end=time.time()))"
   ]
  }
 ],
 "metadata": {
  "kernelspec": {
   "display_name": "base",
   "language": "python",
   "name": "python3"
  },
  "language_info": {
   "codemirror_mode": {
    "name": "ipython",
    "version": 3
   },
   "file_extension": ".py",
   "mimetype": "text/x-python",
   "name": "python",
   "nbconvert_exporter": "python",
   "pygments_lexer": "ipython3",
   "version": "3.11.7"
  }
 },
 "nbformat": 4,
 "nbformat_minor": 2
}
