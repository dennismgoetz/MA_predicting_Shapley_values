{
 "cells": [
  {
   "cell_type": "markdown",
   "metadata": {},
   "source": [
    "# **Support Vector Machines with Kernels - Kernel Machines**"
   ]
  },
  {
   "cell_type": "code",
   "execution_count": 1,
   "metadata": {},
   "outputs": [],
   "source": [
    "import os\n",
    "import time\n",
    "import pandas as pd\n",
    "import numpy as np\n",
    "from scipy.stats import uniform\n",
    "import matplotlib.pyplot as plt\n",
    "import matplotlib_inline\n",
    "import seaborn as sns\n",
    "import mglearn\n",
    "\n",
    "from sklearn.preprocessing import StandardScaler, MinMaxScaler, RobustScaler\n",
    "from sklearn.model_selection import train_test_split, cross_val_score, cross_validate, GridSearchCV, RandomizedSearchCV\n",
    "from sklearn.pipeline import Pipeline, make_pipeline\n",
    "from sklearn.metrics import get_scorer_names, mean_absolute_percentage_error\n",
    "from skopt import BayesSearchCV\n",
    "from skopt.space import Real, Integer, Categorical\n",
    "\n",
    "from sklearn.svm import SVR\n",
    "\n",
    "# import helperfunctions\n",
    "from helperfunctions import fun_load_file, fun_preprocessing, fun_split_X_y\n",
    "from helperfunctions import fun_convert_time, fun_fit_gridsearch_time\n",
    "from helperfunctions import fun_train_score, fun_test_score, fun_best_model\n",
    "from helperfunctions import plot_feature_importances\n",
    "\n",
    "# start time count and load data\n",
    "start_script = time.time()\n",
    "data = fun_load_file(path='01_data\\\\01_TSP', name='combined_train_instances_dennis.xlsx')\n",
    "train_data = fun_preprocessing(data)\n",
    "X, y = fun_split_X_y(train_data)\n",
    "\n",
    "# create a train and test set\n",
    "X_train, X_test, y_train, y_test = train_test_split(X, y, test_size=0.95, random_state=0)\n",
    "\n",
    "# create a smaller train set for svm\n",
    "X_train_small, X_test_small, y_train_small, y_test_small = train_test_split(X, y, test_size=0.99, random_state=0)\n",
    "\n",
    "# save number of features and train sizes\n",
    "n_features = X_train.shape[1]\n",
    "train_size_small = f'{int(np.round(100 * len(X_train_small)/len(X)))} %'"
   ]
  },
  {
   "cell_type": "markdown",
   "metadata": {},
   "source": [
    "### **Gaussian Kernel**"
   ]
  },
  {
   "cell_type": "code",
   "execution_count": 2,
   "metadata": {},
   "outputs": [
    {
     "name": "stdout",
     "output_type": "stream",
     "text": [
      "[('scaler', MinMaxScaler()), ('svm', SVR())]\n"
     ]
    },
    {
     "name": "stderr",
     "output_type": "stream",
     "text": [
      "[Parallel(n_jobs=-1)]: Using backend LokyBackend with 12 concurrent workers.\n",
      "[Parallel(n_jobs=-1)]: Done   3 out of   3 | elapsed:    3.6s finished\n"
     ]
    },
    {
     "data": {
      "text/plain": [
       "-0.16055810656569988"
      ]
     },
     "execution_count": 2,
     "metadata": {},
     "output_type": "execute_result"
    }
   ],
   "source": [
    "pipe = Pipeline(steps=[('scaler', MinMaxScaler()), ('svm', SVR(kernel='rbf'))])\n",
    "pipe.fit(X_train, y_train)\n",
    "print(pipe.steps)\n",
    "\n",
    "cross_val_score(pipe, X_train, y_train, cv=3,\n",
    "                scoring='neg_mean_absolute_percentage_error', n_jobs=-1, verbose=True).mean()"
   ]
  },
  {
   "cell_type": "code",
   "execution_count": 3,
   "metadata": {},
   "outputs": [
    {
     "name": "stdout",
     "output_type": "stream",
     "text": [
      "Fitting 3 folds for each of 16 candidates, totalling 48 fits\n",
      "{'svm__C': 100, 'svm__gamma': 0.1}\n"
     ]
    },
    {
     "data": {
      "text/plain": [
       "-0.05216761954161741"
      ]
     },
     "execution_count": 3,
     "metadata": {},
     "output_type": "execute_result"
    }
   ],
   "source": [
    "param_grid = {'svm__C': [0.1, 1, 10, 100],\n",
    "              'svm__gamma': [0.001, 0.01, 0.1, 1]}\n",
    "\n",
    "grid_search = GridSearchCV(pipe, param_grid=param_grid, cv=3,\n",
    "                           scoring='neg_mean_absolute_percentage_error', n_jobs=-1, verbose=True)\n",
    "\n",
    "grid_search.fit(X_train, y_train)\n",
    "\n",
    "print(grid_search.best_params_)\n",
    "grid_search.best_score_"
   ]
  },
  {
   "cell_type": "code",
   "execution_count": 4,
   "metadata": {},
   "outputs": [
    {
     "name": "stderr",
     "output_type": "stream",
     "text": [
      "[Parallel(n_jobs=-1)]: Using backend LokyBackend with 12 concurrent workers.\n",
      "[Parallel(n_jobs=-1)]: Done   3 out of   3 | elapsed:   24.5s finished\n"
     ]
    },
    {
     "data": {
      "text/plain": [
       "-0.05216761954161741"
      ]
     },
     "execution_count": 4,
     "metadata": {},
     "output_type": "execute_result"
    }
   ],
   "source": [
    "cross_val_score(grid_search, X_train, y_train, cv=3,\n",
    "                scoring='neg_mean_absolute_percentage_error', n_jobs=-1, verbose=True).mean()"
   ]
  },
  {
   "cell_type": "markdown",
   "metadata": {},
   "source": [
    "### **Polynomial Kernel**"
   ]
  },
  {
   "cell_type": "code",
   "execution_count": 6,
   "metadata": {},
   "outputs": [
    {
     "name": "stdout",
     "output_type": "stream",
     "text": [
      "[('minmaxscaler', MinMaxScaler()), ('svr', SVR(kernel='poly'))]\n"
     ]
    },
    {
     "name": "stderr",
     "output_type": "stream",
     "text": [
      "[Parallel(n_jobs=-1)]: Using backend LokyBackend with 12 concurrent workers.\n",
      "[Parallel(n_jobs=-1)]: Done   3 out of   3 | elapsed:    0.1s finished\n"
     ]
    },
    {
     "data": {
      "text/plain": [
       "-0.09814164472349192"
      ]
     },
     "execution_count": 6,
     "metadata": {},
     "output_type": "execute_result"
    }
   ],
   "source": [
    "pipe_short = make_pipeline(MinMaxScaler(), SVR(kernel='poly', degree=3))\n",
    "pipe_short.fit(X_train, y_train)\n",
    "print(pipe_short.steps)\n",
    "\n",
    "cross_val_score(pipe_short, X_train, y_train, cv=3,\n",
    "                scoring='neg_mean_absolute_percentage_error', n_jobs=-1, verbose=True).mean()"
   ]
  },
  {
   "cell_type": "code",
   "execution_count": 12,
   "metadata": {},
   "outputs": [
    {
     "name": "stdout",
     "output_type": "stream",
     "text": [
      "OrderedDict([('svr__C', 0.33257889773700083), ('svr__degree', 3), ('svr__gamma', 3.0728788383551886)])\n"
     ]
    },
    {
     "data": {
      "text/plain": [
       "-0.07504688382820461"
      ]
     },
     "execution_count": 12,
     "metadata": {},
     "output_type": "execute_result"
    }
   ],
   "source": [
    "param_space = {'svr__C': Real(0.1, 10, prior='log-uniform'),\n",
    "               'svr__gamma': Real(0.1, 10, prior='log-uniform'),\n",
    "               'svr__degree': Integer(3, 4)}\n",
    "\n",
    "bayes_opt = BayesSearchCV(pipe_short, param_space, n_iter=5, cv=3, \n",
    "                          scoring='neg_mean_absolute_percentage_error', n_jobs=-1, verbose=False)\n",
    "bayes_opt.fit(X_train, y_train)\n",
    "\n",
    "print(bayes_opt.best_params_)\n",
    "bayes_opt.best_score_"
   ]
  },
  {
   "cell_type": "code",
   "execution_count": 10,
   "metadata": {},
   "outputs": [
    {
     "name": "stderr",
     "output_type": "stream",
     "text": [
      "[Parallel(n_jobs=-1)]: Using backend LokyBackend with 12 concurrent workers.\n",
      "[Parallel(n_jobs=-1)]: Done   3 out of   3 | elapsed:   28.0s finished\n"
     ]
    },
    {
     "data": {
      "text/plain": [
       "-0.07374556186693519"
      ]
     },
     "execution_count": 10,
     "metadata": {},
     "output_type": "execute_result"
    }
   ],
   "source": [
    "cross_val_score(bayes_opt, X_train, y_train, cv=3,\n",
    "                scoring='neg_mean_absolute_percentage_error', n_jobs=-1, verbose=True).mean()"
   ]
  },
  {
   "cell_type": "markdown",
   "metadata": {},
   "source": [
    "# **Compare Results**"
   ]
  },
  {
   "cell_type": "code",
   "execution_count": null,
   "metadata": {},
   "outputs": [
    {
     "data": {
      "text/html": [
       "<div>\n",
       "<style scoped>\n",
       "    .dataframe tbody tr th:only-of-type {\n",
       "        vertical-align: middle;\n",
       "    }\n",
       "\n",
       "    .dataframe tbody tr th {\n",
       "        vertical-align: top;\n",
       "    }\n",
       "\n",
       "    .dataframe thead th {\n",
       "        text-align: right;\n",
       "    }\n",
       "</style>\n",
       "<table border=\"1\" class=\"dataframe\">\n",
       "  <thead>\n",
       "    <tr style=\"text-align: right;\">\n",
       "      <th></th>\n",
       "      <th>Neural Network</th>\n",
       "      <th>XGBoost</th>\n",
       "      <th>Gradient Boosting Regression Tree</th>\n",
       "      <th>Random Forest</th>\n",
       "      <th>Decision Tree</th>\n",
       "      <th>Ridge Regression</th>\n",
       "      <th>Linear Regression</th>\n",
       "      <th>Linear SVM</th>\n",
       "      <th>Lasso Regression</th>\n",
       "      <th>SVM Gaussian Kernel</th>\n",
       "      <th>SVM Polynomial Kernel</th>\n",
       "      <th>KNN</th>\n",
       "    </tr>\n",
       "  </thead>\n",
       "  <tbody>\n",
       "    <tr>\n",
       "      <th>MAPE</th>\n",
       "      <td>6.3253</td>\n",
       "      <td>8.3334</td>\n",
       "      <td>9.0075</td>\n",
       "      <td>9.3009</td>\n",
       "      <td>15.6656</td>\n",
       "      <td>15.6683</td>\n",
       "      <td>15.6818</td>\n",
       "      <td>18.3395</td>\n",
       "      <td>18.7714</td>\n",
       "      <td>37.4512</td>\n",
       "      <td>70.6556</td>\n",
       "      <td>70.96</td>\n",
       "    </tr>\n",
       "    <tr>\n",
       "      <th>RMSE</th>\n",
       "      <td>1.4965</td>\n",
       "      <td>2.6049</td>\n",
       "      <td>2.5493</td>\n",
       "      <td>3.056</td>\n",
       "      <td>5.4083</td>\n",
       "      <td>3.4078</td>\n",
       "      <td>3.4081</td>\n",
       "      <td>3.7231</td>\n",
       "      <td>4.1904</td>\n",
       "      <td>8.9097</td>\n",
       "      <td>13.0947</td>\n",
       "      <td>16.57</td>\n",
       "    </tr>\n",
       "    <tr>\n",
       "      <th>Computation time</th>\n",
       "      <td>7 sec</td>\n",
       "      <td>5 sec</td>\n",
       "      <td>16 sec</td>\n",
       "      <td>38 sec</td>\n",
       "      <td>0 sec</td>\n",
       "      <td>0 sec</td>\n",
       "      <td>1 sec</td>\n",
       "      <td>0 sec</td>\n",
       "      <td>0 sec</td>\n",
       "      <td>0 sec</td>\n",
       "      <td>0 sec</td>\n",
       "      <td>3 sec</td>\n",
       "    </tr>\n",
       "    <tr>\n",
       "      <th>Train size</th>\n",
       "      <td>5 %</td>\n",
       "      <td>5 %</td>\n",
       "      <td>5 %</td>\n",
       "      <td>5 %</td>\n",
       "      <td>5 %</td>\n",
       "      <td>5 %</td>\n",
       "      <td>5 %</td>\n",
       "      <td>1 %</td>\n",
       "      <td>5 %</td>\n",
       "      <td>1 %</td>\n",
       "      <td>1 %</td>\n",
       "      <td>5 %</td>\n",
       "    </tr>\n",
       "  </tbody>\n",
       "</table>\n",
       "</div>"
      ],
      "text/plain": [
       "                 Neural Network XGBoost Gradient Boosting Regression Tree  \\\n",
       "MAPE                     6.3253  8.3334                            9.0075   \n",
       "RMSE                     1.4965  2.6049                            2.5493   \n",
       "Computation time          7 sec   5 sec                            16 sec   \n",
       "Train size                  5 %     5 %                               5 %   \n",
       "\n",
       "                 Random Forest Decision Tree Ridge Regression  \\\n",
       "MAPE                    9.3009       15.6656          15.6683   \n",
       "RMSE                     3.056        5.4083           3.4078   \n",
       "Computation time        38 sec         0 sec            0 sec   \n",
       "Train size                 5 %           5 %              5 %   \n",
       "\n",
       "                 Linear Regression Linear SVM Lasso Regression  \\\n",
       "MAPE                       15.6818    18.3395          18.7714   \n",
       "RMSE                        3.4081     3.7231           4.1904   \n",
       "Computation time             1 sec      0 sec            0 sec   \n",
       "Train size                     5 %        1 %              5 %   \n",
       "\n",
       "                 SVM Gaussian Kernel SVM Polynomial Kernel    KNN  \n",
       "MAPE                         37.4512               70.6556  70.96  \n",
       "RMSE                          8.9097               13.0947  16.57  \n",
       "Computation time               0 sec                 0 sec  3 sec  \n",
       "Train size                       1 %                   1 %    5 %  "
      ]
     },
     "metadata": {},
     "output_type": "display_data"
    },
    {
     "name": "stdout",
     "output_type": "stream",
     "text": [
      "Total script computation time: 2 min, 39 sec\n"
     ]
    }
   ],
   "source": [
    "display(pd.DataFrame(results_dict).sort_values(by='MAPE', axis=1))\n",
    "print('Total script computation time:', fun_convert_time(start=start_script, end=time.time()))"
   ]
  }
 ],
 "metadata": {
  "kernelspec": {
   "display_name": "base",
   "language": "python",
   "name": "python3"
  },
  "language_info": {
   "codemirror_mode": {
    "name": "ipython",
    "version": 3
   },
   "file_extension": ".py",
   "mimetype": "text/x-python",
   "name": "python",
   "nbconvert_exporter": "python",
   "pygments_lexer": "ipython3",
   "version": "3.11.7"
  }
 },
 "nbformat": 4,
 "nbformat_minor": 2
}
