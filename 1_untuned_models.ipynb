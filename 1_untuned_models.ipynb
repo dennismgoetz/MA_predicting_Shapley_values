{
 "cells": [
  {
   "cell_type": "code",
   "execution_count": 1,
   "metadata": {},
   "outputs": [],
   "source": [
    "import time\n",
    "import pickle\n",
    "import pandas as pd\n",
    "import numpy as np\n",
    "\n",
    "from sklearn.pipeline import Pipeline\n",
    "from sklearn.preprocessing import StandardScaler, MinMaxScaler, RobustScaler\n",
    "from sklearn.model_selection import train_test_split, cross_val_score, cross_validate\n",
    "\n",
    "from sklearn.neighbors import KNeighborsRegressor\n",
    "from sklearn.linear_model import LinearRegression, Ridge, Lasso\n",
    "from sklearn.tree import DecisionTreeRegressor\n",
    "from sklearn.ensemble import RandomForestRegressor, GradientBoostingRegressor\n",
    "import xgboost as xgb\n",
    "from sklearn.svm import SVR\n",
    "from sklearn.neural_network import MLPRegressor\n",
    "\n",
    "# Import helperfunctions\n",
    "from ML_functions import fun_load_data, fun_save_file, fun_preprocessing\n",
    "from ML_functions import fun_convert_time\n",
    "from ML_functions import fun_scores\n",
    "\n",
    "# Start time count\n",
    "start_script = time.time()\n",
    "\n",
    "# Load optimization_problem ('TSP' or 'CVRP') and the size of the train set\n",
    "with open('settings.pkl', 'rb') as file:\n",
    "    settings = pickle.load(file)\n",
    "optimization_problem, train_size = settings['optimization_problem'], settings['train_size']\n",
    "\n",
    "# Assign string 'TSP' or 'CVRP' to the following variable to define the routing problem\n",
    "optimization_problem = 'TSP'\n",
    "train_size = 0.75\n",
    "\n",
    "# Load data\n",
    "data = fun_load_data(optimization_problem=optimization_problem)\n",
    "X, y, train_data = fun_preprocessing(data)\n",
    "\n",
    "# Create a train and test set\n",
    "X_train, X_test, y_train, y_test = train_test_split(X, y, train_size=train_size, random_state=0)\n",
    "\n",
    "# Create a smaller train set for SVM\n",
    "X_train_s, X_test_s, y_train_s, y_test_s = train_test_split(X, y, train_size=0.05, random_state=0)\n",
    "\n",
    "# Save number of features and train sizes and create a dictionary to store the results\n",
    "n_features = X_train.shape[1]\n",
    "train_size = f'{int(np.round(100 * len(X_train) / len(X)))} %'\n",
    "train_size_s = f'{int(np.round(100 * len(X_train_s) / len(X)))} %'\n",
    "results_dict = {}"
   ]
  },
  {
   "cell_type": "markdown",
   "metadata": {},
   "source": [
    "# **KNN**"
   ]
  },
  {
   "cell_type": "code",
   "execution_count": 2,
   "metadata": {},
   "outputs": [
    {
     "name": "stdout",
     "output_type": "stream",
     "text": [
      "  CV MAPE train data:  25.806 %\n",
      "  CV RMSE train data:  5.3892\n",
      "  CV computation time: 12 sec\n"
     ]
    }
   ],
   "source": [
    "# Create pipline to scale each fold first during CV\n",
    "pipe = Pipeline(steps=[('scaler', StandardScaler()), \n",
    "                       ('knn', KNeighborsRegressor(n_neighbors=5))])\n",
    "\n",
    "# Estimate model performance with cross validation on the train set (scoring: MAPE and RMSE)\n",
    "model_results_dict = fun_scores(model=pipe, X_train=X_train, y_train=y_train, cv=3)\n",
    "\n",
    "# Save results to dictionary\n",
    "model_results_dict['Train size'] = train_size\n",
    "results_dict['KNN'] = model_results_dict"
   ]
  },
  {
   "cell_type": "markdown",
   "metadata": {},
   "source": [
    "# **Linear Models**"
   ]
  },
  {
   "cell_type": "markdown",
   "metadata": {},
   "source": [
    "**Linear Regression**"
   ]
  },
  {
   "cell_type": "code",
   "execution_count": 4,
   "metadata": {},
   "outputs": [
    {
     "name": "stdout",
     "output_type": "stream",
     "text": [
      "  CV MAPE train data:  16.1503 %\n",
      "  CV RMSE train data:  3.2184\n",
      "  CV computation time: 2 sec\n"
     ]
    }
   ],
   "source": [
    "# Create model\n",
    "lr = LinearRegression()\n",
    "\n",
    "# Estimate model performance with cross validation on the train set (scoring: MAPE and RMSE)\n",
    "model_results_dict = fun_scores(lr, X_train, y_train, cv=5)\n",
    "\n",
    "# Save results to dictionary\n",
    "model_results_dict['Train size'] = train_size\n",
    "results_dict['Linear Regression'] = model_results_dict"
   ]
  },
  {
   "cell_type": "markdown",
   "metadata": {},
   "source": [
    "**Rigde Regression (L2-Regularization)**"
   ]
  },
  {
   "cell_type": "code",
   "execution_count": 5,
   "metadata": {},
   "outputs": [
    {
     "name": "stdout",
     "output_type": "stream",
     "text": [
      "  CV MAPE train data:  16.148899999999998 %\n",
      "  CV RMSE train data:  3.2184\n",
      "  CV computation time: 2 sec\n"
     ]
    }
   ],
   "source": [
    "# Create model with default parameters\n",
    "ridge = Ridge(alpha=1) # alpha=0: linear regression without regularization\n",
    "\n",
    "# Estimate model performance with cross validation on the train set (scoring: MAPE and RMSE)\n",
    "model_results_dict = fun_scores(ridge, X_train, y_train, cv=5)\n",
    "\n",
    "# Save results to dictionary\n",
    "model_results_dict['Train size'] = train_size\n",
    "results_dict['Ridge Regression'] = model_results_dict"
   ]
  },
  {
   "cell_type": "markdown",
   "metadata": {},
   "source": [
    "**Lasso Regression (L1-Regularization)**"
   ]
  },
  {
   "cell_type": "code",
   "execution_count": 6,
   "metadata": {},
   "outputs": [],
   "source": [
    "# if (optimization_problem == 'TSP'):\n",
    "\n",
    "#     # Create model with default parameters\n",
    "#     lasso = Lasso(alpha=1, max_iter=10000) # Higher alpha means higher regularization and lower model complexity (less overfitting)\n",
    "\n",
    "#     # Estimate model performance with cross validation on the train set (scoring: MAPE and RMSE)\n",
    "#     model_results_dict = fun_scores(lasso, X_train, y_train, cv=2)\n",
    "\n",
    "#     # Save results to dictionary\n",
    "#     model_results_dict['Train size'] = train_size\n",
    "#     results_dict['Lasso Regression'] = model_results_dict\n",
    "\n",
    "# else: print('This cell is only executed for the TSP!')"
   ]
  },
  {
   "cell_type": "markdown",
   "metadata": {},
   "source": [
    "**Support Vector Machine (SVM)**"
   ]
  },
  {
   "cell_type": "code",
   "execution_count": 48,
   "metadata": {},
   "outputs": [
    {
     "name": "stdout",
     "output_type": "stream",
     "text": [
      "  CV MAPE train data:  16.4465 %\n",
      "  CV RMSE train data:  3.3243\n",
      "  CV computation time: 1 min, 7 sec\n"
     ]
    }
   ],
   "source": [
    "if (optimization_problem == 'TSP'):\n",
    "    \n",
    "    # Create pipline to scale each fold first during CV\n",
    "    pipe = Pipeline(steps=[('scaler', StandardScaler()), \n",
    "                        ('SVM', SVR(kernel='linear', C=1))]) #regularization parameter C controls trade-off between maximizing the margin and minimizing the classification error (how important it is to satisfy the constraint)\n",
    "\n",
    "    # Estimate model performance with cross validation on the train set (scoring: MAPE and RMSE)\n",
    "    model_results_dict = fun_scores(model=pipe, X_train=X_train_s, y_train=y_train_s, cv=2)\n",
    "\n",
    "    # Save results to dictionary\n",
    "    model_results_dict['Train size'] = train_size_s\n",
    "    results_dict['Linear SVM'] = model_results_dict\n",
    "\n",
    "else: print('This cell is only executed for the TSP!')"
   ]
  },
  {
   "cell_type": "markdown",
   "metadata": {},
   "source": [
    "# **Decision Tree**"
   ]
  },
  {
   "cell_type": "code",
   "execution_count": 8,
   "metadata": {},
   "outputs": [
    {
     "name": "stdout",
     "output_type": "stream",
     "text": [
      "  CV MAPE train data:  11.0683 %\n",
      "  CV RMSE train data:  3.7304\n",
      "  CV computation time: 4 sec\n"
     ]
    }
   ],
   "source": [
    "if (optimization_problem == 'TSP'):\n",
    "\n",
    "    # Create model with default parameters\n",
    "    tree = DecisionTreeRegressor(max_depth=None, max_leaf_nodes=None, min_samples_leaf=1, \n",
    "                                min_impurity_decrease=0, random_state=0)\n",
    "\n",
    "    # Estimate model performance with cross validation on the train set (scoring: MAPE and RMSE)\n",
    "    model_results_dict = fun_scores(tree, X_train, y_train, cv=3)\n",
    "\n",
    "    # Save results to dictionary\n",
    "    model_results_dict['Train size'] = train_size\n",
    "    results_dict['Decision Tree'] = model_results_dict\n",
    "\n",
    "else: print('This cell is only executed for the TSP!')"
   ]
  },
  {
   "cell_type": "markdown",
   "metadata": {},
   "source": [
    "# **Ensebmles of Decision Trees**\n",
    "**Random Forest**"
   ]
  },
  {
   "cell_type": "code",
   "execution_count": 9,
   "metadata": {},
   "outputs": [
    {
     "name": "stdout",
     "output_type": "stream",
     "text": [
      "  CV MAPE train data:  6.6114999999999995 %\n",
      "  CV RMSE train data:  2.0375\n",
      "  CV computation time: 4 min, 24 sec\n"
     ]
    }
   ],
   "source": [
    "# Create model with default parameters\n",
    "forest = RandomForestRegressor(n_estimators=100, max_features=n_features, max_depth=None, \n",
    "                               max_leaf_nodes=None, min_samples_leaf=1, min_impurity_decrease=0,\n",
    "                               random_state=0, bootstrap=True, n_jobs=-1)\n",
    "\n",
    "# Estimate model performance with cross validation on the train set (scoring: MAPE and RMSE)\n",
    "model_results_dict = fun_scores(forest, X_train, y_train, cv=3)\n",
    "\n",
    "# Save results to dictionary\n",
    "model_results_dict['Train size'] = train_size\n",
    "results_dict['Random Forest'] = model_results_dict"
   ]
  },
  {
   "cell_type": "markdown",
   "metadata": {},
   "source": [
    "**Gradient Boosting Regression Trees**"
   ]
  },
  {
   "cell_type": "code",
   "execution_count": 10,
   "metadata": {},
   "outputs": [
    {
     "name": "stdout",
     "output_type": "stream",
     "text": [
      "  CV MAPE train data:  8.2129 %\n",
      "  CV RMSE train data:  2.174\n",
      "  CV computation time: 2 min, 31 sec\n"
     ]
    }
   ],
   "source": [
    "if (optimization_problem == 'TSP'):\n",
    "    # Create model with default parameters\n",
    "    gbrt = GradientBoostingRegressor(n_estimators=100, learning_rate=0.1, # Lower learning rate requires more trees\n",
    "                                    max_depth=3, max_leaf_nodes=None,\n",
    "                                    random_state=0)\n",
    "\n",
    "    # Estimate model performance with cross validation on the train set (scoring: MAPE and RMSE)\n",
    "    model_results_dict = fun_scores(gbrt, X_train, y_train, cv=3)\n",
    "\n",
    "    # Save results to dictionary\n",
    "    model_results_dict['Train size'] = train_size\n",
    "    results_dict['Gradient Boosting Regression Tree'] = model_results_dict\n",
    "\n",
    "else: print('This cell is only executed for the TSP!')"
   ]
  },
  {
   "cell_type": "markdown",
   "metadata": {},
   "source": [
    "**Extreme Gradient Boosting: XGBoost-Package**"
   ]
  },
  {
   "cell_type": "code",
   "execution_count": 11,
   "metadata": {},
   "outputs": [
    {
     "name": "stdout",
     "output_type": "stream",
     "text": [
      "  CV MAPE train data:  6.0082 %\n",
      "  CV RMSE train data:  1.7806\n",
      "  CV computation time: 6 sec\n"
     ]
    }
   ],
   "source": [
    "# Create model with default parameters\n",
    "xgboost = xgb.XGBRegressor(objective='reg:squarederror',\n",
    "                           n_estimators=None, \n",
    "                           learning_rate=None,\n",
    "                           max_depth=None)\n",
    "\n",
    "# Estimate model performance with cross validation on the train set (scoring: MAPE and RMSE)\n",
    "model_results_dict = fun_scores(xgboost, X_train, y_train, cv=3)\n",
    "\n",
    "# Save results to dictionary\n",
    "model_results_dict['Train size'] = train_size\n",
    "results_dict['XGBoost'] = model_results_dict"
   ]
  },
  {
   "cell_type": "markdown",
   "metadata": {},
   "source": [
    "# **Support Vector Machines with Kernels - Kernel Machines**"
   ]
  },
  {
   "cell_type": "markdown",
   "metadata": {},
   "source": [
    "**Gaussian Kernel**"
   ]
  },
  {
   "cell_type": "code",
   "execution_count": 27,
   "metadata": {},
   "outputs": [
    {
     "name": "stdout",
     "output_type": "stream",
     "text": [
      "  CV MAPE train data:  14.1731 %\n",
      "  CV RMSE train data:  4.6833\n",
      "  CV computation time: 30 sec\n"
     ]
    }
   ],
   "source": [
    "if (optimization_problem == 'TSP'):\n",
    "    \n",
    "    # Create pipline to scale each fold first during CV\n",
    "    pipe = Pipeline(steps=[('scaler', StandardScaler()), \n",
    "                        ('SVM', SVR(kernel='rbf', C=1, gamma=1/n_features))])\n",
    "\n",
    "    # Estimate model performance with cross validation on the train set (scoring: MAPE and RMSE)\n",
    "    model_results_dict = fun_scores(model=pipe, X_train=X_train_s, y_train=y_train_s, cv=2)\n",
    "\n",
    "    # Save results to dictionary\n",
    "    model_results_dict['Train size'] = train_size_s\n",
    "    results_dict['SVM Gaussian Kernel'] = model_results_dict\n",
    "\n",
    "else: print('This cell is only executed for the TSP!')"
   ]
  },
  {
   "cell_type": "markdown",
   "metadata": {},
   "source": [
    "**Polynomial Kernel**"
   ]
  },
  {
   "cell_type": "code",
   "execution_count": 36,
   "metadata": {},
   "outputs": [
    {
     "name": "stdout",
     "output_type": "stream",
     "text": [
      "  CV MAPE train data:  25.902199999999997 %\n",
      "  CV RMSE train data:  5.3705\n",
      "  CV computation time: 6 sec\n"
     ]
    }
   ],
   "source": [
    "if (optimization_problem == 'TSP'):\n",
    "\n",
    "    # Create pipline to scale each fold first during CV\n",
    "    pipe = Pipeline(steps=[('scaler', StandardScaler()), \n",
    "                        ('SVM', SVR(kernel='poly', C=10, gamma=1/n_features, degree=3))])\n",
    "\n",
    "    # Estimate model performance with cross validation on the train set (scoring: MAPE and RMSE)\n",
    "    model_results_dict = fun_scores(model=pipe, X_train=X_train_s, y_train=y_train_s, cv=2)\n",
    "\n",
    "    # Save results to dictionary\n",
    "    model_results_dict['Train size'] = train_size_s\n",
    "    results_dict['SVM Polynomial Kernel'] = model_results_dict\n",
    "\n",
    "else: print('This cell is only executed for the TSP!')"
   ]
  },
  {
   "cell_type": "markdown",
   "metadata": {},
   "source": [
    "# **Neural Network**"
   ]
  },
  {
   "cell_type": "code",
   "execution_count": 14,
   "metadata": {},
   "outputs": [
    {
     "name": "stdout",
     "output_type": "stream",
     "text": [
      "  CV MAPE train data:  4.0641 %\n",
      "  CV RMSE train data:  0.9677\n",
      "  CV computation time: 1 min, 19 sec\n"
     ]
    }
   ],
   "source": [
    "# Create pipline to scale each fold first during CV\n",
    "pipe = Pipeline(steps=[('scaler', StandardScaler()), \n",
    "                       ('MLP', MLPRegressor(hidden_layer_sizes=(100,), alpha=0.0001,\n",
    "                                           activation='relu', solver='adam', max_iter=1000, random_state=0))])\n",
    "\n",
    "# Estimate model performance with cross validation on the train set (scoring: MAPE and RMSE)\n",
    "model_results_dict = fun_scores(model=pipe, X_train=X_train, y_train=y_train, cv=3)\n",
    "\n",
    "# Save results to dictionary\n",
    "model_results_dict['Train size'] = train_size\n",
    "results_dict['Neural Network'] = model_results_dict"
   ]
  },
  {
   "cell_type": "markdown",
   "metadata": {},
   "source": [
    "# **Compare Results**"
   ]
  },
  {
   "cell_type": "code",
   "execution_count": 15,
   "metadata": {},
   "outputs": [
    {
     "data": {
      "text/html": [
       "<div>\n",
       "<style scoped>\n",
       "    .dataframe tbody tr th:only-of-type {\n",
       "        vertical-align: middle;\n",
       "    }\n",
       "\n",
       "    .dataframe tbody tr th {\n",
       "        vertical-align: top;\n",
       "    }\n",
       "\n",
       "    .dataframe thead th {\n",
       "        text-align: right;\n",
       "    }\n",
       "</style>\n",
       "<table border=\"1\" class=\"dataframe\">\n",
       "  <thead>\n",
       "    <tr style=\"text-align: right;\">\n",
       "      <th></th>\n",
       "      <th>Neural Network</th>\n",
       "      <th>XGBoost</th>\n",
       "      <th>Random Forest</th>\n",
       "      <th>Gradient Boosting Regression Tree</th>\n",
       "      <th>Decision Tree</th>\n",
       "      <th>Linear SVM</th>\n",
       "      <th>Ridge Regression</th>\n",
       "      <th>Linear Regression</th>\n",
       "      <th>KNN</th>\n",
       "      <th>SVM Gaussian Kernel</th>\n",
       "      <th>SVM Polynomial Kernel</th>\n",
       "    </tr>\n",
       "  </thead>\n",
       "  <tbody>\n",
       "    <tr>\n",
       "      <th>MAPE</th>\n",
       "      <td>4.0641</td>\n",
       "      <td>6.0082</td>\n",
       "      <td>6.6115</td>\n",
       "      <td>8.2129</td>\n",
       "      <td>11.0683</td>\n",
       "      <td>15.9746</td>\n",
       "      <td>16.1489</td>\n",
       "      <td>16.1503</td>\n",
       "      <td>25.806</td>\n",
       "      <td>27.2515</td>\n",
       "      <td>66.328</td>\n",
       "    </tr>\n",
       "    <tr>\n",
       "      <th>RMSE</th>\n",
       "      <td>0.9677</td>\n",
       "      <td>1.7806</td>\n",
       "      <td>2.0375</td>\n",
       "      <td>2.174</td>\n",
       "      <td>3.7304</td>\n",
       "      <td>3.31</td>\n",
       "      <td>3.2184</td>\n",
       "      <td>3.2184</td>\n",
       "      <td>5.3892</td>\n",
       "      <td>8.4212</td>\n",
       "      <td>11.758</td>\n",
       "    </tr>\n",
       "    <tr>\n",
       "      <th>CV computation time</th>\n",
       "      <td>1 min, 19 sec</td>\n",
       "      <td>6 sec</td>\n",
       "      <td>4 min, 24 sec</td>\n",
       "      <td>2 min, 31 sec</td>\n",
       "      <td>4 sec</td>\n",
       "      <td>1 sec</td>\n",
       "      <td>2 sec</td>\n",
       "      <td>2 sec</td>\n",
       "      <td>12 sec</td>\n",
       "      <td>1 sec</td>\n",
       "      <td>1 sec</td>\n",
       "    </tr>\n",
       "    <tr>\n",
       "      <th>Train size</th>\n",
       "      <td>75 %</td>\n",
       "      <td>75 %</td>\n",
       "      <td>75 %</td>\n",
       "      <td>75 %</td>\n",
       "      <td>75 %</td>\n",
       "      <td>5 %</td>\n",
       "      <td>75 %</td>\n",
       "      <td>75 %</td>\n",
       "      <td>75 %</td>\n",
       "      <td>5 %</td>\n",
       "      <td>5 %</td>\n",
       "    </tr>\n",
       "  </tbody>\n",
       "</table>\n",
       "</div>"
      ],
      "text/plain": [
       "                    Neural Network XGBoost  Random Forest  \\\n",
       "MAPE                        4.0641  6.0082         6.6115   \n",
       "RMSE                        0.9677  1.7806         2.0375   \n",
       "CV computation time  1 min, 19 sec   6 sec  4 min, 24 sec   \n",
       "Train size                    75 %    75 %           75 %   \n",
       "\n",
       "                    Gradient Boosting Regression Tree Decision Tree  \\\n",
       "MAPE                                           8.2129       11.0683   \n",
       "RMSE                                            2.174        3.7304   \n",
       "CV computation time                     2 min, 31 sec         4 sec   \n",
       "Train size                                       75 %          75 %   \n",
       "\n",
       "                    Linear SVM Ridge Regression Linear Regression     KNN  \\\n",
       "MAPE                   15.9746          16.1489           16.1503  25.806   \n",
       "RMSE                      3.31           3.2184            3.2184  5.3892   \n",
       "CV computation time      1 sec            2 sec             2 sec  12 sec   \n",
       "Train size                 5 %             75 %              75 %    75 %   \n",
       "\n",
       "                    SVM Gaussian Kernel SVM Polynomial Kernel  \n",
       "MAPE                            27.2515                66.328  \n",
       "RMSE                             8.4212                11.758  \n",
       "CV computation time               1 sec                 1 sec  \n",
       "Train size                          5 %                   5 %  "
      ]
     },
     "metadata": {},
     "output_type": "display_data"
    },
    {
     "name": "stdout",
     "output_type": "stream",
     "text": [
      "Total script computation time: 9 min, 35 sec\n"
     ]
    }
   ],
   "source": [
    "results_df = pd.DataFrame(results_dict).sort_values(by='MAPE', axis=1)\n",
    "display(results_df)\n",
    "fun_save_file(data=results_df, subfolder_path='04_results', name=optimization_problem + '_untuned_models_train_scores.xlsx')\n",
    "print('Total script computation time:', fun_convert_time(start=start_script, end=time.time()))"
   ]
  }
 ],
 "metadata": {
  "kernelspec": {
   "display_name": "base",
   "language": "python",
   "name": "python3"
  },
  "language_info": {
   "codemirror_mode": {
    "name": "ipython",
    "version": 3
   },
   "file_extension": ".py",
   "mimetype": "text/x-python",
   "name": "python",
   "nbconvert_exporter": "python",
   "pygments_lexer": "ipython3",
   "version": "3.11.7"
  }
 },
 "nbformat": 4,
 "nbformat_minor": 2
}
