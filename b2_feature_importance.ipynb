{
 "cells": [
  {
   "cell_type": "code",
   "execution_count": 1,
   "metadata": {},
   "outputs": [],
   "source": [
    "import pandas as pd\n",
    "import numpy as np\n",
    "from IPython.display import Markdown\n",
    "\n",
    "from sklearn.pipeline import make_pipeline\n",
    "from sklearn.decomposition import PCA\n",
    "from sklearn.preprocessing import StandardScaler\n",
    "from sklearn.model_selection import train_test_split\n",
    "\n",
    "from sklearn.neural_network import MLPRegressor\n",
    "\n",
    "# Import helperfunctions\n",
    "from ML_functions import fun_load_data, fun_save_file, fun_preprocessing, fun_load_best_params\n",
    "from ML_functions import fun_scores\n",
    "\n",
    "# Assign string \"TSP\" or \"CVRP\" to the following variable to define the optimization problem\n",
    "optimization_problem = \"TSP\"\n",
    "\n",
    "# Load data\n",
    "data, _ = fun_load_data(optimization_problem)\n",
    "\n",
    "# Do the train test split during the preprocessing\n",
    "X_train, X_test, y_train, y_test, train_data = fun_preprocessing(data, train_size=0.8)"
   ]
  },
  {
   "cell_type": "markdown",
   "metadata": {},
   "source": [
    "# **Feature Importance**\n",
    "### **1. Importance of feature categories**\n",
    "**Compute train and test score with all features: Neural Network - Multi Layer Perceptron**"
   ]
  },
  {
   "cell_type": "code",
   "execution_count": 3,
   "metadata": {},
   "outputs": [
    {
     "data": {
      "text/plain": [
       "{'mlpregressor__alpha': 0.1,\n",
       " 'mlpregressor__batch_size': 32,\n",
       " 'mlpregressor__early_stopping': False,\n",
       " 'mlpregressor__learning_rate_init': 0.001,\n",
       " 'mlpregressor__solver': 'sgd'}"
      ]
     },
     "metadata": {},
     "output_type": "display_data"
    },
    {
     "name": "stdout",
     "output_type": "stream",
     "text": [
      "CV MAPE (scaled) train data:  3.5156 %\n",
      "CV RMSE (scaled) train data: 0.9565\n",
      "CV computation time: 19m, 55s\n",
      "\n",
      "MAPE (scaled) test data:  3.3343 %\n",
      "RMSE (scaled) test data: 0.8999\n",
      "Model fit time: 25m, 30s\n",
      "Model prediction time: 0s\n"
     ]
    },
    {
     "data": {
      "text/markdown": [
       "**MAPE and RMSE on test data per instance size:**"
      ],
      "text/plain": [
       "<IPython.core.display.Markdown object>"
      ]
     },
     "metadata": {},
     "output_type": "display_data"
    },
    {
     "data": {
      "text/html": [
       "<div>\n",
       "<style scoped>\n",
       "    .dataframe tbody tr th:only-of-type {\n",
       "        vertical-align: middle;\n",
       "    }\n",
       "\n",
       "    .dataframe tbody tr th {\n",
       "        vertical-align: top;\n",
       "    }\n",
       "\n",
       "    .dataframe thead th {\n",
       "        text-align: right;\n",
       "    }\n",
       "</style>\n",
       "<table border=\"1\" class=\"dataframe\">\n",
       "  <thead>\n",
       "    <tr style=\"text-align: right;\">\n",
       "      <th>Number Customers</th>\n",
       "      <th>6</th>\n",
       "      <th>7</th>\n",
       "      <th>8</th>\n",
       "      <th>9</th>\n",
       "      <th>10</th>\n",
       "      <th>11</th>\n",
       "      <th>12</th>\n",
       "      <th>13</th>\n",
       "      <th>14</th>\n",
       "      <th>Mean</th>\n",
       "    </tr>\n",
       "  </thead>\n",
       "  <tbody>\n",
       "    <tr>\n",
       "      <th>MAPE</th>\n",
       "      <td>2.2156</td>\n",
       "      <td>2.3114</td>\n",
       "      <td>2.6244</td>\n",
       "      <td>2.8952</td>\n",
       "      <td>3.1252</td>\n",
       "      <td>3.2157</td>\n",
       "      <td>3.7293</td>\n",
       "      <td>3.9340</td>\n",
       "      <td>4.3603</td>\n",
       "      <td>3.3343</td>\n",
       "    </tr>\n",
       "    <tr>\n",
       "      <th>RMSE</th>\n",
       "      <td>0.8039</td>\n",
       "      <td>0.8375</td>\n",
       "      <td>0.8582</td>\n",
       "      <td>0.8582</td>\n",
       "      <td>0.8375</td>\n",
       "      <td>0.8806</td>\n",
       "      <td>0.9356</td>\n",
       "      <td>0.9706</td>\n",
       "      <td>0.9739</td>\n",
       "      <td>0.8999</td>\n",
       "    </tr>\n",
       "  </tbody>\n",
       "</table>\n",
       "</div>"
      ],
      "text/plain": [
       "Number Customers       6       7       8       9      10      11      12  \\\n",
       "MAPE              2.2156  2.3114  2.6244  2.8952  3.1252  3.2157  3.7293   \n",
       "RMSE              0.8039  0.8375  0.8582  0.8582  0.8375  0.8806  0.9356   \n",
       "\n",
       "Number Customers      13      14    Mean  \n",
       "MAPE              3.9340  4.3603  3.3343  \n",
       "RMSE              0.9706  0.9739  0.8999  "
      ]
     },
     "metadata": {},
     "output_type": "display_data"
    }
   ],
   "source": [
    "# Load best parameters of the model\n",
    "best_params = fun_load_best_params(optimization_problem, model_abbreviation=\"NN\")\n",
    "\n",
    "# Create pipeline\n",
    "pipe = make_pipeline(StandardScaler(), \n",
    "                     MLPRegressor(hidden_layer_sizes=(256, 128, 64), activation=\"relu\", learning_rate=\"adaptive\", \n",
    "                                  max_iter=1000, random_state=42))\n",
    "pipe.set_params(**best_params)\n",
    "\n",
    "# Estimate model performance with cross-validation on the train set and get scores on test set (scoring: MAPE and RMSE)\n",
    "model_results_dict_all = fun_scores(pipe, X_train, y_train, X_test, y_test, compute_test_scores=True)"
   ]
  },
  {
   "cell_type": "markdown",
   "metadata": {},
   "source": [
    "**Exclude feature categories**"
   ]
  },
  {
   "cell_type": "code",
   "execution_count": 3,
   "metadata": {},
   "outputs": [
    {
     "data": {
      "text/plain": [
       "Index(['Instance ID', 'Number Customers', 'X Ratio', 'Y Ratio', 'X Depot',\n",
       "       'Y Depot', 'Depot Distance Ratio',\n",
       "       'Closest Customer Distance (CCD) Ratio', '2nd CCD Ratio',\n",
       "       '3rd CCD Ratio', '4th CCD Ratio', '5th CCD Ratio', '6th CCD Ratio',\n",
       "       '7th CCD Ratio', '8th CCD Ratio',\n",
       "       'Mean Distance To Other Customers Ratio',\n",
       "       'Gravity Center Distance Ratio', 'Cluster', 'Number Clusters',\n",
       "       'Cluster Size', 'X Centroid', 'Y Centroid',\n",
       "       'Centroid Distance To Depot Ratio',\n",
       "       'Distance To Closest Other Cluster Ratio', 'Cluster Area Ratio',\n",
       "       'Cluster Density Ratio', 'X Std', 'Y Std', 'X Max', 'Y Max', 'X Min',\n",
       "       'Y Min', 'Correlation', 'Skewness X', 'Skewness Y', 'Savings Ratio',\n",
       "       'Marginal Costs Ratio', 'Total Costs', 'Shapley Value'],\n",
       "      dtype='object')"
      ]
     },
     "metadata": {},
     "output_type": "display_data"
    }
   ],
   "source": [
    "# View all features\n",
    "display(train_data.columns)\n",
    "\n",
    "# Get all features categories with their features\n",
    "instance_features = [\"Instance ID\", \"Number Customers\", \"X Ratio\", \"Y Ratio\", \"X Depot\", \"Y Depot\"]\n",
    "distance_features = [\"Depot Distance Ratio\", \"Closest Customer Distance (CCD) Ratio\", \"2nd CCD Ratio\", \"3rd CCD Ratio\", \"4th CCD Ratio\", \"5th CCD Ratio\", \n",
    "                     \"6th CCD Ratio\", \"7th CCD Ratio\", \"8th CCD Ratio\", \"Mean Distance To Other Customers Ratio\", \"Gravity Center Distance Ratio\"]\n",
    "cluster_features = [\"Cluster\", \"Number Clusters\", \"Cluster Size\", \"X Centroid\", \"Y Centroid\", \"Centroid Distance To Depot Ratio\",\n",
    "                    \"Distance To Closest Other Cluster Ratio\", \"Cluster Area Ratio\", \"Cluster Density Ratio\"]\n",
    "statistical_features = [\"X Std\", \"Y Std\", \"X Max\", \"Y Max\", \"X Min\", \"Y Min\", \"Correlation\", \"Skewness X\", \"Skewness Y\"]\n",
    "cost_features = [\"Savings Ratio\", \"Marginal Costs Ratio\", \"Total Costs\"] #\"Shapley Value\"\n",
    "\n",
    "# Combine lists to one complete list and one dictionary\n",
    "all_features = instance_features + distance_features + cluster_features + statistical_features + cost_features\n",
    "feature_categories_dict = {\"Distance features\": distance_features,\n",
    "                           \"Cluster features\": cluster_features,\n",
    "                           \"Statistical features\": statistical_features}"
   ]
  },
  {
   "cell_type": "code",
   "execution_count": 4,
   "metadata": {},
   "outputs": [
    {
     "data": {
      "text/markdown": [
       "**############### Excluded feature category: Distance features ###############**"
      ],
      "text/plain": [
       "<IPython.core.display.Markdown object>"
      ]
     },
     "metadata": {},
     "output_type": "display_data"
    },
    {
     "name": "stdout",
     "output_type": "stream",
     "text": [
      "Number of excluded features: 11\n",
      "Number of used features: 27\n",
      "\n",
      "CV MAPE (scaled) train data:  6.5481 %\n",
      "CV RMSE (scaled) train data: 1.5714\n",
      "CV computation time: 23m, 42s\n",
      "\n",
      "MAPE (scaled) test data:  5.915 %\n",
      "RMSE (scaled) test data: 1.4649\n",
      "Model prediction time: 0s\n"
     ]
    },
    {
     "data": {
      "text/markdown": [
       "**MAPE and RMSE on test data per instance size:**"
      ],
      "text/plain": [
       "<IPython.core.display.Markdown object>"
      ]
     },
     "metadata": {},
     "output_type": "display_data"
    },
    {
     "data": {
      "text/html": [
       "<div>\n",
       "<style scoped>\n",
       "    .dataframe tbody tr th:only-of-type {\n",
       "        vertical-align: middle;\n",
       "    }\n",
       "\n",
       "    .dataframe tbody tr th {\n",
       "        vertical-align: top;\n",
       "    }\n",
       "\n",
       "    .dataframe thead th {\n",
       "        text-align: right;\n",
       "    }\n",
       "</style>\n",
       "<table border=\"1\" class=\"dataframe\">\n",
       "  <thead>\n",
       "    <tr style=\"text-align: right;\">\n",
       "      <th>Number Customers</th>\n",
       "      <th>6</th>\n",
       "      <th>7</th>\n",
       "      <th>8</th>\n",
       "      <th>9</th>\n",
       "      <th>10</th>\n",
       "      <th>11</th>\n",
       "      <th>12</th>\n",
       "      <th>13</th>\n",
       "      <th>14</th>\n",
       "      <th>Mean</th>\n",
       "    </tr>\n",
       "  </thead>\n",
       "  <tbody>\n",
       "    <tr>\n",
       "      <th>MAPE</th>\n",
       "      <td>5.3563</td>\n",
       "      <td>4.6730</td>\n",
       "      <td>5.5360</td>\n",
       "      <td>5.1717</td>\n",
       "      <td>5.5691</td>\n",
       "      <td>5.5747</td>\n",
       "      <td>6.1454</td>\n",
       "      <td>6.1907</td>\n",
       "      <td>7.5310</td>\n",
       "      <td>5.9150</td>\n",
       "    </tr>\n",
       "    <tr>\n",
       "      <th>RMSE</th>\n",
       "      <td>1.7305</td>\n",
       "      <td>1.5105</td>\n",
       "      <td>1.4342</td>\n",
       "      <td>1.3911</td>\n",
       "      <td>1.4086</td>\n",
       "      <td>1.4051</td>\n",
       "      <td>1.4193</td>\n",
       "      <td>1.4863</td>\n",
       "      <td>1.4852</td>\n",
       "      <td>1.4649</td>\n",
       "    </tr>\n",
       "  </tbody>\n",
       "</table>\n",
       "</div>"
      ],
      "text/plain": [
       "Number Customers       6       7       8       9      10      11      12  \\\n",
       "MAPE              5.3563  4.6730  5.5360  5.1717  5.5691  5.5747  6.1454   \n",
       "RMSE              1.7305  1.5105  1.4342  1.3911  1.4086  1.4051  1.4193   \n",
       "\n",
       "Number Customers      13      14    Mean  \n",
       "MAPE              6.1907  7.5310  5.9150  \n",
       "RMSE              1.4863  1.4852  1.4649  "
      ]
     },
     "metadata": {},
     "output_type": "display_data"
    },
    {
     "name": "stdout",
     "output_type": "stream",
     "text": [
      "\n",
      "MAPE difference: 5.915 - 3.3343 = 2.5807 %\n",
      "RMSE difference: 1.4649 - 0.8999 = 0.565\n",
      "\n"
     ]
    },
    {
     "data": {
      "text/markdown": [
       "**############### Excluded feature category: Cluster features ###############**"
      ],
      "text/plain": [
       "<IPython.core.display.Markdown object>"
      ]
     },
     "metadata": {},
     "output_type": "display_data"
    },
    {
     "name": "stdout",
     "output_type": "stream",
     "text": [
      "Number of excluded features: 9\n",
      "Number of used features: 29\n",
      "\n",
      "CV MAPE (scaled) train data:  3.5525 %\n",
      "CV RMSE (scaled) train data: 0.9653\n",
      "CV computation time: 15m, 59s\n",
      "\n",
      "MAPE (scaled) test data:  3.3785999999999996 %\n",
      "RMSE (scaled) test data: 0.9087\n",
      "Model prediction time: 0s\n"
     ]
    },
    {
     "data": {
      "text/markdown": [
       "**MAPE and RMSE on test data per instance size:**"
      ],
      "text/plain": [
       "<IPython.core.display.Markdown object>"
      ]
     },
     "metadata": {},
     "output_type": "display_data"
    },
    {
     "data": {
      "text/html": [
       "<div>\n",
       "<style scoped>\n",
       "    .dataframe tbody tr th:only-of-type {\n",
       "        vertical-align: middle;\n",
       "    }\n",
       "\n",
       "    .dataframe tbody tr th {\n",
       "        vertical-align: top;\n",
       "    }\n",
       "\n",
       "    .dataframe thead th {\n",
       "        text-align: right;\n",
       "    }\n",
       "</style>\n",
       "<table border=\"1\" class=\"dataframe\">\n",
       "  <thead>\n",
       "    <tr style=\"text-align: right;\">\n",
       "      <th>Number Customers</th>\n",
       "      <th>6</th>\n",
       "      <th>7</th>\n",
       "      <th>8</th>\n",
       "      <th>9</th>\n",
       "      <th>10</th>\n",
       "      <th>11</th>\n",
       "      <th>12</th>\n",
       "      <th>13</th>\n",
       "      <th>14</th>\n",
       "      <th>Mean</th>\n",
       "    </tr>\n",
       "  </thead>\n",
       "  <tbody>\n",
       "    <tr>\n",
       "      <th>MAPE</th>\n",
       "      <td>2.3671</td>\n",
       "      <td>2.4101</td>\n",
       "      <td>2.6994</td>\n",
       "      <td>2.8498</td>\n",
       "      <td>3.1543</td>\n",
       "      <td>3.3627</td>\n",
       "      <td>3.6974</td>\n",
       "      <td>4.0609</td>\n",
       "      <td>4.2904</td>\n",
       "      <td>3.3786</td>\n",
       "    </tr>\n",
       "    <tr>\n",
       "      <th>RMSE</th>\n",
       "      <td>0.8578</td>\n",
       "      <td>0.8526</td>\n",
       "      <td>0.8602</td>\n",
       "      <td>0.8319</td>\n",
       "      <td>0.8776</td>\n",
       "      <td>0.8961</td>\n",
       "      <td>0.9217</td>\n",
       "      <td>0.9975</td>\n",
       "      <td>0.9636</td>\n",
       "      <td>0.9087</td>\n",
       "    </tr>\n",
       "  </tbody>\n",
       "</table>\n",
       "</div>"
      ],
      "text/plain": [
       "Number Customers       6       7       8       9      10      11      12  \\\n",
       "MAPE              2.3671  2.4101  2.6994  2.8498  3.1543  3.3627  3.6974   \n",
       "RMSE              0.8578  0.8526  0.8602  0.8319  0.8776  0.8961  0.9217   \n",
       "\n",
       "Number Customers      13      14    Mean  \n",
       "MAPE              4.0609  4.2904  3.3786  \n",
       "RMSE              0.9975  0.9636  0.9087  "
      ]
     },
     "metadata": {},
     "output_type": "display_data"
    },
    {
     "name": "stdout",
     "output_type": "stream",
     "text": [
      "\n",
      "MAPE difference: 3.3785999999999996 - 3.3343 = 0.0443 %\n",
      "RMSE difference: 0.9087 - 0.8999 = 0.0088\n",
      "\n"
     ]
    },
    {
     "data": {
      "text/markdown": [
       "**############### Excluded feature category: Statistical features ###############**"
      ],
      "text/plain": [
       "<IPython.core.display.Markdown object>"
      ]
     },
     "metadata": {},
     "output_type": "display_data"
    },
    {
     "name": "stdout",
     "output_type": "stream",
     "text": [
      "Number of excluded features: 9\n",
      "Number of used features: 29\n",
      "\n",
      "CV MAPE (scaled) train data:  4.1996 %\n",
      "CV RMSE (scaled) train data: 1.1731\n",
      "CV computation time: 17m, 10s\n",
      "\n",
      "MAPE (scaled) test data:  3.9191999999999996 %\n",
      "RMSE (scaled) test data: 1.1116\n",
      "Model prediction time: 0s\n"
     ]
    },
    {
     "data": {
      "text/markdown": [
       "**MAPE and RMSE on test data per instance size:**"
      ],
      "text/plain": [
       "<IPython.core.display.Markdown object>"
      ]
     },
     "metadata": {},
     "output_type": "display_data"
    },
    {
     "data": {
      "text/html": [
       "<div>\n",
       "<style scoped>\n",
       "    .dataframe tbody tr th:only-of-type {\n",
       "        vertical-align: middle;\n",
       "    }\n",
       "\n",
       "    .dataframe tbody tr th {\n",
       "        vertical-align: top;\n",
       "    }\n",
       "\n",
       "    .dataframe thead th {\n",
       "        text-align: right;\n",
       "    }\n",
       "</style>\n",
       "<table border=\"1\" class=\"dataframe\">\n",
       "  <thead>\n",
       "    <tr style=\"text-align: right;\">\n",
       "      <th>Number Customers</th>\n",
       "      <th>6</th>\n",
       "      <th>7</th>\n",
       "      <th>8</th>\n",
       "      <th>9</th>\n",
       "      <th>10</th>\n",
       "      <th>11</th>\n",
       "      <th>12</th>\n",
       "      <th>13</th>\n",
       "      <th>14</th>\n",
       "      <th>Mean</th>\n",
       "    </tr>\n",
       "  </thead>\n",
       "  <tbody>\n",
       "    <tr>\n",
       "      <th>MAPE</th>\n",
       "      <td>2.5819</td>\n",
       "      <td>2.7048</td>\n",
       "      <td>3.3323</td>\n",
       "      <td>3.3242</td>\n",
       "      <td>3.6571</td>\n",
       "      <td>3.9755</td>\n",
       "      <td>4.3237</td>\n",
       "      <td>4.6195</td>\n",
       "      <td>4.9638</td>\n",
       "      <td>3.9192</td>\n",
       "    </tr>\n",
       "    <tr>\n",
       "      <th>RMSE</th>\n",
       "      <td>0.9435</td>\n",
       "      <td>1.0185</td>\n",
       "      <td>1.0772</td>\n",
       "      <td>1.0512</td>\n",
       "      <td>1.0475</td>\n",
       "      <td>1.1272</td>\n",
       "      <td>1.1526</td>\n",
       "      <td>1.2005</td>\n",
       "      <td>1.1878</td>\n",
       "      <td>1.1116</td>\n",
       "    </tr>\n",
       "  </tbody>\n",
       "</table>\n",
       "</div>"
      ],
      "text/plain": [
       "Number Customers       6       7       8       9      10      11      12  \\\n",
       "MAPE              2.5819  2.7048  3.3323  3.3242  3.6571  3.9755  4.3237   \n",
       "RMSE              0.9435  1.0185  1.0772  1.0512  1.0475  1.1272  1.1526   \n",
       "\n",
       "Number Customers      13      14    Mean  \n",
       "MAPE              4.6195  4.9638  3.9192  \n",
       "RMSE              1.2005  1.1878  1.1116  "
      ]
     },
     "metadata": {},
     "output_type": "display_data"
    },
    {
     "name": "stdout",
     "output_type": "stream",
     "text": [
      "\n",
      "MAPE difference: 3.9191999999999996 - 3.3343 = 0.5849 %\n",
      "RMSE difference: 1.1116 - 0.8999 = 0.2117\n",
      "\n"
     ]
    }
   ],
   "source": [
    "# Create a dictionary to store all the dictionaries with the results\n",
    "model_results_dict_all[\"MAPE difference\"] = None\n",
    "model_results_dict_all[\"RMSE difference\"] = None\n",
    "model_results_dict_all[\"Used features\"] = len(all_features)\n",
    "results_dict1 = {\"All features\": model_results_dict_all}\n",
    "\n",
    "# Exclude iteratively all three feature categories from the features and compute the train score\n",
    "for key in feature_categories_dict.keys():\n",
    "    display(Markdown(f\"**############### Excluded feature category: {key} ###############**\"))\n",
    "    \n",
    "    # Select only the used features in the train and test set\n",
    "    used_features = [i for i in all_features if i not in feature_categories_dict[key]]\n",
    "    X_train_small = X_train[used_features]\n",
    "    X_test_small = X_test[used_features]\n",
    "    print(\"Number of excluded features:\", len(feature_categories_dict[key]))\n",
    "    print(\"Number of used features: {}\\n\".format(len(used_features)))\n",
    "    #display(used_features)\n",
    "\n",
    "    # Estimate model performance with cross-validation on the train set and get scores on test set (scoring: MAPE and RMSE)\n",
    "    pipe.fit(X_train_small, y_train) # Model needs to be fitted again with the new set of features to avoid an error\n",
    "    model_results_dict_new = fun_scores(pipe, X_train_small, y_train, X_test_small, y_test, compute_test_scores=True)\n",
    "\n",
    "    # Compare the new results with the results of all categories\n",
    "    MAPE_diff = np.round(model_results_dict_new[\"MAPE\"][\"Test data\"] - model_results_dict_all[\"MAPE\"][\"Test data\"], 4)\n",
    "    RMSE_diff = np.round(model_results_dict_new[\"RMSE\"][\"Test data\"] - model_results_dict_all[\"RMSE\"][\"Test data\"], 4)\n",
    "    model_results_dict_new[\"MAPE difference\"] = MAPE_diff\n",
    "    model_results_dict_new[\"RMSE difference\"] = RMSE_diff\n",
    "    print(\"\\nMAPE difference: {} - {} = {} %\".format(model_results_dict_new[\"MAPE\"][\"Test data\"], model_results_dict_all[\"MAPE\"][\"Test data\"], MAPE_diff))\n",
    "    print(\"RMSE difference: {} - {} = {}\\n\".format(model_results_dict_new[\"RMSE\"][\"Test data\"], model_results_dict_all[\"RMSE\"][\"Test data\"], RMSE_diff))\n",
    "    model_results_dict_new[\"Used features\"] = len(used_features)\n",
    "\n",
    "    # Add the dictionary to the results dictionary\n",
    "    results_dict1[key] = model_results_dict_new"
   ]
  },
  {
   "cell_type": "markdown",
   "metadata": {},
   "source": [
    "**Save results**"
   ]
  },
  {
   "cell_type": "code",
   "execution_count": 5,
   "metadata": {},
   "outputs": [
    {
     "data": {
      "text/plain": [
       "{'All features': {'MAPE': {'Train data': 3.5156, 'Test data': 3.3343},\n",
       "  'RMSE': {'Train data': 0.9565, 'Test data': 0.8999},\n",
       "  'MAPE Difference': None,\n",
       "  'RMSE Difference': None,\n",
       "  'Used Features': 38},\n",
       " 'Distance features': {'MAPE': {'Train data': 6.5481, 'Test data': 5.915},\n",
       "  'RMSE': {'Train data': 1.5714, 'Test data': 1.4649},\n",
       "  'MAPE Difference': 2.5807,\n",
       "  'RMSE Difference': 0.565,\n",
       "  'Used Features': 27},\n",
       " 'Cluster features': {'MAPE': {'Train data': 3.5525,\n",
       "   'Test data': 3.3785999999999996},\n",
       "  'RMSE': {'Train data': 0.9653, 'Test data': 0.9087},\n",
       "  'MAPE Difference': 0.0443,\n",
       "  'RMSE Difference': 0.0088,\n",
       "  'Used Features': 29},\n",
       " 'Statistical features': {'MAPE': {'Train data': 4.1996,\n",
       "   'Test data': 3.9191999999999996},\n",
       "  'RMSE': {'Train data': 1.1731, 'Test data': 1.1116},\n",
       "  'MAPE Difference': 0.5849,\n",
       "  'RMSE Difference': 0.2117,\n",
       "  'Used Features': 29}}"
      ]
     },
     "metadata": {},
     "output_type": "display_data"
    },
    {
     "data": {
      "text/html": [
       "<div>\n",
       "<style scoped>\n",
       "    .dataframe tbody tr th:only-of-type {\n",
       "        vertical-align: middle;\n",
       "    }\n",
       "\n",
       "    .dataframe tbody tr th {\n",
       "        vertical-align: top;\n",
       "    }\n",
       "\n",
       "    .dataframe thead th {\n",
       "        text-align: right;\n",
       "    }\n",
       "</style>\n",
       "<table border=\"1\" class=\"dataframe\">\n",
       "  <thead>\n",
       "    <tr style=\"text-align: right;\">\n",
       "      <th></th>\n",
       "      <th>All Features</th>\n",
       "      <th>No Distance Features</th>\n",
       "      <th>No Cluster Features</th>\n",
       "      <th>No Statistical Features</th>\n",
       "    </tr>\n",
       "  </thead>\n",
       "  <tbody>\n",
       "    <tr>\n",
       "      <th>Number of used features</th>\n",
       "      <td>38</td>\n",
       "      <td>27</td>\n",
       "      <td>29</td>\n",
       "      <td>29</td>\n",
       "    </tr>\n",
       "    <tr>\n",
       "      <th>MAPE test scores</th>\n",
       "      <td>3.33</td>\n",
       "      <td>5.92</td>\n",
       "      <td>3.38</td>\n",
       "      <td>3.92</td>\n",
       "    </tr>\n",
       "    <tr>\n",
       "      <th>MAPE test difference</th>\n",
       "      <td>None</td>\n",
       "      <td>2.58</td>\n",
       "      <td>0.04</td>\n",
       "      <td>0.58</td>\n",
       "    </tr>\n",
       "  </tbody>\n",
       "</table>\n",
       "</div>"
      ],
      "text/plain": [
       "                        All Features No Distance Features No Cluster Features  \\\n",
       "Number of used features           38                   27                  29   \n",
       "MAPE test scores                3.33                 5.92                3.38   \n",
       "MAPE test difference            None                 2.58                0.04   \n",
       "\n",
       "                        No Statistical Features  \n",
       "Number of used features                      29  \n",
       "MAPE test scores                           3.92  \n",
       "MAPE test difference                       0.58  "
      ]
     },
     "metadata": {},
     "output_type": "display_data"
    },
    {
     "data": {
      "text/html": [
       "<div>\n",
       "<style scoped>\n",
       "    .dataframe tbody tr th:only-of-type {\n",
       "        vertical-align: middle;\n",
       "    }\n",
       "\n",
       "    .dataframe tbody tr th {\n",
       "        vertical-align: top;\n",
       "    }\n",
       "\n",
       "    .dataframe thead th {\n",
       "        text-align: right;\n",
       "    }\n",
       "</style>\n",
       "<table border=\"1\" class=\"dataframe\">\n",
       "  <thead>\n",
       "    <tr style=\"text-align: right;\">\n",
       "      <th></th>\n",
       "      <th>All Features</th>\n",
       "      <th>No Distance Features</th>\n",
       "      <th>No Cluster Features</th>\n",
       "      <th>No Statistical Features</th>\n",
       "    </tr>\n",
       "  </thead>\n",
       "  <tbody>\n",
       "    <tr>\n",
       "      <th>Number of used features</th>\n",
       "      <td>38</td>\n",
       "      <td>27</td>\n",
       "      <td>29</td>\n",
       "      <td>29</td>\n",
       "    </tr>\n",
       "    <tr>\n",
       "      <th>RMSE test scores</th>\n",
       "      <td>0.8999</td>\n",
       "      <td>1.4649</td>\n",
       "      <td>0.9087</td>\n",
       "      <td>1.1116</td>\n",
       "    </tr>\n",
       "    <tr>\n",
       "      <th>RMSE test difference</th>\n",
       "      <td>None</td>\n",
       "      <td>0.565</td>\n",
       "      <td>0.0088</td>\n",
       "      <td>0.2117</td>\n",
       "    </tr>\n",
       "  </tbody>\n",
       "</table>\n",
       "</div>"
      ],
      "text/plain": [
       "                        All Features No Distance Features No Cluster Features  \\\n",
       "Number of used features           38                   27                  29   \n",
       "RMSE test scores              0.8999               1.4649              0.9087   \n",
       "RMSE test difference            None                0.565              0.0088   \n",
       "\n",
       "                        No Statistical Features  \n",
       "Number of used features                      29  \n",
       "RMSE test scores                         1.1116  \n",
       "RMSE test difference                     0.2117  "
      ]
     },
     "metadata": {},
     "output_type": "display_data"
    }
   ],
   "source": [
    "# Remove the unnecessary dictionary keys\n",
    "for dictionary in results_dict1:\n",
    "  for key in [\"CV computation time\", \"Model fit time\", \"Model prediction time\", \"Scores per instance size\"]: results_dict1[dictionary].pop(key)\n",
    "display(results_dict1)\n",
    "\n",
    "# Get all the scores from the results dictionary\n",
    "used_features_list = [str(dict[\"Used features\"]) for dict in results_dict1.values()]\n",
    "MAPE_test_scores = [np.round(dict[\"MAPE\"][\"Test data\"], 2) for dict in results_dict1.values()]\n",
    "RMSE_test_scores = [dict[\"RMSE\"][\"Test data\"] for dict in results_dict1.values()]\n",
    "MAPE_test_deltas = [None] + list(np.round([dict[\"MAPE difference\"] for dict in results_dict1.values()][1:], 2))\n",
    "RMSE_test_deltas = [dict[\"RMSE difference\"] for dict in results_dict1.values()]\n",
    "\n",
    "# Save all results in Data Frames\n",
    "df_mape1 = pd.DataFrame(data=[used_features_list, MAPE_test_scores, MAPE_test_deltas], \n",
    "                       index=[\"Number of used features\", \"MAPE test scores\", \"MAPE test difference\"], \n",
    "                       columns=[\"All features\", \"No distance features\", \"No cluster features\", \"No statistical features\"])\n",
    "\n",
    "df_rmse1 = pd.DataFrame(data=[used_features_list, RMSE_test_scores, RMSE_test_deltas], \n",
    "                       index=[\"Number of used features\", \"RMSE test scores\", \"RMSE test difference\"], \n",
    "                       columns=[\"All features\", \"No distance features\", \"No cluster features\", \"No statistical features\"])\n",
    "display(df_mape1, df_rmse1)\n",
    "\n",
    "# Save data frames with results into an excel file\n",
    "file_path = str(f\"04_test_results/{optimization_problem}_feature_category_importance.xlsx\")\n",
    "\n",
    "# Use ExcelWriter to write multiple DataFrames to the same file\n",
    "with pd.ExcelWriter(file_path) as writer:\n",
    "    df_mape1.to_excel(writer, sheet_name=\"MAPE_scores\")\n",
    "    df_rmse1.to_excel(writer, sheet_name=\"RMSE_scores\")"
   ]
  },
  {
   "cell_type": "markdown",
   "metadata": {},
   "source": [
    "### **2. Top 20 features**"
   ]
  },
  {
   "cell_type": "code",
   "execution_count": null,
   "metadata": {},
   "outputs": [],
   "source": [
    "# Create a dictionary to store all the dictionaries with the results\n",
    "results_dict2 = {\"All features\": model_results_dict_all}\n",
    "\n",
    "# Load most important features from script \"feature_selection.ipynb\" (always add \"Instance ID\" for the scaling part)\n",
    "top_features = list(pd.read_csv(f\"02_best_features/{optimization_problem}_top_features\")) + [\"Instance ID\"]\n",
    "\n",
    "# Select only the most important features in the train and test set\n",
    "X_train_small = X_train[top_features]\n",
    "X_test_small = X_test[top_features]\n",
    "\n",
    "# Create pipeline\n",
    "pipe = make_pipeline(StandardScaler(), \n",
    "                     MLPRegressor(hidden_layer_sizes=(256, 128, 64), activation=\"relu\", learning_rate=\"adaptive\", \n",
    "                                  max_iter=1000, random_state=42))\n",
    "pipe.set_params(**best_params)\n",
    "\n",
    "# Estimate model performance with cross-validation on the train set and get scores on test set (scoring: MAPE and RMSE)\n",
    "model_results_dict_new = fun_scores(pipe, X_train_small, y_train, X_test_small, y_test, compute_test_scores=True)\n",
    "\n",
    "# Compare the new results with the results of all categories\n",
    "MAPE_diff = np.round(model_results_dict_new[\"MAPE\"][\"Test data\"] - model_results_dict_all[\"MAPE\"][\"Test data\"], 4)\n",
    "RMSE_diff = np.round(model_results_dict_new[\"RMSE\"][\"Test data\"] - model_results_dict_all[\"RMSE\"][\"Test data\"], 4)\n",
    "model_results_dict_new[\"MAPE difference\"] = MAPE_diff\n",
    "model_results_dict_new[\"RMSE difference\"] = RMSE_diff\n",
    "print(\"\\nMAPE difference: {} - {} = {} %\".format(model_results_dict_new[\"MAPE\"][\"Test data\"], model_results_dict_all[\"MAPE\"][\"Test data\"], MAPE_diff))\n",
    "print(\"RMSE difference: {} - {} = {}\\n\".format(model_results_dict_new[\"RMSE\"][\"Test data\"], model_results_dict_all[\"RMSE\"][\"Test data\"], RMSE_diff))\n",
    "\n",
    "# Add the dictionary to the results dictionary\n",
    "results_dict2[\"Top20\"] = model_results_dict_new"
   ]
  },
  {
   "cell_type": "markdown",
   "metadata": {},
   "source": [
    "### **3. Principal component analysis (PCA)**"
   ]
  },
  {
   "cell_type": "code",
   "execution_count": null,
   "metadata": {},
   "outputs": [
    {
     "name": "stdout",
     "output_type": "stream",
     "text": [
      "CV MAPE (scaled) train data:  13.780800000000001 %\n",
      "CV RMSE (scaled) train data: 3.8533\n",
      "CV computation time: 27m, 16s\n",
      "\n",
      "MAPE (scaled) test data:  12.9055 %\n",
      "RMSE (scaled) test data: 3.5008\n",
      "Model prediction time: 0s\n"
     ]
    },
    {
     "data": {
      "text/markdown": [
       "**MAPE and RMSE on test data per instance size:**"
      ],
      "text/plain": [
       "<IPython.core.display.Markdown object>"
      ]
     },
     "metadata": {},
     "output_type": "display_data"
    },
    {
     "data": {
      "text/html": [
       "<div>\n",
       "<style scoped>\n",
       "    .dataframe tbody tr th:only-of-type {\n",
       "        vertical-align: middle;\n",
       "    }\n",
       "\n",
       "    .dataframe tbody tr th {\n",
       "        vertical-align: top;\n",
       "    }\n",
       "\n",
       "    .dataframe thead th {\n",
       "        text-align: right;\n",
       "    }\n",
       "</style>\n",
       "<table border=\"1\" class=\"dataframe\">\n",
       "  <thead>\n",
       "    <tr style=\"text-align: right;\">\n",
       "      <th>Number Customers</th>\n",
       "      <th>6</th>\n",
       "      <th>7</th>\n",
       "      <th>8</th>\n",
       "      <th>9</th>\n",
       "      <th>10</th>\n",
       "      <th>11</th>\n",
       "      <th>12</th>\n",
       "      <th>13</th>\n",
       "      <th>14</th>\n",
       "      <th>Mean</th>\n",
       "    </tr>\n",
       "  </thead>\n",
       "  <tbody>\n",
       "    <tr>\n",
       "      <th>MAPE</th>\n",
       "      <td>11.5882</td>\n",
       "      <td>12.0260</td>\n",
       "      <td>11.8583</td>\n",
       "      <td>12.8728</td>\n",
       "      <td>12.7622</td>\n",
       "      <td>13.2019</td>\n",
       "      <td>12.6856</td>\n",
       "      <td>13.1309</td>\n",
       "      <td>14.3778</td>\n",
       "      <td>12.9055</td>\n",
       "    </tr>\n",
       "    <tr>\n",
       "      <th>RMSE</th>\n",
       "      <td>4.4515</td>\n",
       "      <td>3.9392</td>\n",
       "      <td>3.8939</td>\n",
       "      <td>3.7653</td>\n",
       "      <td>3.4448</td>\n",
       "      <td>3.3983</td>\n",
       "      <td>3.0937</td>\n",
       "      <td>3.0312</td>\n",
       "      <td>3.2358</td>\n",
       "      <td>3.5008</td>\n",
       "    </tr>\n",
       "  </tbody>\n",
       "</table>\n",
       "</div>"
      ],
      "text/plain": [
       "Number Customers        6        7        8        9       10       11  \\\n",
       "MAPE              11.5882  12.0260  11.8583  12.8728  12.7622  13.2019   \n",
       "RMSE               4.4515   3.9392   3.8939   3.7653   3.4448   3.3983   \n",
       "\n",
       "Number Customers       12       13       14     Mean  \n",
       "MAPE              12.6856  13.1309  14.3778  12.9055  \n",
       "RMSE               3.0937   3.0312   3.2358   3.5008  "
      ]
     },
     "metadata": {},
     "output_type": "display_data"
    },
    {
     "name": "stdout",
     "output_type": "stream",
     "text": [
      "\n",
      "MAPE difference: 12.9055 - 3.3343 = 9.5712 %\n",
      "RMSE difference: 3.5008 - 0.8999 = 2.6009\n",
      "\n"
     ]
    }
   ],
   "source": [
    "# Create pipeline\n",
    "pipe = make_pipeline(StandardScaler(),\n",
    "                     PCA(n_components=10), # Apply PCA to the training data and reduce it to n_components \n",
    "                     MLPRegressor(hidden_layer_sizes=(256, 128, 64), activation=\"relu\", learning_rate=\"adaptive\", \n",
    "                                  max_iter=1000, random_state=42))\n",
    "pipe.set_params(**best_params)\n",
    "\n",
    "# Estimate model performance with cross-validation on the train set and get scores on test set (scoring: MAPE and RMSE)\n",
    "model_results_dict_new = fun_scores(pipe, X_train, y_train, X_test, y_test, compute_test_scores=True)\n",
    "\n",
    "# Compare the new results with the results of all categories\n",
    "MAPE_diff = np.round(model_results_dict_new[\"MAPE\"][\"Test data\"] - model_results_dict_all[\"MAPE\"][\"Test data\"], 4)\n",
    "RMSE_diff = np.round(model_results_dict_new[\"RMSE\"][\"Test data\"] - model_results_dict_all[\"RMSE\"][\"Test data\"], 4)\n",
    "model_results_dict_new[\"MAPE difference\"] = MAPE_diff\n",
    "model_results_dict_new[\"RMSE difference\"] = RMSE_diff\n",
    "print(\"\\nMAPE difference: {} - {} = {} %\".format(model_results_dict_new[\"MAPE\"][\"Test data\"], model_results_dict_all[\"MAPE\"][\"Test data\"], MAPE_diff))\n",
    "print(\"RMSE difference: {} - {} = {}\\n\".format(model_results_dict_new[\"RMSE\"][\"Test data\"], model_results_dict_all[\"RMSE\"][\"Test data\"], RMSE_diff))\n",
    "\n",
    "# Add the dictionary to the results dictionary\n",
    "results_dict2[\"PCA\"] = model_results_dict_new"
   ]
  },
  {
   "cell_type": "markdown",
   "metadata": {},
   "source": [
    "**Save results**"
   ]
  },
  {
   "cell_type": "code",
   "execution_count": 12,
   "metadata": {},
   "outputs": [
    {
     "data": {
      "text/html": [
       "<div>\n",
       "<style scoped>\n",
       "    .dataframe tbody tr th:only-of-type {\n",
       "        vertical-align: middle;\n",
       "    }\n",
       "\n",
       "    .dataframe tbody tr th {\n",
       "        vertical-align: top;\n",
       "    }\n",
       "\n",
       "    .dataframe thead th {\n",
       "        text-align: right;\n",
       "    }\n",
       "</style>\n",
       "<table border=\"1\" class=\"dataframe\">\n",
       "  <thead>\n",
       "    <tr style=\"text-align: right;\">\n",
       "      <th></th>\n",
       "      <th>All Features</th>\n",
       "      <th>Top 20 Features</th>\n",
       "      <th>PCA</th>\n",
       "    </tr>\n",
       "  </thead>\n",
       "  <tbody>\n",
       "    <tr>\n",
       "      <th>MAPE test scores</th>\n",
       "      <td>3.33</td>\n",
       "      <td>6.25</td>\n",
       "      <td>12.91</td>\n",
       "    </tr>\n",
       "    <tr>\n",
       "      <th>MAPE test difference</th>\n",
       "      <td>NaN</td>\n",
       "      <td>2.92</td>\n",
       "      <td>9.57</td>\n",
       "    </tr>\n",
       "  </tbody>\n",
       "</table>\n",
       "</div>"
      ],
      "text/plain": [
       "                      All Features  Top 20 Features    PCA\n",
       "MAPE test scores              3.33             6.25  12.91\n",
       "MAPE test difference           NaN             2.92   9.57"
      ]
     },
     "metadata": {},
     "output_type": "display_data"
    },
    {
     "data": {
      "text/html": [
       "<div>\n",
       "<style scoped>\n",
       "    .dataframe tbody tr th:only-of-type {\n",
       "        vertical-align: middle;\n",
       "    }\n",
       "\n",
       "    .dataframe tbody tr th {\n",
       "        vertical-align: top;\n",
       "    }\n",
       "\n",
       "    .dataframe thead th {\n",
       "        text-align: right;\n",
       "    }\n",
       "</style>\n",
       "<table border=\"1\" class=\"dataframe\">\n",
       "  <thead>\n",
       "    <tr style=\"text-align: right;\">\n",
       "      <th></th>\n",
       "      <th>All Features</th>\n",
       "      <th>Top 20 Features</th>\n",
       "      <th>PCA</th>\n",
       "    </tr>\n",
       "  </thead>\n",
       "  <tbody>\n",
       "    <tr>\n",
       "      <th>RMSE test scores</th>\n",
       "      <td>0.8999</td>\n",
       "      <td>1.7862</td>\n",
       "      <td>3.5008</td>\n",
       "    </tr>\n",
       "    <tr>\n",
       "      <th>RMSE test difference</th>\n",
       "      <td>NaN</td>\n",
       "      <td>0.8863</td>\n",
       "      <td>2.6009</td>\n",
       "    </tr>\n",
       "  </tbody>\n",
       "</table>\n",
       "</div>"
      ],
      "text/plain": [
       "                      All Features  Top 20 Features     PCA\n",
       "RMSE test scores            0.8999           1.7862  3.5008\n",
       "RMSE test difference           NaN           0.8863  2.6009"
      ]
     },
     "metadata": {},
     "output_type": "display_data"
    }
   ],
   "source": [
    "# Get all the scores from the results dictionary\n",
    "MAPE_test_scores = [np.round(dict[\"MAPE\"][\"Test data\"], 2) for dict in results_dict2.values()]\n",
    "RMSE_test_scores = [dict[\"RMSE\"][\"Test data\"] for dict in results_dict2.values()]\n",
    "MAPE_test_deltas = [None] + list(np.round([dict[\"MAPE difference\"] for dict in results_dict2.values()][1:], 2))\n",
    "RMSE_test_deltas = [dict[\"RMSE difference\"] for dict in results_dict2.values()]\n",
    "\n",
    "# Save all results in Data Frames\n",
    "df_mape2 = pd.DataFrame(data=[MAPE_test_scores, MAPE_test_deltas], \n",
    "                       index=[\"MAPE test scores\", \"MAPE test difference\"], \n",
    "                       columns=[\"All features\", \"Top 20 features\", \"PCA\"])\n",
    "\n",
    "df_rmse2 = pd.DataFrame(data=[RMSE_test_scores, RMSE_test_deltas], \n",
    "                       index=[\"RMSE test scores\", \"RMSE test difference\"], \n",
    "                       columns=[\"All features\", \"Top 20 features\", \"PCA\"])\n",
    "display(df_mape2, df_rmse2)\n",
    "\n",
    "# Save data frames with results into an excel file\n",
    "file_path = str(f\"04_test_results/{optimization_problem}_top20_pca.xlsx\")\n",
    "\n",
    "# Use ExcelWriter to write multiple DataFrames to the same file\n",
    "with pd.ExcelWriter(file_path) as writer:\n",
    "    df_mape2.to_excel(writer, sheet_name=\"MAPE_scores\")\n",
    "    df_rmse2.to_excel(writer, sheet_name=\"RMSE_scores\")"
   ]
  },
  {
   "cell_type": "markdown",
   "metadata": {},
   "source": [
    "**further tests**"
   ]
  },
  {
   "cell_type": "code",
   "execution_count": null,
   "metadata": {},
   "outputs": [],
   "source": [
    "# Create pipeline\n",
    "pipe = make_pipeline(StandardScaler(),\n",
    "                     PCA(n_components=20), # Apply PCA to the training data and reduce it to n_components \n",
    "                     MLPRegressor(hidden_layer_sizes=(256, 128, 64), activation=\"relu\", learning_rate=\"adaptive\", \n",
    "                                  max_iter=1000, random_state=42))\n",
    "pipe.set_params(**best_params)\n",
    "\n",
    "# Estimate model performance with cross-validation on the train set and get scores on test set (scoring: MAPE and RMSE)\n",
    "model_results_dict_new = fun_scores(pipe, X_train, y_train, X_test, y_test, compute_test_scores=True)\n",
    "\n",
    "# Compare the new results with the results of all categories\n",
    "MAPE_diff = np.round(model_results_dict_new[\"MAPE\"][\"Test data\"] - model_results_dict_all[\"MAPE\"][\"Test data\"], 4)\n",
    "RMSE_diff = np.round(model_results_dict_new[\"RMSE\"][\"Test data\"] - model_results_dict_all[\"RMSE\"][\"Test data\"], 4)\n",
    "model_results_dict_new[\"MAPE difference\"] = MAPE_diff\n",
    "model_results_dict_new[\"RMSE difference\"] = RMSE_diff\n",
    "print(\"\\nMAPE difference: {} - {} = {} %\".format(model_results_dict_new[\"MAPE\"][\"Test data\"], model_results_dict_all[\"MAPE\"][\"Test data\"], MAPE_diff))\n",
    "print(\"RMSE difference: {} - {} = {}\\n\".format(model_results_dict_new[\"RMSE\"][\"Test data\"], model_results_dict_all[\"RMSE\"][\"Test data\"], RMSE_diff))\n",
    "\n",
    "# Add the dictionary to the results dictionary\n",
    "results_dict2[\"PCA\"] = model_results_dict_new"
   ]
  }
 ],
 "metadata": {
  "kernelspec": {
   "display_name": "base",
   "language": "python",
   "name": "python3"
  },
  "language_info": {
   "codemirror_mode": {
    "name": "ipython",
    "version": 3
   },
   "file_extension": ".py",
   "mimetype": "text/x-python",
   "name": "python",
   "nbconvert_exporter": "python",
   "pygments_lexer": "ipython3",
   "version": "3.11.7"
  }
 },
 "nbformat": 4,
 "nbformat_minor": 2
}
