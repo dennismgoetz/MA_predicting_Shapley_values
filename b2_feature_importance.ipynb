{
 "cells": [
  {
   "cell_type": "code",
   "execution_count": 1,
   "metadata": {},
   "outputs": [],
   "source": [
    "import pandas as pd\n",
    "import numpy as np\n",
    "from IPython.display import Markdown\n",
    "\n",
    "from sklearn.base import clone\n",
    "from sklearn.pipeline import make_pipeline\n",
    "from sklearn.decomposition import PCA\n",
    "from sklearn.preprocessing import StandardScaler\n",
    "\n",
    "from sklearn.neural_network import MLPRegressor\n",
    "\n",
    "# Import helperfunctions\n",
    "from ML_functions import fun_load_data, fun_preprocessing, fun_load_best_params\n",
    "from ML_functions import fun_scores\n",
    "\n",
    "# Assign string \"TSP\" or \"CVRP\" to the following variable to define the optimization problem\n",
    "optimization_problem = \"TSP\"\n",
    "\n",
    "# Load data\n",
    "data, _ = fun_load_data(optimization_problem)\n",
    "\n",
    "# Do the train test split during the preprocessing\n",
    "X_train, X_test, y_train, y_test, train_data = fun_preprocessing(data, train_size=0.8)"
   ]
  },
  {
   "cell_type": "markdown",
   "metadata": {},
   "source": [
    "# **Feature Importance**\n",
    "### **1. Importance of feature categories**\n",
    "**Compute train and test score with all features: Neural Network - Multi Layer Perceptron**"
   ]
  },
  {
   "cell_type": "code",
   "execution_count": 2,
   "metadata": {},
   "outputs": [
    {
     "data": {
      "text/plain": [
       "{'mlpregressor__alpha': 0.1,\n",
       " 'mlpregressor__batch_size': 32,\n",
       " 'mlpregressor__early_stopping': False,\n",
       " 'mlpregressor__learning_rate_init': 0.001,\n",
       " 'mlpregressor__solver': 'sgd'}"
      ]
     },
     "metadata": {},
     "output_type": "display_data"
    },
    {
     "name": "stdout",
     "output_type": "stream",
     "text": [
      "CV MAPE (scaled) train data: 3.52 %\n",
      "CV RMSE (scaled) train data: 0.96\n",
      "CV computation time: 12m, 20s\n",
      "\n",
      "MAPE (scaled) test data: 3.3000000000000003 %\n",
      "RMSE (scaled) test data: 0.9\n",
      "Model fit time: 23m, 38s\n",
      "Model prediction time: 0s\n"
     ]
    },
    {
     "data": {
      "text/markdown": [
       "**MAPE and RMSE on test data per instance size:**"
      ],
      "text/plain": [
       "<IPython.core.display.Markdown object>"
      ]
     },
     "metadata": {},
     "output_type": "display_data"
    },
    {
     "data": {
      "text/html": [
       "<div>\n",
       "<style scoped>\n",
       "    .dataframe tbody tr th:only-of-type {\n",
       "        vertical-align: middle;\n",
       "    }\n",
       "\n",
       "    .dataframe tbody tr th {\n",
       "        vertical-align: top;\n",
       "    }\n",
       "\n",
       "    .dataframe thead th {\n",
       "        text-align: right;\n",
       "    }\n",
       "</style>\n",
       "<table border=\"1\" class=\"dataframe\">\n",
       "  <thead>\n",
       "    <tr style=\"text-align: right;\">\n",
       "      <th>Number Customers</th>\n",
       "      <th>6</th>\n",
       "      <th>7</th>\n",
       "      <th>8</th>\n",
       "      <th>9</th>\n",
       "      <th>10</th>\n",
       "      <th>11</th>\n",
       "      <th>12</th>\n",
       "      <th>13</th>\n",
       "      <th>14</th>\n",
       "      <th>Mean</th>\n",
       "    </tr>\n",
       "  </thead>\n",
       "  <tbody>\n",
       "    <tr>\n",
       "      <th>MAPE</th>\n",
       "      <td>2.32</td>\n",
       "      <td>2.39</td>\n",
       "      <td>2.74</td>\n",
       "      <td>2.81</td>\n",
       "      <td>3.11</td>\n",
       "      <td>3.24</td>\n",
       "      <td>3.59</td>\n",
       "      <td>3.94</td>\n",
       "      <td>4.17</td>\n",
       "      <td>3.3</td>\n",
       "    </tr>\n",
       "    <tr>\n",
       "      <th>RMSE</th>\n",
       "      <td>0.80</td>\n",
       "      <td>0.85</td>\n",
       "      <td>0.85</td>\n",
       "      <td>0.85</td>\n",
       "      <td>0.86</td>\n",
       "      <td>0.89</td>\n",
       "      <td>0.92</td>\n",
       "      <td>0.98</td>\n",
       "      <td>0.96</td>\n",
       "      <td>0.9</td>\n",
       "    </tr>\n",
       "  </tbody>\n",
       "</table>\n",
       "</div>"
      ],
      "text/plain": [
       "Number Customers     6     7     8     9    10    11    12    13    14  Mean\n",
       "MAPE              2.32  2.39  2.74  2.81  3.11  3.24  3.59  3.94  4.17   3.3\n",
       "RMSE              0.80  0.85  0.85  0.85  0.86  0.89  0.92  0.98  0.96   0.9"
      ]
     },
     "metadata": {},
     "output_type": "display_data"
    }
   ],
   "source": [
    "# Load best parameters of the model\n",
    "best_params = fun_load_best_params(optimization_problem, model_abbreviation=\"NN\")\n",
    "\n",
    "# Create pipeline\n",
    "pipe = make_pipeline(StandardScaler(), \n",
    "                     MLPRegressor(hidden_layer_sizes=(256, 128, 64), activation=\"relu\", learning_rate=\"adaptive\", \n",
    "                                  max_iter=1000, random_state=42))\n",
    "pipe.set_params(**best_params)\n",
    "\n",
    "# Estimate model performance with cross-validation on the train set and get scores on test set (scoring: MAPE and RMSE)\n",
    "model_results_dict_all = fun_scores(pipe, X_train, y_train, X_test, y_test, compute_test_scores=True)"
   ]
  },
  {
   "cell_type": "markdown",
   "metadata": {},
   "source": [
    "**Exclude feature categories**"
   ]
  },
  {
   "cell_type": "code",
   "execution_count": 3,
   "metadata": {},
   "outputs": [
    {
     "data": {
      "text/plain": [
       "Index(['Number Customers', 'X Ratio', 'Y Ratio', 'X Depot', 'Y Depot',\n",
       "       'Depot Distance Ratio', 'Closest Customer Distance (CCD) Ratio',\n",
       "       '2nd CCD Ratio', '3rd CCD Ratio', '4th CCD Ratio', '5th CCD Ratio',\n",
       "       '6th CCD Ratio', '7th CCD Ratio', '8th CCD Ratio',\n",
       "       'Mean Distance To Other Customers Ratio',\n",
       "       'Gravity Center Distance Ratio', 'Number Clusters', 'Cluster Size',\n",
       "       'X Centroid', 'Y Centroid', 'Centroid Distance To Depot Ratio',\n",
       "       'Cluster Area Ratio', 'Cluster Density Ratio', 'X Std', 'Y Std',\n",
       "       'X Max', 'Y Max', 'X Min', 'Y Min', 'Correlation', 'Skewness X',\n",
       "       'Skewness Y', 'Savings Ratio', 'Marginal Cost Ratio', 'Total Cost',\n",
       "       'Shapley Value'],\n",
       "      dtype='object')"
      ]
     },
     "metadata": {},
     "output_type": "display_data"
    }
   ],
   "source": [
    "# View all features\n",
    "display(train_data.columns)\n",
    "\n",
    "# Get all features categories with their features\n",
    "instance_features = [\"Number Customers\", \"X Ratio\", \"Y Ratio\", \"X Depot\", \"Y Depot\"]\n",
    "distance_features = [\"Depot Distance Ratio\", \"Closest Customer Distance (CCD) Ratio\", \"2nd CCD Ratio\", \"3rd CCD Ratio\", \"4th CCD Ratio\", \"5th CCD Ratio\", \n",
    "                     \"6th CCD Ratio\", \"7th CCD Ratio\", \"8th CCD Ratio\", \"Mean Distance To Other Customers Ratio\", \"Gravity Center Distance Ratio\"]\n",
    "cluster_features = [\"Number Clusters\", \"Cluster Size\", \"X Centroid\", \"Y Centroid\", \"Centroid Distance To Depot Ratio\", \"Cluster Area Ratio\", \"Cluster Density Ratio\"] #\"Cluster\", \"Distance To Closest Other Cluster Ratio\"\n",
    "statistical_features = [\"X Std\", \"Y Std\", \"X Max\", \"Y Max\", \"X Min\", \"Y Min\", \"Correlation\", \"Skewness X\", \"Skewness Y\"]\n",
    "cost_features = [\"Savings Ratio\", \"Marginal Cost Ratio\", \"Total Cost\"] #\"Shapley Value\"\n",
    "\n",
    "# Combine lists to one complete list and one dictionary\n",
    "all_features = instance_features + distance_features + cluster_features + statistical_features + cost_features\n",
    "feature_categories_dict = {\"Distance features\": distance_features,\n",
    "                           \"Cluster features\": cluster_features,\n",
    "                           \"Statistical features\": statistical_features}"
   ]
  },
  {
   "cell_type": "code",
   "execution_count": 4,
   "metadata": {},
   "outputs": [
    {
     "data": {
      "text/markdown": [
       "**############### Excluded feature category: Distance features ###############**"
      ],
      "text/plain": [
       "<IPython.core.display.Markdown object>"
      ]
     },
     "metadata": {},
     "output_type": "display_data"
    },
    {
     "name": "stdout",
     "output_type": "stream",
     "text": [
      "Number of excluded features: 11\n",
      "Number of used features: 24\n",
      "\n",
      "CV MAPE (scaled) train data: 6.460000000000001 %\n",
      "CV RMSE (scaled) train data: 1.54\n",
      "CV computation time: 14m, 48s\n",
      "\n",
      "MAPE (scaled) test data: 5.86 %\n",
      "RMSE (scaled) test data: 1.45\n",
      "Model fit time: 26m, 41s\n",
      "Model prediction time: 0s\n"
     ]
    },
    {
     "data": {
      "text/markdown": [
       "**MAPE and RMSE on test data per instance size:**"
      ],
      "text/plain": [
       "<IPython.core.display.Markdown object>"
      ]
     },
     "metadata": {},
     "output_type": "display_data"
    },
    {
     "data": {
      "text/html": [
       "<div>\n",
       "<style scoped>\n",
       "    .dataframe tbody tr th:only-of-type {\n",
       "        vertical-align: middle;\n",
       "    }\n",
       "\n",
       "    .dataframe tbody tr th {\n",
       "        vertical-align: top;\n",
       "    }\n",
       "\n",
       "    .dataframe thead th {\n",
       "        text-align: right;\n",
       "    }\n",
       "</style>\n",
       "<table border=\"1\" class=\"dataframe\">\n",
       "  <thead>\n",
       "    <tr style=\"text-align: right;\">\n",
       "      <th>Number Customers</th>\n",
       "      <th>6</th>\n",
       "      <th>7</th>\n",
       "      <th>8</th>\n",
       "      <th>9</th>\n",
       "      <th>10</th>\n",
       "      <th>11</th>\n",
       "      <th>12</th>\n",
       "      <th>13</th>\n",
       "      <th>14</th>\n",
       "      <th>Mean</th>\n",
       "    </tr>\n",
       "  </thead>\n",
       "  <tbody>\n",
       "    <tr>\n",
       "      <th>MAPE</th>\n",
       "      <td>5.03</td>\n",
       "      <td>4.66</td>\n",
       "      <td>5.61</td>\n",
       "      <td>4.97</td>\n",
       "      <td>5.84</td>\n",
       "      <td>5.50</td>\n",
       "      <td>6.25</td>\n",
       "      <td>6.03</td>\n",
       "      <td>7.35</td>\n",
       "      <td>5.86</td>\n",
       "    </tr>\n",
       "    <tr>\n",
       "      <th>RMSE</th>\n",
       "      <td>1.62</td>\n",
       "      <td>1.46</td>\n",
       "      <td>1.43</td>\n",
       "      <td>1.37</td>\n",
       "      <td>1.40</td>\n",
       "      <td>1.41</td>\n",
       "      <td>1.43</td>\n",
       "      <td>1.46</td>\n",
       "      <td>1.50</td>\n",
       "      <td>1.45</td>\n",
       "    </tr>\n",
       "  </tbody>\n",
       "</table>\n",
       "</div>"
      ],
      "text/plain": [
       "Number Customers     6     7     8     9    10    11    12    13    14  Mean\n",
       "MAPE              5.03  4.66  5.61  4.97  5.84  5.50  6.25  6.03  7.35  5.86\n",
       "RMSE              1.62  1.46  1.43  1.37  1.40  1.41  1.43  1.46  1.50  1.45"
      ]
     },
     "metadata": {},
     "output_type": "display_data"
    },
    {
     "name": "stdout",
     "output_type": "stream",
     "text": [
      "\n",
      "MAPE difference: 5.86 - 3.3000000000000003 = 2.56 %\n",
      "RMSE difference: 1.45 - 0.9 = 0.55\n",
      "\n"
     ]
    },
    {
     "data": {
      "text/markdown": [
       "**############### Excluded feature category: Cluster features ###############**"
      ],
      "text/plain": [
       "<IPython.core.display.Markdown object>"
      ]
     },
     "metadata": {},
     "output_type": "display_data"
    },
    {
     "name": "stdout",
     "output_type": "stream",
     "text": [
      "Number of excluded features: 7\n",
      "Number of used features: 28\n",
      "\n",
      "CV MAPE (scaled) train data: 3.53 %\n",
      "CV RMSE (scaled) train data: 0.96\n",
      "CV computation time: 10m, 21s\n",
      "\n",
      "MAPE (scaled) test data: 3.34 %\n",
      "RMSE (scaled) test data: 0.9\n",
      "Model fit time: 17m, 12s\n",
      "Model prediction time: 0s\n"
     ]
    },
    {
     "data": {
      "text/markdown": [
       "**MAPE and RMSE on test data per instance size:**"
      ],
      "text/plain": [
       "<IPython.core.display.Markdown object>"
      ]
     },
     "metadata": {},
     "output_type": "display_data"
    },
    {
     "data": {
      "text/html": [
       "<div>\n",
       "<style scoped>\n",
       "    .dataframe tbody tr th:only-of-type {\n",
       "        vertical-align: middle;\n",
       "    }\n",
       "\n",
       "    .dataframe tbody tr th {\n",
       "        vertical-align: top;\n",
       "    }\n",
       "\n",
       "    .dataframe thead th {\n",
       "        text-align: right;\n",
       "    }\n",
       "</style>\n",
       "<table border=\"1\" class=\"dataframe\">\n",
       "  <thead>\n",
       "    <tr style=\"text-align: right;\">\n",
       "      <th>Number Customers</th>\n",
       "      <th>6</th>\n",
       "      <th>7</th>\n",
       "      <th>8</th>\n",
       "      <th>9</th>\n",
       "      <th>10</th>\n",
       "      <th>11</th>\n",
       "      <th>12</th>\n",
       "      <th>13</th>\n",
       "      <th>14</th>\n",
       "      <th>Mean</th>\n",
       "    </tr>\n",
       "  </thead>\n",
       "  <tbody>\n",
       "    <tr>\n",
       "      <th>MAPE</th>\n",
       "      <td>2.29</td>\n",
       "      <td>2.47</td>\n",
       "      <td>2.71</td>\n",
       "      <td>2.85</td>\n",
       "      <td>3.06</td>\n",
       "      <td>3.28</td>\n",
       "      <td>3.64</td>\n",
       "      <td>4.00</td>\n",
       "      <td>4.25</td>\n",
       "      <td>3.34</td>\n",
       "    </tr>\n",
       "    <tr>\n",
       "      <th>RMSE</th>\n",
       "      <td>0.82</td>\n",
       "      <td>0.85</td>\n",
       "      <td>0.86</td>\n",
       "      <td>0.86</td>\n",
       "      <td>0.87</td>\n",
       "      <td>0.89</td>\n",
       "      <td>0.92</td>\n",
       "      <td>0.98</td>\n",
       "      <td>0.94</td>\n",
       "      <td>0.90</td>\n",
       "    </tr>\n",
       "  </tbody>\n",
       "</table>\n",
       "</div>"
      ],
      "text/plain": [
       "Number Customers     6     7     8     9    10    11    12    13    14  Mean\n",
       "MAPE              2.29  2.47  2.71  2.85  3.06  3.28  3.64  4.00  4.25  3.34\n",
       "RMSE              0.82  0.85  0.86  0.86  0.87  0.89  0.92  0.98  0.94  0.90"
      ]
     },
     "metadata": {},
     "output_type": "display_data"
    },
    {
     "name": "stdout",
     "output_type": "stream",
     "text": [
      "\n",
      "MAPE difference: 3.34 - 3.3000000000000003 = 0.04 %\n",
      "RMSE difference: 0.9 - 0.9 = 0.0\n",
      "\n"
     ]
    },
    {
     "data": {
      "text/markdown": [
       "**############### Excluded feature category: Statistical features ###############**"
      ],
      "text/plain": [
       "<IPython.core.display.Markdown object>"
      ]
     },
     "metadata": {},
     "output_type": "display_data"
    },
    {
     "name": "stdout",
     "output_type": "stream",
     "text": [
      "Number of excluded features: 9\n",
      "Number of used features: 26\n",
      "\n",
      "CV MAPE (scaled) train data: 4.17 %\n",
      "CV RMSE (scaled) train data: 1.17\n",
      "CV computation time: 12m, 24s\n",
      "\n",
      "MAPE (scaled) test data: 3.94 %\n",
      "RMSE (scaled) test data: 1.11\n",
      "Model fit time: 21m, 46s\n",
      "Model prediction time: 0s\n"
     ]
    },
    {
     "data": {
      "text/markdown": [
       "**MAPE and RMSE on test data per instance size:**"
      ],
      "text/plain": [
       "<IPython.core.display.Markdown object>"
      ]
     },
     "metadata": {},
     "output_type": "display_data"
    },
    {
     "data": {
      "text/html": [
       "<div>\n",
       "<style scoped>\n",
       "    .dataframe tbody tr th:only-of-type {\n",
       "        vertical-align: middle;\n",
       "    }\n",
       "\n",
       "    .dataframe tbody tr th {\n",
       "        vertical-align: top;\n",
       "    }\n",
       "\n",
       "    .dataframe thead th {\n",
       "        text-align: right;\n",
       "    }\n",
       "</style>\n",
       "<table border=\"1\" class=\"dataframe\">\n",
       "  <thead>\n",
       "    <tr style=\"text-align: right;\">\n",
       "      <th>Number Customers</th>\n",
       "      <th>6</th>\n",
       "      <th>7</th>\n",
       "      <th>8</th>\n",
       "      <th>9</th>\n",
       "      <th>10</th>\n",
       "      <th>11</th>\n",
       "      <th>12</th>\n",
       "      <th>13</th>\n",
       "      <th>14</th>\n",
       "      <th>Mean</th>\n",
       "    </tr>\n",
       "  </thead>\n",
       "  <tbody>\n",
       "    <tr>\n",
       "      <th>MAPE</th>\n",
       "      <td>2.72</td>\n",
       "      <td>2.51</td>\n",
       "      <td>3.30</td>\n",
       "      <td>3.41</td>\n",
       "      <td>3.59</td>\n",
       "      <td>3.93</td>\n",
       "      <td>4.43</td>\n",
       "      <td>4.69</td>\n",
       "      <td>4.99</td>\n",
       "      <td>3.94</td>\n",
       "    </tr>\n",
       "    <tr>\n",
       "      <th>RMSE</th>\n",
       "      <td>0.98</td>\n",
       "      <td>0.95</td>\n",
       "      <td>1.08</td>\n",
       "      <td>1.07</td>\n",
       "      <td>1.02</td>\n",
       "      <td>1.12</td>\n",
       "      <td>1.16</td>\n",
       "      <td>1.23</td>\n",
       "      <td>1.19</td>\n",
       "      <td>1.11</td>\n",
       "    </tr>\n",
       "  </tbody>\n",
       "</table>\n",
       "</div>"
      ],
      "text/plain": [
       "Number Customers     6     7     8     9    10    11    12    13    14  Mean\n",
       "MAPE              2.72  2.51  3.30  3.41  3.59  3.93  4.43  4.69  4.99  3.94\n",
       "RMSE              0.98  0.95  1.08  1.07  1.02  1.12  1.16  1.23  1.19  1.11"
      ]
     },
     "metadata": {},
     "output_type": "display_data"
    },
    {
     "name": "stdout",
     "output_type": "stream",
     "text": [
      "\n",
      "MAPE difference: 3.94 - 3.3000000000000003 = 0.64 %\n",
      "RMSE difference: 1.11 - 0.9 = 0.21\n",
      "\n"
     ]
    }
   ],
   "source": [
    "# Create a dictionary to store all the dictionaries with the results\n",
    "model_results_dict_all[\"MAPE difference\"] = None\n",
    "model_results_dict_all[\"RMSE difference\"] = None\n",
    "model_results_dict_all[\"Used features\"] = len(all_features)\n",
    "results_dict1 = {\"All features\": model_results_dict_all}\n",
    "\n",
    "# Exclude iteratively all three feature categories from the features and compute the train score\n",
    "for key in feature_categories_dict.keys():\n",
    "    display(Markdown(f\"**############### Excluded feature category: {key} ###############**\"))\n",
    "    \n",
    "    # Select only the used features in the train and test set\n",
    "    used_features = [i for i in all_features if i not in feature_categories_dict[key]]\n",
    "    X_train_small = X_train[used_features]\n",
    "    X_test_small = X_test[used_features]\n",
    "    print(\"Number of excluded features:\", len(feature_categories_dict[key]))\n",
    "    print(\"Number of used features: {}\\n\".format(len(used_features)))\n",
    "    #display(used_features)\n",
    "    \n",
    "    # Clone the pipeline to get an unfitted version\n",
    "    pipe = clone(pipe)\n",
    "\n",
    "    # Estimate model performance with cross-validation on the train set and get scores on test set (scoring: MAPE and RMSE)\n",
    "    model_results_dict_new = fun_scores(pipe, X_train_small, y_train, X_test_small, y_test, compute_test_scores=True)\n",
    "\n",
    "    # Compare the new results with the results of all categories\n",
    "    MAPE_diff = np.round(model_results_dict_new[\"MAPE\"][\"Test data\"] - model_results_dict_all[\"MAPE\"][\"Test data\"], 2)\n",
    "    RMSE_diff = np.round(model_results_dict_new[\"RMSE\"][\"Test data\"] - model_results_dict_all[\"RMSE\"][\"Test data\"], 2)\n",
    "    model_results_dict_new[\"MAPE difference\"] = MAPE_diff\n",
    "    model_results_dict_new[\"RMSE difference\"] = RMSE_diff\n",
    "    print(\"\\nMAPE difference: {} - {} = {} %\".format(model_results_dict_new[\"MAPE\"][\"Test data\"], model_results_dict_all[\"MAPE\"][\"Test data\"], MAPE_diff))\n",
    "    print(\"RMSE difference: {} - {} = {}\\n\".format(model_results_dict_new[\"RMSE\"][\"Test data\"], model_results_dict_all[\"RMSE\"][\"Test data\"], RMSE_diff))\n",
    "    model_results_dict_new[\"Used features\"] = len(used_features)\n",
    "\n",
    "    # Add the dictionary to the results dictionary\n",
    "    results_dict1[key] = model_results_dict_new"
   ]
  },
  {
   "cell_type": "markdown",
   "metadata": {},
   "source": [
    "**Save results**"
   ]
  },
  {
   "cell_type": "code",
   "execution_count": 5,
   "metadata": {},
   "outputs": [
    {
     "data": {
      "text/plain": [
       "{'All features': {'MAPE': {'Train data': 3.52,\n",
       "   'Test data': 3.3000000000000003},\n",
       "  'RMSE': {'Train data': 0.96, 'Test data': 0.9},\n",
       "  'MAPE difference': None,\n",
       "  'RMSE difference': None,\n",
       "  'Used features': 35},\n",
       " 'Distance features': {'MAPE': {'Train data': 6.460000000000001,\n",
       "   'Test data': 5.86},\n",
       "  'RMSE': {'Train data': 1.54, 'Test data': 1.45},\n",
       "  'MAPE difference': 2.56,\n",
       "  'RMSE difference': 0.55,\n",
       "  'Used features': 24},\n",
       " 'Cluster features': {'MAPE': {'Train data': 3.53, 'Test data': 3.34},\n",
       "  'RMSE': {'Train data': 0.96, 'Test data': 0.9},\n",
       "  'MAPE difference': 0.04,\n",
       "  'RMSE difference': 0.0,\n",
       "  'Used features': 28},\n",
       " 'Statistical features': {'MAPE': {'Train data': 4.17, 'Test data': 3.94},\n",
       "  'RMSE': {'Train data': 1.17, 'Test data': 1.11},\n",
       "  'MAPE difference': 0.64,\n",
       "  'RMSE difference': 0.21,\n",
       "  'Used features': 26}}"
      ]
     },
     "metadata": {},
     "output_type": "display_data"
    },
    {
     "data": {
      "text/html": [
       "<div>\n",
       "<style scoped>\n",
       "    .dataframe tbody tr th:only-of-type {\n",
       "        vertical-align: middle;\n",
       "    }\n",
       "\n",
       "    .dataframe tbody tr th {\n",
       "        vertical-align: top;\n",
       "    }\n",
       "\n",
       "    .dataframe thead th {\n",
       "        text-align: right;\n",
       "    }\n",
       "</style>\n",
       "<table border=\"1\" class=\"dataframe\">\n",
       "  <thead>\n",
       "    <tr style=\"text-align: right;\">\n",
       "      <th></th>\n",
       "      <th>All features</th>\n",
       "      <th>No distance features</th>\n",
       "      <th>No cluster features</th>\n",
       "      <th>No statistical features</th>\n",
       "    </tr>\n",
       "  </thead>\n",
       "  <tbody>\n",
       "    <tr>\n",
       "      <th>Number of used features</th>\n",
       "      <td>35</td>\n",
       "      <td>24</td>\n",
       "      <td>28</td>\n",
       "      <td>26</td>\n",
       "    </tr>\n",
       "    <tr>\n",
       "      <th>MAPE test scores</th>\n",
       "      <td>3.3</td>\n",
       "      <td>5.86</td>\n",
       "      <td>3.34</td>\n",
       "      <td>3.94</td>\n",
       "    </tr>\n",
       "    <tr>\n",
       "      <th>MAPE test difference</th>\n",
       "      <td>None</td>\n",
       "      <td>2.56</td>\n",
       "      <td>0.04</td>\n",
       "      <td>0.64</td>\n",
       "    </tr>\n",
       "  </tbody>\n",
       "</table>\n",
       "</div>"
      ],
      "text/plain": [
       "                        All features No distance features No cluster features  \\\n",
       "Number of used features           35                   24                  28   \n",
       "MAPE test scores                 3.3                 5.86                3.34   \n",
       "MAPE test difference            None                 2.56                0.04   \n",
       "\n",
       "                        No statistical features  \n",
       "Number of used features                      26  \n",
       "MAPE test scores                           3.94  \n",
       "MAPE test difference                       0.64  "
      ]
     },
     "metadata": {},
     "output_type": "display_data"
    },
    {
     "data": {
      "text/html": [
       "<div>\n",
       "<style scoped>\n",
       "    .dataframe tbody tr th:only-of-type {\n",
       "        vertical-align: middle;\n",
       "    }\n",
       "\n",
       "    .dataframe tbody tr th {\n",
       "        vertical-align: top;\n",
       "    }\n",
       "\n",
       "    .dataframe thead th {\n",
       "        text-align: right;\n",
       "    }\n",
       "</style>\n",
       "<table border=\"1\" class=\"dataframe\">\n",
       "  <thead>\n",
       "    <tr style=\"text-align: right;\">\n",
       "      <th></th>\n",
       "      <th>All features</th>\n",
       "      <th>No distance features</th>\n",
       "      <th>No cluster features</th>\n",
       "      <th>No statistical features</th>\n",
       "    </tr>\n",
       "  </thead>\n",
       "  <tbody>\n",
       "    <tr>\n",
       "      <th>Number of used features</th>\n",
       "      <td>35</td>\n",
       "      <td>24</td>\n",
       "      <td>28</td>\n",
       "      <td>26</td>\n",
       "    </tr>\n",
       "    <tr>\n",
       "      <th>RMSE test scores</th>\n",
       "      <td>0.9</td>\n",
       "      <td>1.45</td>\n",
       "      <td>0.9</td>\n",
       "      <td>1.11</td>\n",
       "    </tr>\n",
       "    <tr>\n",
       "      <th>RMSE test difference</th>\n",
       "      <td>None</td>\n",
       "      <td>0.55</td>\n",
       "      <td>0.0</td>\n",
       "      <td>0.21</td>\n",
       "    </tr>\n",
       "  </tbody>\n",
       "</table>\n",
       "</div>"
      ],
      "text/plain": [
       "                        All features No distance features No cluster features  \\\n",
       "Number of used features           35                   24                  28   \n",
       "RMSE test scores                 0.9                 1.45                 0.9   \n",
       "RMSE test difference            None                 0.55                 0.0   \n",
       "\n",
       "                        No statistical features  \n",
       "Number of used features                      26  \n",
       "RMSE test scores                           1.11  \n",
       "RMSE test difference                       0.21  "
      ]
     },
     "metadata": {},
     "output_type": "display_data"
    }
   ],
   "source": [
    "# Remove the unnecessary dictionary keys\n",
    "for dictionary in results_dict1:\n",
    "  for key in [\"CV computation time\", \"Model fit time\", \"Model prediction time\", \"Scores per instance size\"]: results_dict1[dictionary].pop(key)\n",
    "display(results_dict1)\n",
    "\n",
    "# Get all the scores from the results dictionary\n",
    "used_features_list = [str(dict[\"Used features\"]) for dict in results_dict1.values()]\n",
    "MAPE_test_scores = [dict[\"MAPE\"][\"Test data\"] for dict in results_dict1.values()]\n",
    "RMSE_test_scores = [dict[\"RMSE\"][\"Test data\"] for dict in results_dict1.values()]\n",
    "MAPE_test_deltas = [dict[\"MAPE difference\"] for dict in results_dict1.values()]\n",
    "RMSE_test_deltas = [dict[\"RMSE difference\"] for dict in results_dict1.values()]\n",
    "\n",
    "# Save all results in Data Frames\n",
    "df_mape1 = pd.DataFrame(data=[used_features_list, MAPE_test_scores, MAPE_test_deltas], \n",
    "                       index=[\"Number of used features\", \"MAPE test scores\", \"MAPE test difference\"], \n",
    "                       columns=[\"All features\", \"No distance features\", \"No cluster features\", \"No statistical features\"])\n",
    "\n",
    "df_rmse1 = pd.DataFrame(data=[used_features_list, RMSE_test_scores, RMSE_test_deltas], \n",
    "                       index=[\"Number of used features\", \"RMSE test scores\", \"RMSE test difference\"], \n",
    "                       columns=[\"All features\", \"No distance features\", \"No cluster features\", \"No statistical features\"])\n",
    "display(df_mape1, df_rmse1)"
   ]
  },
  {
   "cell_type": "markdown",
   "metadata": {},
   "source": [
    "### **2. Top 20 features**"
   ]
  },
  {
   "cell_type": "code",
   "execution_count": 6,
   "metadata": {},
   "outputs": [
    {
     "name": "stdout",
     "output_type": "stream",
     "text": [
      "CV MAPE (scaled) train data: 5.140000000000001 %\n",
      "CV RMSE (scaled) train data: 1.46\n",
      "CV computation time: 14m, 3s\n",
      "\n",
      "MAPE (scaled) test data: 4.87 %\n",
      "RMSE (scaled) test data: 1.39\n",
      "Model fit time: 20m, 58s\n",
      "Model prediction time: 0s\n"
     ]
    },
    {
     "data": {
      "text/markdown": [
       "**MAPE and RMSE on test data per instance size:**"
      ],
      "text/plain": [
       "<IPython.core.display.Markdown object>"
      ]
     },
     "metadata": {},
     "output_type": "display_data"
    },
    {
     "data": {
      "text/html": [
       "<div>\n",
       "<style scoped>\n",
       "    .dataframe tbody tr th:only-of-type {\n",
       "        vertical-align: middle;\n",
       "    }\n",
       "\n",
       "    .dataframe tbody tr th {\n",
       "        vertical-align: top;\n",
       "    }\n",
       "\n",
       "    .dataframe thead th {\n",
       "        text-align: right;\n",
       "    }\n",
       "</style>\n",
       "<table border=\"1\" class=\"dataframe\">\n",
       "  <thead>\n",
       "    <tr style=\"text-align: right;\">\n",
       "      <th>Number Customers</th>\n",
       "      <th>6</th>\n",
       "      <th>7</th>\n",
       "      <th>8</th>\n",
       "      <th>9</th>\n",
       "      <th>10</th>\n",
       "      <th>11</th>\n",
       "      <th>12</th>\n",
       "      <th>13</th>\n",
       "      <th>14</th>\n",
       "      <th>Mean</th>\n",
       "    </tr>\n",
       "  </thead>\n",
       "  <tbody>\n",
       "    <tr>\n",
       "      <th>MAPE</th>\n",
       "      <td>3.56</td>\n",
       "      <td>4.10</td>\n",
       "      <td>4.41</td>\n",
       "      <td>4.66</td>\n",
       "      <td>4.80</td>\n",
       "      <td>4.76</td>\n",
       "      <td>4.95</td>\n",
       "      <td>5.29</td>\n",
       "      <td>5.92</td>\n",
       "      <td>4.87</td>\n",
       "    </tr>\n",
       "    <tr>\n",
       "      <th>RMSE</th>\n",
       "      <td>1.44</td>\n",
       "      <td>1.48</td>\n",
       "      <td>1.42</td>\n",
       "      <td>1.40</td>\n",
       "      <td>1.41</td>\n",
       "      <td>1.34</td>\n",
       "      <td>1.32</td>\n",
       "      <td>1.37</td>\n",
       "      <td>1.39</td>\n",
       "      <td>1.39</td>\n",
       "    </tr>\n",
       "  </tbody>\n",
       "</table>\n",
       "</div>"
      ],
      "text/plain": [
       "Number Customers     6     7     8     9    10    11    12    13    14  Mean\n",
       "MAPE              3.56  4.10  4.41  4.66  4.80  4.76  4.95  5.29  5.92  4.87\n",
       "RMSE              1.44  1.48  1.42  1.40  1.41  1.34  1.32  1.37  1.39  1.39"
      ]
     },
     "metadata": {},
     "output_type": "display_data"
    },
    {
     "name": "stdout",
     "output_type": "stream",
     "text": [
      "\n",
      "MAPE difference: 4.87 - 3.3000000000000003 = 1.57 %\n",
      "RMSE difference: 1.39 - 0.9 = 0.49\n",
      "\n"
     ]
    }
   ],
   "source": [
    "# Create a dictionary to store all the dictionaries with the results\n",
    "results_dict2 = {\"All features\": model_results_dict_all}\n",
    "\n",
    "# Load most important features from script \"feature_selection.ipynb\"\n",
    "top20_features = list(pd.read_csv(f\"02_best_features/{optimization_problem}_top20_features\"))\n",
    "\n",
    "# Select only the most important features in the train and test set\n",
    "X_train_small = X_train[top20_features]\n",
    "X_test_small = X_test[top20_features]\n",
    "\n",
    "# Clone the pipeline to get an unfitted version\n",
    "pipe = clone(pipe)\n",
    "\n",
    "# Estimate model performance with cross-validation on the train set and get scores on test set (scoring: MAPE and RMSE)\n",
    "model_results_dict_new = fun_scores(pipe, X_train_small, y_train, X_test_small, y_test, compute_test_scores=True)\n",
    "\n",
    "# Compare the new results with the results of all categories\n",
    "MAPE_diff = np.round(model_results_dict_new[\"MAPE\"][\"Test data\"] - model_results_dict_all[\"MAPE\"][\"Test data\"], 2)\n",
    "RMSE_diff = np.round(model_results_dict_new[\"RMSE\"][\"Test data\"] - model_results_dict_all[\"RMSE\"][\"Test data\"], 2)\n",
    "model_results_dict_new[\"MAPE difference\"] = MAPE_diff\n",
    "model_results_dict_new[\"RMSE difference\"] = RMSE_diff\n",
    "print(\"\\nMAPE difference: {} - {} = {} %\".format(model_results_dict_new[\"MAPE\"][\"Test data\"], model_results_dict_all[\"MAPE\"][\"Test data\"], MAPE_diff))\n",
    "print(\"RMSE difference: {} - {} = {}\\n\".format(model_results_dict_new[\"RMSE\"][\"Test data\"], model_results_dict_all[\"RMSE\"][\"Test data\"], RMSE_diff))\n",
    "\n",
    "# Add the dictionary to the results dictionary\n",
    "results_dict2[\"Top20\"] = model_results_dict_new"
   ]
  },
  {
   "cell_type": "markdown",
   "metadata": {},
   "source": [
    "**Save results**"
   ]
  },
  {
   "cell_type": "code",
   "execution_count": 7,
   "metadata": {},
   "outputs": [
    {
     "data": {
      "text/html": [
       "<div>\n",
       "<style scoped>\n",
       "    .dataframe tbody tr th:only-of-type {\n",
       "        vertical-align: middle;\n",
       "    }\n",
       "\n",
       "    .dataframe tbody tr th {\n",
       "        vertical-align: top;\n",
       "    }\n",
       "\n",
       "    .dataframe thead th {\n",
       "        text-align: right;\n",
       "    }\n",
       "</style>\n",
       "<table border=\"1\" class=\"dataframe\">\n",
       "  <thead>\n",
       "    <tr style=\"text-align: right;\">\n",
       "      <th></th>\n",
       "      <th>All features</th>\n",
       "      <th>Top 20 features</th>\n",
       "    </tr>\n",
       "  </thead>\n",
       "  <tbody>\n",
       "    <tr>\n",
       "      <th>MAPE test scores</th>\n",
       "      <td>3.3</td>\n",
       "      <td>4.87</td>\n",
       "    </tr>\n",
       "    <tr>\n",
       "      <th>MAPE test difference</th>\n",
       "      <td>NaN</td>\n",
       "      <td>1.57</td>\n",
       "    </tr>\n",
       "  </tbody>\n",
       "</table>\n",
       "</div>"
      ],
      "text/plain": [
       "                      All features  Top 20 features\n",
       "MAPE test scores               3.3             4.87\n",
       "MAPE test difference           NaN             1.57"
      ]
     },
     "metadata": {},
     "output_type": "display_data"
    },
    {
     "data": {
      "text/html": [
       "<div>\n",
       "<style scoped>\n",
       "    .dataframe tbody tr th:only-of-type {\n",
       "        vertical-align: middle;\n",
       "    }\n",
       "\n",
       "    .dataframe tbody tr th {\n",
       "        vertical-align: top;\n",
       "    }\n",
       "\n",
       "    .dataframe thead th {\n",
       "        text-align: right;\n",
       "    }\n",
       "</style>\n",
       "<table border=\"1\" class=\"dataframe\">\n",
       "  <thead>\n",
       "    <tr style=\"text-align: right;\">\n",
       "      <th></th>\n",
       "      <th>All features</th>\n",
       "      <th>Top 20 features</th>\n",
       "    </tr>\n",
       "  </thead>\n",
       "  <tbody>\n",
       "    <tr>\n",
       "      <th>RMSE test scores</th>\n",
       "      <td>0.9</td>\n",
       "      <td>1.39</td>\n",
       "    </tr>\n",
       "    <tr>\n",
       "      <th>RMSE test difference</th>\n",
       "      <td>NaN</td>\n",
       "      <td>0.49</td>\n",
       "    </tr>\n",
       "  </tbody>\n",
       "</table>\n",
       "</div>"
      ],
      "text/plain": [
       "                      All features  Top 20 features\n",
       "RMSE test scores               0.9             1.39\n",
       "RMSE test difference           NaN             0.49"
      ]
     },
     "metadata": {},
     "output_type": "display_data"
    }
   ],
   "source": [
    "# Get all the scores from the results dictionary\n",
    "MAPE_test_scores = [dict[\"MAPE\"][\"Test data\"] for dict in results_dict2.values()]\n",
    "RMSE_test_scores = [dict[\"RMSE\"][\"Test data\"] for dict in results_dict2.values()]\n",
    "MAPE_test_deltas = [dict[\"MAPE difference\"] for dict in results_dict2.values()]\n",
    "RMSE_test_deltas = [dict[\"RMSE difference\"] for dict in results_dict2.values()]\n",
    "\n",
    "# Save all results in Data Frames\n",
    "df_mape2 = pd.DataFrame(data=[MAPE_test_scores, MAPE_test_deltas], \n",
    "                       index=[\"MAPE test scores\", \"MAPE test difference\"], \n",
    "                       columns=[\"All features\", \"Top 20 features\"])\n",
    "\n",
    "df_rmse2 = pd.DataFrame(data=[RMSE_test_scores, RMSE_test_deltas], \n",
    "                       index=[\"RMSE test scores\", \"RMSE test difference\"], \n",
    "                       columns=[\"All features\", \"Top 20 features\"])\n",
    "display(df_mape2, df_rmse2)\n",
    "\n",
    "# Save data frames with results into an excel file\n",
    "file_path = str(f\"04_test_results/{optimization_problem}_feature_analysis.xlsx\")\n",
    "\n",
    "# Use ExcelWriter to write multiple DataFrames to the same file\n",
    "with pd.ExcelWriter(file_path) as writer:\n",
    "    df_mape1.to_excel(writer, sheet_name=\"MAPE_scores_categories\")\n",
    "    df_rmse1.to_excel(writer, sheet_name=\"RMSE_scores_categories\")\n",
    "    df_mape2.to_excel(writer, sheet_name=\"MAPE_scores_top20\")\n",
    "    df_rmse2.to_excel(writer, sheet_name=\"RMSE_scores_top20\")"
   ]
  }
 ],
 "metadata": {
  "kernelspec": {
   "display_name": "base",
   "language": "python",
   "name": "python3"
  },
  "language_info": {
   "codemirror_mode": {
    "name": "ipython",
    "version": 3
   },
   "file_extension": ".py",
   "mimetype": "text/x-python",
   "name": "python",
   "nbconvert_exporter": "python",
   "pygments_lexer": "ipython3",
   "version": "3.11.7"
  }
 },
 "nbformat": 4,
 "nbformat_minor": 2
}
