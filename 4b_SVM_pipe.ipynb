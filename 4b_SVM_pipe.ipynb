{
 "cells": [
  {
   "cell_type": "markdown",
   "metadata": {},
   "source": [
    "# **Support Vector Machines with Kernels - Kernel Machines**"
   ]
  },
  {
   "cell_type": "code",
   "execution_count": 1,
   "metadata": {},
   "outputs": [],
   "source": [
    "import time\n",
    "import pickle\n",
    "import pandas as pd\n",
    "import numpy as np\n",
    "\n",
    "from sklearn.pipeline import Pipeline, make_pipeline\n",
    "from sklearn.preprocessing import StandardScaler, MinMaxScaler, RobustScaler \n",
    "from sklearn.model_selection import train_test_split, cross_val_score, cross_validate, GridSearchCV, RandomizedSearchCV\n",
    "from sklearn.metrics import get_scorer_names, mean_absolute_percentage_error\n",
    "\n",
    "from sklearn.svm import SVR\n",
    "\n",
    "# import helperfunctions\n",
    "from ML_functions import fun_load_data, fun_preprocessing, fun_fit_tuning\n",
    "from ML_functions import fun_convert_time\n",
    "from ML_functions import fun_tuning_results, fun_scores\n",
    "\n",
    "# Start time count\n",
    "start_script = time.time()\n",
    "\n",
    "# Load optimization_problem ('TSP' or 'CVRP') and the size of the train set\n",
    "with open('settings.pkl', 'rb') as file:\n",
    "    settings = pickle.load(file)\n",
    "optimization_problem, train_size_s = settings['optimization_problem'], settings['train_size_s']\n",
    "\n",
    "# Assign string 'TSP' or 'CVRP' to the following variable to define the optimization problem\n",
    "optimization_problem = 'TSP'\n",
    "train_size_s = 0.7\n",
    "\n",
    "# Load data\n",
    "data = fun_load_data(optimization_problem)\n",
    "X, y, train_data = fun_preprocessing(data)\n",
    "\n",
    "# Create a dictionary to store the results\n",
    "results_dict = {}"
   ]
  },
  {
   "cell_type": "markdown",
   "metadata": {},
   "source": [
    "**Support Vector Machine (SVM)**"
   ]
  },
  {
   "cell_type": "code",
   "execution_count": null,
   "metadata": {},
   "outputs": [],
   "source": [
    "# Define a smaller train set due to the long computation times of SVM\n",
    "X_train_s, X_test_s, y_train_s, y_test_s = train_test_split(X, y, train_size=0.15, random_state=42)\n",
    "\n",
    "# Define the model pipeline\n",
    "model_pipeline = Pipeline(steps=[('scaler', StandardScaler()),\n",
    "                                 ('model', SVR(kernel='linear', C=1))]) # Regularization parameter C controls trade-off between maximizing the margin and minimizing the classification error (how important it is to satisfy the constraint)\n",
    "\n",
    "# Estimate model performance with cross-validation on the train set (scoring: MAPE and RMSE)\n",
    "model_results_dict = fun_scores(model=model_pipeline, X_train=X_train_s, y_train=y_train_s)"
   ]
  },
  {
   "cell_type": "markdown",
   "metadata": {},
   "source": [
    "**Gaussian Kernel**"
   ]
  },
  {
   "cell_type": "code",
   "execution_count": 2,
   "metadata": {},
   "outputs": [
    {
     "name": "stdout",
     "output_type": "stream",
     "text": [
      "Fitting 3 folds for each of 18 candidates, totalling 54 fits\n",
      "  CV MAPE train data:  4.5162 %\n",
      "  CV RMSE train data:  0.7578\n",
      "\n",
      "  Best model / parameter combination:\n"
     ]
    },
    {
     "data": {
      "text/plain": [
       "{'SVM__C': 750, 'SVM__gamma': 0.05, 'scaler': MinMaxScaler()}"
      ]
     },
     "metadata": {},
     "output_type": "display_data"
    },
    {
     "name": "stdout",
     "output_type": "stream",
     "text": [
      "Cross validation scores of different parameter combinations:\n"
     ]
    },
    {
     "data": {
      "text/html": [
       "<div>\n",
       "<style scoped>\n",
       "    .dataframe tbody tr th:only-of-type {\n",
       "        vertical-align: middle;\n",
       "    }\n",
       "\n",
       "    .dataframe tbody tr th {\n",
       "        vertical-align: top;\n",
       "    }\n",
       "\n",
       "    .dataframe thead th {\n",
       "        text-align: right;\n",
       "    }\n",
       "</style>\n",
       "<table border=\"1\" class=\"dataframe\">\n",
       "  <thead>\n",
       "    <tr style=\"text-align: right;\">\n",
       "      <th></th>\n",
       "      <th>params</th>\n",
       "      <th>mean_test_score</th>\n",
       "    </tr>\n",
       "  </thead>\n",
       "  <tbody>\n",
       "    <tr>\n",
       "      <th>0</th>\n",
       "      <td>{'SVM__C': 300, 'SVM__gamma': 0.001, 'scaler':...</td>\n",
       "      <td>-0.052999</td>\n",
       "    </tr>\n",
       "    <tr>\n",
       "      <th>1</th>\n",
       "      <td>{'SVM__C': 300, 'SVM__gamma': 0.01, 'scaler': ...</td>\n",
       "      <td>-0.059541</td>\n",
       "    </tr>\n",
       "    <tr>\n",
       "      <th>2</th>\n",
       "      <td>{'SVM__C': 300, 'SVM__gamma': 0.1, 'scaler': S...</td>\n",
       "      <td>-0.522692</td>\n",
       "    </tr>\n",
       "    <tr>\n",
       "      <th>3</th>\n",
       "      <td>{'SVM__C': 400, 'SVM__gamma': 0.001, 'scaler':...</td>\n",
       "      <td>-0.051251</td>\n",
       "    </tr>\n",
       "    <tr>\n",
       "      <th>4</th>\n",
       "      <td>{'SVM__C': 400, 'SVM__gamma': 0.01, 'scaler': ...</td>\n",
       "      <td>-0.059678</td>\n",
       "    </tr>\n",
       "    <tr>\n",
       "      <th>5</th>\n",
       "      <td>{'SVM__C': 400, 'SVM__gamma': 0.1, 'scaler': S...</td>\n",
       "      <td>-0.522692</td>\n",
       "    </tr>\n",
       "    <tr>\n",
       "      <th>6</th>\n",
       "      <td>{'SVM__C': 500, 'SVM__gamma': 0.001, 'scaler':...</td>\n",
       "      <td>-0.049980</td>\n",
       "    </tr>\n",
       "    <tr>\n",
       "      <th>7</th>\n",
       "      <td>{'SVM__C': 500, 'SVM__gamma': 0.01, 'scaler': ...</td>\n",
       "      <td>-0.059727</td>\n",
       "    </tr>\n",
       "    <tr>\n",
       "      <th>8</th>\n",
       "      <td>{'SVM__C': 500, 'SVM__gamma': 0.1, 'scaler': S...</td>\n",
       "      <td>-0.522692</td>\n",
       "    </tr>\n",
       "    <tr>\n",
       "      <th>9</th>\n",
       "      <td>{'SVM__C': 500, 'SVM__gamma': 0.01, 'scaler': ...</td>\n",
       "      <td>-0.071772</td>\n",
       "    </tr>\n",
       "    <tr>\n",
       "      <th>10</th>\n",
       "      <td>{'SVM__C': 500, 'SVM__gamma': 0.05, 'scaler': ...</td>\n",
       "      <td>-0.045570</td>\n",
       "    </tr>\n",
       "    <tr>\n",
       "      <th>11</th>\n",
       "      <td>{'SVM__C': 500, 'SVM__gamma': 0.1, 'scaler': M...</td>\n",
       "      <td>-0.047534</td>\n",
       "    </tr>\n",
       "    <tr>\n",
       "      <th>12</th>\n",
       "      <td>{'SVM__C': 750, 'SVM__gamma': 0.01, 'scaler': ...</td>\n",
       "      <td>-0.065735</td>\n",
       "    </tr>\n",
       "    <tr>\n",
       "      <th>13</th>\n",
       "      <td>{'SVM__C': 750, 'SVM__gamma': 0.05, 'scaler': ...</td>\n",
       "      <td>-0.045162</td>\n",
       "    </tr>\n",
       "    <tr>\n",
       "      <th>14</th>\n",
       "      <td>{'SVM__C': 750, 'SVM__gamma': 0.1, 'scaler': M...</td>\n",
       "      <td>-0.048108</td>\n",
       "    </tr>\n",
       "    <tr>\n",
       "      <th>15</th>\n",
       "      <td>{'SVM__C': 1000, 'SVM__gamma': 0.01, 'scaler':...</td>\n",
       "      <td>-0.061860</td>\n",
       "    </tr>\n",
       "    <tr>\n",
       "      <th>16</th>\n",
       "      <td>{'SVM__C': 1000, 'SVM__gamma': 0.05, 'scaler':...</td>\n",
       "      <td>-0.045266</td>\n",
       "    </tr>\n",
       "    <tr>\n",
       "      <th>17</th>\n",
       "      <td>{'SVM__C': 1000, 'SVM__gamma': 0.1, 'scaler': ...</td>\n",
       "      <td>-0.048496</td>\n",
       "    </tr>\n",
       "  </tbody>\n",
       "</table>\n",
       "</div>"
      ],
      "text/plain": [
       "                                               params  mean_test_score\n",
       "0   {'SVM__C': 300, 'SVM__gamma': 0.001, 'scaler':...        -0.052999\n",
       "1   {'SVM__C': 300, 'SVM__gamma': 0.01, 'scaler': ...        -0.059541\n",
       "2   {'SVM__C': 300, 'SVM__gamma': 0.1, 'scaler': S...        -0.522692\n",
       "3   {'SVM__C': 400, 'SVM__gamma': 0.001, 'scaler':...        -0.051251\n",
       "4   {'SVM__C': 400, 'SVM__gamma': 0.01, 'scaler': ...        -0.059678\n",
       "5   {'SVM__C': 400, 'SVM__gamma': 0.1, 'scaler': S...        -0.522692\n",
       "6   {'SVM__C': 500, 'SVM__gamma': 0.001, 'scaler':...        -0.049980\n",
       "7   {'SVM__C': 500, 'SVM__gamma': 0.01, 'scaler': ...        -0.059727\n",
       "8   {'SVM__C': 500, 'SVM__gamma': 0.1, 'scaler': S...        -0.522692\n",
       "9   {'SVM__C': 500, 'SVM__gamma': 0.01, 'scaler': ...        -0.071772\n",
       "10  {'SVM__C': 500, 'SVM__gamma': 0.05, 'scaler': ...        -0.045570\n",
       "11  {'SVM__C': 500, 'SVM__gamma': 0.1, 'scaler': M...        -0.047534\n",
       "12  {'SVM__C': 750, 'SVM__gamma': 0.01, 'scaler': ...        -0.065735\n",
       "13  {'SVM__C': 750, 'SVM__gamma': 0.05, 'scaler': ...        -0.045162\n",
       "14  {'SVM__C': 750, 'SVM__gamma': 0.1, 'scaler': M...        -0.048108\n",
       "15  {'SVM__C': 1000, 'SVM__gamma': 0.01, 'scaler':...        -0.061860\n",
       "16  {'SVM__C': 1000, 'SVM__gamma': 0.05, 'scaler':...        -0.045266\n",
       "17  {'SVM__C': 1000, 'SVM__gamma': 0.1, 'scaler': ...        -0.048496"
      ]
     },
     "metadata": {},
     "output_type": "display_data"
    }
   ],
   "source": [
    "# Define a smaller train set due to the long computation times of SVM\n",
    "X_train, X_test, y_train, y_test = train_test_split(X, y, train_size=0.15, random_state=42)\n",
    "\n",
    "# Create pipline to scale each fold first during CV\n",
    "pipe = Pipeline(steps=[('scaler', None), \n",
    "                       ('SVM', SVR(kernel='rbf'))])\n",
    "\n",
    "param_grid = [{'scaler': [StandardScaler()],\n",
    "              'SVM__C': [300, 400, 500],\n",
    "              'SVM__gamma': [0.001, 0.01, 0.1]},\n",
    "              {'scaler': [MinMaxScaler()],\n",
    "              'SVM__C': [500, 750, 1000],\n",
    "              'SVM__gamma': [0.01, 0.05, 0.1]}]\n",
    "\n",
    "grid_search = GridSearchCV(estimator=pipe, param_grid=param_grid, cv=3, \n",
    "                           scoring='neg_mean_absolute_percentage_error', verbose=True, n_jobs=-1)\n",
    "fit_time = fun_fit_tuning(search_method=grid_search, X_train=X_train, y_train=y_train, file_name=optimization_problem + '_SVM_GK')\n",
    "\n",
    "# Estimate model performance with cross validation on the train set (scoring: MAPE and RMSE)\n",
    "model_results_dict = fun_scores(model=grid_search, X_train=X_train, y_train=y_train)\n",
    "\n",
    "# View grid search CV scores of all parameter combinations\n",
    "results_df = fun_tuning_results(search_method=grid_search, search_space=param_grid)"
   ]
  },
  {
   "cell_type": "code",
   "execution_count": 4,
   "metadata": {},
   "outputs": [
    {
     "name": "stdout",
     "output_type": "stream",
     "text": [
      "  CV MAPE train data:  4.2866 %\n",
      "  CV RMSE train data:  1.06\n",
      "  CV computation time: 4 min, 10 sec\n",
      "\n",
      "MAPE test data: 3.6768 %\n",
      "RMSE test data: 0.8985\n",
      "MAPE and RMSE on test data per instance size:\n"
     ]
    },
    {
     "data": {
      "text/html": [
       "<div>\n",
       "<style scoped>\n",
       "    .dataframe tbody tr th:only-of-type {\n",
       "        vertical-align: middle;\n",
       "    }\n",
       "\n",
       "    .dataframe tbody tr th {\n",
       "        vertical-align: top;\n",
       "    }\n",
       "\n",
       "    .dataframe thead th {\n",
       "        text-align: right;\n",
       "    }\n",
       "</style>\n",
       "<table border=\"1\" class=\"dataframe\">\n",
       "  <thead>\n",
       "    <tr style=\"text-align: right;\">\n",
       "      <th>Number Customers</th>\n",
       "      <th>6</th>\n",
       "      <th>7</th>\n",
       "      <th>8</th>\n",
       "      <th>9</th>\n",
       "      <th>10</th>\n",
       "      <th>11</th>\n",
       "      <th>12</th>\n",
       "      <th>13</th>\n",
       "      <th>14</th>\n",
       "      <th>Mean</th>\n",
       "    </tr>\n",
       "  </thead>\n",
       "  <tbody>\n",
       "    <tr>\n",
       "      <th>MAPE</th>\n",
       "      <td>2.5218</td>\n",
       "      <td>2.7104</td>\n",
       "      <td>3.1515</td>\n",
       "      <td>3.2899</td>\n",
       "      <td>3.6600</td>\n",
       "      <td>4.1348</td>\n",
       "      <td>4.4705</td>\n",
       "      <td>4.5488</td>\n",
       "      <td>5.2411</td>\n",
       "      <td>3.6768</td>\n",
       "    </tr>\n",
       "    <tr>\n",
       "      <th>RMSE</th>\n",
       "      <td>0.8278</td>\n",
       "      <td>0.8057</td>\n",
       "      <td>0.8496</td>\n",
       "      <td>0.8897</td>\n",
       "      <td>0.9394</td>\n",
       "      <td>1.0102</td>\n",
       "      <td>1.0518</td>\n",
       "      <td>1.0764</td>\n",
       "      <td>1.1477</td>\n",
       "      <td>0.8985</td>\n",
       "    </tr>\n",
       "  </tbody>\n",
       "</table>\n",
       "</div>"
      ],
      "text/plain": [
       "Number Customers       6       7       8       9      10      11      12  \\\n",
       "MAPE              2.5218  2.7104  3.1515  3.2899  3.6600  4.1348  4.4705   \n",
       "RMSE              0.8278  0.8057  0.8496  0.8897  0.9394  1.0102  1.0518   \n",
       "\n",
       "Number Customers      13      14    Mean  \n",
       "MAPE              4.5488  5.2411  3.6768  \n",
       "RMSE              1.0764  1.1477  0.8985  "
      ]
     },
     "metadata": {},
     "output_type": "display_data"
    }
   ],
   "source": [
    "# Define a smaller train set due to the long computation times of SVM\n",
    "X_train_s, X_test_s, y_train_s, y_test_s = train_test_split(X, y, train_size=0.20, random_state=42)\n",
    "\n",
    "# Define the model pipeline\n",
    "pipe = Pipeline(steps=[('scaler', MinMaxScaler()),\n",
    "                                 ('model', SVR(kernel='rbf', C=750, gamma=0.05))])\n",
    "\n",
    "# Estimate model performance with cross-validation on the train set (scoring: MAPE and RMSE)\n",
    "model_results_dict = fun_scores(pipe, X_train_s, y_train_s)"
   ]
  },
  {
   "cell_type": "markdown",
   "metadata": {},
   "source": [
    "**Polynomial Kernel**"
   ]
  },
  {
   "cell_type": "code",
   "execution_count": 2,
   "metadata": {},
   "outputs": [
    {
     "name": "stdout",
     "output_type": "stream",
     "text": [
      "Fitting 3 folds for each of 9 candidates, totalling 27 fits\n",
      "  CV MAPE train data:  7.0088 %\n",
      "  CV RMSE train data:  0.6503\n",
      "\n",
      "  Best model / parameter combination:\n"
     ]
    },
    {
     "data": {
      "text/plain": [
       "{'SVM__C': 300, 'SVM__gamma': 0.1}"
      ]
     },
     "metadata": {},
     "output_type": "display_data"
    },
    {
     "name": "stdout",
     "output_type": "stream",
     "text": [
      "Cross validation scores of different parameter combinations:\n"
     ]
    },
    {
     "data": {
      "text/html": [
       "<div>\n",
       "<style scoped>\n",
       "    .dataframe tbody tr th:only-of-type {\n",
       "        vertical-align: middle;\n",
       "    }\n",
       "\n",
       "    .dataframe tbody tr th {\n",
       "        vertical-align: top;\n",
       "    }\n",
       "\n",
       "    .dataframe thead th {\n",
       "        text-align: right;\n",
       "    }\n",
       "</style>\n",
       "<table border=\"1\" class=\"dataframe\">\n",
       "  <thead>\n",
       "    <tr style=\"text-align: right;\">\n",
       "      <th></th>\n",
       "      <th>params</th>\n",
       "      <th>mean_test_score</th>\n",
       "    </tr>\n",
       "  </thead>\n",
       "  <tbody>\n",
       "    <tr>\n",
       "      <th>0</th>\n",
       "      <td>{'SVM__C': 100, 'SVM__gamma': 0.05}</td>\n",
       "      <td>-0.099227</td>\n",
       "    </tr>\n",
       "    <tr>\n",
       "      <th>1</th>\n",
       "      <td>{'SVM__C': 100, 'SVM__gamma': 0.1}</td>\n",
       "      <td>-0.074381</td>\n",
       "    </tr>\n",
       "    <tr>\n",
       "      <th>2</th>\n",
       "      <td>{'SVM__C': 100, 'SVM__gamma': 1}</td>\n",
       "      <td>-0.078567</td>\n",
       "    </tr>\n",
       "    <tr>\n",
       "      <th>3</th>\n",
       "      <td>{'SVM__C': 300, 'SVM__gamma': 0.05}</td>\n",
       "      <td>-0.083895</td>\n",
       "    </tr>\n",
       "    <tr>\n",
       "      <th>4</th>\n",
       "      <td>{'SVM__C': 300, 'SVM__gamma': 0.1}</td>\n",
       "      <td>-0.070088</td>\n",
       "    </tr>\n",
       "    <tr>\n",
       "      <th>5</th>\n",
       "      <td>{'SVM__C': 300, 'SVM__gamma': 1}</td>\n",
       "      <td>-0.078567</td>\n",
       "    </tr>\n",
       "    <tr>\n",
       "      <th>6</th>\n",
       "      <td>{'SVM__C': 500, 'SVM__gamma': 0.05}</td>\n",
       "      <td>-0.078231</td>\n",
       "    </tr>\n",
       "    <tr>\n",
       "      <th>7</th>\n",
       "      <td>{'SVM__C': 500, 'SVM__gamma': 0.1}</td>\n",
       "      <td>-0.070676</td>\n",
       "    </tr>\n",
       "    <tr>\n",
       "      <th>8</th>\n",
       "      <td>{'SVM__C': 500, 'SVM__gamma': 1}</td>\n",
       "      <td>-0.078567</td>\n",
       "    </tr>\n",
       "  </tbody>\n",
       "</table>\n",
       "</div>"
      ],
      "text/plain": [
       "                                params  mean_test_score\n",
       "0  {'SVM__C': 100, 'SVM__gamma': 0.05}        -0.099227\n",
       "1   {'SVM__C': 100, 'SVM__gamma': 0.1}        -0.074381\n",
       "2     {'SVM__C': 100, 'SVM__gamma': 1}        -0.078567\n",
       "3  {'SVM__C': 300, 'SVM__gamma': 0.05}        -0.083895\n",
       "4   {'SVM__C': 300, 'SVM__gamma': 0.1}        -0.070088\n",
       "5     {'SVM__C': 300, 'SVM__gamma': 1}        -0.078567\n",
       "6  {'SVM__C': 500, 'SVM__gamma': 0.05}        -0.078231\n",
       "7   {'SVM__C': 500, 'SVM__gamma': 0.1}        -0.070676\n",
       "8     {'SVM__C': 500, 'SVM__gamma': 1}        -0.078567"
      ]
     },
     "metadata": {},
     "output_type": "display_data"
    }
   ],
   "source": [
    "# Define a smaller train set due to the long computation times of SVM\n",
    "X_train, X_test, y_train, y_test = train_test_split(X, y, train_size=0.05, random_state=42)\n",
    "\n",
    "# Create pipline to scale each fold first during CV\n",
    "pipe = Pipeline(steps=[('scaler', MinMaxScaler()), \n",
    "                       ('SVM', SVR(kernel='poly', degree=3))])\n",
    "\n",
    "param_grid = {'SVM__C': [100, 300, 500],\n",
    "              'SVM__gamma': [0.05, 0.1, 1]}\n",
    "\n",
    "grid_search = GridSearchCV(estimator=pipe, param_grid=param_grid, cv=3, \n",
    "                           scoring='neg_mean_absolute_percentage_error', verbose=True, n_jobs=-1)\n",
    "fit_time = fun_fit_tuning(search_method=grid_search, X_train=X_train, y_train=y_train, file_name=optimization_problem + '_SVM_PK_GS')\n",
    "\n",
    "# Estimate model performance with cross validation on the train set (scoring: MAPE and RMSE)\n",
    "model_results_dict = fun_scores(model=grid_search, X_train=X_train, y_train=y_train)\n",
    "\n",
    "# View grid search CV scores of all parameter combinations\n",
    "results_df = fun_tuning_results(search_method=grid_search, search_space=param_grid)"
   ]
  },
  {
   "cell_type": "code",
   "execution_count": 3,
   "metadata": {},
   "outputs": [
    {
     "name": "stdout",
     "output_type": "stream",
     "text": [
      "  CV MAPE train data:  5.2861 %\n",
      "  CV RMSE train data:  1.3041\n",
      "  CV computation time: 7 min, 11 sec\n"
     ]
    }
   ],
   "source": [
    "# Define a smaller train set due to the long computation times of svm\n",
    "X_train_s, X_test_s, y_train_s, y_test_s = train_test_split(X, y, train_size=0.15, random_state=42)\n",
    "\n",
    "# Define the model pipeline\n",
    "pipe = Pipeline(steps=[('scaler', MinMaxScaler()),\n",
    "                                 ('model', SVR(kernel='poly', degree=3, C=300, gamma=0.1))])\n",
    "\n",
    "# Estimate model performance with cross-validation on the train set (scoring: MAPE and RMSE)\n",
    "model_results_dict = fun_scores(model=pipe, X_train=X_train_s, y_train=y_train_s)"
   ]
  },
  {
   "cell_type": "markdown",
   "metadata": {},
   "source": [
    "# **Compare Results**"
   ]
  },
  {
   "cell_type": "code",
   "execution_count": null,
   "metadata": {},
   "outputs": [
    {
     "name": "stdout",
     "output_type": "stream",
     "text": [
      "Total script computation time: 2 min, 6 sec\n"
     ]
    }
   ],
   "source": [
    "#display(pd.DataFrame(results_dict).sort_values(by='MAPE', axis=1))\n",
    "print('Total script computation time:', fun_convert_time(start=start_script, end=time.time()))"
   ]
  }
 ],
 "metadata": {
  "kernelspec": {
   "display_name": "base",
   "language": "python",
   "name": "python3"
  },
  "language_info": {
   "codemirror_mode": {
    "name": "ipython",
    "version": 3
   },
   "file_extension": ".py",
   "mimetype": "text/x-python",
   "name": "python",
   "nbconvert_exporter": "python",
   "pygments_lexer": "ipython3",
   "version": "3.11.7"
  }
 },
 "nbformat": 4,
 "nbformat_minor": 2
}
