{
 "cells": [
  {
   "cell_type": "code",
   "execution_count": 1,
   "metadata": {},
   "outputs": [
    {
     "name": "stdout",
     "output_type": "stream",
     "text": [
      "Script completed!\n"
     ]
    }
   ],
   "source": [
    "import pickle\n",
    "from IPython.utils.capture import capture_output\n",
    "\n",
    "# Define settings\n",
    "with open('settings.pkl', 'wb') as file:\n",
    "    pickle.dump({'optimization_problem': 'TSP', 'train_size': 0.75}, file)\n",
    "\n",
    "# Use the capture_output context manager to suppress all outputs\n",
    "with capture_output() as captured:\n",
    "    %run 2_Linear.ipynb\n",
    "\n",
    "print('Script completed!')"
   ]
  },
  {
   "cell_type": "markdown",
   "metadata": {},
   "source": [
    "### **TSP**"
   ]
  },
  {
   "cell_type": "code",
   "execution_count": null,
   "metadata": {},
   "outputs": [],
   "source": [
    "# Define settings\n",
    "with open('settings.pkl', 'wb') as file:\n",
    "    pickle.dump({'optimization_problem': 'TSP', 'train_size': 0.75}, file)\n",
    "\n",
    "# Run all scripts to store the best parameters\n",
    "with capture_output() as captured:\n",
    "    %run feature_selection.ipynb\n",
    "print(\"Script 'feature_selection' completed!\")\n",
    "\n",
    "with capture_output() as captured:\n",
    "    %run 1_untuned_models.ipynb\n",
    "print(\"Script '1_untuned_models' completed!\")\n",
    "\n",
    "with capture_output() as captured:\n",
    "    %run 2_Linear.ipynb\n",
    "print(\"Script '2_Linear' completed!\")\n",
    "\n",
    "with capture_output() as captured:\n",
    "    %run 3a_Tree.ipynb\n",
    "print(\"Script '3a_Tree' completed!\")\n",
    "\n",
    "with capture_output() as captured:\n",
    "    %run 3b_Ensembles.ipynb\n",
    "print(\"Script '3b_Ensembles' completed!\")\n",
    "\n",
    "with capture_output() as captured:\n",
    "    %run 4b_SVM_pipe.ipynb\n",
    "print(\"Script '4b_SVM_pipe' completed!\")\n",
    "\n",
    "with capture_output() as captured:\n",
    "    %run 5_NN.ipynb\n",
    "print(\"Script '5_NN' completed!\")\n",
    "\n",
    "# Run the final script to store the test score results of the tuned models\n",
    "with capture_output() as captured:\n",
    "    %run 6_tuned_models.ipynb\n",
    "print(\"Script '6_tuned_models' completed!\")"
   ]
  },
  {
   "cell_type": "markdown",
   "metadata": {},
   "source": [
    "### **CVRP**"
   ]
  },
  {
   "cell_type": "code",
   "execution_count": null,
   "metadata": {},
   "outputs": [],
   "source": [
    "# Define settings\n",
    "with open('settings.pkl', 'wb') as file:\n",
    "    pickle.dump({'optimization_problem': 'CVRP', 'train_size': 0.75}, file)\n",
    "\n",
    "# Run all scripts to store the best parameters\n",
    "with capture_output() as captured:\n",
    "    %run feature_selection.ipynb\n",
    "print(\"Script 'feature_selection' completed!\")\n",
    "\n",
    "with capture_output() as captured:\n",
    "    %run 1_untuned_models.ipynb\n",
    "print(\"Script '1_untuned_models' completed!\")\n",
    "\n",
    "with capture_output() as captured:\n",
    "    %run 2_Linear.ipynb\n",
    "print(\"Script '2_Linear' completed!\")\n",
    "\n",
    "with capture_output() as captured:\n",
    "    %run 3b_Ensembles.ipynb\n",
    "print(\"Script '3b_Ensembles' completed!\")\n",
    "\n",
    "with capture_output() as captured:\n",
    "    %run 5_NN.ipynb\n",
    "print(\"Script '5_NN' completed!\")\n",
    "\n",
    "# Run the final script to store the test score results of the tuned models\n",
    "with capture_output() as captured:\n",
    "    %run 6_tuned_models.ipynb\n",
    "print(\"Script '6_tuned_models' completed!\")"
   ]
  }
 ],
 "metadata": {
  "kernelspec": {
   "display_name": "base",
   "language": "python",
   "name": "python3"
  },
  "language_info": {
   "codemirror_mode": {
    "name": "ipython",
    "version": 3
   },
   "file_extension": ".py",
   "mimetype": "text/x-python",
   "name": "python",
   "nbconvert_exporter": "python",
   "pygments_lexer": "ipython3",
   "version": "3.11.7"
  }
 },
 "nbformat": 4,
 "nbformat_minor": 2
}
