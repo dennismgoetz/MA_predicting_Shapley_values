{
 "cells": [
  {
   "cell_type": "code",
   "execution_count": 1,
   "metadata": {},
   "outputs": [
    {
     "name": "stdout",
     "output_type": "stream",
     "text": [
      "Notebook 'b1_feature_selection.ipynb' completed!  Run time: 2m, 51s\n",
      "Notebook 'a1_linear.ipynb'            completed!  Run time: 40m, 52s\n",
      "Notebook 'a2_tree.ipynb'              completed!  Run time: 1m, 29s\n",
      "Notebook 'a3_ensembles.ipynb'         completed!  Run time: 47m, 35s\n",
      "Notebook 'a4_SVM.ipynb'               completed!  Run time: 38m, 2s\n",
      "Notebook 'a5_NN.ipynb'                completed!  Run time: 1h, 38m\n",
      "Notebook 'a6_all_models.ipynb'        completed!  Run time: 1h, 33m\n",
      "\n",
      "Script 'a_tuning_summary.py' completed!\n",
      "Notebook '03_tuning_results/a_tuning_time.ipynb' completed!  Run time: 17s\n",
      "\n",
      "Total script computation time: 5h, 23m\n"
     ]
    }
   ],
   "source": [
    "import json, time\n",
    "from ML_functions import run_notebook, fun_convert_time\n",
    "\n",
    "# Start script run time and define settings\n",
    "start_script = time.time()\n",
    "optimization_problem = \"TSP\" # Choose either \"TSP\" or \"CVRP\"\n",
    "\n",
    "# Save the settings in a file\n",
    "with open(\"settings.json\", \"w\") as file:\n",
    "    json.dump({\"main_script_execution\": True, \"optimization_problem\": optimization_problem}, file)\n",
    "\n",
    "###############################################################################\n",
    "# Run all notebooks to store the best parameters\n",
    "###############################################################################\n",
    "# Run the feature selection to store the top 20 features and the feature importance grafics\n",
    "run_notebook(\"b1_feature_selection.ipynb\")\n",
    "\n",
    "run_notebook(\"a1_linear.ipynb\") # Alternative: \"%run a1_linear.ipynb\" (but this doesn't update the output cells)\n",
    "\n",
    "# Do not run \"a2_tree.ipynb\" for the CVRP pr oblem\n",
    "if (optimization_problem == \"TSP\"): run_notebook(\"a2_tree.ipynb\")\n",
    "\n",
    "run_notebook(\"a3_ensembles.ipynb\")\n",
    "\n",
    "run_notebook(\"a4_SVM.ipynb\")\n",
    "\n",
    "run_notebook(\"a5_NN.ipynb\")\n",
    "\n",
    "# Run the final notebook to store the test score results of the tuned models\n",
    "run_notebook(\"a6_all_models.ipynb\")\n",
    "\n",
    "# Run the tuning summary script to create a pdf of all the tuning results\n",
    "%run \"03_tuning_results/a_tuning_summary.py\"\n",
    "\n",
    "if (optimization_problem == \"TSP\"):\n",
    "    # Create the tuning time grafics\n",
    "    run_notebook(\"03_tuning_results/a_tuning_time.ipynb\")\n",
    "\n",
    "###############################################################################\n",
    "# Set the \"main_script_execution\" parameter in the settings to \"False\" again\n",
    "###############################################################################\n",
    "with open(\"settings.json\", \"w\") as file:\n",
    "    json.dump({\"main_script_execution\": False, \"optimization_problem\": optimization_problem}, file)\n",
    "\n",
    "print(f\"\\nTotal script computation time: {fun_convert_time(start=start_script, end=time.time())}\")"
   ]
  }
 ],
 "metadata": {
  "kernelspec": {
   "display_name": "base",
   "language": "python",
   "name": "python3"
  },
  "language_info": {
   "codemirror_mode": {
    "name": "ipython",
    "version": 3
   },
   "file_extension": ".py",
   "mimetype": "text/x-python",
   "name": "python",
   "nbconvert_exporter": "python",
   "pygments_lexer": "ipython3",
   "version": "3.11.7"
  }
 },
 "nbformat": 4,
 "nbformat_minor": 2
}
