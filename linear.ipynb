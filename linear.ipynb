{
 "cells": [
  {
   "cell_type": "code",
   "execution_count": 90,
   "metadata": {},
   "outputs": [],
   "source": [
    "import os\n",
    "import time\n",
    "import pandas as pd\n",
    "import numpy as np\n",
    "from scipy.stats import uniform\n",
    "import matplotlib.pyplot as plt\n",
    "import matplotlib_inline\n",
    "import seaborn as sns\n",
    "import mglearn\n",
    "\n",
    "from sklearn.preprocessing import StandardScaler, MinMaxScaler, RobustScaler\n",
    "from sklearn.model_selection import train_test_split, cross_val_score, cross_validate, GridSearchCV, RandomizedSearchCV\n",
    "from sklearn.pipeline import Pipeline, make_pipeline\n",
    "\n",
    "from sklearn.neighbors import KNeighborsRegressor\n",
    "from sklearn.linear_model import LinearRegression, Ridge, Lasso\n",
    "from sklearn.svm import SVR\n",
    "\n",
    "# import helperfunctions\n",
    "from helperfunctions import fun_load_file, fun_preprocessing, fun_split_X_y\n",
    "from helperfunctions import fun_convert_time, fun_fit_gridsearch_time\n",
    "from helperfunctions import fun_train_score, fun_test_score, fun_best_model\n",
    "from helperfunctions import fun_feature_weights, plot_feature_importances, plot_heatmap\n",
    "\n",
    "# start time count and load data\n",
    "start_script = time.time()\n",
    "data = fun_load_file(path='..\\\\01_data\\\\01_TSP', name='combined_train_instances_dennis.xlsx')\n",
    "train_data = fun_preprocessing(data)\n",
    "X, y = fun_split_X_y(train_data)\n",
    "\n",
    "# create a train and test set\n",
    "X_train, X_test, y_train, y_test = train_test_split(X, y, test_size=0.75, random_state=0)\n",
    "\n",
    "# create a smaller train set for svm\n",
    "X_train_small, X_test_small, y_train_small, y_test_small = train_test_split(X, y, test_size=0.99, random_state=0)\n",
    "\n",
    "# save number of features and train sizes\n",
    "n_features = X_train.shape[1]\n",
    "train_size = f'{int(np.round(100 * len(X_train)/len(X)))} %'\n",
    "train_size_small = f'{int(np.round(100 * len(X_train_small)/len(X)))} %'"
   ]
  },
  {
   "cell_type": "markdown",
   "metadata": {},
   "source": [
    "# **KNN**"
   ]
  },
  {
   "cell_type": "code",
   "execution_count": 31,
   "metadata": {},
   "outputs": [
    {
     "name": "stdout",
     "output_type": "stream",
     "text": [
      "  CV MAPE train data: 57.4517 %\n",
      "  CV RMSE train data: 9.6275\n",
      "\n",
      "  Best model / parameter combination:\n",
      "   {'n_neighbors': 3}\n",
      "\n",
      "Cross validation scores of all parameter combinations:\n"
     ]
    },
    {
     "data": {
      "text/html": [
       "<div>\n",
       "<style scoped>\n",
       "    .dataframe tbody tr th:only-of-type {\n",
       "        vertical-align: middle;\n",
       "    }\n",
       "\n",
       "    .dataframe tbody tr th {\n",
       "        vertical-align: top;\n",
       "    }\n",
       "\n",
       "    .dataframe thead th {\n",
       "        text-align: right;\n",
       "    }\n",
       "</style>\n",
       "<table border=\"1\" class=\"dataframe\">\n",
       "  <thead>\n",
       "    <tr style=\"text-align: right;\">\n",
       "      <th></th>\n",
       "      <th>params</th>\n",
       "      <th>mean_test_score</th>\n",
       "    </tr>\n",
       "  </thead>\n",
       "  <tbody>\n",
       "    <tr>\n",
       "      <th>0</th>\n",
       "      <td>{'n_neighbors': 1}</td>\n",
       "      <td>-0.615940</td>\n",
       "    </tr>\n",
       "    <tr>\n",
       "      <th>1</th>\n",
       "      <td>{'n_neighbors': 2}</td>\n",
       "      <td>-0.576546</td>\n",
       "    </tr>\n",
       "    <tr>\n",
       "      <th>2</th>\n",
       "      <td>{'n_neighbors': 3}</td>\n",
       "      <td>-0.574517</td>\n",
       "    </tr>\n",
       "    <tr>\n",
       "      <th>3</th>\n",
       "      <td>{'n_neighbors': 4}</td>\n",
       "      <td>-0.580057</td>\n",
       "    </tr>\n",
       "    <tr>\n",
       "      <th>4</th>\n",
       "      <td>{'n_neighbors': 5}</td>\n",
       "      <td>-0.587618</td>\n",
       "    </tr>\n",
       "    <tr>\n",
       "      <th>5</th>\n",
       "      <td>{'n_neighbors': 6}</td>\n",
       "      <td>-0.595705</td>\n",
       "    </tr>\n",
       "    <tr>\n",
       "      <th>6</th>\n",
       "      <td>{'n_neighbors': 7}</td>\n",
       "      <td>-0.606130</td>\n",
       "    </tr>\n",
       "    <tr>\n",
       "      <th>7</th>\n",
       "      <td>{'n_neighbors': 8}</td>\n",
       "      <td>-0.617253</td>\n",
       "    </tr>\n",
       "    <tr>\n",
       "      <th>8</th>\n",
       "      <td>{'n_neighbors': 9}</td>\n",
       "      <td>-0.626867</td>\n",
       "    </tr>\n",
       "    <tr>\n",
       "      <th>9</th>\n",
       "      <td>{'n_neighbors': 10}</td>\n",
       "      <td>-0.637577</td>\n",
       "    </tr>\n",
       "  </tbody>\n",
       "</table>\n",
       "</div>"
      ],
      "text/plain": [
       "                params  mean_test_score\n",
       "0   {'n_neighbors': 1}        -0.615940\n",
       "1   {'n_neighbors': 2}        -0.576546\n",
       "2   {'n_neighbors': 3}        -0.574517\n",
       "3   {'n_neighbors': 4}        -0.580057\n",
       "4   {'n_neighbors': 5}        -0.587618\n",
       "5   {'n_neighbors': 6}        -0.595705\n",
       "6   {'n_neighbors': 7}        -0.606130\n",
       "7   {'n_neighbors': 8}        -0.617253\n",
       "8   {'n_neighbors': 9}        -0.626867\n",
       "9  {'n_neighbors': 10}        -0.637577"
      ]
     },
     "metadata": {},
     "output_type": "display_data"
    }
   ],
   "source": [
    "# grid search cross validation\n",
    "param_grid = {'n_neighbors': list(np.arange(start=1, stop=11))}\n",
    "\n",
    "grid_search = GridSearchCV(estimator=KNeighborsRegressor(), param_grid=param_grid, cv=5,\n",
    "                    scoring='neg_mean_absolute_percentage_error', \n",
    "                    verbose=False, n_jobs=1)\n",
    "fit_time = fun_fit_gridsearch_time(grid_search, X_train, y_train)\n",
    "\n",
    "# view results of grid search cross validation\n",
    "MAPE, RMSE = fun_best_model(grid_search, X_train, y_train, view_results_df=True, return_scores=True)\n",
    "\n",
    "# save results to dictionary\n",
    "results_dict = {}\n",
    "results_dict['KNN'] = {'MAPE': MAPE, 'RMSE': RMSE, 'Fit gird searach time': fit_time, 'Train size': train_size}"
   ]
  },
  {
   "cell_type": "markdown",
   "metadata": {},
   "source": [
    "# **Linear Models**"
   ]
  },
  {
   "cell_type": "markdown",
   "metadata": {},
   "source": [
    "**Linear Regression**"
   ]
  },
  {
   "cell_type": "code",
   "execution_count": 32,
   "metadata": {},
   "outputs": [
    {
     "name": "stdout",
     "output_type": "stream",
     "text": [
      "  CV MAPE train data:  16.4223 %\n",
      "  CV RMSE train data:  3.293\n",
      "  CV computation time: 5 sec\n",
      "\n",
      "Feature weights: \n",
      "Mean distance to other customers_ratio    17.419001\n",
      "Distance_to_Depot_Ratio                   13.228763\n",
      "Fourth_Closest_Customer_Distance_Ratio     2.817453\n",
      "Distance_to_gravity_center_ratio           2.253190\n",
      "Marginal_Cost_ratio                        1.943119\n",
      "Second_Closest_Customer_Distance_Ratio     1.806364\n",
      "Number Clusters                            1.478822\n",
      "Savings_ratio                              1.473507\n",
      "cluster_distance_to_depot_ratio            1.259898\n",
      "Number Customers                           1.022066\n",
      "dtype: float64\n",
      "\n",
      "Bias: -10.369540827248336\n"
     ]
    }
   ],
   "source": [
    "# create model and fit it on train set (default parameters)\n",
    "lr = LinearRegression()\n",
    "lr.fit(X_train, y_train)\n",
    "\n",
    "# estimate model performance with cross validation on the train set (scoring: MAPE and RMSE)\n",
    "MAPE, RMSE, computation_time = fun_train_score(lr, X_train, y_train, cv=10, return_results=True)\n",
    "\n",
    "# save results to dictionary\n",
    "results_dict['Linear Regression'] = {'MAPE': MAPE, 'RMSE': RMSE, 'Fit gird searach time': computation_time, 'Train size': train_size} #no parameters, no grid search only cv\n",
    "\n",
    "# top ten absolute feature weights\n",
    "fun_feature_weights(lr, X_train)"
   ]
  },
  {
   "cell_type": "markdown",
   "metadata": {},
   "source": [
    "**Rigde Regression (L2-Regularization)**"
   ]
  },
  {
   "cell_type": "code",
   "execution_count": 33,
   "metadata": {},
   "outputs": [
    {
     "name": "stdout",
     "output_type": "stream",
     "text": [
      "  CV MAPE train data: 16.4242 %\n",
      "  CV RMSE train data: 3.2891\n",
      "\n",
      "  Best model / parameter combination:\n",
      "   {'alpha': 10}\n",
      "\n",
      "Cross validation scores of all parameter combinations:\n"
     ]
    },
    {
     "data": {
      "text/html": [
       "<div>\n",
       "<style scoped>\n",
       "    .dataframe tbody tr th:only-of-type {\n",
       "        vertical-align: middle;\n",
       "    }\n",
       "\n",
       "    .dataframe tbody tr th {\n",
       "        vertical-align: top;\n",
       "    }\n",
       "\n",
       "    .dataframe thead th {\n",
       "        text-align: right;\n",
       "    }\n",
       "</style>\n",
       "<table border=\"1\" class=\"dataframe\">\n",
       "  <thead>\n",
       "    <tr style=\"text-align: right;\">\n",
       "      <th></th>\n",
       "      <th>params</th>\n",
       "      <th>mean_test_score</th>\n",
       "    </tr>\n",
       "  </thead>\n",
       "  <tbody>\n",
       "    <tr>\n",
       "      <th>0</th>\n",
       "      <td>{'alpha': 0}</td>\n",
       "      <td>-0.164359</td>\n",
       "    </tr>\n",
       "    <tr>\n",
       "      <th>1</th>\n",
       "      <td>{'alpha': 0.001}</td>\n",
       "      <td>-0.164359</td>\n",
       "    </tr>\n",
       "    <tr>\n",
       "      <th>2</th>\n",
       "      <td>{'alpha': 0.01}</td>\n",
       "      <td>-0.164359</td>\n",
       "    </tr>\n",
       "    <tr>\n",
       "      <th>3</th>\n",
       "      <td>{'alpha': 0.1}</td>\n",
       "      <td>-0.164362</td>\n",
       "    </tr>\n",
       "    <tr>\n",
       "      <th>4</th>\n",
       "      <td>{'alpha': 1}</td>\n",
       "      <td>-0.164386</td>\n",
       "    </tr>\n",
       "    <tr>\n",
       "      <th>5</th>\n",
       "      <td>{'alpha': 10}</td>\n",
       "      <td>-0.164242</td>\n",
       "    </tr>\n",
       "    <tr>\n",
       "      <th>6</th>\n",
       "      <td>{'alpha': 100}</td>\n",
       "      <td>-0.164436</td>\n",
       "    </tr>\n",
       "    <tr>\n",
       "      <th>7</th>\n",
       "      <td>{'alpha': 1000}</td>\n",
       "      <td>-0.171855</td>\n",
       "    </tr>\n",
       "  </tbody>\n",
       "</table>\n",
       "</div>"
      ],
      "text/plain": [
       "             params  mean_test_score\n",
       "0      {'alpha': 0}        -0.164359\n",
       "1  {'alpha': 0.001}        -0.164359\n",
       "2   {'alpha': 0.01}        -0.164359\n",
       "3    {'alpha': 0.1}        -0.164362\n",
       "4      {'alpha': 1}        -0.164386\n",
       "5     {'alpha': 10}        -0.164242\n",
       "6    {'alpha': 100}        -0.164436\n",
       "7   {'alpha': 1000}        -0.171855"
      ]
     },
     "metadata": {},
     "output_type": "display_data"
    },
    {
     "name": "stdout",
     "output_type": "stream",
     "text": [
      "\n",
      "Feature weights: \n",
      "Distance_to_Depot_Ratio                   11.784495\n",
      "Mean distance to other customers_ratio     5.036944\n",
      "Distance_to_gravity_center_ratio           2.427646\n",
      "Fourth_Closest_Customer_Distance_Ratio     2.342283\n",
      "cluster_distance_to_depot_ratio            2.236307\n",
      "Marginal_Cost_ratio                        1.909659\n",
      "Number Clusters                            1.619893\n",
      "Second_Closest_Customer_Distance_Ratio     1.580805\n",
      "Savings_ratio                              1.460214\n",
      "Number Customers                           1.077699\n",
      "dtype: float64\n",
      "\n",
      "Bias: -2.8122674287348417\n"
     ]
    }
   ],
   "source": [
    "# grid search cross validation\n",
    "param_grid = {'alpha': [0, 0.001, 0.01, 0.1, 1, 10, 100, 1000]}\n",
    "\n",
    "grid_search = GridSearchCV(estimator=Ridge(), param_grid=param_grid, cv=5,\n",
    "                    scoring='neg_mean_absolute_percentage_error', \n",
    "                    verbose=False, n_jobs=1)\n",
    "fit_time = fun_fit_gridsearch_time(grid_search, X_train, y_train)\n",
    "\n",
    "# view results of grid search cross validation\n",
    "MAPE, RMSE = fun_best_model(grid_search, X_train, y_train, view_results_df=True, return_scores=True)\n",
    "\n",
    "# save results to dictionary\n",
    "results_dict['Ridge Regression'] = {'MAPE': MAPE, 'RMSE': RMSE, 'Fit gird searach time': fit_time, 'Train size': train_size}\n",
    "\n",
    "# top ten absolute feature weights\n",
    "fun_feature_weights(grid_search.best_estimator_, X_train)"
   ]
  },
  {
   "cell_type": "markdown",
   "metadata": {},
   "source": [
    "**Lasso Regression (L1-Regularization)**"
   ]
  },
  {
   "cell_type": "code",
   "execution_count": 34,
   "metadata": {},
   "outputs": [
    {
     "name": "stdout",
     "output_type": "stream",
     "text": [
      "  CV MAPE train data: 16.4379 %\n",
      "  CV RMSE train data: 3.2846\n",
      "\n",
      "  Best model / parameter combination:\n",
      "   {'alpha': 0.0001, 'max_iter': 10000}\n",
      "\n",
      "Cross validation scores of all parameter combinations:\n"
     ]
    },
    {
     "data": {
      "text/html": [
       "<div>\n",
       "<style scoped>\n",
       "    .dataframe tbody tr th:only-of-type {\n",
       "        vertical-align: middle;\n",
       "    }\n",
       "\n",
       "    .dataframe tbody tr th {\n",
       "        vertical-align: top;\n",
       "    }\n",
       "\n",
       "    .dataframe thead th {\n",
       "        text-align: right;\n",
       "    }\n",
       "</style>\n",
       "<table border=\"1\" class=\"dataframe\">\n",
       "  <thead>\n",
       "    <tr style=\"text-align: right;\">\n",
       "      <th></th>\n",
       "      <th>params</th>\n",
       "      <th>mean_test_score</th>\n",
       "    </tr>\n",
       "  </thead>\n",
       "  <tbody>\n",
       "    <tr>\n",
       "      <th>0</th>\n",
       "      <td>{'alpha': 0.0001, 'max_iter': 10000}</td>\n",
       "      <td>-0.164379</td>\n",
       "    </tr>\n",
       "    <tr>\n",
       "      <th>1</th>\n",
       "      <td>{'alpha': 0.001, 'max_iter': 10000}</td>\n",
       "      <td>-0.164536</td>\n",
       "    </tr>\n",
       "    <tr>\n",
       "      <th>2</th>\n",
       "      <td>{'alpha': 0.01, 'max_iter': 10000}</td>\n",
       "      <td>-0.166093</td>\n",
       "    </tr>\n",
       "    <tr>\n",
       "      <th>3</th>\n",
       "      <td>{'alpha': 0.1, 'max_iter': 10000}</td>\n",
       "      <td>-0.169992</td>\n",
       "    </tr>\n",
       "    <tr>\n",
       "      <th>4</th>\n",
       "      <td>{'alpha': 1, 'max_iter': 10000}</td>\n",
       "      <td>-0.195641</td>\n",
       "    </tr>\n",
       "    <tr>\n",
       "      <th>5</th>\n",
       "      <td>{'alpha': 10, 'max_iter': 10000}</td>\n",
       "      <td>-0.198838</td>\n",
       "    </tr>\n",
       "  </tbody>\n",
       "</table>\n",
       "</div>"
      ],
      "text/plain": [
       "                                 params  mean_test_score\n",
       "0  {'alpha': 0.0001, 'max_iter': 10000}        -0.164379\n",
       "1   {'alpha': 0.001, 'max_iter': 10000}        -0.164536\n",
       "2    {'alpha': 0.01, 'max_iter': 10000}        -0.166093\n",
       "3     {'alpha': 0.1, 'max_iter': 10000}        -0.169992\n",
       "4       {'alpha': 1, 'max_iter': 10000}        -0.195641\n",
       "5      {'alpha': 10, 'max_iter': 10000}        -0.198838"
      ]
     },
     "metadata": {},
     "output_type": "display_data"
    },
    {
     "name": "stdout",
     "output_type": "stream",
     "text": [
      "\n",
      "Feature weights: \n",
      "Mean distance to other customers_ratio    16.449296\n",
      "Distance_to_Depot_Ratio                   13.215876\n",
      "Fourth_Closest_Customer_Distance_Ratio     2.803706\n",
      "Marginal_Cost_ratio                        1.938737\n",
      "Distance_to_gravity_center_ratio           1.831821\n",
      "Second_Closest_Customer_Distance_Ratio     1.790404\n",
      "Number Clusters                            1.486619\n",
      "Savings_ratio                              1.469912\n",
      "cluster_distance_to_depot_ratio            1.261492\n",
      "Number Customers                           1.024799\n",
      "dtype: float64\n",
      "\n",
      "Bias: -9.839943503588522\n"
     ]
    }
   ],
   "source": [
    "# grid search cross validation\n",
    "param_grid = {'alpha': [0.0001, 0.001, 0.01, 0.1, 1, 10], #higher alpha means higher regularization and lower model complexity (less overfitting)\n",
    "              'max_iter': [10000]}\n",
    "\n",
    "grid_search = GridSearchCV(estimator=Lasso(), param_grid=param_grid, cv=5,\n",
    "                    scoring='neg_mean_absolute_percentage_error', \n",
    "                    verbose=False, n_jobs=-1)\n",
    "fit_time = fun_fit_gridsearch_time(grid_search, X_train, y_train)\n",
    "\n",
    "# view results of grid search cross validation\n",
    "MAPE, RMSE = fun_best_model(grid_search, X_train, y_train, view_results_df=True, return_scores=True)\n",
    "\n",
    "# save results to dictionary\n",
    "results_dict['Lasso Regression'] = {'MAPE': MAPE, 'RMSE': RMSE, 'Fit gird searach time': fit_time, 'Train size': train_size}\n",
    "\n",
    "# top ten absolute feature weights\n",
    "fun_feature_weights(grid_search.best_estimator_, X_train)"
   ]
  },
  {
   "cell_type": "markdown",
   "metadata": {},
   "source": [
    "**Support Vector Machine (SVM)**"
   ]
  },
  {
   "cell_type": "code",
   "execution_count": 35,
   "metadata": {},
   "outputs": [
    {
     "name": "stdout",
     "output_type": "stream",
     "text": [
      "Method: StandardScaler()\n",
      "  CV MAPE train data: 18.4314 %\n",
      "  CV RMSE train data: 3.6104\n",
      "\n",
      "  Best model / parameter combination:\n",
      "   {'svm__C': 0.1}\n",
      "\n",
      "Method: MinMaxScaler()\n",
      "  CV MAPE train data: 18.3532 %\n",
      "  CV RMSE train data: 3.5135\n",
      "\n",
      "  Best model / parameter combination:\n",
      "   {'svm__C': 10}\n",
      "\n",
      "Method: RobustScaler()\n",
      "  CV MAPE train data: 18.3391 %\n",
      "  CV RMSE train data: 3.5094\n",
      "\n",
      "  Best model / parameter combination:\n",
      "   {'svm__C': 1}\n"
     ]
    },
    {
     "data": {
      "image/png": "[encoded data removed]",
      "text/plain": [
       "<Figure size 1800x100 with 6 Axes>"
      ]
     },
     "metadata": {},
     "output_type": "display_data"
    }
   ],
   "source": [
    "# create parameter grid\n",
    "param_grid = {'svm__C': [0.01, 0.1, 1, 10, 100]}\n",
    "\n",
    "# compare the scaling methods\n",
    "scores_list = []\n",
    "best_MAPE = 100\n",
    "for scaler in [StandardScaler(), MinMaxScaler(), RobustScaler()]:\n",
    "    \n",
    "    # create pipeline\n",
    "    pipe = Pipeline(steps=[('Scaler', scaler), ('svm', SVR(kernel='linear'))])\n",
    "\n",
    "    # grid search cross validation with pipeline as estimator\n",
    "    grid_search = GridSearchCV(pipe, param_grid=param_grid, cv=3,\n",
    "                               scoring='neg_mean_absolute_percentage_error', \n",
    "                               verbose=False, n_jobs=-1)\n",
    "    fit_time = fun_fit_gridsearch_time(grid_search, X_train_small, y_train_small)\n",
    "\n",
    "    # estimate model performance with cross validation on the train set (scoring: MAPE and RMSE)\n",
    "    if (not isinstance(scaler, StandardScaler)): print('')\n",
    "    print('Method:', scaler)\n",
    "    MAPE, RMSE = fun_best_model(grid_search, X_train_small, y_train_small, view_results_df=False, return_scores=True)\n",
    "    \n",
    "    # create a data frame with grid search cv results and add it to scores_list\n",
    "    results_df = pd.DataFrame(grid_search.cv_results_)\n",
    "    scores_list.append(np.array(results_df['mean_test_score']) * 100)\n",
    "\n",
    "    # save best result\n",
    "    if MAPE < best_MAPE:\n",
    "        best_MAPE = MAPE\n",
    "        best_RMSE = RMSE\n",
    "        best_fit_time = fit_time\n",
    "\n",
    "# view heatmap of results\n",
    "plot_heatmap(scores_list=scores_list, param_grid=param_grid, different_scalers=True)\n",
    "\n",
    "# save results to dictionary\n",
    "results_dict['Linear SVM'] = {'MAPE': best_MAPE, 'RMSE': best_RMSE, 'Fit gird searach time': best_fit_time, 'Train size': train_size_small}"
   ]
  },
  {
   "cell_type": "markdown",
   "metadata": {},
   "source": [
    "# **Compare Results**"
   ]
  },
  {
   "cell_type": "code",
   "execution_count": 36,
   "metadata": {},
   "outputs": [
    {
     "data": {
      "text/html": [
       "<div>\n",
       "<style scoped>\n",
       "    .dataframe tbody tr th:only-of-type {\n",
       "        vertical-align: middle;\n",
       "    }\n",
       "\n",
       "    .dataframe tbody tr th {\n",
       "        vertical-align: top;\n",
       "    }\n",
       "\n",
       "    .dataframe thead th {\n",
       "        text-align: right;\n",
       "    }\n",
       "</style>\n",
       "<table border=\"1\" class=\"dataframe\">\n",
       "  <thead>\n",
       "    <tr style=\"text-align: right;\">\n",
       "      <th></th>\n",
       "      <th>Linear Regression</th>\n",
       "      <th>Ridge Regression</th>\n",
       "      <th>Lasso Regression</th>\n",
       "      <th>Linear SVM</th>\n",
       "      <th>KNN</th>\n",
       "    </tr>\n",
       "  </thead>\n",
       "  <tbody>\n",
       "    <tr>\n",
       "      <th>MAPE</th>\n",
       "      <td>16.4223</td>\n",
       "      <td>16.4242</td>\n",
       "      <td>16.4379</td>\n",
       "      <td>18.3391</td>\n",
       "      <td>57.4517</td>\n",
       "    </tr>\n",
       "    <tr>\n",
       "      <th>RMSE</th>\n",
       "      <td>3.293</td>\n",
       "      <td>3.2891</td>\n",
       "      <td>3.2846</td>\n",
       "      <td>3.5094</td>\n",
       "      <td>9.6275</td>\n",
       "    </tr>\n",
       "    <tr>\n",
       "      <th>Fit gird searach time</th>\n",
       "      <td>5 sec</td>\n",
       "      <td>1 sec</td>\n",
       "      <td>1 min, 9 sec</td>\n",
       "      <td>5 sec</td>\n",
       "      <td>1 min, 15 sec</td>\n",
       "    </tr>\n",
       "    <tr>\n",
       "      <th>Train size</th>\n",
       "      <td>25 %</td>\n",
       "      <td>25 %</td>\n",
       "      <td>25 %</td>\n",
       "      <td>1 %</td>\n",
       "      <td>25 %</td>\n",
       "    </tr>\n",
       "  </tbody>\n",
       "</table>\n",
       "</div>"
      ],
      "text/plain": [
       "                      Linear Regression Ridge Regression Lasso Regression  \\\n",
       "MAPE                            16.4223          16.4242          16.4379   \n",
       "RMSE                              3.293           3.2891           3.2846   \n",
       "Fit gird searach time             5 sec            1 sec     1 min, 9 sec   \n",
       "Train size                         25 %             25 %             25 %   \n",
       "\n",
       "                      Linear SVM            KNN  \n",
       "MAPE                     18.3391        57.4517  \n",
       "RMSE                      3.5094         9.6275  \n",
       "Fit gird searach time      5 sec  1 min, 15 sec  \n",
       "Train size                   1 %           25 %  "
      ]
     },
     "metadata": {},
     "output_type": "display_data"
    },
    {
     "name": "stdout",
     "output_type": "stream",
     "text": [
      "Total script computation time: 3 min, 42 sec\n"
     ]
    }
   ],
   "source": [
    "display(pd.DataFrame(results_dict).sort_values(by='MAPE', axis=1))\n",
    "print('Total script computation time:', fun_convert_time(start=start_script, end=time.time()))"
   ]
  }
 ],
 "metadata": {
  "kernelspec": {
   "display_name": "base",
   "language": "python",
   "name": "python3"
  },
  "language_info": {
   "codemirror_mode": {
    "name": "ipython",
    "version": 3
   },
   "file_extension": ".py",
   "mimetype": "text/x-python",
   "name": "python",
   "nbconvert_exporter": "python",
   "pygments_lexer": "ipython3",
   "version": "3.11.7"
  }
 },
 "nbformat": 4,
 "nbformat_minor": 2
}
