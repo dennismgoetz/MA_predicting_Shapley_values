{
 "cells": [
  {
   "cell_type": "code",
   "execution_count": 1,
   "metadata": {},
   "outputs": [],
   "source": [
    "import os\n",
    "import time\n",
    "import pandas as pd\n",
    "import numpy as np\n",
    "from scipy.stats import uniform\n",
    "import matplotlib.pyplot as plt\n",
    "import matplotlib_inline\n",
    "import seaborn as sns\n",
    "import mglearn\n",
    "\n",
    "from sklearn.preprocessing import StandardScaler, MinMaxScaler, RobustScaler\n",
    "from sklearn.model_selection import train_test_split, cross_val_score, cross_validate, GridSearchCV, RandomizedSearchCV\n",
    "\n",
    "from sklearn.neural_network import MLPRegressor\n",
    "\n",
    "# import helperfunctions\n",
    "from helperfunctions import fun_load_file, fun_preprocessing, fun_split_X_y\n",
    "from helperfunctions import fun_convert_time, fun_fit_gridsearch_time\n",
    "from helperfunctions import fun_train_score, fun_test_score, fun_best_model\n",
    "from helperfunctions import plot_feature_importances\n",
    "\n",
    "# start time count and load data\n",
    "start_script = time.time()\n",
    "data = fun_load_file(path='..\\\\01_data\\\\01_TSP', name='combined_train_instances_dennis.xlsx')\n",
    "train_data = fun_preprocessing(data)\n",
    "X, y = fun_split_X_y(train_data)\n",
    "\n",
    "# create a train and test set\n",
    "X_train, X_test, y_train, y_test = train_test_split(X, y, test_size=0.99, random_state=0)\n",
    "\n",
    "# save number of features and train sizes\n",
    "n_features = X_train.shape[1]\n",
    "train_size = f'{int(np.round(100 * len(X_train)/len(X)))} %'"
   ]
  },
  {
   "cell_type": "markdown",
   "metadata": {},
   "source": [
    "# **Neural Networks - Multi Layer Perceptron**"
   ]
  },
  {
   "cell_type": "code",
   "execution_count": 3,
   "metadata": {},
   "outputs": [
    {
     "name": "stdout",
     "output_type": "stream",
     "text": [
      "Method: StandardScaler()\n",
      "  CV MAPE train data:  16.5366 %\n",
      "  CV RMSE train data:  3.6718\n",
      "  CV computation time: 4 sec\n",
      "Method: MinMaxScaler()\n",
      "  CV MAPE train data:  11.7943 %\n",
      "  CV RMSE train data:  2.5538\n",
      "  CV computation time: 3 sec\n",
      "Method: RobustScaler()\n",
      "  CV MAPE train data:  14.3652 %\n",
      "  CV RMSE train data:  3.0809\n",
      "  CV computation time: 3 sec\n"
     ]
    }
   ],
   "source": [
    "# compare the scaling methods\n",
    "best_MAPE = 100\n",
    "for i in [StandardScaler(), MinMaxScaler(), RobustScaler()]:\n",
    "\n",
    "    # scale the train set first\n",
    "    scaler = i\n",
    "    X_train_scaled = scaler.fit_transform(X_train)\n",
    "\n",
    "    # create model and fit it on train set (default parameters)\n",
    "    mlp = MLPRegressor(hidden_layer_sizes=(100,), alpha=0.0001,\n",
    "                       activation='relu', solver='adam', max_iter=1000, random_state=0)\n",
    "\n",
    "    # estimate model performance with cross validation on the train set (scoring: MAPE and RMSE)\n",
    "    print('Method:', i)\n",
    "    MAPE, RMSE, computation_time = fun_train_score(mlp, X_train_scaled, y_train, cv=3, return_results=True)\n",
    "\n",
    "    # save best result\n",
    "    if MAPE < best_MAPE:\n",
    "        best_MAPE = MAPE\n",
    "        best_RMSE = RMSE\n",
    "        best_computation_time = computation_time\n",
    "\n",
    "# save results to dictionary\n",
    "results_dict = {}\n",
    "results_dict['Neural Network'] = {'MAPE': MAPE, 'RMSE': RMSE, 'CV computation time': best_computation_time, 'Train size': train_size}"
   ]
  },
  {
   "cell_type": "markdown",
   "metadata": {},
   "source": [
    "# **Compare Results**"
   ]
  },
  {
   "cell_type": "code",
   "execution_count": 4,
   "metadata": {},
   "outputs": [
    {
     "data": {
      "text/html": [
       "<div>\n",
       "<style scoped>\n",
       "    .dataframe tbody tr th:only-of-type {\n",
       "        vertical-align: middle;\n",
       "    }\n",
       "\n",
       "    .dataframe tbody tr th {\n",
       "        vertical-align: top;\n",
       "    }\n",
       "\n",
       "    .dataframe thead th {\n",
       "        text-align: right;\n",
       "    }\n",
       "</style>\n",
       "<table border=\"1\" class=\"dataframe\">\n",
       "  <thead>\n",
       "    <tr style=\"text-align: right;\">\n",
       "      <th></th>\n",
       "      <th>Neural Network</th>\n",
       "    </tr>\n",
       "  </thead>\n",
       "  <tbody>\n",
       "    <tr>\n",
       "      <th>CV computation time</th>\n",
       "      <td>3 sec</td>\n",
       "    </tr>\n",
       "    <tr>\n",
       "      <th>MAPE</th>\n",
       "      <td>14.3652</td>\n",
       "    </tr>\n",
       "    <tr>\n",
       "      <th>RMSE</th>\n",
       "      <td>3.0809</td>\n",
       "    </tr>\n",
       "    <tr>\n",
       "      <th>Train size</th>\n",
       "      <td>1 %</td>\n",
       "    </tr>\n",
       "  </tbody>\n",
       "</table>\n",
       "</div>"
      ],
      "text/plain": [
       "                    Neural Network\n",
       "CV computation time          3 sec\n",
       "MAPE                       14.3652\n",
       "RMSE                        3.0809\n",
       "Train size                     1 %"
      ]
     },
     "metadata": {},
     "output_type": "display_data"
    },
    {
     "name": "stdout",
     "output_type": "stream",
     "text": [
      "Total script computation time: 28 min, 41 sec\n"
     ]
    }
   ],
   "source": [
    "display(pd.DataFrame(results_dict).sort_values(by='MAPE', axis=1))\n",
    "print('Total script computation time:', fun_convert_time(start=start_script, end=time.time()))"
   ]
  }
 ],
 "metadata": {
  "kernelspec": {
   "display_name": "base",
   "language": "python",
   "name": "python3"
  },
  "language_info": {
   "codemirror_mode": {
    "name": "ipython",
    "version": 3
   },
   "file_extension": ".py",
   "mimetype": "text/x-python",
   "name": "python",
   "nbconvert_exporter": "python",
   "pygments_lexer": "ipython3",
   "version": "3.11.7"
  }
 },
 "nbformat": 4,
 "nbformat_minor": 2
}
