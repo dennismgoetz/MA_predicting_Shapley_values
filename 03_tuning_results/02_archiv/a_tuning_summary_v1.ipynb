{
 "cells": [
  {
   "cell_type": "code",
   "execution_count": 4,
   "metadata": {},
   "outputs": [
    {
     "data": {
      "text/html": [
       "<p style=\"font-size:30px; text-align; margin-top:-10px; margin-bottom:-5px;\"><strong>K-nearest Neighbor (KNN)</strong></p>"
      ],
      "text/plain": [
       "<IPython.core.display.HTML object>"
      ]
     },
     "metadata": {},
     "output_type": "display_data"
    },
    {
     "data": {
      "text/markdown": [
       "**1. Parameter grid/distribution**"
      ],
      "text/plain": [
       "<IPython.core.display.Markdown object>"
      ]
     },
     "metadata": {},
     "output_type": "display_data"
    },
    {
     "data": {
      "text/plain": [
       "{'scaler': [StandardScaler(), MinMaxScaler()],\n",
       " 'knn__n_neighbors': [7, 8, 9, 10, 11, 12]}"
      ]
     },
     "metadata": {},
     "output_type": "display_data"
    },
    {
     "data": {
      "text/markdown": [
       "**2. Best parameters**"
      ],
      "text/plain": [
       "<IPython.core.display.Markdown object>"
      ]
     },
     "metadata": {},
     "output_type": "display_data"
    },
    {
     "data": {
      "text/plain": [
       "{'scaler': StandardScaler(), 'knn__n_neighbors': 12}"
      ]
     },
     "metadata": {},
     "output_type": "display_data"
    },
    {
     "data": {
      "text/markdown": [
       "**3. Tuning details**"
      ],
      "text/plain": [
       "<IPython.core.display.Markdown object>"
      ]
     },
     "metadata": {},
     "output_type": "display_data"
    },
    {
     "data": {
      "text/plain": [
       "{'Parameter combinations': 12,\n",
       " 'Total tuning time': '1m, 46s',\n",
       " 'Grid search total fit time': '2s',\n",
       " 'Grid search total prediction time': '6m, 14s'}"
      ]
     },
     "metadata": {},
     "output_type": "display_data"
    },
    {
     "data": {
      "text/html": [
       "<p style=\"font-size:30px; text-align; margin-top:-10px; margin-bottom:-5px;\"><strong>Random Forest</strong></p>"
      ],
      "text/plain": [
       "<IPython.core.display.HTML object>"
      ]
     },
     "metadata": {},
     "output_type": "display_data"
    },
    {
     "data": {
      "text/markdown": [
       "**1. Parameter grid/distribution**"
      ],
      "text/plain": [
       "<IPython.core.display.Markdown object>"
      ]
     },
     "metadata": {},
     "output_type": "display_data"
    },
    {
     "data": {
      "text/plain": [
       "{'max_features': [15, 20, 25, 30, 35, None],\n",
       " 'max_depth': range(10, 26),\n",
       " 'max_leaf_nodes': [3000, 3500, 4000, 4500, None],\n",
       " 'min_samples_leaf': range(1, 26),\n",
       " 'min_samples_split': range(2, 21),\n",
       " 'min_impurity_decrease': [0.0001, 0.001]}"
      ]
     },
     "metadata": {},
     "output_type": "display_data"
    },
    {
     "data": {
      "text/markdown": [
       "**2. Best parameters**"
      ],
      "text/plain": [
       "<IPython.core.display.Markdown object>"
      ]
     },
     "metadata": {},
     "output_type": "display_data"
    },
    {
     "data": {
      "text/plain": [
       "{'max_features': 35,\n",
       " 'max_depth': 24,\n",
       " 'max_leaf_nodes': None,\n",
       " 'min_samples_leaf': 6,\n",
       " 'min_samples_split': 16,\n",
       " 'min_impurity_decrease': 0.0001}"
      ]
     },
     "metadata": {},
     "output_type": "display_data"
    },
    {
     "data": {
      "text/markdown": [
       "**3. Tuning details**"
      ],
      "text/plain": [
       "<IPython.core.display.Markdown object>"
      ]
     },
     "metadata": {},
     "output_type": "display_data"
    },
    {
     "data": {
      "text/plain": [
       "{'Parameter combinations': 50,\n",
       " 'Total tuning time': '27m, 9s',\n",
       " 'Grid search total fit time': '1h, 46m',\n",
       " 'Grid search total prediction time': '24s'}"
      ]
     },
     "metadata": {},
     "output_type": "display_data"
    },
    {
     "data": {
      "text/html": [
       "<p style=\"font-size:30px; text-align; margin-top:-10px; margin-bottom:-5px;\"><strong>Extreme Gradient Boosting (XGBOOST)</strong></p>"
      ],
      "text/plain": [
       "<IPython.core.display.HTML object>"
      ]
     },
     "metadata": {},
     "output_type": "display_data"
    },
    {
     "data": {
      "text/markdown": [
       "**1. Parameter grid/distribution**"
      ],
      "text/plain": [
       "<IPython.core.display.Markdown object>"
      ]
     },
     "metadata": {},
     "output_type": "display_data"
    },
    {
     "data": {
      "text/plain": [
       "{'max_depth': [5, 7, 9],\n",
       " 'learning_rate': [0.05, 0.1],\n",
       " 'subsample': [0.6, 0.8, 1.0],\n",
       " 'colsample_bytree': [0.6, 0.8, 1.0]}"
      ]
     },
     "metadata": {},
     "output_type": "display_data"
    },
    {
     "data": {
      "text/markdown": [
       "**2. Best parameters**"
      ],
      "text/plain": [
       "<IPython.core.display.Markdown object>"
      ]
     },
     "metadata": {},
     "output_type": "display_data"
    },
    {
     "data": {
      "text/plain": [
       "{'max_depth': 7,\n",
       " 'learning_rate': 0.05,\n",
       " 'subsample': 0.8,\n",
       " 'colsample_bytree': 0.6}"
      ]
     },
     "metadata": {},
     "output_type": "display_data"
    },
    {
     "data": {
      "text/markdown": [
       "**3. Tuning details**"
      ],
      "text/plain": [
       "<IPython.core.display.Markdown object>"
      ]
     },
     "metadata": {},
     "output_type": "display_data"
    },
    {
     "data": {
      "text/plain": [
       "{'Parameter combinations': 54,\n",
       " 'Total tuning time': '19m, 35s',\n",
       " 'Grid search total fit time': '1h, 13m',\n",
       " 'Grid search total prediction time': '1m, 54s'}"
      ]
     },
     "metadata": {},
     "output_type": "display_data"
    },
    {
     "data": {
      "text/html": [
       "<p style=\"font-size:30px; text-align; margin-top:-10px; margin-bottom:-5px;\"><strong>Gaussian Kernel Machine</strong></p>"
      ],
      "text/plain": [
       "<IPython.core.display.HTML object>"
      ]
     },
     "metadata": {},
     "output_type": "display_data"
    },
    {
     "data": {
      "text/markdown": [
       "**1. Parameter grid/distribution**"
      ],
      "text/plain": [
       "<IPython.core.display.Markdown object>"
      ]
     },
     "metadata": {},
     "output_type": "display_data"
    },
    {
     "data": {
      "text/plain": [
       "{'scaler': [StandardScaler(), MinMaxScaler()],\n",
       " 'SVM__C': [10, 100, 200],\n",
       " 'SVM__gamma': ['scale', 'auto'],\n",
       " 'SVM__epsilon': [0.01, 0.1, 1]}"
      ]
     },
     "metadata": {},
     "output_type": "display_data"
    },
    {
     "data": {
      "text/markdown": [
       "**2. Best parameters**"
      ],
      "text/plain": [
       "<IPython.core.display.Markdown object>"
      ]
     },
     "metadata": {},
     "output_type": "display_data"
    },
    {
     "data": {
      "text/plain": [
       "{'scaler': MinMaxScaler(),\n",
       " 'SVM__C': 100,\n",
       " 'SVM__gamma': 'scale',\n",
       " 'SVM__epsilon': 1}"
      ]
     },
     "metadata": {},
     "output_type": "display_data"
    },
    {
     "data": {
      "text/markdown": [
       "**3. Tuning details**"
      ],
      "text/plain": [
       "<IPython.core.display.Markdown object>"
      ]
     },
     "metadata": {},
     "output_type": "display_data"
    },
    {
     "data": {
      "text/plain": [
       "{'Parameter combinations': 36,\n",
       " 'Total tuning time': '57m, 35s',\n",
       " 'Grid search total fit time': '2h, 22m',\n",
       " 'Grid search total prediction time': '1h, 20m'}"
      ]
     },
     "metadata": {},
     "output_type": "display_data"
    },
    {
     "data": {
      "text/html": [
       "<p style=\"font-size:30px; text-align; margin-top:-10px; margin-bottom:-5px;\"><strong>Multilayer Perceptron Neural Network</strong></p>"
      ],
      "text/plain": [
       "<IPython.core.display.HTML object>"
      ]
     },
     "metadata": {},
     "output_type": "display_data"
    },
    {
     "data": {
      "text/markdown": [
       "**1. Parameter grid/distribution**"
      ],
      "text/plain": [
       "<IPython.core.display.Markdown object>"
      ]
     },
     "metadata": {},
     "output_type": "display_data"
    },
    {
     "data": {
      "text/plain": [
       "{'mlpregressor__alpha': [0.001, 0.01, 0.1, 1],\n",
       " 'mlpregressor__solver': ['sgd', 'adam'],\n",
       " 'mlpregressor__batch_size': [32, 64, 128],\n",
       " 'mlpregressor__learning_rate_init': [0.0001, 0.0005],\n",
       " 'mlpregressor__early_stopping': [False]}"
      ]
     },
     "metadata": {},
     "output_type": "display_data"
    },
    {
     "data": {
      "text/markdown": [
       "**2. Best parameters**"
      ],
      "text/plain": [
       "<IPython.core.display.Markdown object>"
      ]
     },
     "metadata": {},
     "output_type": "display_data"
    },
    {
     "data": {
      "text/plain": [
       "{'mlpregressor__alpha': 1,\n",
       " 'mlpregressor__solver': 'sgd',\n",
       " 'mlpregressor__batch_size': 64,\n",
       " 'mlpregressor__learning_rate_init': 0.0005,\n",
       " 'mlpregressor__early_stopping': False}"
      ]
     },
     "metadata": {},
     "output_type": "display_data"
    },
    {
     "data": {
      "text/markdown": [
       "**3. Tuning details**"
      ],
      "text/plain": [
       "<IPython.core.display.Markdown object>"
      ]
     },
     "metadata": {},
     "output_type": "display_data"
    },
    {
     "data": {
      "text/plain": [
       "{'Parameter combinations': 48,\n",
       " 'Total tuning time': '4h, 44m',\n",
       " 'Grid search total fit time': '18h, 46m',\n",
       " 'Grid search total prediction time': '21s'}"
      ]
     },
     "metadata": {},
     "output_type": "display_data"
    }
   ],
   "source": [
    "import os\n",
    "import json\n",
    "import pickle\n",
    "from IPython.display import display, Markdown, HTML\n",
    "\n",
    "# Define the optimization problem (choose either \"TSP\" or \"CVRP\")\n",
    "optimization_problem = \"CVRP\"\n",
    "\n",
    "# Create a dictionary with all model names as keys and their corresponding names in a file as values\n",
    "model_names = {\"K-nearest Neighbor (KNN)\": \"_KNN_GS\", \n",
    "               \"Ridge Regression\": \"_Ridge_GS\", \n",
    "               \"Decision Tree\": \"_DT_RGS\", \n",
    "               \"Random Forest\": \"_RF_RGS\", \n",
    "               \"Gradient Boosting Regression Tree\": \"_GBRT_RGS\", \n",
    "               \"Extreme Gradient Boosting (XGBOOST)\": \"_XGBOOST_GS\", \n",
    "               \"Linear Support Vector Machine (SVM)\": \"_LSVM_GS\", \n",
    "               \"Gaussian Kernel Machine\": \"_SVM_GK_GS\", \n",
    "               \"Multilayer Perceptron Neural Network\": \"_NN_GS\"}\n",
    "\n",
    "# Exclude the models that were not tuned for the CVRP problem\n",
    "if (optimization_problem == \"CVRP\"):\n",
    "    for model_name in [\"Ridge Regression\", \"Decision Tree\", \"Gradient Boosting Regression Tree\", \"Linear Support Vector Machine (SVM)\"]:\n",
    "        del model_names[model_name]\n",
    "\n",
    "# Create another dictionary with the three different file categories\n",
    "file_names = {\"Parameter grid/distribution\": \"_param_grid.pkl\",\n",
    "              \"Best parameters\": \"_best_params.pkl\", \n",
    "              \"Tuning details\": \"_tuning_details.json\"}\n",
    "\n",
    "# Function to load all three tuning files for a given model and display the content of each files\n",
    "def fun_show_tuning_results(model_key, model_names, file_names, optimization_problem):\n",
    "\n",
    "    # Iterate over the three tuning files and display the dictionary key of the file as subtitle\n",
    "    for i, file_key in enumerate(file_names, start=1):\n",
    "        display(Markdown(f\"**{i}. {file_key}**\"))\n",
    "        \n",
    "        # Combine the file name with the subfolder to get the file path\n",
    "        file_name = optimization_problem + model_names[model_key] + file_names[file_key]\n",
    "        subfolder = \"../03_tuning_results\"\n",
    "        file_path = os.path.join(subfolder, file_name)\n",
    "        try: \n",
    "            # Load the file, depending on whether it is in Pickle or Json format\n",
    "            if (\".pkl\" in file_name):\n",
    "                with open(file_path, \"rb\") as file:\n",
    "                    data = pickle.load(file)\n",
    "\n",
    "                # Get the keys of the parameter grid/distribution dictionary and reorder the dictionary with the best combination\n",
    "                if (i == 1): keys = data.keys()\n",
    "                else: data = {key: data[key] for key in keys}\n",
    "\n",
    "            else:\n",
    "                with open(file_path, \"r\") as file:\n",
    "                    data = json.load(file)\n",
    "            \n",
    "            # Display the content of the file\n",
    "            display(data)\n",
    "        \n",
    "        except FileNotFoundError:\n",
    "            print(\"Error: File not found :(\\n\")\n",
    "\n",
    "# Iterate over all models, display the model name as headline and execute the defined function from above for each model\n",
    "for model_key in model_names:\n",
    "    #print(\"#\" * 75), print(\"#\" * 15, f\" {model_key:^41} \", \"#\" * 15), print(\"#\" * 75) \n",
    "    display(HTML(f'<p style=\"font-size:30px; text-align; margin-top:-10px; margin-bottom:-5px;\"><strong>{model_key}</strong></p>'))\n",
    "    fun_show_tuning_results(model_key, model_names, file_names, optimization_problem)"
   ]
  }
 ],
 "metadata": {
  "kernelspec": {
   "display_name": "base",
   "language": "python",
   "name": "python3"
  },
  "language_info": {
   "codemirror_mode": {
    "name": "ipython",
    "version": 3
   },
   "file_extension": ".py",
   "mimetype": "text/x-python",
   "name": "python",
   "nbconvert_exporter": "python",
   "pygments_lexer": "ipython3",
   "version": "3.11.7"
  }
 },
 "nbformat": 4,
 "nbformat_minor": 2
}
