{
 "cells": [
  {
   "cell_type": "markdown",
   "metadata": {},
   "source": [
    "# **A: Analyse the tuning time per parameter combination for all models in the TSP**"
   ]
  },
  {
   "cell_type": "code",
   "execution_count": 1,
   "metadata": {
    "execution": {
     "iopub.execute_input": "2024-10-15T22:04:41.512994Z",
     "iopub.status.busy": "2024-10-15T22:04:41.512994Z",
     "iopub.status.idle": "2024-10-15T22:04:42.781954Z",
     "shell.execute_reply": "2024-10-15T22:04:42.781954Z"
    }
   },
   "outputs": [
    {
     "data": {
      "text/html": [
       "<div>\n",
       "<style scoped>\n",
       "    .dataframe tbody tr th:only-of-type {\n",
       "        vertical-align: middle;\n",
       "    }\n",
       "\n",
       "    .dataframe tbody tr th {\n",
       "        vertical-align: top;\n",
       "    }\n",
       "\n",
       "    .dataframe thead th {\n",
       "        text-align: right;\n",
       "    }\n",
       "</style>\n",
       "<table border=\"1\" class=\"dataframe\">\n",
       "  <thead>\n",
       "    <tr style=\"text-align: right;\">\n",
       "      <th></th>\n",
       "      <th>KNN</th>\n",
       "      <th>Ridge</th>\n",
       "      <th>DT</th>\n",
       "      <th>RF</th>\n",
       "      <th>GBRT</th>\n",
       "      <th>XGBoost</th>\n",
       "      <th>SVM</th>\n",
       "      <th>KM</th>\n",
       "      <th>NN</th>\n",
       "    </tr>\n",
       "  </thead>\n",
       "  <tbody>\n",
       "    <tr>\n",
       "      <th>Search type</th>\n",
       "      <td>GridSearchCV</td>\n",
       "      <td>GridSearchCV</td>\n",
       "      <td>RandomizedSearchCV</td>\n",
       "      <td>RandomizedSearchCV</td>\n",
       "      <td>RandomizedSearchCV</td>\n",
       "      <td>GridSearchCV</td>\n",
       "      <td>GridSearchCV</td>\n",
       "      <td>GridSearchCV</td>\n",
       "      <td>GridSearchCV</td>\n",
       "    </tr>\n",
       "    <tr>\n",
       "      <th>Parameter combinations</th>\n",
       "      <td>12</td>\n",
       "      <td>5</td>\n",
       "      <td>50</td>\n",
       "      <td>50</td>\n",
       "      <td>25</td>\n",
       "      <td>9</td>\n",
       "      <td>24</td>\n",
       "      <td>36</td>\n",
       "      <td>120</td>\n",
       "    </tr>\n",
       "    <tr>\n",
       "      <th>Total tuning time</th>\n",
       "      <td>1m, 16s</td>\n",
       "      <td>1s</td>\n",
       "      <td>1m, 15s</td>\n",
       "      <td>25m, 32s</td>\n",
       "      <td>34m, 7s</td>\n",
       "      <td>3s</td>\n",
       "      <td>1m, 52s</td>\n",
       "      <td>43m, 23s</td>\n",
       "      <td>2h, 57m</td>\n",
       "    </tr>\n",
       "    <tr>\n",
       "      <th>Total tuning fit time</th>\n",
       "      <td>1s</td>\n",
       "      <td>4s</td>\n",
       "      <td>4m, 7s</td>\n",
       "      <td>1h, 38m</td>\n",
       "      <td>2h, 9m</td>\n",
       "      <td>8s</td>\n",
       "      <td>6m, 22s</td>\n",
       "      <td>1h, 46m</td>\n",
       "      <td>11h, 42m</td>\n",
       "    </tr>\n",
       "    <tr>\n",
       "      <th>Total tuning prediction time</th>\n",
       "      <td>4m, 22s</td>\n",
       "      <td>0s</td>\n",
       "      <td>3s</td>\n",
       "      <td>20s</td>\n",
       "      <td>10s</td>\n",
       "      <td>0s</td>\n",
       "      <td>2s</td>\n",
       "      <td>1h, 2m</td>\n",
       "      <td>24s</td>\n",
       "    </tr>\n",
       "  </tbody>\n",
       "</table>\n",
       "</div>"
      ],
      "text/plain": [
       "                                       KNN         Ridge                  DT  \\\n",
       "Search type                   GridSearchCV  GridSearchCV  RandomizedSearchCV   \n",
       "Parameter combinations                  12             5                  50   \n",
       "Total tuning time                  1m, 16s            1s             1m, 15s   \n",
       "Total tuning fit time                   1s            4s              4m, 7s   \n",
       "Total tuning prediction time       4m, 22s            0s                  3s   \n",
       "\n",
       "                                              RF                GBRT  \\\n",
       "Search type                   RandomizedSearchCV  RandomizedSearchCV   \n",
       "Parameter combinations                        50                  25   \n",
       "Total tuning time                       25m, 32s             34m, 7s   \n",
       "Total tuning fit time                    1h, 38m              2h, 9m   \n",
       "Total tuning prediction time                 20s                 10s   \n",
       "\n",
       "                                   XGBoost           SVM            KM  \\\n",
       "Search type                   GridSearchCV  GridSearchCV  GridSearchCV   \n",
       "Parameter combinations                   9            24            36   \n",
       "Total tuning time                       3s       1m, 52s      43m, 23s   \n",
       "Total tuning fit time                   8s       6m, 22s       1h, 46m   \n",
       "Total tuning prediction time            0s            2s        1h, 2m   \n",
       "\n",
       "                                        NN  \n",
       "Search type                   GridSearchCV  \n",
       "Parameter combinations                 120  \n",
       "Total tuning time                  2h, 57m  \n",
       "Total tuning fit time             11h, 42m  \n",
       "Total tuning prediction time           24s  "
      ]
     },
     "execution_count": 1,
     "metadata": {},
     "output_type": "execute_result"
    }
   ],
   "source": [
    "import numpy as np\n",
    "import pandas as pd\n",
    "import matplotlib.pyplot as plt\n",
    "import matplotlib_inline\n",
    "\n",
    "# Load the Data Frame\n",
    "df = pd.read_excel(\"c_TSP_tuning_details.xlsx\")\n",
    "df = df.set_index(\"Unnamed: 0\")\n",
    "df.index.name = None\n",
    "df"
   ]
  },
  {
   "cell_type": "markdown",
   "metadata": {},
   "source": [
    "### **Convert the time string into seconds**"
   ]
  },
  {
   "cell_type": "code",
   "execution_count": 2,
   "metadata": {
    "execution": {
     "iopub.execute_input": "2024-10-15T22:04:42.805617Z",
     "iopub.status.busy": "2024-10-15T22:04:42.805617Z",
     "iopub.status.idle": "2024-10-15T22:04:42.811539Z",
     "shell.execute_reply": "2024-10-15T22:04:42.811539Z"
    }
   },
   "outputs": [
    {
     "data": {
      "text/plain": [
       "KNN         1m, 16s\n",
       "Ridge            1s\n",
       "DT          1m, 15s\n",
       "RF         25m, 32s\n",
       "GBRT        34m, 7s\n",
       "XGBoost          3s\n",
       "SVM         1m, 52s\n",
       "KM         43m, 23s\n",
       "NN          2h, 57m\n",
       "Name: Total tuning time, dtype: object"
      ]
     },
     "execution_count": 2,
     "metadata": {},
     "output_type": "execute_result"
    }
   ],
   "source": [
    "# Get all the stime strings\n",
    "tuning_times = df.loc[\"Total tuning time\"]\n",
    "tuning_times"
   ]
  },
  {
   "cell_type": "code",
   "execution_count": 3,
   "metadata": {
    "execution": {
     "iopub.execute_input": "2024-10-15T22:04:42.814046Z",
     "iopub.status.busy": "2024-10-15T22:04:42.814046Z",
     "iopub.status.idle": "2024-10-15T22:04:42.827673Z",
     "shell.execute_reply": "2024-10-15T22:04:42.827673Z"
    }
   },
   "outputs": [
    {
     "name": "stdout",
     "output_type": "stream",
     "text": [
      "There are 76    Seconds in 1m, 16s.\n",
      "There are 1     Seconds in 1s.\n",
      "There are 75    Seconds in 1m, 15s.\n",
      "There are 1532  Seconds in 25m, 32s.\n",
      "There are 2047  Seconds in 34m, 7s.\n",
      "There are 3     Seconds in 3s.\n",
      "There are 112   Seconds in 1m, 52s.\n",
      "There are 2603  Seconds in 43m, 23s.\n",
      "There are 10620 Seconds in 2h, 57m.\n"
     ]
    },
    {
     "data": {
      "text/html": [
       "<div>\n",
       "<style scoped>\n",
       "    .dataframe tbody tr th:only-of-type {\n",
       "        vertical-align: middle;\n",
       "    }\n",
       "\n",
       "    .dataframe tbody tr th {\n",
       "        vertical-align: top;\n",
       "    }\n",
       "\n",
       "    .dataframe thead th {\n",
       "        text-align: right;\n",
       "    }\n",
       "</style>\n",
       "<table border=\"1\" class=\"dataframe\">\n",
       "  <thead>\n",
       "    <tr style=\"text-align: right;\">\n",
       "      <th></th>\n",
       "      <th>KNN</th>\n",
       "      <th>Ridge</th>\n",
       "      <th>DT</th>\n",
       "      <th>RF</th>\n",
       "      <th>GBRT</th>\n",
       "      <th>XGBoost</th>\n",
       "      <th>SVM</th>\n",
       "      <th>KM</th>\n",
       "      <th>NN</th>\n",
       "    </tr>\n",
       "  </thead>\n",
       "  <tbody>\n",
       "    <tr>\n",
       "      <th>Search type</th>\n",
       "      <td>GridSearchCV</td>\n",
       "      <td>GridSearchCV</td>\n",
       "      <td>RandomizedSearchCV</td>\n",
       "      <td>RandomizedSearchCV</td>\n",
       "      <td>RandomizedSearchCV</td>\n",
       "      <td>GridSearchCV</td>\n",
       "      <td>GridSearchCV</td>\n",
       "      <td>GridSearchCV</td>\n",
       "      <td>GridSearchCV</td>\n",
       "    </tr>\n",
       "    <tr>\n",
       "      <th>Parameter combinations</th>\n",
       "      <td>12</td>\n",
       "      <td>5</td>\n",
       "      <td>50</td>\n",
       "      <td>50</td>\n",
       "      <td>25</td>\n",
       "      <td>9</td>\n",
       "      <td>24</td>\n",
       "      <td>36</td>\n",
       "      <td>120</td>\n",
       "    </tr>\n",
       "    <tr>\n",
       "      <th>Total tuning time</th>\n",
       "      <td>1m, 16s</td>\n",
       "      <td>1s</td>\n",
       "      <td>1m, 15s</td>\n",
       "      <td>25m, 32s</td>\n",
       "      <td>34m, 7s</td>\n",
       "      <td>3s</td>\n",
       "      <td>1m, 52s</td>\n",
       "      <td>43m, 23s</td>\n",
       "      <td>2h, 57m</td>\n",
       "    </tr>\n",
       "    <tr>\n",
       "      <th>Total tuning fit time</th>\n",
       "      <td>1s</td>\n",
       "      <td>4s</td>\n",
       "      <td>4m, 7s</td>\n",
       "      <td>1h, 38m</td>\n",
       "      <td>2h, 9m</td>\n",
       "      <td>8s</td>\n",
       "      <td>6m, 22s</td>\n",
       "      <td>1h, 46m</td>\n",
       "      <td>11h, 42m</td>\n",
       "    </tr>\n",
       "    <tr>\n",
       "      <th>Total tuning prediction time</th>\n",
       "      <td>4m, 22s</td>\n",
       "      <td>0s</td>\n",
       "      <td>3s</td>\n",
       "      <td>20s</td>\n",
       "      <td>10s</td>\n",
       "      <td>0s</td>\n",
       "      <td>2s</td>\n",
       "      <td>1h, 2m</td>\n",
       "      <td>24s</td>\n",
       "    </tr>\n",
       "    <tr>\n",
       "      <th>Total tuning time in seconds</th>\n",
       "      <td>76</td>\n",
       "      <td>1</td>\n",
       "      <td>75</td>\n",
       "      <td>1532</td>\n",
       "      <td>2047</td>\n",
       "      <td>3</td>\n",
       "      <td>112</td>\n",
       "      <td>2603</td>\n",
       "      <td>10620</td>\n",
       "    </tr>\n",
       "    <tr>\n",
       "      <th>Tuning time per parameter combination</th>\n",
       "      <td>6.333333</td>\n",
       "      <td>0.2</td>\n",
       "      <td>1.5</td>\n",
       "      <td>30.64</td>\n",
       "      <td>81.88</td>\n",
       "      <td>0.333333</td>\n",
       "      <td>4.666667</td>\n",
       "      <td>72.305556</td>\n",
       "      <td>88.5</td>\n",
       "    </tr>\n",
       "  </tbody>\n",
       "</table>\n",
       "</div>"
      ],
      "text/plain": [
       "                                                KNN         Ridge  \\\n",
       "Search type                            GridSearchCV  GridSearchCV   \n",
       "Parameter combinations                           12             5   \n",
       "Total tuning time                           1m, 16s            1s   \n",
       "Total tuning fit time                            1s            4s   \n",
       "Total tuning prediction time                4m, 22s            0s   \n",
       "Total tuning time in seconds                     76             1   \n",
       "Tuning time per parameter combination      6.333333           0.2   \n",
       "\n",
       "                                                       DT                  RF  \\\n",
       "Search type                            RandomizedSearchCV  RandomizedSearchCV   \n",
       "Parameter combinations                                 50                  50   \n",
       "Total tuning time                                 1m, 15s            25m, 32s   \n",
       "Total tuning fit time                              4m, 7s             1h, 38m   \n",
       "Total tuning prediction time                           3s                 20s   \n",
       "Total tuning time in seconds                           75                1532   \n",
       "Tuning time per parameter combination                 1.5               30.64   \n",
       "\n",
       "                                                     GBRT       XGBoost  \\\n",
       "Search type                            RandomizedSearchCV  GridSearchCV   \n",
       "Parameter combinations                                 25             9   \n",
       "Total tuning time                                 34m, 7s            3s   \n",
       "Total tuning fit time                              2h, 9m            8s   \n",
       "Total tuning prediction time                          10s            0s   \n",
       "Total tuning time in seconds                         2047             3   \n",
       "Tuning time per parameter combination               81.88      0.333333   \n",
       "\n",
       "                                                SVM            KM  \\\n",
       "Search type                            GridSearchCV  GridSearchCV   \n",
       "Parameter combinations                           24            36   \n",
       "Total tuning time                           1m, 52s      43m, 23s   \n",
       "Total tuning fit time                       6m, 22s       1h, 46m   \n",
       "Total tuning prediction time                     2s        1h, 2m   \n",
       "Total tuning time in seconds                    112          2603   \n",
       "Tuning time per parameter combination      4.666667     72.305556   \n",
       "\n",
       "                                                 NN  \n",
       "Search type                            GridSearchCV  \n",
       "Parameter combinations                          120  \n",
       "Total tuning time                           2h, 57m  \n",
       "Total tuning fit time                      11h, 42m  \n",
       "Total tuning prediction time                    24s  \n",
       "Total tuning time in seconds                  10620  \n",
       "Tuning time per parameter combination          88.5  "
      ]
     },
     "execution_count": 3,
     "metadata": {},
     "output_type": "execute_result"
    }
   ],
   "source": [
    "# Function to convert the time in strings back into a number of seconds\n",
    "def fun_convert_string_to_seconds(string):\n",
    "    # Check if the string has hours\n",
    "    if (\"h\" in string):\n",
    "        # Get the hours of the string\n",
    "        h_loc = [letter == \"h\" for letter in string].index(True)\n",
    "        hours = int(string[:h_loc])\n",
    "\n",
    "        # Get the minutes of the string\n",
    "        m_loc = [letter == \"m\" for letter in string].index(True)\n",
    "        minutes = int(string[h_loc+3:m_loc])\n",
    "\n",
    "        # Get the seconds of the string\n",
    "        seconds = 0\n",
    "\n",
    "    # Check if the string has minutes\n",
    "    elif (\"m\" in string):\n",
    "        # Get the hours of the string\n",
    "        hours = 0\n",
    "\n",
    "        # Get the minutes of the string\n",
    "        m_loc = [letter == \"m\" for letter in string].index(True)\n",
    "        minutes = int(string[:m_loc])\n",
    "\n",
    "        # Get the seconds of the string\n",
    "        s_loc = [letter == \"s\" for letter in string].index(True)\n",
    "        seconds = int(string[m_loc+3:s_loc])\n",
    "\n",
    "    else:\n",
    "        # Get the hours and minutes of the string\n",
    "        hours, minutes = 0, 0\n",
    "\n",
    "        # Get the seconds of the string\n",
    "        s_loc = [letter == \"s\" for letter in string].index(True)\n",
    "        seconds = int(string[:s_loc])\n",
    "\n",
    "    # Compute the total time in seconds\n",
    "    total_time_in_sec = hours * 60**2 + minutes * 60 + seconds\n",
    "    print(f\"There are {total_time_in_sec:<5} Seconds in {string}.\")\n",
    "    #print(hours, minutes, seconds, total_time_in_sec)\n",
    "    return total_time_in_sec\n",
    "\n",
    "# Apply the function and append the seconds per model to the list\n",
    "seconds_list = []\n",
    "for string in tuning_times: \n",
    "    seconds_list.append(fun_convert_string_to_seconds(string))\n",
    "\n",
    "# Add the list as new row to the Data Frame\n",
    "df.loc[\"Total tuning time in seconds\"] = seconds_list\n",
    "\n",
    "# Compute the tuning time per parameter combination for all models as a new row\n",
    "df.loc[\"Tuning time per parameter combination\"] = df.loc[\"Total tuning time in seconds\"] / df.loc[\"Parameter combinations\"]\n",
    "df"
   ]
  },
  {
   "cell_type": "markdown",
   "metadata": {},
   "source": [
    "### **Rename the models**"
   ]
  },
  {
   "cell_type": "code",
   "execution_count": 4,
   "metadata": {
    "execution": {
     "iopub.execute_input": "2024-10-15T22:04:42.830180Z",
     "iopub.status.busy": "2024-10-15T22:04:42.830180Z",
     "iopub.status.idle": "2024-10-15T22:04:42.838340Z",
     "shell.execute_reply": "2024-10-15T22:04:42.837337Z"
    }
   },
   "outputs": [
    {
     "data": {
      "text/plain": [
       "Ridge            0.2\n",
       "XGBoost     0.333333\n",
       "DT               1.5\n",
       "SVM         4.666667\n",
       "KNN         6.333333\n",
       "RF             30.64\n",
       "KM         72.305556\n",
       "GBRT           81.88\n",
       "NN              88.5\n",
       "Name: Tuning time per parameter combination, dtype: object"
      ]
     },
     "metadata": {},
     "output_type": "display_data"
    },
    {
     "data": {
      "text/plain": [
       "Ridge                   0.2\n",
       "XGBoost            0.333333\n",
       "Decision Tree           1.5\n",
       "SVM                4.666667\n",
       "KNN                6.333333\n",
       "Random Forest         30.64\n",
       "Kernel Machine    72.305556\n",
       "GBRT                  81.88\n",
       "Neural Network         88.5\n",
       "Name: Tuning time per parameter combination, dtype: object"
      ]
     },
     "execution_count": 4,
     "metadata": {},
     "output_type": "execute_result"
    }
   ],
   "source": [
    "# Sort the values\n",
    "time_per_comb = df.loc[\"Tuning time per parameter combination\"].sort_values()\n",
    "display(time_per_comb)\n",
    "\n",
    "# Adjust the model names\n",
    "names_dict = {\"Ridge\": \"Ridge\",\n",
    "              \"DT\": \"Decision Tree\",\n",
    "              \"SVM\": \"SVM\", \n",
    "              \"KNN\": \"KNN\",\n",
    "              \"XGBoost\": \"XGBoost\", \n",
    "              \"RF\": \"Random Forest\",\n",
    "              \"KM\": \"Kernel Machine\", \n",
    "              \"GBRT\": \"GBRT\",\n",
    "              \"NN\": \"Neural Network\"}\n",
    "\n",
    "time_per_comb.index = [names_dict[name] for name in list(time_per_comb.index)]\n",
    "time_per_comb"
   ]
  },
  {
   "cell_type": "markdown",
   "metadata": {},
   "source": [
    "### **Create a plot**"
   ]
  },
  {
   "cell_type": "code",
   "execution_count": 5,
   "metadata": {
    "execution": {
     "iopub.execute_input": "2024-10-15T22:04:42.838340Z",
     "iopub.status.busy": "2024-10-15T22:04:42.838340Z",
     "iopub.status.idle": "2024-10-15T22:04:48.146979Z",
     "shell.execute_reply": "2024-10-15T22:04:48.146979Z"
    }
   },
   "outputs": [
    {
     "data": {
      "image/png": "[encoded data removed]",
      "text/plain": [
       "<Figure size 800x400 with 1 Axes>"
      ]
     },
     "metadata": {},
     "output_type": "display_data"
    }
   ],
   "source": [
    "# Set LaTeX style fonts in matplotlib\n",
    "plt.rc(\"font\", family=\"serif\", serif=\"Computer Modern\")\n",
    "plt.rc(\"text\", usetex=True)\n",
    "plt.rcParams[\"text.latex.preamble\"] = r\"\\usepackage{amsmath}\"\n",
    "\n",
    "# Visualize scores of selected features\n",
    "plt.figure(figsize=(8, 4))\n",
    "bars = plt.barh(y=time_per_comb.index, width=time_per_comb, height=0.5, color=\"navy\")\n",
    "\n",
    "# Use LaTeX commands for bold text in the title and labels\n",
    "plt.xlabel(r\"\\textbf{Time in seconds}\", size=12)\n",
    "plt.ylabel(r\"\\textbf{Model}\", size=12)\n",
    "plt.title(r\"\\textbf{Model tuning times per parameter combination}\", size=16, color=\"darkblue\")\n",
    "plt.xticks(np.arange(start=0, stop=max(time_per_comb)+15, step=15))\n",
    "plt.grid(axis=\"x\", linestyle=\"--\", alpha=0.75)\n",
    "\n",
    "# Annotate the bars with F-Test score values\n",
    "for bar in bars:\n",
    "    plt.text(\n",
    "        bar.get_width() + 1, \n",
    "        bar.get_y() + bar.get_height() / 2.5, \n",
    "        f\"{bar.get_width():.2f}\", \n",
    "        va=\"center\", ha=\"left\", fontsize=10, color=\"black\")\n",
    "\n",
    "# Increase x-axis limit to give extra space\n",
    "plt.xlim(left=0, right=max(time_per_comb) + 10)\n",
    "\n",
    "# Adjust layout to ensure everything fits nicely\n",
    "plt.tight_layout()\n",
    "\n",
    "# Save the plot as a PNG file with high quality\n",
    "plt.savefig(\"../06_graphics/model_tuning_times_per_parameter_combination.png\", bbox_inches=\"tight\", dpi=500)\n",
    "plt.show()"
   ]
  },
  {
   "cell_type": "markdown",
   "metadata": {},
   "source": [
    "# **B: Analyse the fit and prediction time of the final configuration for all models in the TSP**"
   ]
  },
  {
   "cell_type": "code",
   "execution_count": 6,
   "metadata": {
    "execution": {
     "iopub.execute_input": "2024-10-15T22:04:48.146979Z",
     "iopub.status.busy": "2024-10-15T22:04:48.146979Z",
     "iopub.status.idle": "2024-10-15T22:04:48.167400Z",
     "shell.execute_reply": "2024-10-15T22:04:48.167400Z"
    }
   },
   "outputs": [
    {
     "data": {
      "text/html": [
       "<div>\n",
       "<style scoped>\n",
       "    .dataframe tbody tr th:only-of-type {\n",
       "        vertical-align: middle;\n",
       "    }\n",
       "\n",
       "    .dataframe tbody tr th {\n",
       "        vertical-align: top;\n",
       "    }\n",
       "\n",
       "    .dataframe thead th {\n",
       "        text-align: right;\n",
       "    }\n",
       "</style>\n",
       "<table border=\"1\" class=\"dataframe\">\n",
       "  <thead>\n",
       "    <tr style=\"text-align: right;\">\n",
       "      <th></th>\n",
       "      <th>KNN</th>\n",
       "      <th>Linear Regression</th>\n",
       "      <th>Ridge Regression</th>\n",
       "      <th>Polynomial Regression</th>\n",
       "      <th>Decision Tree</th>\n",
       "      <th>Random Forest</th>\n",
       "      <th>GBRT</th>\n",
       "      <th>XGBoost</th>\n",
       "      <th>SVM</th>\n",
       "      <th>Kernel Machine</th>\n",
       "      <th>Neural Network</th>\n",
       "    </tr>\n",
       "  </thead>\n",
       "  <tbody>\n",
       "    <tr>\n",
       "      <th>CV times</th>\n",
       "      <td>27s</td>\n",
       "      <td>3s</td>\n",
       "      <td>3s</td>\n",
       "      <td>33s</td>\n",
       "      <td>2s</td>\n",
       "      <td>4m, 20s</td>\n",
       "      <td>2m, 39s</td>\n",
       "      <td>24s</td>\n",
       "      <td>31s</td>\n",
       "      <td>4m, 57s</td>\n",
       "      <td>17m, 6s</td>\n",
       "    </tr>\n",
       "    <tr>\n",
       "      <th>Fit times</th>\n",
       "      <td>0s</td>\n",
       "      <td>0s</td>\n",
       "      <td>0s</td>\n",
       "      <td>18s</td>\n",
       "      <td>2s</td>\n",
       "      <td>2m, 26s</td>\n",
       "      <td>2m, 57s</td>\n",
       "      <td>8s</td>\n",
       "      <td>50s</td>\n",
       "      <td>6m, 17s</td>\n",
       "      <td>27m, 2s</td>\n",
       "    </tr>\n",
       "    <tr>\n",
       "      <th>Prediction times</th>\n",
       "      <td>2s</td>\n",
       "      <td>0s</td>\n",
       "      <td>0s</td>\n",
       "      <td>0s</td>\n",
       "      <td>0s</td>\n",
       "      <td>0s</td>\n",
       "      <td>0s</td>\n",
       "      <td>0s</td>\n",
       "      <td>0s</td>\n",
       "      <td>23s</td>\n",
       "      <td>0s</td>\n",
       "    </tr>\n",
       "  </tbody>\n",
       "</table>\n",
       "</div>"
      ],
      "text/plain": [
       "                  KNN Linear Regression Ridge Regression  \\\n",
       "CV times          27s                3s               3s   \n",
       "Fit times          0s                0s               0s   \n",
       "Prediction times   2s                0s               0s   \n",
       "\n",
       "                 Polynomial Regression Decision Tree Random Forest     GBRT  \\\n",
       "CV times                           33s            2s       4m, 20s  2m, 39s   \n",
       "Fit times                          18s            2s       2m, 26s  2m, 57s   \n",
       "Prediction times                    0s            0s            0s       0s   \n",
       "\n",
       "                 XGBoost  SVM Kernel Machine Neural Network  \n",
       "CV times             24s  31s        4m, 57s        17m, 6s  \n",
       "Fit times             8s  50s        6m, 17s        27m, 2s  \n",
       "Prediction times      0s   0s            23s             0s  "
      ]
     },
     "execution_count": 6,
     "metadata": {},
     "output_type": "execute_result"
    }
   ],
   "source": [
    "# Load the Data Frame\n",
    "df = pd.read_excel(\"../04_test_results/TSP_results.xlsx\")\n",
    "df = df.set_index(\"Unnamed: 0\")\n",
    "df.index.name = None\n",
    "df"
   ]
  },
  {
   "cell_type": "markdown",
   "metadata": {},
   "source": [
    "### **Convert the time string into seconds**"
   ]
  },
  {
   "cell_type": "code",
   "execution_count": 7,
   "metadata": {
    "execution": {
     "iopub.execute_input": "2024-10-15T22:04:48.167400Z",
     "iopub.status.busy": "2024-10-15T22:04:48.167400Z",
     "iopub.status.idle": "2024-10-15T22:04:48.174700Z",
     "shell.execute_reply": "2024-10-15T22:04:48.174700Z"
    }
   },
   "outputs": [],
   "source": [
    "# Get all the stime strings\n",
    "fit_times = df.loc[\"Fit times\"]\n",
    "predict_times = df.loc[\"Prediction times\"]"
   ]
  },
  {
   "cell_type": "code",
   "execution_count": 8,
   "metadata": {
    "execution": {
     "iopub.execute_input": "2024-10-15T22:04:48.174700Z",
     "iopub.status.busy": "2024-10-15T22:04:48.174700Z",
     "iopub.status.idle": "2024-10-15T22:04:48.191334Z",
     "shell.execute_reply": "2024-10-15T22:04:48.191334Z"
    }
   },
   "outputs": [
    {
     "name": "stdout",
     "output_type": "stream",
     "text": [
      "There are 0     Seconds in 0s.\n",
      "There are 0     Seconds in 0s.\n",
      "There are 0     Seconds in 0s.\n",
      "There are 18    Seconds in 18s.\n",
      "There are 2     Seconds in 2s.\n",
      "There are 146   Seconds in 2m, 26s.\n",
      "There are 177   Seconds in 2m, 57s.\n",
      "There are 8     Seconds in 8s.\n",
      "There are 50    Seconds in 50s.\n",
      "There are 377   Seconds in 6m, 17s.\n",
      "There are 1622  Seconds in 27m, 2s.\n",
      "There are 2     Seconds in 2s.\n",
      "There are 0     Seconds in 0s.\n",
      "There are 0     Seconds in 0s.\n",
      "There are 0     Seconds in 0s.\n",
      "There are 0     Seconds in 0s.\n",
      "There are 0     Seconds in 0s.\n",
      "There are 0     Seconds in 0s.\n",
      "There are 0     Seconds in 0s.\n",
      "There are 0     Seconds in 0s.\n",
      "There are 23    Seconds in 23s.\n",
      "There are 0     Seconds in 0s.\n"
     ]
    },
    {
     "data": {
      "text/html": [
       "<div>\n",
       "<style scoped>\n",
       "    .dataframe tbody tr th:only-of-type {\n",
       "        vertical-align: middle;\n",
       "    }\n",
       "\n",
       "    .dataframe tbody tr th {\n",
       "        vertical-align: top;\n",
       "    }\n",
       "\n",
       "    .dataframe thead th {\n",
       "        text-align: right;\n",
       "    }\n",
       "</style>\n",
       "<table border=\"1\" class=\"dataframe\">\n",
       "  <thead>\n",
       "    <tr style=\"text-align: right;\">\n",
       "      <th></th>\n",
       "      <th>KNN</th>\n",
       "      <th>Linear Regression</th>\n",
       "      <th>Ridge Regression</th>\n",
       "      <th>Polynomial Regression</th>\n",
       "      <th>Decision Tree</th>\n",
       "      <th>Random Forest</th>\n",
       "      <th>GBRT</th>\n",
       "      <th>XGBoost</th>\n",
       "      <th>SVM</th>\n",
       "      <th>Kernel Machine</th>\n",
       "      <th>Neural Network</th>\n",
       "    </tr>\n",
       "  </thead>\n",
       "  <tbody>\n",
       "    <tr>\n",
       "      <th>CV times</th>\n",
       "      <td>27s</td>\n",
       "      <td>3s</td>\n",
       "      <td>3s</td>\n",
       "      <td>33s</td>\n",
       "      <td>2s</td>\n",
       "      <td>4m, 20s</td>\n",
       "      <td>2m, 39s</td>\n",
       "      <td>24s</td>\n",
       "      <td>31s</td>\n",
       "      <td>4m, 57s</td>\n",
       "      <td>17m, 6s</td>\n",
       "    </tr>\n",
       "    <tr>\n",
       "      <th>Fit times</th>\n",
       "      <td>0s</td>\n",
       "      <td>0s</td>\n",
       "      <td>0s</td>\n",
       "      <td>18s</td>\n",
       "      <td>2s</td>\n",
       "      <td>2m, 26s</td>\n",
       "      <td>2m, 57s</td>\n",
       "      <td>8s</td>\n",
       "      <td>50s</td>\n",
       "      <td>6m, 17s</td>\n",
       "      <td>27m, 2s</td>\n",
       "    </tr>\n",
       "    <tr>\n",
       "      <th>Prediction times</th>\n",
       "      <td>2s</td>\n",
       "      <td>0s</td>\n",
       "      <td>0s</td>\n",
       "      <td>0s</td>\n",
       "      <td>0s</td>\n",
       "      <td>0s</td>\n",
       "      <td>0s</td>\n",
       "      <td>0s</td>\n",
       "      <td>0s</td>\n",
       "      <td>23s</td>\n",
       "      <td>0s</td>\n",
       "    </tr>\n",
       "    <tr>\n",
       "      <th>Fit times in seconds</th>\n",
       "      <td>0</td>\n",
       "      <td>0</td>\n",
       "      <td>0</td>\n",
       "      <td>18</td>\n",
       "      <td>2</td>\n",
       "      <td>146</td>\n",
       "      <td>177</td>\n",
       "      <td>8</td>\n",
       "      <td>50</td>\n",
       "      <td>377</td>\n",
       "      <td>1622</td>\n",
       "    </tr>\n",
       "    <tr>\n",
       "      <th>Fit times in minutes</th>\n",
       "      <td>0.0</td>\n",
       "      <td>0.0</td>\n",
       "      <td>0.0</td>\n",
       "      <td>0.3</td>\n",
       "      <td>0.033333</td>\n",
       "      <td>2.433333</td>\n",
       "      <td>2.95</td>\n",
       "      <td>0.133333</td>\n",
       "      <td>0.833333</td>\n",
       "      <td>6.283333</td>\n",
       "      <td>27.033333</td>\n",
       "    </tr>\n",
       "    <tr>\n",
       "      <th>Prediction times in minutes</th>\n",
       "      <td>0.033333</td>\n",
       "      <td>0.0</td>\n",
       "      <td>0.0</td>\n",
       "      <td>0.0</td>\n",
       "      <td>0.0</td>\n",
       "      <td>0.0</td>\n",
       "      <td>0.0</td>\n",
       "      <td>0.0</td>\n",
       "      <td>0.0</td>\n",
       "      <td>0.383333</td>\n",
       "      <td>0.0</td>\n",
       "    </tr>\n",
       "  </tbody>\n",
       "</table>\n",
       "</div>"
      ],
      "text/plain": [
       "                                  KNN Linear Regression Ridge Regression  \\\n",
       "CV times                          27s                3s               3s   \n",
       "Fit times                          0s                0s               0s   \n",
       "Prediction times                   2s                0s               0s   \n",
       "Fit times in seconds                0                 0                0   \n",
       "Fit times in minutes              0.0               0.0              0.0   \n",
       "Prediction times in minutes  0.033333               0.0              0.0   \n",
       "\n",
       "                            Polynomial Regression Decision Tree Random Forest  \\\n",
       "CV times                                      33s            2s       4m, 20s   \n",
       "Fit times                                     18s            2s       2m, 26s   \n",
       "Prediction times                               0s            0s            0s   \n",
       "Fit times in seconds                           18             2           146   \n",
       "Fit times in minutes                          0.3      0.033333      2.433333   \n",
       "Prediction times in minutes                   0.0           0.0           0.0   \n",
       "\n",
       "                                GBRT   XGBoost       SVM Kernel Machine  \\\n",
       "CV times                     2m, 39s       24s       31s        4m, 57s   \n",
       "Fit times                    2m, 57s        8s       50s        6m, 17s   \n",
       "Prediction times                  0s        0s        0s            23s   \n",
       "Fit times in seconds             177         8        50            377   \n",
       "Fit times in minutes            2.95  0.133333  0.833333       6.283333   \n",
       "Prediction times in minutes      0.0       0.0       0.0       0.383333   \n",
       "\n",
       "                            Neural Network  \n",
       "CV times                           17m, 6s  \n",
       "Fit times                          27m, 2s  \n",
       "Prediction times                        0s  \n",
       "Fit times in seconds                  1622  \n",
       "Fit times in minutes             27.033333  \n",
       "Prediction times in minutes            0.0  "
      ]
     },
     "execution_count": 8,
     "metadata": {},
     "output_type": "execute_result"
    }
   ],
   "source": [
    "# Apply the function and append the seconds per model to the list\n",
    "seconds_list = []\n",
    "for string in fit_times:\n",
    "    seconds_list.append(fun_convert_string_to_seconds(string))\n",
    "\n",
    "# Add the list as new row to the Data Frame\n",
    "df.loc[\"Fit times in seconds\"] = seconds_list\n",
    "df.loc[\"Fit times in minutes\"] = [value / 60 for value in seconds_list]\n",
    "\n",
    "# Apply the function and append the seconds per model to the list\n",
    "seconds_list = []\n",
    "for string in predict_times:\n",
    "    seconds_list.append(fun_convert_string_to_seconds(string))\n",
    "\n",
    "# Add the list as new row to the Data Frame\n",
    "df.loc[\"Prediction times in minutes\"] = [value / 60 for value in seconds_list]\n",
    "df"
   ]
  },
  {
   "cell_type": "markdown",
   "metadata": {},
   "source": [
    "### **Rename the models**"
   ]
  },
  {
   "cell_type": "code",
   "execution_count": 9,
   "metadata": {
    "execution": {
     "iopub.execute_input": "2024-10-15T22:04:48.191334Z",
     "iopub.status.busy": "2024-10-15T22:04:48.191334Z",
     "iopub.status.idle": "2024-10-15T22:04:48.199505Z",
     "shell.execute_reply": "2024-10-15T22:04:48.199505Z"
    }
   },
   "outputs": [
    {
     "data": {
      "text/plain": [
       "KNN                            0.0\n",
       "Linear Regression              0.0\n",
       "Ridge Regression               0.0\n",
       "Decision Tree             0.033333\n",
       "XGBoost                   0.133333\n",
       "Polynomial Regression          0.3\n",
       "SVM                       0.833333\n",
       "Random Forest             2.433333\n",
       "GBRT                          2.95\n",
       "Kernel Machine            6.283333\n",
       "Neural Network           27.033333\n",
       "Name: Fit times in minutes, dtype: object"
      ]
     },
     "metadata": {},
     "output_type": "display_data"
    }
   ],
   "source": [
    "# Sort the values\n",
    "fit_times_in_min = df.loc[\"Fit times in minutes\"].sort_values()\n",
    "display(fit_times_in_min)"
   ]
  },
  {
   "cell_type": "markdown",
   "metadata": {},
   "source": [
    "### **Create a plot**"
   ]
  },
  {
   "cell_type": "code",
   "execution_count": 10,
   "metadata": {
    "execution": {
     "iopub.execute_input": "2024-10-15T22:04:48.200847Z",
     "iopub.status.busy": "2024-10-15T22:04:48.200847Z",
     "iopub.status.idle": "2024-10-15T22:04:49.146576Z",
     "shell.execute_reply": "2024-10-15T22:04:49.146576Z"
    }
   },
   "outputs": [
    {
     "data": {
      "image/png": "[encoded data removed]",
      "text/plain": [
       "<Figure size 800x400 with 1 Axes>"
      ]
     },
     "metadata": {},
     "output_type": "display_data"
    }
   ],
   "source": [
    "# Set LaTeX style fonts in matplotlib\n",
    "plt.rc(\"font\", family=\"serif\", serif=\"Computer Modern\")\n",
    "plt.rc(\"text\", usetex=True)\n",
    "plt.rcParams[\"text.latex.preamble\"] = r\"\\usepackage{amsmath}\"\n",
    "\n",
    "# Visualize scores of selected features\n",
    "plt.figure(figsize=(8, 4))\n",
    "bars = plt.barh(y=fit_times_in_min.index, width=fit_times_in_min, height=0.5, color=\"navy\")\n",
    "\n",
    "# Use LaTeX commands for bold text in the title and labels\n",
    "plt.xlabel(r\"\\textbf{Time in minutes}\", size=12)\n",
    "plt.ylabel(r\"\\textbf{Model}\", size=12)\n",
    "plt.title(r\"\\textbf{Final model configuration fit times}\", size=16, color=\"darkblue\")\n",
    "plt.grid(axis=\"x\", linestyle=\"--\", alpha=0.75)\n",
    "\n",
    "# Annotate the bars with F-Test score values\n",
    "for bar in bars:\n",
    "    plt.text(\n",
    "        bar.get_width() + 0.5, \n",
    "        bar.get_y() + bar.get_height() / 2.5, \n",
    "        f\"{bar.get_width():.2f}\", \n",
    "        va=\"center\", ha=\"left\", fontsize=10, color=\"black\")\n",
    "\n",
    "# Increase x-axis limit to give extra space\n",
    "plt.xlim(left=0, right=max(fit_times_in_min) + 3)\n",
    "\n",
    "# Adjust layout to ensure everything fits nicely\n",
    "plt.tight_layout()\n",
    "\n",
    "# Save the plot as a PNG file with high quality\n",
    "plt.savefig(\"../06_graphics/final_model_configuration_fit_times.png\", bbox_inches=\"tight\", dpi=500)\n",
    "plt.show()"
   ]
  },
  {
   "cell_type": "code",
   "execution_count": 11,
   "metadata": {
    "execution": {
     "iopub.execute_input": "2024-10-15T22:04:49.146576Z",
     "iopub.status.busy": "2024-10-15T22:04:49.146576Z",
     "iopub.status.idle": "2024-10-15T22:04:49.154141Z",
     "shell.execute_reply": "2024-10-15T22:04:49.154141Z"
    }
   },
   "outputs": [],
   "source": [
    "# Set matplotlib style fonts to default again\n",
    "plt.rcdefaults()"
   ]
  }
 ],
 "metadata": {
  "kernelspec": {
   "display_name": "base",
   "language": "python",
   "name": "python3"
  },
  "language_info": {
   "codemirror_mode": {
    "name": "ipython",
    "version": 3
   },
   "file_extension": ".py",
   "mimetype": "text/x-python",
   "name": "python",
   "nbconvert_exporter": "python",
   "pygments_lexer": "ipython3",
   "version": "3.11.7"
  }
 },
 "nbformat": 4,
 "nbformat_minor": 2
}
